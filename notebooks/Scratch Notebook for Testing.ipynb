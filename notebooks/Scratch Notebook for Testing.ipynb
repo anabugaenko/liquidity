{
 "cells": [
  {
   "cell_type": "code",
   "execution_count": 46,
   "outputs": [],
   "source": [
    "import pandas as pd\n",
    "from matplotlib import pyplot as plt\n",
    "from matplotlib import rc\n",
    "import pylab\n",
    "import seaborn as sns"
   ],
   "metadata": {
    "collapsed": false,
    "ExecuteTime": {
     "start_time": "2023-09-10T17:02:33.506457Z",
     "end_time": "2023-09-10T17:02:34.058381Z"
    }
   }
  },
  {
   "cell_type": "code",
   "execution_count": 46,
   "outputs": [],
   "source": [],
   "metadata": {
    "collapsed": false,
    "ExecuteTime": {
     "start_time": "2023-09-10T17:02:33.678248Z",
     "end_time": "2023-09-10T17:02:34.058988Z"
    }
   }
  },
  {
   "cell_type": "code",
   "execution_count": 47,
   "outputs": [
    {
     "name": "stdout",
     "output_type": "stream",
     "text": [
      "The autoreload extension is already loaded. To reload it, use:\n",
      "  %reload_ext autoreload\n"
     ]
    }
   ],
   "source": [
    "%load_ext autoreload\n",
    "%autoreload 2"
   ],
   "metadata": {
    "collapsed": false,
    "ExecuteTime": {
     "start_time": "2023-09-10T17:02:33.680451Z",
     "end_time": "2023-09-10T17:02:34.060017Z"
    }
   }
  },
  {
   "cell_type": "markdown",
   "source": [
    "## Testing price response functions"
   ],
   "metadata": {
    "collapsed": false
   }
  },
  {
   "cell_type": "code",
   "execution_count": 48,
   "outputs": [],
   "source": [
    "tsla_df = pd.read_csv('../data/market_orders/TSLA-2016-R1.csv', header=0,index_col=0)\n",
    "ebay_df = pd.read_csv('../data/market_orders/EBAY-2016-R1.csv', header=0,index_col=0)"
   ],
   "metadata": {
    "collapsed": false,
    "ExecuteTime": {
     "start_time": "2023-09-10T17:02:33.722624Z",
     "end_time": "2023-09-10T17:02:35.732943Z"
    }
   }
  },
  {
   "cell_type": "code",
   "execution_count": 49,
   "outputs": [],
   "source": [
    "from liquidity.response_functions.price_response_functions import compute_conditional_aggregate_impact\n",
    "from liquidity.response_functions.price_response_functions import compute_price_response"
   ],
   "metadata": {
    "collapsed": false,
    "ExecuteTime": {
     "start_time": "2023-09-10T17:02:35.736445Z",
     "end_time": "2023-09-10T17:02:35.773796Z"
    }
   }
  },
  {
   "cell_type": "code",
   "execution_count": 50,
   "outputs": [],
   "source": [
    "\n",
    "SAMPLE_LAG = 100\n",
    "ACF_RANGE = 1001\n",
    "tsla_100 = compute_conditional_aggregate_impact(tsla_df, T=SAMPLE_LAG)\n",
    "ebay_100 = compute_conditional_aggregate_impact(ebay_df, T=SAMPLE_LAG)"
   ],
   "metadata": {
    "collapsed": false,
    "ExecuteTime": {
     "start_time": "2023-09-10T17:02:35.773877Z",
     "end_time": "2023-09-10T17:02:41.416973Z"
    }
   }
  },
  {
   "cell_type": "code",
   "execution_count": 51,
   "outputs": [
    {
     "data": {
      "text/plain": "          midprice  vol_imbalance  sign_imbalance         sign     daily_R1  \\\ncount  7576.000000    7576.000000     7576.000000  7576.000000  7576.000000   \nmean    208.625695       2.224214       -2.342526    -0.040655     0.024219   \nstd      23.926687      30.615437       35.970179     0.999239     0.020078   \nmin     144.830000    -204.946257     -259.645719    -1.000000    -0.109997   \n25%     193.805000     -12.008908      -22.668697    -1.000000     0.018343   \n50%     207.175000       1.370815       -1.495887    -1.000000     0.023188   \n75%     223.727500      16.252593       18.282880     1.000000     0.028822   \nmax     267.315000     431.529295      201.552866     1.000000     0.140840   \n\n          daily_vol    daily_num         R100  \ncount  7.576000e+03  7576.000000  7576.000000  \nmean   3.615686e+05  3590.626980    -0.001173  \nstd    1.799494e+05  1582.391274     0.931059  \nmin    8.077400e+04   962.000000   -19.100000  \n25%    2.383570e+05  2475.000000    -0.365000  \n50%    3.092610e+05  3171.000000     0.000000  \n75%    4.393330e+05  4370.000000     0.350000  \nmax    1.134392e+06  9210.000000    12.135000  ",
      "text/html": "<div>\n<style scoped>\n    .dataframe tbody tr th:only-of-type {\n        vertical-align: middle;\n    }\n\n    .dataframe tbody tr th {\n        vertical-align: top;\n    }\n\n    .dataframe thead th {\n        text-align: right;\n    }\n</style>\n<table border=\"1\" class=\"dataframe\">\n  <thead>\n    <tr style=\"text-align: right;\">\n      <th></th>\n      <th>midprice</th>\n      <th>vol_imbalance</th>\n      <th>sign_imbalance</th>\n      <th>sign</th>\n      <th>daily_R1</th>\n      <th>daily_vol</th>\n      <th>daily_num</th>\n      <th>R100</th>\n    </tr>\n  </thead>\n  <tbody>\n    <tr>\n      <th>count</th>\n      <td>7576.000000</td>\n      <td>7576.000000</td>\n      <td>7576.000000</td>\n      <td>7576.000000</td>\n      <td>7576.000000</td>\n      <td>7.576000e+03</td>\n      <td>7576.000000</td>\n      <td>7576.000000</td>\n    </tr>\n    <tr>\n      <th>mean</th>\n      <td>208.625695</td>\n      <td>2.224214</td>\n      <td>-2.342526</td>\n      <td>-0.040655</td>\n      <td>0.024219</td>\n      <td>3.615686e+05</td>\n      <td>3590.626980</td>\n      <td>-0.001173</td>\n    </tr>\n    <tr>\n      <th>std</th>\n      <td>23.926687</td>\n      <td>30.615437</td>\n      <td>35.970179</td>\n      <td>0.999239</td>\n      <td>0.020078</td>\n      <td>1.799494e+05</td>\n      <td>1582.391274</td>\n      <td>0.931059</td>\n    </tr>\n    <tr>\n      <th>min</th>\n      <td>144.830000</td>\n      <td>-204.946257</td>\n      <td>-259.645719</td>\n      <td>-1.000000</td>\n      <td>-0.109997</td>\n      <td>8.077400e+04</td>\n      <td>962.000000</td>\n      <td>-19.100000</td>\n    </tr>\n    <tr>\n      <th>25%</th>\n      <td>193.805000</td>\n      <td>-12.008908</td>\n      <td>-22.668697</td>\n      <td>-1.000000</td>\n      <td>0.018343</td>\n      <td>2.383570e+05</td>\n      <td>2475.000000</td>\n      <td>-0.365000</td>\n    </tr>\n    <tr>\n      <th>50%</th>\n      <td>207.175000</td>\n      <td>1.370815</td>\n      <td>-1.495887</td>\n      <td>-1.000000</td>\n      <td>0.023188</td>\n      <td>3.092610e+05</td>\n      <td>3171.000000</td>\n      <td>0.000000</td>\n    </tr>\n    <tr>\n      <th>75%</th>\n      <td>223.727500</td>\n      <td>16.252593</td>\n      <td>18.282880</td>\n      <td>1.000000</td>\n      <td>0.028822</td>\n      <td>4.393330e+05</td>\n      <td>4370.000000</td>\n      <td>0.350000</td>\n    </tr>\n    <tr>\n      <th>max</th>\n      <td>267.315000</td>\n      <td>431.529295</td>\n      <td>201.552866</td>\n      <td>1.000000</td>\n      <td>0.140840</td>\n      <td>1.134392e+06</td>\n      <td>9210.000000</td>\n      <td>12.135000</td>\n    </tr>\n  </tbody>\n</table>\n</div>"
     },
     "execution_count": 51,
     "metadata": {},
     "output_type": "execute_result"
    }
   ],
   "source": [
    "tsla_100.describe()"
   ],
   "metadata": {
    "collapsed": false,
    "ExecuteTime": {
     "start_time": "2023-09-10T17:02:41.418104Z",
     "end_time": "2023-09-10T17:02:41.481792Z"
    }
   }
  },
  {
   "cell_type": "code",
   "execution_count": 51,
   "outputs": [],
   "source": [],
   "metadata": {
    "collapsed": false,
    "ExecuteTime": {
     "start_time": "2023-09-10T17:02:41.479583Z",
     "end_time": "2023-09-10T17:02:41.481937Z"
    }
   }
  },
  {
   "cell_type": "code",
   "execution_count": 52,
   "outputs": [],
   "source": [
    "tsla_df_lo = pd.read_csv('../data/limit_orders/TSLA-2016-R1-LO.csv', header=0,index_col=0)"
   ],
   "metadata": {
    "collapsed": false,
    "ExecuteTime": {
     "start_time": "2023-09-10T17:02:41.483712Z",
     "end_time": "2023-09-10T17:02:46.695646Z"
    }
   }
  },
  {
   "cell_type": "code",
   "execution_count": 53,
   "outputs": [],
   "source": [
    "tsla_100_lo = compute_conditional_aggregate_impact(tsla_df_lo, T=SAMPLE_LAG)"
   ],
   "metadata": {
    "collapsed": false,
    "ExecuteTime": {
     "start_time": "2023-09-10T17:02:46.684160Z",
     "end_time": "2023-09-10T17:02:59.429864Z"
    }
   }
  },
  {
   "cell_type": "code",
   "execution_count": 54,
   "outputs": [
    {
     "data": {
      "text/plain": "          midprice  vol_imbalance  sign_imbalance         sign     daily_R1  \\\ncount  3468.000000    3468.000000     3468.000000  3468.000000  3468.000000   \nmean    211.492950       7.186942        7.911859    -0.044983    -0.010559   \nstd      10.141601     109.604320       97.650769     0.999132     0.002169   \nmin     194.235000    -768.851448     -481.594773    -1.000000    -0.016702   \n25%     200.655000     -26.877748      -28.215222    -1.000000    -0.012363   \n50%     207.600000      -1.981517        0.000000    -1.000000    -0.010221   \n75%     221.760000      37.179111       36.654148     1.000000    -0.008865   \nmax     225.565000     784.039675      756.511896     1.000000    -0.004414   \n\n          daily_vol     daily_num         R100  \ncount  3.468000e+03   3468.000000  3468.000000  \nmean   2.430010e+06  24666.205017    -0.008179  \nstd    4.801195e+05   5531.123074     0.400838  \nmin    6.079310e+05   6233.000000   -16.725000  \n25%    2.349995e+06  21165.000000    -0.065000  \n50%    2.356132e+06  24226.000000     0.000000  \n75%    2.406590e+06  25091.000000     0.065000  \nmax    3.158604e+06  33340.000000     4.185000  ",
      "text/html": "<div>\n<style scoped>\n    .dataframe tbody tr th:only-of-type {\n        vertical-align: middle;\n    }\n\n    .dataframe tbody tr th {\n        vertical-align: top;\n    }\n\n    .dataframe thead th {\n        text-align: right;\n    }\n</style>\n<table border=\"1\" class=\"dataframe\">\n  <thead>\n    <tr style=\"text-align: right;\">\n      <th></th>\n      <th>midprice</th>\n      <th>vol_imbalance</th>\n      <th>sign_imbalance</th>\n      <th>sign</th>\n      <th>daily_R1</th>\n      <th>daily_vol</th>\n      <th>daily_num</th>\n      <th>R100</th>\n    </tr>\n  </thead>\n  <tbody>\n    <tr>\n      <th>count</th>\n      <td>3468.000000</td>\n      <td>3468.000000</td>\n      <td>3468.000000</td>\n      <td>3468.000000</td>\n      <td>3468.000000</td>\n      <td>3.468000e+03</td>\n      <td>3468.000000</td>\n      <td>3468.000000</td>\n    </tr>\n    <tr>\n      <th>mean</th>\n      <td>211.492950</td>\n      <td>7.186942</td>\n      <td>7.911859</td>\n      <td>-0.044983</td>\n      <td>-0.010559</td>\n      <td>2.430010e+06</td>\n      <td>24666.205017</td>\n      <td>-0.008179</td>\n    </tr>\n    <tr>\n      <th>std</th>\n      <td>10.141601</td>\n      <td>109.604320</td>\n      <td>97.650769</td>\n      <td>0.999132</td>\n      <td>0.002169</td>\n      <td>4.801195e+05</td>\n      <td>5531.123074</td>\n      <td>0.400838</td>\n    </tr>\n    <tr>\n      <th>min</th>\n      <td>194.235000</td>\n      <td>-768.851448</td>\n      <td>-481.594773</td>\n      <td>-1.000000</td>\n      <td>-0.016702</td>\n      <td>6.079310e+05</td>\n      <td>6233.000000</td>\n      <td>-16.725000</td>\n    </tr>\n    <tr>\n      <th>25%</th>\n      <td>200.655000</td>\n      <td>-26.877748</td>\n      <td>-28.215222</td>\n      <td>-1.000000</td>\n      <td>-0.012363</td>\n      <td>2.349995e+06</td>\n      <td>21165.000000</td>\n      <td>-0.065000</td>\n    </tr>\n    <tr>\n      <th>50%</th>\n      <td>207.600000</td>\n      <td>-1.981517</td>\n      <td>0.000000</td>\n      <td>-1.000000</td>\n      <td>-0.010221</td>\n      <td>2.356132e+06</td>\n      <td>24226.000000</td>\n      <td>0.000000</td>\n    </tr>\n    <tr>\n      <th>75%</th>\n      <td>221.760000</td>\n      <td>37.179111</td>\n      <td>36.654148</td>\n      <td>1.000000</td>\n      <td>-0.008865</td>\n      <td>2.406590e+06</td>\n      <td>25091.000000</td>\n      <td>0.065000</td>\n    </tr>\n    <tr>\n      <th>max</th>\n      <td>225.565000</td>\n      <td>784.039675</td>\n      <td>756.511896</td>\n      <td>1.000000</td>\n      <td>-0.004414</td>\n      <td>3.158604e+06</td>\n      <td>33340.000000</td>\n      <td>4.185000</td>\n    </tr>\n  </tbody>\n</table>\n</div>"
     },
     "execution_count": 54,
     "metadata": {},
     "output_type": "execute_result"
    }
   ],
   "source": [
    "tsla_100_lo.describe()"
   ],
   "metadata": {
    "collapsed": false,
    "ExecuteTime": {
     "start_time": "2023-09-10T17:02:59.430728Z",
     "end_time": "2023-09-10T17:02:59.494837Z"
    }
   }
  },
  {
   "cell_type": "code",
   "execution_count": 54,
   "outputs": [],
   "source": [],
   "metadata": {
    "collapsed": false,
    "ExecuteTime": {
     "start_time": "2023-09-10T17:02:59.493689Z",
     "end_time": "2023-09-10T17:02:59.498630Z"
    }
   }
  },
  {
   "cell_type": "markdown",
   "source": [
    "## Testing prepare data for fitting"
   ],
   "metadata": {
    "collapsed": false
   }
  },
  {
   "cell_type": "code",
   "execution_count": 55,
   "outputs": [],
   "source": [
    "from liquidity.util.fitting_util import prepare_data_for_fitting"
   ],
   "metadata": {
    "collapsed": false,
    "ExecuteTime": {
     "start_time": "2023-09-10T17:02:59.496073Z",
     "end_time": "2023-09-10T17:02:59.560639Z"
    }
   }
  },
  {
   "cell_type": "code",
   "execution_count": 56,
   "outputs": [],
   "source": [
    "MO_LAG_INTERVALS = (5, 10, 20, 50, 100)"
   ],
   "metadata": {
    "collapsed": false,
    "ExecuteTime": {
     "start_time": "2023-09-10T17:02:59.538582Z",
     "end_time": "2023-09-10T17:02:59.580139Z"
    }
   }
  },
  {
   "cell_type": "code",
   "execution_count": 57,
   "outputs": [
    {
     "data": {
      "text/plain": "                 event_timestamp  trade_sign side lob_action  order_executed  \\\n0  2016-01-04 10:30:02.487834868          -1  BID     REMOVE            True   \n1  2016-01-04 10:30:02.594369706          -1  BID     REMOVE            True   \n2  2016-01-04 10:30:02.602151380          -1  BID     REMOVE            True   \n3  2016-01-04 10:30:02.627167275          -1  BID     REMOVE            True   \n4  2016-01-04 10:30:02.895123534          -1  BID     REMOVE            True   \n\n   execution_price  execution_size     ask     bid  midprice  ask_volume  \\\n0           221.36             100  221.46  221.36   221.410       100.0   \n1           221.36             100  221.46  221.36   221.410       100.0   \n2           221.36             100  221.46  221.36   221.410       200.0   \n3           221.27              25  221.36  221.27   221.315       200.0   \n4           221.25             100  221.36  221.25   221.305       100.0   \n\n   bid_volume  price_changing  midprice_change     R1  norm_trade_volume  \n0       100.0            True            0.000 -0.000           0.708122  \n1       100.0            True            0.000 -0.000           0.708122  \n2       100.0            True           -0.095  0.095           0.708122  \n3        25.0            True           -0.010  0.010           0.177031  \n4       100.0            True           -0.090  0.090           0.708122  ",
      "text/html": "<div>\n<style scoped>\n    .dataframe tbody tr th:only-of-type {\n        vertical-align: middle;\n    }\n\n    .dataframe tbody tr th {\n        vertical-align: top;\n    }\n\n    .dataframe thead th {\n        text-align: right;\n    }\n</style>\n<table border=\"1\" class=\"dataframe\">\n  <thead>\n    <tr style=\"text-align: right;\">\n      <th></th>\n      <th>event_timestamp</th>\n      <th>trade_sign</th>\n      <th>side</th>\n      <th>lob_action</th>\n      <th>order_executed</th>\n      <th>execution_price</th>\n      <th>execution_size</th>\n      <th>ask</th>\n      <th>bid</th>\n      <th>midprice</th>\n      <th>ask_volume</th>\n      <th>bid_volume</th>\n      <th>price_changing</th>\n      <th>midprice_change</th>\n      <th>R1</th>\n      <th>norm_trade_volume</th>\n    </tr>\n  </thead>\n  <tbody>\n    <tr>\n      <th>0</th>\n      <td>2016-01-04 10:30:02.487834868</td>\n      <td>-1</td>\n      <td>BID</td>\n      <td>REMOVE</td>\n      <td>True</td>\n      <td>221.36</td>\n      <td>100</td>\n      <td>221.46</td>\n      <td>221.36</td>\n      <td>221.410</td>\n      <td>100.0</td>\n      <td>100.0</td>\n      <td>True</td>\n      <td>0.000</td>\n      <td>-0.000</td>\n      <td>0.708122</td>\n    </tr>\n    <tr>\n      <th>1</th>\n      <td>2016-01-04 10:30:02.594369706</td>\n      <td>-1</td>\n      <td>BID</td>\n      <td>REMOVE</td>\n      <td>True</td>\n      <td>221.36</td>\n      <td>100</td>\n      <td>221.46</td>\n      <td>221.36</td>\n      <td>221.410</td>\n      <td>100.0</td>\n      <td>100.0</td>\n      <td>True</td>\n      <td>0.000</td>\n      <td>-0.000</td>\n      <td>0.708122</td>\n    </tr>\n    <tr>\n      <th>2</th>\n      <td>2016-01-04 10:30:02.602151380</td>\n      <td>-1</td>\n      <td>BID</td>\n      <td>REMOVE</td>\n      <td>True</td>\n      <td>221.36</td>\n      <td>100</td>\n      <td>221.46</td>\n      <td>221.36</td>\n      <td>221.410</td>\n      <td>200.0</td>\n      <td>100.0</td>\n      <td>True</td>\n      <td>-0.095</td>\n      <td>0.095</td>\n      <td>0.708122</td>\n    </tr>\n    <tr>\n      <th>3</th>\n      <td>2016-01-04 10:30:02.627167275</td>\n      <td>-1</td>\n      <td>BID</td>\n      <td>REMOVE</td>\n      <td>True</td>\n      <td>221.27</td>\n      <td>25</td>\n      <td>221.36</td>\n      <td>221.27</td>\n      <td>221.315</td>\n      <td>200.0</td>\n      <td>25.0</td>\n      <td>True</td>\n      <td>-0.010</td>\n      <td>0.010</td>\n      <td>0.177031</td>\n    </tr>\n    <tr>\n      <th>4</th>\n      <td>2016-01-04 10:30:02.895123534</td>\n      <td>-1</td>\n      <td>BID</td>\n      <td>REMOVE</td>\n      <td>True</td>\n      <td>221.25</td>\n      <td>100</td>\n      <td>221.36</td>\n      <td>221.25</td>\n      <td>221.305</td>\n      <td>100.0</td>\n      <td>100.0</td>\n      <td>True</td>\n      <td>-0.090</td>\n      <td>0.090</td>\n      <td>0.708122</td>\n    </tr>\n  </tbody>\n</table>\n</div>"
     },
     "execution_count": 57,
     "metadata": {},
     "output_type": "execute_result"
    }
   ],
   "source": [
    "tsla_df.head()"
   ],
   "metadata": {
    "collapsed": false,
    "ExecuteTime": {
     "start_time": "2023-09-10T17:02:59.576332Z",
     "end_time": "2023-09-10T17:02:59.630323Z"
    }
   }
  },
  {
   "cell_type": "code",
   "execution_count": 58,
   "outputs": [
    {
     "data": {
      "text/plain": "   vol_imbalance    T      R\n0    -147.582272  5.0 -0.045\n1    -140.637441  5.0 -0.010\n2    -140.377883  5.0 -0.010\n3    -121.687238  5.0 -0.010\n4    -111.971303  5.0  0.000",
      "text/html": "<div>\n<style scoped>\n    .dataframe tbody tr th:only-of-type {\n        vertical-align: middle;\n    }\n\n    .dataframe tbody tr th {\n        vertical-align: top;\n    }\n\n    .dataframe thead th {\n        text-align: right;\n    }\n</style>\n<table border=\"1\" class=\"dataframe\">\n  <thead>\n    <tr style=\"text-align: right;\">\n      <th></th>\n      <th>vol_imbalance</th>\n      <th>T</th>\n      <th>R</th>\n    </tr>\n  </thead>\n  <tbody>\n    <tr>\n      <th>0</th>\n      <td>-147.582272</td>\n      <td>5.0</td>\n      <td>-0.045</td>\n    </tr>\n    <tr>\n      <th>1</th>\n      <td>-140.637441</td>\n      <td>5.0</td>\n      <td>-0.010</td>\n    </tr>\n    <tr>\n      <th>2</th>\n      <td>-140.377883</td>\n      <td>5.0</td>\n      <td>-0.010</td>\n    </tr>\n    <tr>\n      <th>3</th>\n      <td>-121.687238</td>\n      <td>5.0</td>\n      <td>-0.010</td>\n    </tr>\n    <tr>\n      <th>4</th>\n      <td>-111.971303</td>\n      <td>5.0</td>\n      <td>0.000</td>\n    </tr>\n  </tbody>\n</table>\n</div>"
     },
     "execution_count": 58,
     "metadata": {},
     "output_type": "execute_result"
    }
   ],
   "source": [
    "results_tsla_df = prepare_data_for_fitting(tsla_df, durations=MO_LAG_INTERVALS)\n",
    "results_tsla_df.head()"
   ],
   "metadata": {
    "collapsed": false,
    "ExecuteTime": {
     "start_time": "2023-09-10T17:02:59.629609Z",
     "end_time": "2023-09-10T17:03:15.032142Z"
    }
   }
  },
  {
   "cell_type": "code",
   "execution_count": 59,
   "outputs": [],
   "source": [
    "MO_LAG_INTERVALS = (5, 10, 20, 50, 100)"
   ],
   "metadata": {
    "collapsed": false,
    "ExecuteTime": {
     "start_time": "2023-09-10T17:03:15.030698Z",
     "end_time": "2023-09-10T17:03:15.079621Z"
    }
   }
  },
  {
   "cell_type": "code",
   "execution_count": 60,
   "outputs": [],
   "source": [
    "from liquidity.response_functions.fitting import normalise_axis\n",
    "\n",
    "results_ = []\n",
    "for i, T in enumerate(MO_LAG_INTERVALS):\n",
    "    lag_data = compute_conditional_aggregate_impact(tsla_df, T=T)\n",
    "    lag_data['R'] = lag_data[f'R{T}']\n",
    "    lag_data = lag_data.drop(columns=f'R{T}')\n",
    "    lag_data['T']= T\n",
    "    results_.append(lag_data)\n",
    "\n",
    "tsla_data = pd.concat(results_)\n",
    "tsla_data_norm = normalise_axis(tsla_data)"
   ],
   "metadata": {
    "collapsed": false,
    "ExecuteTime": {
     "start_time": "2023-09-10T17:03:15.068486Z",
     "end_time": "2023-09-10T17:03:30.942415Z"
    }
   }
  },
  {
   "cell_type": "code",
   "execution_count": 61,
   "outputs": [
    {
     "data": {
      "text/plain": "                     event_timestamp  midprice  vol_imbalance  sign_imbalance  \\\n0      2016-01-04 10:30:02.487834868   221.410      -2.161416       -2.987662   \n1      2016-01-04 10:30:24.785387196   221.215       1.227939        1.792597   \n2      2016-01-04 10:30:39.776241277   221.205       2.217387        2.987662   \n3      2016-01-04 10:30:39.777548678   221.225       0.319612        0.597532   \n4      2016-01-04 10:30:53.912685027   221.225       0.688481        1.792597   \n...                              ...       ...            ...             ...   \n151514 2016-12-30 14:54:46.729172000   212.955       1.563543        4.301804   \n151515 2016-12-30 14:54:56.324175284   212.940      -2.055032       -4.301804   \n151516 2016-12-30 14:56:22.339614831   212.605       1.400846       -1.433935   \n151517 2016-12-30 14:57:33.988238277   212.690      -1.265825       -1.433935   \n151518 2016-12-30 14:58:02.190130229   212.650       1.661245        2.867869   \n\n        sign  daily_R1  daily_vol  daily_num      R  T  \n0         -1  0.027301     503438       6009 -0.195  5  \n1         -1  0.027301     503438       6009 -0.010  5  \n2          1  0.027301     503438       6009  0.020  5  \n3          1  0.027301     503438       6009  0.000  5  \n4         -1  0.027301     503438       6009  0.010  5  \n...      ...       ...        ...        ...    ... ..  \n151514     1  0.019189     219620       2504 -0.015  5  \n151515    -1  0.019189     219620       2504 -0.335  5  \n151516     1  0.019189     219620       2504  0.085  5  \n151517    -1  0.019189     219620       2504 -0.040  5  \n151518     1  0.019189     219620       2504  0.000  5  \n\n[151519 rows x 10 columns]",
      "text/html": "<div>\n<style scoped>\n    .dataframe tbody tr th:only-of-type {\n        vertical-align: middle;\n    }\n\n    .dataframe tbody tr th {\n        vertical-align: top;\n    }\n\n    .dataframe thead th {\n        text-align: right;\n    }\n</style>\n<table border=\"1\" class=\"dataframe\">\n  <thead>\n    <tr style=\"text-align: right;\">\n      <th></th>\n      <th>event_timestamp</th>\n      <th>midprice</th>\n      <th>vol_imbalance</th>\n      <th>sign_imbalance</th>\n      <th>sign</th>\n      <th>daily_R1</th>\n      <th>daily_vol</th>\n      <th>daily_num</th>\n      <th>R</th>\n      <th>T</th>\n    </tr>\n  </thead>\n  <tbody>\n    <tr>\n      <th>0</th>\n      <td>2016-01-04 10:30:02.487834868</td>\n      <td>221.410</td>\n      <td>-2.161416</td>\n      <td>-2.987662</td>\n      <td>-1</td>\n      <td>0.027301</td>\n      <td>503438</td>\n      <td>6009</td>\n      <td>-0.195</td>\n      <td>5</td>\n    </tr>\n    <tr>\n      <th>1</th>\n      <td>2016-01-04 10:30:24.785387196</td>\n      <td>221.215</td>\n      <td>1.227939</td>\n      <td>1.792597</td>\n      <td>-1</td>\n      <td>0.027301</td>\n      <td>503438</td>\n      <td>6009</td>\n      <td>-0.010</td>\n      <td>5</td>\n    </tr>\n    <tr>\n      <th>2</th>\n      <td>2016-01-04 10:30:39.776241277</td>\n      <td>221.205</td>\n      <td>2.217387</td>\n      <td>2.987662</td>\n      <td>1</td>\n      <td>0.027301</td>\n      <td>503438</td>\n      <td>6009</td>\n      <td>0.020</td>\n      <td>5</td>\n    </tr>\n    <tr>\n      <th>3</th>\n      <td>2016-01-04 10:30:39.777548678</td>\n      <td>221.225</td>\n      <td>0.319612</td>\n      <td>0.597532</td>\n      <td>1</td>\n      <td>0.027301</td>\n      <td>503438</td>\n      <td>6009</td>\n      <td>0.000</td>\n      <td>5</td>\n    </tr>\n    <tr>\n      <th>4</th>\n      <td>2016-01-04 10:30:53.912685027</td>\n      <td>221.225</td>\n      <td>0.688481</td>\n      <td>1.792597</td>\n      <td>-1</td>\n      <td>0.027301</td>\n      <td>503438</td>\n      <td>6009</td>\n      <td>0.010</td>\n      <td>5</td>\n    </tr>\n    <tr>\n      <th>...</th>\n      <td>...</td>\n      <td>...</td>\n      <td>...</td>\n      <td>...</td>\n      <td>...</td>\n      <td>...</td>\n      <td>...</td>\n      <td>...</td>\n      <td>...</td>\n      <td>...</td>\n    </tr>\n    <tr>\n      <th>151514</th>\n      <td>2016-12-30 14:54:46.729172000</td>\n      <td>212.955</td>\n      <td>1.563543</td>\n      <td>4.301804</td>\n      <td>1</td>\n      <td>0.019189</td>\n      <td>219620</td>\n      <td>2504</td>\n      <td>-0.015</td>\n      <td>5</td>\n    </tr>\n    <tr>\n      <th>151515</th>\n      <td>2016-12-30 14:54:56.324175284</td>\n      <td>212.940</td>\n      <td>-2.055032</td>\n      <td>-4.301804</td>\n      <td>-1</td>\n      <td>0.019189</td>\n      <td>219620</td>\n      <td>2504</td>\n      <td>-0.335</td>\n      <td>5</td>\n    </tr>\n    <tr>\n      <th>151516</th>\n      <td>2016-12-30 14:56:22.339614831</td>\n      <td>212.605</td>\n      <td>1.400846</td>\n      <td>-1.433935</td>\n      <td>1</td>\n      <td>0.019189</td>\n      <td>219620</td>\n      <td>2504</td>\n      <td>0.085</td>\n      <td>5</td>\n    </tr>\n    <tr>\n      <th>151517</th>\n      <td>2016-12-30 14:57:33.988238277</td>\n      <td>212.690</td>\n      <td>-1.265825</td>\n      <td>-1.433935</td>\n      <td>-1</td>\n      <td>0.019189</td>\n      <td>219620</td>\n      <td>2504</td>\n      <td>-0.040</td>\n      <td>5</td>\n    </tr>\n    <tr>\n      <th>151518</th>\n      <td>2016-12-30 14:58:02.190130229</td>\n      <td>212.650</td>\n      <td>1.661245</td>\n      <td>2.867869</td>\n      <td>1</td>\n      <td>0.019189</td>\n      <td>219620</td>\n      <td>2504</td>\n      <td>0.000</td>\n      <td>5</td>\n    </tr>\n  </tbody>\n</table>\n<p>151519 rows × 10 columns</p>\n</div>"
     },
     "execution_count": 61,
     "metadata": {},
     "output_type": "execute_result"
    }
   ],
   "source": [
    "results_[0]"
   ],
   "metadata": {
    "collapsed": false,
    "ExecuteTime": {
     "start_time": "2023-09-10T17:03:30.923027Z",
     "end_time": "2023-09-10T17:03:30.983764Z"
    }
   }
  },
  {
   "cell_type": "code",
   "execution_count": 61,
   "outputs": [],
   "source": [],
   "metadata": {
    "collapsed": false,
    "ExecuteTime": {
     "start_time": "2023-09-10T17:03:30.972316Z",
     "end_time": "2023-09-10T17:03:30.983848Z"
    }
   }
  },
  {
   "cell_type": "markdown",
   "source": [
    "# Test response functions"
   ],
   "metadata": {
    "collapsed": false
   }
  },
  {
   "cell_type": "code",
   "execution_count": 62,
   "outputs": [
    {
     "data": {
      "text/plain": "                 event_timestamp  trade_sign side lob_action  order_executed  \\\n0  2016-01-04 10:30:02.487834868          -1  BID     REMOVE            True   \n1  2016-01-04 10:30:02.594369706          -1  BID     REMOVE            True   \n2  2016-01-04 10:30:02.602151380          -1  BID     REMOVE            True   \n3  2016-01-04 10:30:02.627167275          -1  BID     REMOVE            True   \n4  2016-01-04 10:30:02.895123534          -1  BID     REMOVE            True   \n\n   execution_price  execution_size     ask     bid  midprice  ask_volume  \\\n0           221.36             100  221.46  221.36   221.410       100.0   \n1           221.36             100  221.46  221.36   221.410       100.0   \n2           221.36             100  221.46  221.36   221.410       200.0   \n3           221.27              25  221.36  221.27   221.315       200.0   \n4           221.25             100  221.36  221.25   221.305       100.0   \n\n   bid_volume  price_changing  midprice_change     R1  norm_trade_volume  \n0       100.0            True            0.000 -0.000           0.708122  \n1       100.0            True            0.000 -0.000           0.708122  \n2       100.0            True           -0.095  0.095           0.708122  \n3        25.0            True           -0.010  0.010           0.177031  \n4       100.0            True           -0.090  0.090           0.708122  ",
      "text/html": "<div>\n<style scoped>\n    .dataframe tbody tr th:only-of-type {\n        vertical-align: middle;\n    }\n\n    .dataframe tbody tr th {\n        vertical-align: top;\n    }\n\n    .dataframe thead th {\n        text-align: right;\n    }\n</style>\n<table border=\"1\" class=\"dataframe\">\n  <thead>\n    <tr style=\"text-align: right;\">\n      <th></th>\n      <th>event_timestamp</th>\n      <th>trade_sign</th>\n      <th>side</th>\n      <th>lob_action</th>\n      <th>order_executed</th>\n      <th>execution_price</th>\n      <th>execution_size</th>\n      <th>ask</th>\n      <th>bid</th>\n      <th>midprice</th>\n      <th>ask_volume</th>\n      <th>bid_volume</th>\n      <th>price_changing</th>\n      <th>midprice_change</th>\n      <th>R1</th>\n      <th>norm_trade_volume</th>\n    </tr>\n  </thead>\n  <tbody>\n    <tr>\n      <th>0</th>\n      <td>2016-01-04 10:30:02.487834868</td>\n      <td>-1</td>\n      <td>BID</td>\n      <td>REMOVE</td>\n      <td>True</td>\n      <td>221.36</td>\n      <td>100</td>\n      <td>221.46</td>\n      <td>221.36</td>\n      <td>221.410</td>\n      <td>100.0</td>\n      <td>100.0</td>\n      <td>True</td>\n      <td>0.000</td>\n      <td>-0.000</td>\n      <td>0.708122</td>\n    </tr>\n    <tr>\n      <th>1</th>\n      <td>2016-01-04 10:30:02.594369706</td>\n      <td>-1</td>\n      <td>BID</td>\n      <td>REMOVE</td>\n      <td>True</td>\n      <td>221.36</td>\n      <td>100</td>\n      <td>221.46</td>\n      <td>221.36</td>\n      <td>221.410</td>\n      <td>100.0</td>\n      <td>100.0</td>\n      <td>True</td>\n      <td>0.000</td>\n      <td>-0.000</td>\n      <td>0.708122</td>\n    </tr>\n    <tr>\n      <th>2</th>\n      <td>2016-01-04 10:30:02.602151380</td>\n      <td>-1</td>\n      <td>BID</td>\n      <td>REMOVE</td>\n      <td>True</td>\n      <td>221.36</td>\n      <td>100</td>\n      <td>221.46</td>\n      <td>221.36</td>\n      <td>221.410</td>\n      <td>200.0</td>\n      <td>100.0</td>\n      <td>True</td>\n      <td>-0.095</td>\n      <td>0.095</td>\n      <td>0.708122</td>\n    </tr>\n    <tr>\n      <th>3</th>\n      <td>2016-01-04 10:30:02.627167275</td>\n      <td>-1</td>\n      <td>BID</td>\n      <td>REMOVE</td>\n      <td>True</td>\n      <td>221.27</td>\n      <td>25</td>\n      <td>221.36</td>\n      <td>221.27</td>\n      <td>221.315</td>\n      <td>200.0</td>\n      <td>25.0</td>\n      <td>True</td>\n      <td>-0.010</td>\n      <td>0.010</td>\n      <td>0.177031</td>\n    </tr>\n    <tr>\n      <th>4</th>\n      <td>2016-01-04 10:30:02.895123534</td>\n      <td>-1</td>\n      <td>BID</td>\n      <td>REMOVE</td>\n      <td>True</td>\n      <td>221.25</td>\n      <td>100</td>\n      <td>221.36</td>\n      <td>221.25</td>\n      <td>221.305</td>\n      <td>100.0</td>\n      <td>100.0</td>\n      <td>True</td>\n      <td>-0.090</td>\n      <td>0.090</td>\n      <td>0.708122</td>\n    </tr>\n  </tbody>\n</table>\n</div>"
     },
     "execution_count": 62,
     "metadata": {},
     "output_type": "execute_result"
    }
   ],
   "source": [
    "tsla_df.head()"
   ],
   "metadata": {
    "collapsed": false,
    "ExecuteTime": {
     "start_time": "2023-09-10T17:03:30.976189Z",
     "end_time": "2023-09-10T17:03:31.057548Z"
    }
   }
  },
  {
   "cell_type": "code",
   "execution_count": 63,
   "outputs": [
    {
     "data": {
      "text/plain": "   midprice  sign  daily_R1     R1\n0   221.410    -1  0.027301  0.000\n1   221.410    -1  0.027301  0.000\n2   221.410    -1  0.027301 -0.095\n3   221.315    -1  0.027301 -0.010\n4   221.305    -1  0.027301 -0.090",
      "text/html": "<div>\n<style scoped>\n    .dataframe tbody tr th:only-of-type {\n        vertical-align: middle;\n    }\n\n    .dataframe tbody tr th {\n        vertical-align: top;\n    }\n\n    .dataframe thead th {\n        text-align: right;\n    }\n</style>\n<table border=\"1\" class=\"dataframe\">\n  <thead>\n    <tr style=\"text-align: right;\">\n      <th></th>\n      <th>midprice</th>\n      <th>sign</th>\n      <th>daily_R1</th>\n      <th>R1</th>\n    </tr>\n  </thead>\n  <tbody>\n    <tr>\n      <th>0</th>\n      <td>221.410</td>\n      <td>-1</td>\n      <td>0.027301</td>\n      <td>0.000</td>\n    </tr>\n    <tr>\n      <th>1</th>\n      <td>221.410</td>\n      <td>-1</td>\n      <td>0.027301</td>\n      <td>0.000</td>\n    </tr>\n    <tr>\n      <th>2</th>\n      <td>221.410</td>\n      <td>-1</td>\n      <td>0.027301</td>\n      <td>-0.095</td>\n    </tr>\n    <tr>\n      <th>3</th>\n      <td>221.315</td>\n      <td>-1</td>\n      <td>0.027301</td>\n      <td>-0.010</td>\n    </tr>\n    <tr>\n      <th>4</th>\n      <td>221.305</td>\n      <td>-1</td>\n      <td>0.027301</td>\n      <td>-0.090</td>\n    </tr>\n  </tbody>\n</table>\n</div>"
     },
     "execution_count": 63,
     "metadata": {},
     "output_type": "execute_result"
    }
   ],
   "source": [
    "R1 = compute_price_response(tsla_df)\n",
    "R1.head()"
   ],
   "metadata": {
    "collapsed": false,
    "ExecuteTime": {
     "start_time": "2023-09-10T17:03:31.027390Z",
     "end_time": "2023-09-10T17:03:34.257168Z"
    }
   }
  },
  {
   "cell_type": "code",
   "execution_count": 64,
   "outputs": [
    {
     "data": {
      "text/plain": "   midprice  sign  daily_R1     R4\n0   221.410    -1  0.027301 -0.105\n1   221.305    -1  0.027301 -0.105\n2   221.200     1  0.027301  0.005\n3   221.205     1  0.027301  0.020\n4   221.225     1  0.027301  0.000",
      "text/html": "<div>\n<style scoped>\n    .dataframe tbody tr th:only-of-type {\n        vertical-align: middle;\n    }\n\n    .dataframe tbody tr th {\n        vertical-align: top;\n    }\n\n    .dataframe thead th {\n        text-align: right;\n    }\n</style>\n<table border=\"1\" class=\"dataframe\">\n  <thead>\n    <tr style=\"text-align: right;\">\n      <th></th>\n      <th>midprice</th>\n      <th>sign</th>\n      <th>daily_R1</th>\n      <th>R4</th>\n    </tr>\n  </thead>\n  <tbody>\n    <tr>\n      <th>0</th>\n      <td>221.410</td>\n      <td>-1</td>\n      <td>0.027301</td>\n      <td>-0.105</td>\n    </tr>\n    <tr>\n      <th>1</th>\n      <td>221.305</td>\n      <td>-1</td>\n      <td>0.027301</td>\n      <td>-0.105</td>\n    </tr>\n    <tr>\n      <th>2</th>\n      <td>221.200</td>\n      <td>1</td>\n      <td>0.027301</td>\n      <td>0.005</td>\n    </tr>\n    <tr>\n      <th>3</th>\n      <td>221.205</td>\n      <td>1</td>\n      <td>0.027301</td>\n      <td>0.020</td>\n    </tr>\n    <tr>\n      <th>4</th>\n      <td>221.225</td>\n      <td>1</td>\n      <td>0.027301</td>\n      <td>0.000</td>\n    </tr>\n  </tbody>\n</table>\n</div>"
     },
     "execution_count": 64,
     "metadata": {},
     "output_type": "execute_result"
    }
   ],
   "source": [
    "R1 = compute_price_response(tsla_df, lag=4)\n",
    "R1.head()"
   ],
   "metadata": {
    "collapsed": false,
    "ExecuteTime": {
     "start_time": "2023-09-10T17:03:34.255861Z",
     "end_time": "2023-09-10T17:03:37.474746Z"
    }
   }
  },
  {
   "cell_type": "code",
   "execution_count": 65,
   "outputs": [
    {
     "data": {
      "text/plain": "   midprice  sign  daily_R1        R4\n0   221.410    -1  0.027301 -0.093019\n1   221.305    -1  0.027301 -0.093019\n2   221.200     1  0.027301  0.004429\n3   221.205     1  0.027301  0.017718\n4   221.225     1  0.027301  0.000000",
      "text/html": "<div>\n<style scoped>\n    .dataframe tbody tr th:only-of-type {\n        vertical-align: middle;\n    }\n\n    .dataframe tbody tr th {\n        vertical-align: top;\n    }\n\n    .dataframe thead th {\n        text-align: right;\n    }\n</style>\n<table border=\"1\" class=\"dataframe\">\n  <thead>\n    <tr style=\"text-align: right;\">\n      <th></th>\n      <th>midprice</th>\n      <th>sign</th>\n      <th>daily_R1</th>\n      <th>R4</th>\n    </tr>\n  </thead>\n  <tbody>\n    <tr>\n      <th>0</th>\n      <td>221.410</td>\n      <td>-1</td>\n      <td>0.027301</td>\n      <td>-0.093019</td>\n    </tr>\n    <tr>\n      <th>1</th>\n      <td>221.305</td>\n      <td>-1</td>\n      <td>0.027301</td>\n      <td>-0.093019</td>\n    </tr>\n    <tr>\n      <th>2</th>\n      <td>221.200</td>\n      <td>1</td>\n      <td>0.027301</td>\n      <td>0.004429</td>\n    </tr>\n    <tr>\n      <th>3</th>\n      <td>221.205</td>\n      <td>1</td>\n      <td>0.027301</td>\n      <td>0.017718</td>\n    </tr>\n    <tr>\n      <th>4</th>\n      <td>221.225</td>\n      <td>1</td>\n      <td>0.027301</td>\n      <td>0.000000</td>\n    </tr>\n  </tbody>\n</table>\n</div>"
     },
     "execution_count": 65,
     "metadata": {},
     "output_type": "execute_result"
    }
   ],
   "source": [
    "R1 = compute_price_response(tsla_df, lag=4, normalise=True)\n",
    "R1.head()"
   ],
   "metadata": {
    "collapsed": false,
    "ExecuteTime": {
     "start_time": "2023-09-10T17:03:37.471541Z",
     "end_time": "2023-09-10T17:03:40.657350Z"
    }
   }
  },
  {
   "cell_type": "code",
   "execution_count": 65,
   "outputs": [],
   "source": [],
   "metadata": {
    "collapsed": false,
    "ExecuteTime": {
     "start_time": "2023-09-10T17:03:40.654386Z",
     "end_time": "2023-09-10T17:03:40.661974Z"
    }
   }
  },
  {
   "cell_type": "markdown",
   "source": [
    "#  Fitting process"
   ],
   "metadata": {
    "collapsed": false
   }
  },
  {
   "cell_type": "code",
   "execution_count": 72,
   "outputs": [],
   "source": [
    "from liquidity.util.fitting_util import get_agg_features\n",
    "\n",
    "tsla_data = get_agg_features(tsla_df, MO_LAG_INTERVALS)"
   ],
   "metadata": {
    "collapsed": false,
    "ExecuteTime": {
     "start_time": "2023-09-10T18:16:21.028886Z",
     "end_time": "2023-09-10T18:16:30.540034Z"
    }
   }
  },
  {
   "cell_type": "code",
   "execution_count": 73,
   "outputs": [
    {
     "data": {
      "text/plain": "                event_timestamp  midprice  vol_imbalance  sign_imbalance  \\\n0 2016-01-04 10:30:02.487834868   221.410      -2.161416       -2.987662   \n1 2016-01-04 10:30:24.785387196   221.215       1.227939        1.792597   \n2 2016-01-04 10:30:39.776241277   221.205       2.217387        2.987662   \n3 2016-01-04 10:30:39.777548678   221.225       0.319612        0.597532   \n4 2016-01-04 10:30:53.912685027   221.225       0.688481        1.792597   \n\n   sign  daily_R1  daily_vol  daily_num      R  T  \n0    -1  0.027301     503438       6009 -0.195  5  \n1    -1  0.027301     503438       6009 -0.010  5  \n2     1  0.027301     503438       6009  0.020  5  \n3     1  0.027301     503438       6009  0.000  5  \n4    -1  0.027301     503438       6009  0.010  5  ",
      "text/html": "<div>\n<style scoped>\n    .dataframe tbody tr th:only-of-type {\n        vertical-align: middle;\n    }\n\n    .dataframe tbody tr th {\n        vertical-align: top;\n    }\n\n    .dataframe thead th {\n        text-align: right;\n    }\n</style>\n<table border=\"1\" class=\"dataframe\">\n  <thead>\n    <tr style=\"text-align: right;\">\n      <th></th>\n      <th>event_timestamp</th>\n      <th>midprice</th>\n      <th>vol_imbalance</th>\n      <th>sign_imbalance</th>\n      <th>sign</th>\n      <th>daily_R1</th>\n      <th>daily_vol</th>\n      <th>daily_num</th>\n      <th>R</th>\n      <th>T</th>\n    </tr>\n  </thead>\n  <tbody>\n    <tr>\n      <th>0</th>\n      <td>2016-01-04 10:30:02.487834868</td>\n      <td>221.410</td>\n      <td>-2.161416</td>\n      <td>-2.987662</td>\n      <td>-1</td>\n      <td>0.027301</td>\n      <td>503438</td>\n      <td>6009</td>\n      <td>-0.195</td>\n      <td>5</td>\n    </tr>\n    <tr>\n      <th>1</th>\n      <td>2016-01-04 10:30:24.785387196</td>\n      <td>221.215</td>\n      <td>1.227939</td>\n      <td>1.792597</td>\n      <td>-1</td>\n      <td>0.027301</td>\n      <td>503438</td>\n      <td>6009</td>\n      <td>-0.010</td>\n      <td>5</td>\n    </tr>\n    <tr>\n      <th>2</th>\n      <td>2016-01-04 10:30:39.776241277</td>\n      <td>221.205</td>\n      <td>2.217387</td>\n      <td>2.987662</td>\n      <td>1</td>\n      <td>0.027301</td>\n      <td>503438</td>\n      <td>6009</td>\n      <td>0.020</td>\n      <td>5</td>\n    </tr>\n    <tr>\n      <th>3</th>\n      <td>2016-01-04 10:30:39.777548678</td>\n      <td>221.225</td>\n      <td>0.319612</td>\n      <td>0.597532</td>\n      <td>1</td>\n      <td>0.027301</td>\n      <td>503438</td>\n      <td>6009</td>\n      <td>0.000</td>\n      <td>5</td>\n    </tr>\n    <tr>\n      <th>4</th>\n      <td>2016-01-04 10:30:53.912685027</td>\n      <td>221.225</td>\n      <td>0.688481</td>\n      <td>1.792597</td>\n      <td>-1</td>\n      <td>0.027301</td>\n      <td>503438</td>\n      <td>6009</td>\n      <td>0.010</td>\n      <td>5</td>\n    </tr>\n  </tbody>\n</table>\n</div>"
     },
     "execution_count": 73,
     "metadata": {},
     "output_type": "execute_result"
    }
   ],
   "source": [
    "tsla_data.head()"
   ],
   "metadata": {
    "collapsed": false,
    "ExecuteTime": {
     "start_time": "2023-09-10T18:16:47.141299Z",
     "end_time": "2023-09-10T18:16:47.295679Z"
    }
   }
  },
  {
   "cell_type": "code",
   "execution_count": 65,
   "outputs": [],
   "source": [],
   "metadata": {
    "collapsed": false,
    "ExecuteTime": {
     "start_time": "2023-09-10T17:03:40.665348Z",
     "end_time": "2023-09-10T17:03:40.670594Z"
    }
   }
  },
  {
   "cell_type": "code",
   "execution_count": 65,
   "outputs": [],
   "source": [],
   "metadata": {
    "collapsed": false,
    "ExecuteTime": {
     "start_time": "2023-09-10T17:03:40.668880Z",
     "end_time": "2023-09-10T17:03:40.674628Z"
    }
   }
  },
  {
   "cell_type": "code",
   "execution_count": 65,
   "outputs": [],
   "source": [],
   "metadata": {
    "collapsed": false,
    "ExecuteTime": {
     "start_time": "2023-09-10T17:03:40.672490Z",
     "end_time": "2023-09-10T17:03:40.687329Z"
    }
   }
  },
  {
   "cell_type": "code",
   "execution_count": 65,
   "outputs": [],
   "source": [],
   "metadata": {
    "collapsed": false,
    "ExecuteTime": {
     "start_time": "2023-09-10T17:03:40.677344Z",
     "end_time": "2023-09-10T17:03:40.704356Z"
    }
   }
  },
  {
   "cell_type": "code",
   "execution_count": 65,
   "outputs": [],
   "source": [],
   "metadata": {
    "collapsed": false,
    "ExecuteTime": {
     "start_time": "2023-09-10T17:03:40.680754Z",
     "end_time": "2023-09-10T17:03:40.725762Z"
    }
   }
  },
  {
   "cell_type": "code",
   "execution_count": 65,
   "outputs": [],
   "source": [],
   "metadata": {
    "collapsed": false,
    "ExecuteTime": {
     "start_time": "2023-09-10T17:03:40.682777Z",
     "end_time": "2023-09-10T17:03:40.726059Z"
    }
   }
  },
  {
   "cell_type": "code",
   "execution_count": 65,
   "outputs": [],
   "source": [],
   "metadata": {
    "collapsed": false,
    "ExecuteTime": {
     "start_time": "2023-09-10T17:03:40.685947Z",
     "end_time": "2023-09-10T17:03:40.726321Z"
    }
   }
  },
  {
   "cell_type": "code",
   "execution_count": 65,
   "outputs": [],
   "source": [],
   "metadata": {
    "collapsed": false,
    "ExecuteTime": {
     "start_time": "2023-09-10T17:03:40.688947Z",
     "end_time": "2023-09-10T17:03:40.730895Z"
    }
   }
  },
  {
   "cell_type": "code",
   "execution_count": 66,
   "outputs": [],
   "source": [
    "from liquidity.response_functions.fitting import bin_data_into_quantiles, get_fit_params\n",
    "\n",
    "binned_data = []\n",
    "\n",
    "for T in MO_LAG_INTERVALS:\n",
    "    result = tsla_data_norm[tsla_data_norm['T']==T][['vol_imbalance', 'T', 'R']]\n",
    "    binned_data.append(bin_data_into_quantiles(result))\n",
    "binned_result = pd.concat(binned_data)\n",
    "\n",
    "popt_tsla, pcov_tsla, fit_func = get_fit_params(binned_result)"
   ],
   "metadata": {
    "collapsed": false,
    "ExecuteTime": {
     "start_time": "2023-09-10T17:03:40.692320Z",
     "end_time": "2023-09-10T17:03:41.109906Z"
    }
   }
  },
  {
   "cell_type": "code",
   "execution_count": 67,
   "outputs": [
    {
     "data": {
      "text/plain": "array([6.09220194e-01, 1.18203873e+00, 1.35030002e-01, 6.00137556e+00,\n       5.35660371e+08])"
     },
     "execution_count": 67,
     "metadata": {},
     "output_type": "execute_result"
    }
   ],
   "source": [
    "popt_tsla"
   ],
   "metadata": {
    "collapsed": false,
    "ExecuteTime": {
     "start_time": "2023-09-10T17:03:41.111067Z",
     "end_time": "2023-09-10T17:03:41.152639Z"
    }
   }
  },
  {
   "cell_type": "code",
   "execution_count": 68,
   "outputs": [
    {
     "name": "stdout",
     "output_type": "stream",
     "text": [
      "Optimal parameters not found: The maximum number of function evaluations is exceeded\n",
      "re-trying\n",
      "Optimal parameters not found: The maximum number of function evaluations is exceeded\n",
      "re-trying\n",
      "Optimal parameters not found: The maximum number of function evaluations is exceeded\n"
     ]
    }
   ],
   "source": [
    "fit_param = {}\n",
    "for T in MO_LAG_INTERVALS:\n",
    "    result = tsla_data_norm[tsla_data_norm['T']==T][['vol_imbalance', 'T', 'R']]\n",
    "\n",
    "    binned_result = bin_data_into_quantiles(result, q=100)\n",
    "    param = get_fit_params(binned_result)\n",
    "    if param[0] is None:\n",
    "        print('re-trying')\n",
    "        binned_result = bin_data_into_quantiles(result, q=31)\n",
    "        param = get_fit_params(binned_result)\n",
    "    fit_param[T] = param"
   ],
   "metadata": {
    "collapsed": false,
    "ExecuteTime": {
     "start_time": "2023-09-10T17:03:41.154839Z",
     "end_time": "2023-09-10T17:03:42.486179Z"
    }
   }
  },
  {
   "cell_type": "code",
   "execution_count": 69,
   "outputs": [
    {
     "data": {
      "text/plain": "(array([6.59082618, 0.04032086, 3.37415375, 1.31856471, 2.98858001]),\n array([[ 7.69018345e+15,  3.79197711e+15,  0.00000000e+00,\n          0.00000000e+00, -1.87501183e+16],\n        [ 3.79197711e+15,  3.18146486e+15,  0.00000000e+00,\n          0.00000000e+00, -2.93652533e+15],\n        [ 0.00000000e+00,  0.00000000e+00,  0.00000000e+00,\n          0.00000000e+00,  0.00000000e+00],\n        [ 0.00000000e+00,  0.00000000e+00,  0.00000000e+00,\n          0.00000000e+00,  0.00000000e+00],\n        [-1.87501183e+16, -2.93652533e+15,  0.00000000e+00,\n          0.00000000e+00,  7.60623454e+16]]),\n <function liquidity.response_functions.fitting.scaling_form(qT, chi, kappa, alpha, beta, gamma)>)"
     },
     "execution_count": 69,
     "metadata": {},
     "output_type": "execute_result"
    }
   ],
   "source": [
    "fit_param[5]"
   ],
   "metadata": {
    "collapsed": false,
    "ExecuteTime": {
     "start_time": "2023-09-10T17:03:42.485338Z",
     "end_time": "2023-09-10T17:03:42.533846Z"
    }
   }
  },
  {
   "cell_type": "code",
   "execution_count": 70,
   "outputs": [
    {
     "name": "stderr",
     "output_type": "stream",
     "text": [
      "/Users/ana_bugaenko/workspace/another_workspace/liquidity/liquidity/util/plotting/plot_aggrate_impact.py:253: VisibleDeprecationWarning: Creating an ndarray from ragged nested sequences (which is a list-or-tuple of lists-or-tuples-or ndarrays with different lengths or shapes) is deprecated. If you meant to do this, you must specify 'dtype=object' when creating the ndarray.\n",
      "  plt.plot(q, fit_param[T][2](np.array([q, T]), *popt),\n"
     ]
    },
    {
     "ename": "IndexError",
     "evalue": "list index out of range",
     "output_type": "error",
     "traceback": [
      "\u001B[0;31m---------------------------------------------------------------------------\u001B[0m",
      "\u001B[0;31mIndexError\u001B[0m                                Traceback (most recent call last)",
      "Cell \u001B[0;32mIn[70], line 3\u001B[0m\n\u001B[1;32m      1\u001B[0m \u001B[38;5;28;01mfrom\u001B[39;00m \u001B[38;5;21;01mliquidity\u001B[39;00m\u001B[38;5;21;01m.\u001B[39;00m\u001B[38;5;21;01mutil\u001B[39;00m\u001B[38;5;21;01m.\u001B[39;00m\u001B[38;5;21;01mplotting\u001B[39;00m\u001B[38;5;21;01m.\u001B[39;00m\u001B[38;5;21;01mplot_aggrate_impact\u001B[39;00m \u001B[38;5;28;01mimport\u001B[39;00m plot_collapsed_fitted_func\n\u001B[0;32m----> 3\u001B[0m \u001B[43mplot_collapsed_fitted_func\u001B[49m\u001B[43m(\u001B[49m\u001B[43mfit_param\u001B[49m\u001B[43m,\u001B[49m\n\u001B[1;32m      4\u001B[0m \u001B[43m                           \u001B[49m\u001B[43mline_color\u001B[49m\u001B[38;5;241;43m=\u001B[39;49m\u001B[38;5;124;43m'\u001B[39;49m\u001B[38;5;124;43mblack\u001B[39;49m\u001B[38;5;124;43m'\u001B[39;49m\u001B[43m,\u001B[49m\u001B[43m \u001B[49m\u001B[43mmarkers_color\u001B[49m\u001B[38;5;241;43m=\u001B[39;49m\u001B[38;5;124;43m'\u001B[39;49m\u001B[38;5;124;43mblack\u001B[39;49m\u001B[38;5;124;43m'\u001B[39;49m\u001B[43m,\u001B[49m\n\u001B[1;32m      5\u001B[0m \u001B[43m                           \u001B[49m\u001B[43mxlim\u001B[49m\u001B[38;5;241;43m=\u001B[39;49m\u001B[38;5;241;43m0.02\u001B[39;49m\u001B[43m,\u001B[49m\u001B[43m \u001B[49m\u001B[43mylim\u001B[49m\u001B[38;5;241;43m=\u001B[39;49m\u001B[38;5;241;43m20\u001B[39;49m\u001B[43m,\u001B[49m\u001B[43m \u001B[49m\u001B[43mrenorm\u001B[49m\u001B[38;5;241;43m=\u001B[39;49m\u001B[38;5;28;43;01mFalse\u001B[39;49;00m\u001B[43m,\u001B[49m\n\u001B[1;32m      6\u001B[0m \u001B[43m                           \u001B[49m\u001B[43mdurations\u001B[49m\u001B[38;5;241;43m=\u001B[39;49m\u001B[43mMO_LAG_INTERVALS\u001B[49m\u001B[43m)\u001B[49m\n",
      "File \u001B[0;32m~/workspace/another_workspace/liquidity/liquidity/util/plotting/plot_aggrate_impact.py:287\u001B[0m, in \u001B[0;36mplot_collapsed_fitted_func\u001B[0;34m(fit_param, line_color, markers_color, ylim, xlim, imbalance_col, renorm, durations, master_curve, save, filename)\u001B[0m\n\u001B[1;32m    284\u001B[0m legend \u001B[38;5;241m=\u001B[39m ax\u001B[38;5;241m.\u001B[39mlegend(markerfirst\u001B[38;5;241m=\u001B[39m\u001B[38;5;28;01mTrue\u001B[39;00m, prop\u001B[38;5;241m=\u001B[39mfont, labelspacing\u001B[38;5;241m=\u001B[39m\u001B[38;5;241m0.05\u001B[39m)\n\u001B[1;32m    286\u001B[0m \u001B[38;5;28;01mfor\u001B[39;00m indx, T \u001B[38;5;129;01min\u001B[39;00m \u001B[38;5;28menumerate\u001B[39m(durations):\n\u001B[0;32m--> 287\u001B[0m     \u001B[43mlegend\u001B[49m\u001B[38;5;241;43m.\u001B[39;49m\u001B[43mget_texts\u001B[49m\u001B[43m(\u001B[49m\u001B[43m)\u001B[49m\u001B[43m[\u001B[49m\u001B[43mindx\u001B[49m\u001B[43m]\u001B[49m\u001B[38;5;241m.\u001B[39mset_text(\u001B[38;5;124mf\u001B[39m\u001B[38;5;124m\"\u001B[39m\u001B[38;5;124m$T = \u001B[39m\u001B[38;5;132;01m{\u001B[39;00m\u001B[38;5;28mint\u001B[39m(T)\u001B[38;5;132;01m}\u001B[39;00m\u001B[38;5;124m$\u001B[39m\u001B[38;5;124m\"\u001B[39m)\n\u001B[1;32m    288\u001B[0m     legend\u001B[38;5;241m.\u001B[39mget_lines()[indx]\u001B[38;5;241m.\u001B[39mset_markeredgecolor(\u001B[38;5;124m'\u001B[39m\u001B[38;5;124m#1A1919\u001B[39m\u001B[38;5;124m'\u001B[39m)\n\u001B[1;32m    289\u001B[0m     legend\u001B[38;5;241m.\u001B[39mget_lines()[indx]\u001B[38;5;241m.\u001B[39mset_markerfacecolor(\u001B[38;5;124m'\u001B[39m\u001B[38;5;124mwhite\u001B[39m\u001B[38;5;124m'\u001B[39m)\n",
      "\u001B[0;31mIndexError\u001B[0m: list index out of range"
     ]
    },
    {
     "data": {
      "text/plain": "<Figure size 840x800 with 1 Axes>",
      "image/png": "[encoded data removed]"
     },
     "metadata": {},
     "output_type": "display_data"
    }
   ],
   "source": [
    "from liquidity.util.plotting.plot_aggrate_impact import plot_collapsed_fitted_func\n",
    "\n",
    "plot_collapsed_fitted_func(fit_param,\n",
    "                           line_color='black', markers_color='black',\n",
    "                           xlim=0.02, ylim=20, renorm=False,\n",
    "                           durations=MO_LAG_INTERVALS)"
   ],
   "metadata": {
    "collapsed": false
   }
  },
  {
   "cell_type": "code",
   "execution_count": null,
   "outputs": [],
   "source": [],
   "metadata": {
    "collapsed": false
   }
  },
  {
   "cell_type": "code",
   "execution_count": null,
   "outputs": [],
   "source": [],
   "metadata": {
    "collapsed": false
   }
  },
  {
   "cell_type": "code",
   "execution_count": null,
   "outputs": [],
   "source": [],
   "metadata": {
    "collapsed": false
   }
  }
 ],
 "metadata": {
  "kernelspec": {
   "display_name": "Python 3",
   "language": "python",
   "name": "python3"
  },
  "language_info": {
   "codemirror_mode": {
    "name": "ipython",
    "version": 2
   },
   "file_extension": ".py",
   "mimetype": "text/x-python",
   "name": "python",
   "nbconvert_exporter": "python",
   "pygments_lexer": "ipython2",
   "version": "2.7.6"
  }
 },
 "nbformat": 4,
 "nbformat_minor": 0
}
