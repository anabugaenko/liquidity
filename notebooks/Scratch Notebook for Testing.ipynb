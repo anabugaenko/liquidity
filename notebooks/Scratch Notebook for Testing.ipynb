{
 "cells": [
  {
   "cell_type": "code",
   "execution_count": 5,
   "outputs": [],
   "source": [
    "import pandas as pd\n",
    "import numpy as np\n",
    "from matplotlib import pyplot as plt\n",
    "from matplotlib import rc\n",
    "import pylab\n",
    "import seaborn as sns"
   ],
   "metadata": {
    "collapsed": false,
    "ExecuteTime": {
     "start_time": "2023-09-24T18:03:50.481670Z",
     "end_time": "2023-09-24T18:03:50.481753Z"
    }
   }
  },
  {
   "cell_type": "code",
   "execution_count": 5,
   "outputs": [],
   "source": [],
   "metadata": {
    "collapsed": false,
    "ExecuteTime": {
     "start_time": "2023-09-24T18:03:50.643941Z",
     "end_time": "2023-09-24T18:03:50.644014Z"
    }
   }
  },
  {
   "cell_type": "code",
   "execution_count": 6,
   "outputs": [],
   "source": [
    "%load_ext autoreload\n",
    "%autoreload 2"
   ],
   "metadata": {
    "collapsed": false,
    "ExecuteTime": {
     "start_time": "2023-09-24T18:03:50.827209Z",
     "end_time": "2023-09-24T18:03:50.827278Z"
    }
   }
  },
  {
   "cell_type": "markdown",
   "source": [
    "## Testing price response functions"
   ],
   "metadata": {
    "collapsed": false
   }
  },
  {
   "cell_type": "code",
   "execution_count": 7,
   "outputs": [],
   "source": [
    "tsla_df = pd.read_csv('../data/market_orders/TSLA-2016-R1.csv', header=0,index_col=0)\n",
    "ebay_df = pd.read_csv('../data/market_orders/EBAY-2016-R1.csv', header=0,index_col=0)"
   ],
   "metadata": {
    "collapsed": false,
    "ExecuteTime": {
     "start_time": "2023-09-24T18:03:53.524339Z",
     "end_time": "2023-09-24T18:03:53.524423Z"
    }
   }
  },
  {
   "cell_type": "code",
   "execution_count": 16,
   "outputs": [],
   "source": [
    "from liquidity.response_functions.price_response_functions import compute_conditional_aggregate_impact\n",
    "from liquidity.response_functions.price_response_functions import compute_price_response"
   ],
   "metadata": {
    "collapsed": false,
    "ExecuteTime": {
     "start_time": "2023-09-24T16:08:51.856379Z",
     "end_time": "2023-09-24T16:08:51.856485Z"
    }
   }
  },
  {
   "cell_type": "code",
   "execution_count": 17,
   "outputs": [],
   "source": [
    "\n",
    "SAMPLE_LAG = 100\n",
    "ACF_RANGE = 1001\n",
    "tsla_100 = compute_conditional_aggregate_impact(tsla_df, T=SAMPLE_LAG)\n",
    "ebay_100 = compute_conditional_aggregate_impact(ebay_df, T=SAMPLE_LAG)"
   ],
   "metadata": {
    "collapsed": false,
    "ExecuteTime": {
     "start_time": "2023-09-24T16:08:57.042409Z",
     "end_time": "2023-09-24T16:08:57.042517Z"
    }
   }
  },
  {
   "cell_type": "code",
   "execution_count": 18,
   "outputs": [
    {
     "data": {
      "text/plain": "                     event_timestamp     midprice  vol_imbalance  \\\ncount                           7576  7576.000000    7576.000000   \nmean   2016-06-23 00:30:08.185890304   208.625695       0.000005   \nmin    2016-01-04 10:30:02.487834868   144.830000      -0.000567   \n25%    2016-03-23 14:46:03.794099712   193.805000      -0.000033   \n50%    2016-06-14 14:11:20.921004032   207.175000       0.000004   \n75%    2016-09-30 11:03:42.460367872   223.727500       0.000045   \nmax    2016-12-30 14:46:27.540027150   267.315000       0.000254   \nstd                              NaN    23.926687       0.000079   \n\n       sign_imbalance         sign     daily_R1     daily_vol    daily_num  \\\ncount     7576.000000  7576.000000  7576.000000  7.576000e+03  7576.000000   \nmean        -0.000675    -0.040655     0.024219  3.615686e+05  3590.626980   \nmin         -0.072312    -1.000000    -0.109997  8.077400e+04   962.000000   \n25%         -0.006313    -1.000000     0.018343  2.383570e+05  2475.000000   \n50%         -0.000417    -1.000000     0.023188  3.092610e+05  3171.000000   \n75%          0.005092     1.000000     0.028822  4.393330e+05  4370.000000   \nmax          0.030053     1.000000     0.140840  1.134392e+06  9210.000000   \nstd          0.009934     0.999239     0.020078  1.799494e+05  1582.391274   \n\n              R100  \ncount  7576.000000  \nmean     -0.001173  \nmin     -19.100000  \n25%      -0.365000  \n50%       0.000000  \n75%       0.350000  \nmax      12.135000  \nstd       0.931059  ",
      "text/html": "<div>\n<style scoped>\n    .dataframe tbody tr th:only-of-type {\n        vertical-align: middle;\n    }\n\n    .dataframe tbody tr th {\n        vertical-align: top;\n    }\n\n    .dataframe thead th {\n        text-align: right;\n    }\n</style>\n<table border=\"1\" class=\"dataframe\">\n  <thead>\n    <tr style=\"text-align: right;\">\n      <th></th>\n      <th>event_timestamp</th>\n      <th>midprice</th>\n      <th>vol_imbalance</th>\n      <th>sign_imbalance</th>\n      <th>sign</th>\n      <th>daily_R1</th>\n      <th>daily_vol</th>\n      <th>daily_num</th>\n      <th>R100</th>\n    </tr>\n  </thead>\n  <tbody>\n    <tr>\n      <th>count</th>\n      <td>7576</td>\n      <td>7576.000000</td>\n      <td>7576.000000</td>\n      <td>7576.000000</td>\n      <td>7576.000000</td>\n      <td>7576.000000</td>\n      <td>7.576000e+03</td>\n      <td>7576.000000</td>\n      <td>7576.000000</td>\n    </tr>\n    <tr>\n      <th>mean</th>\n      <td>2016-06-23 00:30:08.185890304</td>\n      <td>208.625695</td>\n      <td>0.000005</td>\n      <td>-0.000675</td>\n      <td>-0.040655</td>\n      <td>0.024219</td>\n      <td>3.615686e+05</td>\n      <td>3590.626980</td>\n      <td>-0.001173</td>\n    </tr>\n    <tr>\n      <th>min</th>\n      <td>2016-01-04 10:30:02.487834868</td>\n      <td>144.830000</td>\n      <td>-0.000567</td>\n      <td>-0.072312</td>\n      <td>-1.000000</td>\n      <td>-0.109997</td>\n      <td>8.077400e+04</td>\n      <td>962.000000</td>\n      <td>-19.100000</td>\n    </tr>\n    <tr>\n      <th>25%</th>\n      <td>2016-03-23 14:46:03.794099712</td>\n      <td>193.805000</td>\n      <td>-0.000033</td>\n      <td>-0.006313</td>\n      <td>-1.000000</td>\n      <td>0.018343</td>\n      <td>2.383570e+05</td>\n      <td>2475.000000</td>\n      <td>-0.365000</td>\n    </tr>\n    <tr>\n      <th>50%</th>\n      <td>2016-06-14 14:11:20.921004032</td>\n      <td>207.175000</td>\n      <td>0.000004</td>\n      <td>-0.000417</td>\n      <td>-1.000000</td>\n      <td>0.023188</td>\n      <td>3.092610e+05</td>\n      <td>3171.000000</td>\n      <td>0.000000</td>\n    </tr>\n    <tr>\n      <th>75%</th>\n      <td>2016-09-30 11:03:42.460367872</td>\n      <td>223.727500</td>\n      <td>0.000045</td>\n      <td>0.005092</td>\n      <td>1.000000</td>\n      <td>0.028822</td>\n      <td>4.393330e+05</td>\n      <td>4370.000000</td>\n      <td>0.350000</td>\n    </tr>\n    <tr>\n      <th>max</th>\n      <td>2016-12-30 14:46:27.540027150</td>\n      <td>267.315000</td>\n      <td>0.000254</td>\n      <td>0.030053</td>\n      <td>1.000000</td>\n      <td>0.140840</td>\n      <td>1.134392e+06</td>\n      <td>9210.000000</td>\n      <td>12.135000</td>\n    </tr>\n    <tr>\n      <th>std</th>\n      <td>NaN</td>\n      <td>23.926687</td>\n      <td>0.000079</td>\n      <td>0.009934</td>\n      <td>0.999239</td>\n      <td>0.020078</td>\n      <td>1.799494e+05</td>\n      <td>1582.391274</td>\n      <td>0.931059</td>\n    </tr>\n  </tbody>\n</table>\n</div>"
     },
     "execution_count": 18,
     "metadata": {},
     "output_type": "execute_result"
    }
   ],
   "source": [
    "tsla_100.describe()"
   ],
   "metadata": {
    "collapsed": false,
    "ExecuteTime": {
     "start_time": "2023-09-24T16:08:57.077092Z",
     "end_time": "2023-09-24T16:08:57.077155Z"
    }
   }
  },
  {
   "cell_type": "code",
   "execution_count": 18,
   "outputs": [],
   "source": [],
   "metadata": {
    "collapsed": false,
    "ExecuteTime": {
     "start_time": "2023-09-24T16:08:57.079816Z",
     "end_time": "2023-09-24T16:08:57.079886Z"
    }
   }
  },
  {
   "cell_type": "code",
   "execution_count": 19,
   "outputs": [
    {
     "ename": "KeyboardInterrupt",
     "evalue": "",
     "output_type": "error",
     "traceback": [
      "\u001B[0;31m---------------------------------------------------------------------------\u001B[0m",
      "\u001B[0;31mKeyboardInterrupt\u001B[0m                         Traceback (most recent call last)",
      "Cell \u001B[0;32mIn[19], line 1\u001B[0m\n\u001B[0;32m----> 1\u001B[0m tsla_df_lo \u001B[38;5;241m=\u001B[39m \u001B[43mpd\u001B[49m\u001B[38;5;241;43m.\u001B[39;49m\u001B[43mread_csv\u001B[49m\u001B[43m(\u001B[49m\u001B[38;5;124;43m'\u001B[39;49m\u001B[38;5;124;43m../data/limit_orders/TSLA-2016-R1-LO.csv\u001B[39;49m\u001B[38;5;124;43m'\u001B[39;49m\u001B[43m,\u001B[49m\u001B[43m \u001B[49m\u001B[43mheader\u001B[49m\u001B[38;5;241;43m=\u001B[39;49m\u001B[38;5;241;43m0\u001B[39;49m\u001B[43m,\u001B[49m\u001B[43mindex_col\u001B[49m\u001B[38;5;241;43m=\u001B[39;49m\u001B[38;5;241;43m0\u001B[39;49m\u001B[43m)\u001B[49m\n",
      "File \u001B[0;32m/opt/anaconda3/envs/py38/lib/python3.8/site-packages/pandas/io/parsers/readers.py:912\u001B[0m, in \u001B[0;36mread_csv\u001B[0;34m(filepath_or_buffer, sep, delimiter, header, names, index_col, usecols, dtype, engine, converters, true_values, false_values, skipinitialspace, skiprows, skipfooter, nrows, na_values, keep_default_na, na_filter, verbose, skip_blank_lines, parse_dates, infer_datetime_format, keep_date_col, date_parser, date_format, dayfirst, cache_dates, iterator, chunksize, compression, thousands, decimal, lineterminator, quotechar, quoting, doublequote, escapechar, comment, encoding, encoding_errors, dialect, on_bad_lines, delim_whitespace, low_memory, memory_map, float_precision, storage_options, dtype_backend)\u001B[0m\n\u001B[1;32m    899\u001B[0m kwds_defaults \u001B[38;5;241m=\u001B[39m _refine_defaults_read(\n\u001B[1;32m    900\u001B[0m     dialect,\n\u001B[1;32m    901\u001B[0m     delimiter,\n\u001B[0;32m   (...)\u001B[0m\n\u001B[1;32m    908\u001B[0m     dtype_backend\u001B[38;5;241m=\u001B[39mdtype_backend,\n\u001B[1;32m    909\u001B[0m )\n\u001B[1;32m    910\u001B[0m kwds\u001B[38;5;241m.\u001B[39mupdate(kwds_defaults)\n\u001B[0;32m--> 912\u001B[0m \u001B[38;5;28;01mreturn\u001B[39;00m \u001B[43m_read\u001B[49m\u001B[43m(\u001B[49m\u001B[43mfilepath_or_buffer\u001B[49m\u001B[43m,\u001B[49m\u001B[43m \u001B[49m\u001B[43mkwds\u001B[49m\u001B[43m)\u001B[49m\n",
      "File \u001B[0;32m/opt/anaconda3/envs/py38/lib/python3.8/site-packages/pandas/io/parsers/readers.py:583\u001B[0m, in \u001B[0;36m_read\u001B[0;34m(filepath_or_buffer, kwds)\u001B[0m\n\u001B[1;32m    580\u001B[0m     \u001B[38;5;28;01mreturn\u001B[39;00m parser\n\u001B[1;32m    582\u001B[0m \u001B[38;5;28;01mwith\u001B[39;00m parser:\n\u001B[0;32m--> 583\u001B[0m     \u001B[38;5;28;01mreturn\u001B[39;00m \u001B[43mparser\u001B[49m\u001B[38;5;241;43m.\u001B[39;49m\u001B[43mread\u001B[49m\u001B[43m(\u001B[49m\u001B[43mnrows\u001B[49m\u001B[43m)\u001B[49m\n",
      "File \u001B[0;32m/opt/anaconda3/envs/py38/lib/python3.8/site-packages/pandas/io/parsers/readers.py:1704\u001B[0m, in \u001B[0;36mTextFileReader.read\u001B[0;34m(self, nrows)\u001B[0m\n\u001B[1;32m   1697\u001B[0m nrows \u001B[38;5;241m=\u001B[39m validate_integer(\u001B[38;5;124m\"\u001B[39m\u001B[38;5;124mnrows\u001B[39m\u001B[38;5;124m\"\u001B[39m, nrows)\n\u001B[1;32m   1698\u001B[0m \u001B[38;5;28;01mtry\u001B[39;00m:\n\u001B[1;32m   1699\u001B[0m     \u001B[38;5;66;03m# error: \"ParserBase\" has no attribute \"read\"\u001B[39;00m\n\u001B[1;32m   1700\u001B[0m     (\n\u001B[1;32m   1701\u001B[0m         index,\n\u001B[1;32m   1702\u001B[0m         columns,\n\u001B[1;32m   1703\u001B[0m         col_dict,\n\u001B[0;32m-> 1704\u001B[0m     ) \u001B[38;5;241m=\u001B[39m \u001B[38;5;28;43mself\u001B[39;49m\u001B[38;5;241;43m.\u001B[39;49m\u001B[43m_engine\u001B[49m\u001B[38;5;241;43m.\u001B[39;49m\u001B[43mread\u001B[49m\u001B[43m(\u001B[49m\u001B[43m  \u001B[49m\u001B[38;5;66;43;03m# type: ignore[attr-defined]\u001B[39;49;00m\n\u001B[1;32m   1705\u001B[0m \u001B[43m        \u001B[49m\u001B[43mnrows\u001B[49m\n\u001B[1;32m   1706\u001B[0m \u001B[43m    \u001B[49m\u001B[43m)\u001B[49m\n\u001B[1;32m   1707\u001B[0m \u001B[38;5;28;01mexcept\u001B[39;00m \u001B[38;5;167;01mException\u001B[39;00m:\n\u001B[1;32m   1708\u001B[0m     \u001B[38;5;28mself\u001B[39m\u001B[38;5;241m.\u001B[39mclose()\n",
      "File \u001B[0;32m/opt/anaconda3/envs/py38/lib/python3.8/site-packages/pandas/io/parsers/c_parser_wrapper.py:234\u001B[0m, in \u001B[0;36mCParserWrapper.read\u001B[0;34m(self, nrows)\u001B[0m\n\u001B[1;32m    232\u001B[0m \u001B[38;5;28;01mtry\u001B[39;00m:\n\u001B[1;32m    233\u001B[0m     \u001B[38;5;28;01mif\u001B[39;00m \u001B[38;5;28mself\u001B[39m\u001B[38;5;241m.\u001B[39mlow_memory:\n\u001B[0;32m--> 234\u001B[0m         chunks \u001B[38;5;241m=\u001B[39m \u001B[38;5;28;43mself\u001B[39;49m\u001B[38;5;241;43m.\u001B[39;49m\u001B[43m_reader\u001B[49m\u001B[38;5;241;43m.\u001B[39;49m\u001B[43mread_low_memory\u001B[49m\u001B[43m(\u001B[49m\u001B[43mnrows\u001B[49m\u001B[43m)\u001B[49m\n\u001B[1;32m    235\u001B[0m         \u001B[38;5;66;03m# destructive to chunks\u001B[39;00m\n\u001B[1;32m    236\u001B[0m         data \u001B[38;5;241m=\u001B[39m _concatenate_chunks(chunks)\n",
      "File \u001B[0;32m/opt/anaconda3/envs/py38/lib/python3.8/site-packages/pandas/_libs/parsers.pyx:814\u001B[0m, in \u001B[0;36mpandas._libs.parsers.TextReader.read_low_memory\u001B[0;34m()\u001B[0m\n",
      "File \u001B[0;32m/opt/anaconda3/envs/py38/lib/python3.8/site-packages/pandas/_libs/parsers.pyx:891\u001B[0m, in \u001B[0;36mpandas._libs.parsers.TextReader._read_rows\u001B[0;34m()\u001B[0m\n",
      "File \u001B[0;32m/opt/anaconda3/envs/py38/lib/python3.8/site-packages/pandas/_libs/parsers.pyx:1036\u001B[0m, in \u001B[0;36mpandas._libs.parsers.TextReader._convert_column_data\u001B[0;34m()\u001B[0m\n",
      "File \u001B[0;32m/opt/anaconda3/envs/py38/lib/python3.8/site-packages/pandas/_libs/parsers.pyx:1090\u001B[0m, in \u001B[0;36mpandas._libs.parsers.TextReader._convert_tokens\u001B[0;34m()\u001B[0m\n",
      "File \u001B[0;32m/opt/anaconda3/envs/py38/lib/python3.8/site-packages/pandas/_libs/parsers.pyx:1165\u001B[0m, in \u001B[0;36mpandas._libs.parsers.TextReader._convert_with_dtype\u001B[0;34m()\u001B[0m\n",
      "File \u001B[0;32m/opt/anaconda3/envs/py38/lib/python3.8/site-packages/pandas/core/dtypes/common.py:1335\u001B[0m, in \u001B[0;36mis_extension_array_dtype\u001B[0;34m(arr_or_dtype)\u001B[0m\n\u001B[1;32m   1326\u001B[0m     \u001B[38;5;66;03m# Note: if other EA dtypes are ever held in HybridBlock, exclude those\u001B[39;00m\n\u001B[1;32m   1327\u001B[0m     \u001B[38;5;66;03m#  here too.\u001B[39;00m\n\u001B[1;32m   1328\u001B[0m     \u001B[38;5;66;03m# NB: need to check DatetimeTZDtype and not is_datetime64tz_dtype\u001B[39;00m\n\u001B[1;32m   1329\u001B[0m     \u001B[38;5;66;03m#  to exclude ArrowTimestampUSDtype\u001B[39;00m\n\u001B[1;32m   1330\u001B[0m     \u001B[38;5;28;01mreturn\u001B[39;00m \u001B[38;5;28misinstance\u001B[39m(dtype, ExtensionDtype) \u001B[38;5;129;01mand\u001B[39;00m \u001B[38;5;129;01mnot\u001B[39;00m \u001B[38;5;28misinstance\u001B[39m(\n\u001B[1;32m   1331\u001B[0m         dtype, (DatetimeTZDtype, PeriodDtype)\n\u001B[1;32m   1332\u001B[0m     )\n\u001B[0;32m-> 1335\u001B[0m \u001B[38;5;28;01mdef\u001B[39;00m \u001B[38;5;21mis_extension_array_dtype\u001B[39m(arr_or_dtype) \u001B[38;5;241m-\u001B[39m\u001B[38;5;241m>\u001B[39m \u001B[38;5;28mbool\u001B[39m:\n\u001B[1;32m   1336\u001B[0m \u001B[38;5;250m    \u001B[39m\u001B[38;5;124;03m\"\"\"\u001B[39;00m\n\u001B[1;32m   1337\u001B[0m \u001B[38;5;124;03m    Check if an object is a pandas extension array type.\u001B[39;00m\n\u001B[1;32m   1338\u001B[0m \n\u001B[0;32m   (...)\u001B[0m\n\u001B[1;32m   1378\u001B[0m \u001B[38;5;124;03m    False\u001B[39;00m\n\u001B[1;32m   1379\u001B[0m \u001B[38;5;124;03m    \"\"\"\u001B[39;00m\n\u001B[1;32m   1380\u001B[0m     dtype \u001B[38;5;241m=\u001B[39m \u001B[38;5;28mgetattr\u001B[39m(arr_or_dtype, \u001B[38;5;124m\"\u001B[39m\u001B[38;5;124mdtype\u001B[39m\u001B[38;5;124m\"\u001B[39m, arr_or_dtype)\n",
      "\u001B[0;31mKeyboardInterrupt\u001B[0m: "
     ]
    }
   ],
   "source": [
    "tsla_df_lo = pd.read_csv('../data/limit_orders/TSLA-2016-R1-LO.csv', header=0,index_col=0)"
   ],
   "metadata": {
    "collapsed": false,
    "ExecuteTime": {
     "start_time": "2023-09-24T12:29:01.446408Z",
     "end_time": "2023-09-24T12:29:06.350602Z"
    }
   }
  },
  {
   "cell_type": "code",
   "execution_count": null,
   "outputs": [],
   "source": [
    "tsla_100_lo = compute_conditional_aggregate_impact(tsla_df_lo, T=SAMPLE_LAG)"
   ],
   "metadata": {
    "collapsed": false,
    "ExecuteTime": {
     "start_time": "2023-09-24T12:29:06.340189Z",
     "end_time": "2023-09-24T12:29:18.017171Z"
    }
   }
  },
  {
   "cell_type": "code",
   "execution_count": null,
   "outputs": [],
   "source": [
    "tsla_100_lo.describe()"
   ],
   "metadata": {
    "collapsed": false,
    "ExecuteTime": {
     "start_time": "2023-09-24T12:29:18.018317Z",
     "end_time": "2023-09-24T12:29:18.064113Z"
    }
   }
  },
  {
   "cell_type": "code",
   "execution_count": null,
   "outputs": [],
   "source": [],
   "metadata": {
    "collapsed": false,
    "ExecuteTime": {
     "start_time": "2023-09-24T12:29:18.062543Z",
     "end_time": "2023-09-24T12:29:18.067763Z"
    }
   }
  },
  {
   "cell_type": "code",
   "execution_count": null,
   "outputs": [],
   "source": [
    "# MO_LAG_INTERVALS = (5, 10, 20, 50, 100)\n",
    "MO_LAG_INTERVALS = np.arange(5, 100, 5)"
   ],
   "metadata": {
    "collapsed": false,
    "ExecuteTime": {
     "start_time": "2023-09-24T12:29:18.065450Z",
     "end_time": "2023-09-24T12:29:18.111633Z"
    }
   }
  },
  {
   "cell_type": "code",
   "execution_count": null,
   "outputs": [],
   "source": [],
   "metadata": {
    "collapsed": false,
    "ExecuteTime": {
     "start_time": "2023-09-24T12:29:18.090583Z",
     "end_time": "2023-09-24T12:29:18.112344Z"
    }
   }
  },
  {
   "cell_type": "markdown",
   "source": [
    "# Test response functions"
   ],
   "metadata": {
    "collapsed": false
   }
  },
  {
   "cell_type": "code",
   "execution_count": null,
   "outputs": [],
   "source": [
    "tsla_df.head()"
   ],
   "metadata": {
    "collapsed": false,
    "ExecuteTime": {
     "start_time": "2023-09-24T12:29:18.093107Z",
     "end_time": "2023-09-24T12:29:18.156520Z"
    }
   }
  },
  {
   "cell_type": "code",
   "execution_count": null,
   "outputs": [],
   "source": [
    "R1 = compute_price_response(tsla_df)\n",
    "R1.head()"
   ],
   "metadata": {
    "collapsed": false,
    "ExecuteTime": {
     "start_time": "2023-09-24T12:29:18.120782Z",
     "end_time": "2023-09-24T12:29:20.842682Z"
    }
   }
  },
  {
   "cell_type": "code",
   "execution_count": null,
   "outputs": [],
   "source": [
    "R1 = compute_price_response(tsla_df, lag=4)\n",
    "R1.head()"
   ],
   "metadata": {
    "collapsed": false,
    "ExecuteTime": {
     "start_time": "2023-09-24T12:29:20.841039Z",
     "end_time": "2023-09-24T12:29:23.690995Z"
    }
   }
  },
  {
   "cell_type": "code",
   "execution_count": 14,
   "outputs": [
    {
     "data": {
      "text/plain": "   midprice  sign  daily_R1        R4\n0   221.410    -1  0.027301 -0.093019\n1   221.305    -1  0.027301 -0.093019\n2   221.200     1  0.027301  0.004429\n3   221.205     1  0.027301  0.017718\n4   221.225     1  0.027301  0.000000",
      "text/html": "<div>\n<style scoped>\n    .dataframe tbody tr th:only-of-type {\n        vertical-align: middle;\n    }\n\n    .dataframe tbody tr th {\n        vertical-align: top;\n    }\n\n    .dataframe thead th {\n        text-align: right;\n    }\n</style>\n<table border=\"1\" class=\"dataframe\">\n  <thead>\n    <tr style=\"text-align: right;\">\n      <th></th>\n      <th>midprice</th>\n      <th>sign</th>\n      <th>daily_R1</th>\n      <th>R4</th>\n    </tr>\n  </thead>\n  <tbody>\n    <tr>\n      <th>0</th>\n      <td>221.410</td>\n      <td>-1</td>\n      <td>0.027301</td>\n      <td>-0.093019</td>\n    </tr>\n    <tr>\n      <th>1</th>\n      <td>221.305</td>\n      <td>-1</td>\n      <td>0.027301</td>\n      <td>-0.093019</td>\n    </tr>\n    <tr>\n      <th>2</th>\n      <td>221.200</td>\n      <td>1</td>\n      <td>0.027301</td>\n      <td>0.004429</td>\n    </tr>\n    <tr>\n      <th>3</th>\n      <td>221.205</td>\n      <td>1</td>\n      <td>0.027301</td>\n      <td>0.017718</td>\n    </tr>\n    <tr>\n      <th>4</th>\n      <td>221.225</td>\n      <td>1</td>\n      <td>0.027301</td>\n      <td>0.000000</td>\n    </tr>\n  </tbody>\n</table>\n</div>"
     },
     "execution_count": 14,
     "metadata": {},
     "output_type": "execute_result"
    }
   ],
   "source": [
    "R1 = compute_price_response(tsla_df, lag=4, normalise=True)\n",
    "R1.head()"
   ],
   "metadata": {
    "collapsed": false,
    "ExecuteTime": {
     "start_time": "2023-09-24T12:29:23.690063Z",
     "end_time": "2023-09-24T12:29:26.528175Z"
    }
   }
  },
  {
   "cell_type": "code",
   "execution_count": 14,
   "outputs": [],
   "source": [],
   "metadata": {
    "collapsed": false,
    "ExecuteTime": {
     "start_time": "2023-09-24T12:29:26.529793Z",
     "end_time": "2023-09-24T12:29:26.531339Z"
    }
   }
  },
  {
   "cell_type": "markdown",
   "source": [
    "#  Fitting process"
   ],
   "metadata": {
    "collapsed": false
   }
  },
  {
   "cell_type": "code",
   "execution_count": 15,
   "outputs": [
    {
     "data": {
      "text/plain": "                 event_timestamp  trade_sign side lob_action  order_executed  \\\n0  2016-01-04 10:30:02.487834868          -1  BID     REMOVE            True   \n1  2016-01-04 10:30:02.594369706          -1  BID     REMOVE            True   \n2  2016-01-04 10:30:02.602151380          -1  BID     REMOVE            True   \n3  2016-01-04 10:30:02.627167275          -1  BID     REMOVE            True   \n4  2016-01-04 10:30:02.895123534          -1  BID     REMOVE            True   \n\n   execution_price  execution_size     ask     bid  midprice  ask_volume  \\\n0           221.36             100  221.46  221.36   221.410       100.0   \n1           221.36             100  221.46  221.36   221.410       100.0   \n2           221.36             100  221.46  221.36   221.410       200.0   \n3           221.27              25  221.36  221.27   221.315       200.0   \n4           221.25             100  221.36  221.25   221.305       100.0   \n\n   bid_volume  price_changing  midprice_change     R1  norm_trade_volume  \n0       100.0            True            0.000 -0.000           0.708122  \n1       100.0            True            0.000 -0.000           0.708122  \n2       100.0            True           -0.095  0.095           0.708122  \n3        25.0            True           -0.010  0.010           0.177031  \n4       100.0            True           -0.090  0.090           0.708122  ",
      "text/html": "<div>\n<style scoped>\n    .dataframe tbody tr th:only-of-type {\n        vertical-align: middle;\n    }\n\n    .dataframe tbody tr th {\n        vertical-align: top;\n    }\n\n    .dataframe thead th {\n        text-align: right;\n    }\n</style>\n<table border=\"1\" class=\"dataframe\">\n  <thead>\n    <tr style=\"text-align: right;\">\n      <th></th>\n      <th>event_timestamp</th>\n      <th>trade_sign</th>\n      <th>side</th>\n      <th>lob_action</th>\n      <th>order_executed</th>\n      <th>execution_price</th>\n      <th>execution_size</th>\n      <th>ask</th>\n      <th>bid</th>\n      <th>midprice</th>\n      <th>ask_volume</th>\n      <th>bid_volume</th>\n      <th>price_changing</th>\n      <th>midprice_change</th>\n      <th>R1</th>\n      <th>norm_trade_volume</th>\n    </tr>\n  </thead>\n  <tbody>\n    <tr>\n      <th>0</th>\n      <td>2016-01-04 10:30:02.487834868</td>\n      <td>-1</td>\n      <td>BID</td>\n      <td>REMOVE</td>\n      <td>True</td>\n      <td>221.36</td>\n      <td>100</td>\n      <td>221.46</td>\n      <td>221.36</td>\n      <td>221.410</td>\n      <td>100.0</td>\n      <td>100.0</td>\n      <td>True</td>\n      <td>0.000</td>\n      <td>-0.000</td>\n      <td>0.708122</td>\n    </tr>\n    <tr>\n      <th>1</th>\n      <td>2016-01-04 10:30:02.594369706</td>\n      <td>-1</td>\n      <td>BID</td>\n      <td>REMOVE</td>\n      <td>True</td>\n      <td>221.36</td>\n      <td>100</td>\n      <td>221.46</td>\n      <td>221.36</td>\n      <td>221.410</td>\n      <td>100.0</td>\n      <td>100.0</td>\n      <td>True</td>\n      <td>0.000</td>\n      <td>-0.000</td>\n      <td>0.708122</td>\n    </tr>\n    <tr>\n      <th>2</th>\n      <td>2016-01-04 10:30:02.602151380</td>\n      <td>-1</td>\n      <td>BID</td>\n      <td>REMOVE</td>\n      <td>True</td>\n      <td>221.36</td>\n      <td>100</td>\n      <td>221.46</td>\n      <td>221.36</td>\n      <td>221.410</td>\n      <td>200.0</td>\n      <td>100.0</td>\n      <td>True</td>\n      <td>-0.095</td>\n      <td>0.095</td>\n      <td>0.708122</td>\n    </tr>\n    <tr>\n      <th>3</th>\n      <td>2016-01-04 10:30:02.627167275</td>\n      <td>-1</td>\n      <td>BID</td>\n      <td>REMOVE</td>\n      <td>True</td>\n      <td>221.27</td>\n      <td>25</td>\n      <td>221.36</td>\n      <td>221.27</td>\n      <td>221.315</td>\n      <td>200.0</td>\n      <td>25.0</td>\n      <td>True</td>\n      <td>-0.010</td>\n      <td>0.010</td>\n      <td>0.177031</td>\n    </tr>\n    <tr>\n      <th>4</th>\n      <td>2016-01-04 10:30:02.895123534</td>\n      <td>-1</td>\n      <td>BID</td>\n      <td>REMOVE</td>\n      <td>True</td>\n      <td>221.25</td>\n      <td>100</td>\n      <td>221.36</td>\n      <td>221.25</td>\n      <td>221.305</td>\n      <td>100.0</td>\n      <td>100.0</td>\n      <td>True</td>\n      <td>-0.090</td>\n      <td>0.090</td>\n      <td>0.708122</td>\n    </tr>\n  </tbody>\n</table>\n</div>"
     },
     "execution_count": 15,
     "metadata": {},
     "output_type": "execute_result"
    }
   ],
   "source": [
    "tsla_df.head()"
   ],
   "metadata": {
    "collapsed": false,
    "ExecuteTime": {
     "start_time": "2023-09-24T12:29:26.532413Z",
     "end_time": "2023-09-24T12:29:26.604683Z"
    }
   }
  },
  {
   "cell_type": "code",
   "execution_count": 16,
   "outputs": [
    {
     "data": {
      "text/plain": "'\\nApproach I: fit scaling form on all data to find exponents and then use them for renormalisation\\n\\n\\nApproach II: produce series of RN and QN by fitting scaling funtion for different N, then use powerlaw library to fit power law and determine scale factors; finally, fit known scaling form to find exponents and then use them for renormalisation\\n\\n'"
     },
     "execution_count": 16,
     "metadata": {},
     "output_type": "execute_result"
    }
   ],
   "source": [
    "\"\"\"\n",
    "Approach I: fit scaling form on all data to find exponents and then use them for renormalisation\n",
    "\n",
    "\n",
    "Approach II: produce series of RN and QN by fitting scaling funtion for different N, then use powerlaw library to fit power law and determine scale factors; finally, fit known scaling form to find exponents and then use them for renormalisation\n",
    "\n",
    "\"\"\""
   ],
   "metadata": {
    "collapsed": false,
    "ExecuteTime": {
     "start_time": "2023-09-24T12:29:26.564554Z",
     "end_time": "2023-09-24T12:29:26.607741Z"
    }
   }
  },
  {
   "cell_type": "markdown",
   "source": [
    "## Approach I"
   ],
   "metadata": {
    "collapsed": false
   }
  },
  {
   "cell_type": "code",
   "execution_count": 8,
   "outputs": [],
   "source": [
    "from liquidity.response_functions.fitting import compute_scaling_exponents, renormalise"
   ],
   "metadata": {
    "collapsed": false,
    "ExecuteTime": {
     "start_time": "2023-09-24T18:03:59.939028Z",
     "end_time": "2023-09-24T18:03:59.939091Z"
    }
   }
  },
  {
   "cell_type": "code",
   "execution_count": 9,
   "outputs": [],
   "source": [
    "MO_LAG_INTERVALS = [5, 10, 20, 50, 100]\n",
    "# MO_LAG_INTERVALS = np.arange(5, 100, 5)"
   ],
   "metadata": {
    "collapsed": false,
    "ExecuteTime": {
     "start_time": "2023-09-24T18:04:00.084953Z",
     "end_time": "2023-09-24T18:04:00.085036Z"
    }
   }
  },
  {
   "cell_type": "code",
   "execution_count": 10,
   "outputs": [],
   "source": [
    "popt_tsla, pcov_tsla, fit_func, data_norm = compute_scaling_exponents(tsla_df, MO_LAG_INTERVALS)"
   ],
   "metadata": {
    "collapsed": false,
    "ExecuteTime": {
     "start_time": "2023-09-24T18:04:46.590703Z",
     "end_time": "2023-09-24T18:04:46.590824Z"
    }
   }
  },
  {
   "cell_type": "code",
   "execution_count": 11,
   "outputs": [
    {
     "data": {
      "text/plain": "array([6.65865960e-01, 1.14867888e+00, 4.24659569e-01, 2.44499043e+02,\n       1.04510183e+05])"
     },
     "execution_count": 11,
     "metadata": {},
     "output_type": "execute_result"
    }
   ],
   "source": [
    "popt_tsla"
   ],
   "metadata": {
    "collapsed": false,
    "ExecuteTime": {
     "start_time": "2023-09-24T18:04:46.656547Z",
     "end_time": "2023-09-24T18:04:46.656624Z"
    }
   }
  },
  {
   "cell_type": "code",
   "execution_count": 12,
   "outputs": [
    {
     "data": {
      "text/plain": "array([6.65865960e-01, 1.14867888e+00, 4.24659569e-01, 2.44499043e+02,\n       1.04510183e+05])"
     },
     "execution_count": 12,
     "metadata": {},
     "output_type": "execute_result"
    }
   ],
   "source": [
    "popt_tsla"
   ],
   "metadata": {
    "collapsed": false,
    "ExecuteTime": {
     "start_time": "2023-09-24T18:04:46.682807Z",
     "end_time": "2023-09-24T18:04:46.682838Z"
    }
   }
  },
  {
   "cell_type": "code",
   "execution_count": 13,
   "outputs": [],
   "source": [
    "from liquidity.util.fitting_util import get_agg_features, bin_data_into_quantiles\n",
    "binned_data = []\n",
    "\n",
    "for T in MO_LAG_INTERVALS:\n",
    "    result = data_norm[data_norm[\"T\"] == T][[\"vol_imbalance\", \"T\", \"R\"]]\n",
    "    binned_data.append(bin_data_into_quantiles(result, q=31))\n",
    "data_binned = pd.concat(binned_data)"
   ],
   "metadata": {
    "collapsed": false,
    "ExecuteTime": {
     "start_time": "2023-09-24T18:04:46.755433Z",
     "end_time": "2023-09-24T18:04:46.755524Z"
    }
   }
  },
  {
   "cell_type": "code",
   "execution_count": 14,
   "outputs": [
    {
     "name": "stdout",
     "output_type": "stream",
     "text": [
      "(5, 1001)\n",
      "(5, 1001)\n"
     ]
    }
   ],
   "source": [
    "n = 1001\n",
    "qmax = 0.0005\n",
    "\n",
    "# T matrix matching with x-axis\n",
    "T_array = np.array(MO_LAG_INTERVALS)\n",
    "T_mat = np.transpose(np.tile(T_array, (n, 1)))\n",
    "\n",
    "# repeat x-axis sample for\n",
    "q = np.linspace(-qmax, qmax, n)\n",
    "q_mat = np.tile(q, (len(T_array), 1))\n",
    "\n",
    "# function to feed in func need to be flatten\n",
    "q_data = q_mat.flatten()\n",
    "T_data = T_mat.flatten()\n",
    "qT_data = np.array( [q_data, T_data] )\n",
    "qT_data.shape\n",
    "\n",
    "print(T_mat.shape)\n",
    "print(q_mat.shape)"
   ],
   "metadata": {
    "collapsed": false,
    "ExecuteTime": {
     "start_time": "2023-09-24T18:04:46.793748Z",
     "end_time": "2023-09-24T18:04:46.793859Z"
    }
   }
  },
  {
   "cell_type": "code",
   "execution_count": 18,
   "outputs": [
    {
     "data": {
      "text/plain": "<Figure size 400x400 with 1 Axes>",
      "image/png": "[encoded data removed]"
     },
     "metadata": {},
     "output_type": "display_data"
    }
   ],
   "source": [
    "plt.figure(figsize=(4, 4))\n",
    "ax = sns.lineplot(x='vol_imbalance', y='R', data=data_binned, style=\"T\",\n",
    "             markers=True, legend='brief')\n",
    "ax.set(xlabel='Normalized Order Flow Imbalance',\n",
    "           ylabel='Normalized Aggregated Impact')\n",
    "# plt.xlim(-0.0005, 0.0005)\n",
    "# plt.ylim(-0.5, 0.5)\n",
    "plt.show()"
   ],
   "metadata": {
    "collapsed": false,
    "ExecuteTime": {
     "start_time": "2023-09-24T18:14:14.547138Z",
     "end_time": "2023-09-24T18:14:14.547193Z"
    }
   }
  },
  {
   "cell_type": "code",
   "execution_count": 21,
   "outputs": [
    {
     "data": {
      "text/plain": "<Axes: xlabel='x_renormalized', ylabel='y_renormalized'>"
     },
     "execution_count": 21,
     "metadata": {},
     "output_type": "execute_result"
    },
    {
     "data": {
      "text/plain": "<Figure size 640x480 with 1 Axes>",
      "image/png": "[encoded data removed]"
     },
     "metadata": {},
     "output_type": "display_data"
    }
   ],
   "source": [
    "chi, kappa, alpha, beta, gamma = popt_tsla\n",
    "data_binned['x_renormalized'] = data_binned['vol_imbalance'] / np.power(data_binned['T'], kappa)\n",
    "data_binned['y_renormalized'] = data_binned['R'] / np.power(data_binned['T'], chi)\n",
    "\n",
    "sns.lineplot(x='x_renormalized', y='y_renormalized', data=data_binned, style=\"T\",\n",
    "             markers=True, legend='brief')\n"
   ],
   "metadata": {
    "collapsed": false,
    "ExecuteTime": {
     "start_time": "2023-09-24T18:15:53.669549Z",
     "end_time": "2023-09-24T18:15:53.669625Z"
    }
   }
  },
  {
   "cell_type": "code",
   "execution_count": 16,
   "outputs": [],
   "source": [],
   "metadata": {
    "collapsed": false,
    "ExecuteTime": {
     "start_time": "2023-09-24T18:04:53.448384Z",
     "end_time": "2023-09-24T18:04:53.448449Z"
    }
   }
  },
  {
   "cell_type": "code",
   "execution_count": 31,
   "outputs": [
    {
     "data": {
      "text/plain": "                   event_timestamp  midprice  vol_imbalance  sign_imbalance  \\\n0    2016-01-04 10:30:02.487834868   221.410  -5.977935e-06       -0.000832   \n1    2016-01-04 10:30:24.785387196   221.215   3.396173e-06        0.000499   \n2    2016-01-04 10:30:39.776241277   221.205   6.132737e-06        0.000832   \n3    2016-01-04 10:30:39.777548678   221.225   8.839672e-07        0.000166   \n4    2016-01-04 10:30:53.912685027   221.225   1.904166e-06        0.000499   \n...                            ...       ...            ...             ...   \n7571 2016-12-30 14:01:37.565364583   212.100   5.134751e-06        0.011981   \n7572 2016-12-30 14:12:02.961828752   212.400   6.712785e-05        0.016773   \n7573 2016-12-30 14:30:36.797804682   212.760   6.228892e-05        0.020767   \n7574 2016-12-30 14:35:58.265269403   213.365  -2.854389e-04       -0.011182   \n7575 2016-12-30 14:46:27.540027150   212.525   1.088346e-06        0.010383   \n\n      sign  daily_R1  daily_vol  daily_num      R    T  \n0       -1  0.027301     503438       6009 -0.195    5  \n1       -1  0.027301     503438       6009 -0.010    5  \n2        1  0.027301     503438       6009  0.020    5  \n3        1  0.027301     503438       6009  0.000    5  \n4       -1  0.027301     503438       6009  0.010    5  \n...    ...       ...        ...        ...    ...  ...  \n7571     1  0.019189     219620       2504  0.300  100  \n7572     1  0.019189     219620       2504  0.360  100  \n7573     1  0.019189     219620       2504  0.605  100  \n7574     1  0.019189     219620       2504 -0.840  100  \n7575    -1  0.019189     219620       2504  0.000  100  \n\n[287887 rows x 10 columns]",
      "text/html": "<div>\n<style scoped>\n    .dataframe tbody tr th:only-of-type {\n        vertical-align: middle;\n    }\n\n    .dataframe tbody tr th {\n        vertical-align: top;\n    }\n\n    .dataframe thead th {\n        text-align: right;\n    }\n</style>\n<table border=\"1\" class=\"dataframe\">\n  <thead>\n    <tr style=\"text-align: right;\">\n      <th></th>\n      <th>event_timestamp</th>\n      <th>midprice</th>\n      <th>vol_imbalance</th>\n      <th>sign_imbalance</th>\n      <th>sign</th>\n      <th>daily_R1</th>\n      <th>daily_vol</th>\n      <th>daily_num</th>\n      <th>R</th>\n      <th>T</th>\n    </tr>\n  </thead>\n  <tbody>\n    <tr>\n      <th>0</th>\n      <td>2016-01-04 10:30:02.487834868</td>\n      <td>221.410</td>\n      <td>-5.977935e-06</td>\n      <td>-0.000832</td>\n      <td>-1</td>\n      <td>0.027301</td>\n      <td>503438</td>\n      <td>6009</td>\n      <td>-0.195</td>\n      <td>5</td>\n    </tr>\n    <tr>\n      <th>1</th>\n      <td>2016-01-04 10:30:24.785387196</td>\n      <td>221.215</td>\n      <td>3.396173e-06</td>\n      <td>0.000499</td>\n      <td>-1</td>\n      <td>0.027301</td>\n      <td>503438</td>\n      <td>6009</td>\n      <td>-0.010</td>\n      <td>5</td>\n    </tr>\n    <tr>\n      <th>2</th>\n      <td>2016-01-04 10:30:39.776241277</td>\n      <td>221.205</td>\n      <td>6.132737e-06</td>\n      <td>0.000832</td>\n      <td>1</td>\n      <td>0.027301</td>\n      <td>503438</td>\n      <td>6009</td>\n      <td>0.020</td>\n      <td>5</td>\n    </tr>\n    <tr>\n      <th>3</th>\n      <td>2016-01-04 10:30:39.777548678</td>\n      <td>221.225</td>\n      <td>8.839672e-07</td>\n      <td>0.000166</td>\n      <td>1</td>\n      <td>0.027301</td>\n      <td>503438</td>\n      <td>6009</td>\n      <td>0.000</td>\n      <td>5</td>\n    </tr>\n    <tr>\n      <th>4</th>\n      <td>2016-01-04 10:30:53.912685027</td>\n      <td>221.225</td>\n      <td>1.904166e-06</td>\n      <td>0.000499</td>\n      <td>-1</td>\n      <td>0.027301</td>\n      <td>503438</td>\n      <td>6009</td>\n      <td>0.010</td>\n      <td>5</td>\n    </tr>\n    <tr>\n      <th>...</th>\n      <td>...</td>\n      <td>...</td>\n      <td>...</td>\n      <td>...</td>\n      <td>...</td>\n      <td>...</td>\n      <td>...</td>\n      <td>...</td>\n      <td>...</td>\n      <td>...</td>\n    </tr>\n    <tr>\n      <th>7571</th>\n      <td>2016-12-30 14:01:37.565364583</td>\n      <td>212.100</td>\n      <td>5.134751e-06</td>\n      <td>0.011981</td>\n      <td>1</td>\n      <td>0.019189</td>\n      <td>219620</td>\n      <td>2504</td>\n      <td>0.300</td>\n      <td>100</td>\n    </tr>\n    <tr>\n      <th>7572</th>\n      <td>2016-12-30 14:12:02.961828752</td>\n      <td>212.400</td>\n      <td>6.712785e-05</td>\n      <td>0.016773</td>\n      <td>1</td>\n      <td>0.019189</td>\n      <td>219620</td>\n      <td>2504</td>\n      <td>0.360</td>\n      <td>100</td>\n    </tr>\n    <tr>\n      <th>7573</th>\n      <td>2016-12-30 14:30:36.797804682</td>\n      <td>212.760</td>\n      <td>6.228892e-05</td>\n      <td>0.020767</td>\n      <td>1</td>\n      <td>0.019189</td>\n      <td>219620</td>\n      <td>2504</td>\n      <td>0.605</td>\n      <td>100</td>\n    </tr>\n    <tr>\n      <th>7574</th>\n      <td>2016-12-30 14:35:58.265269403</td>\n      <td>213.365</td>\n      <td>-2.854389e-04</td>\n      <td>-0.011182</td>\n      <td>1</td>\n      <td>0.019189</td>\n      <td>219620</td>\n      <td>2504</td>\n      <td>-0.840</td>\n      <td>100</td>\n    </tr>\n    <tr>\n      <th>7575</th>\n      <td>2016-12-30 14:46:27.540027150</td>\n      <td>212.525</td>\n      <td>1.088346e-06</td>\n      <td>0.010383</td>\n      <td>-1</td>\n      <td>0.019189</td>\n      <td>219620</td>\n      <td>2504</td>\n      <td>0.000</td>\n      <td>100</td>\n    </tr>\n  </tbody>\n</table>\n<p>287887 rows × 10 columns</p>\n</div>"
     },
     "execution_count": 31,
     "metadata": {},
     "output_type": "execute_result"
    }
   ],
   "source": [
    "data_norm"
   ],
   "metadata": {
    "collapsed": false,
    "ExecuteTime": {
     "start_time": "2023-09-24T16:20:37.035102Z",
     "end_time": "2023-09-24T16:20:37.035183Z"
    }
   }
  },
  {
   "cell_type": "code",
   "execution_count": null,
   "outputs": [],
   "source": [],
   "metadata": {
    "collapsed": false
   }
  },
  {
   "cell_type": "code",
   "execution_count": null,
   "outputs": [],
   "source": [],
   "metadata": {
    "collapsed": false
   }
  },
  {
   "cell_type": "code",
   "execution_count": null,
   "outputs": [],
   "source": [],
   "metadata": {
    "collapsed": false
   }
  },
  {
   "cell_type": "code",
   "execution_count": 33,
   "outputs": [
    {
     "name": "stdout",
     "output_type": "stream",
     "text": [
      "Optimal parameters not found: The maximum number of function evaluations is exceeded\n",
      "re-trying\n",
      "Optimal parameters not found: The maximum number of function evaluations is exceeded\n",
      "Failed to fit for lag 5\n"
     ]
    },
    {
     "name": "stderr",
     "output_type": "stream",
     "text": [
      "/Users/ana_bugaenko/workspace/another_workspace/liquidity/liquidity/response_functions/fitting.py:21: RuntimeWarning: overflow encountered in power\n",
      "  return x / (1 + abs(x) ** alpha) ** (beta / alpha)\n",
      "/Users/ana_bugaenko/workspace/another_workspace/liquidity/liquidity/response_functions/fitting.py:21: RuntimeWarning: overflow encountered in power\n",
      "  return x / (1 + abs(x) ** alpha) ** (beta / alpha)\n",
      "/Users/ana_bugaenko/workspace/another_workspace/liquidity/liquidity/response_functions/fitting.py:21: RuntimeWarning: overflow encountered in power\n",
      "  return x / (1 + abs(x) ** alpha) ** (beta / alpha)\n"
     ]
    }
   ],
   "source": [
    "renor_results = renormalise(data_norm, popt_tsla, MO_LAG_INTERVALS)"
   ],
   "metadata": {
    "collapsed": false,
    "ExecuteTime": {
     "start_time": "2023-09-24T12:47:40.645290Z",
     "end_time": "2023-09-24T12:47:41.186576Z"
    }
   }
  },
  {
   "cell_type": "code",
   "execution_count": 34,
   "outputs": [
    {
     "data": {
      "text/plain": "{10: <liquidity.response_functions.fitting.FitResult at 0x7fbc29360c10>,\n 20: <liquidity.response_functions.fitting.FitResult at 0x7fbc80dfc940>,\n 50: <liquidity.response_functions.fitting.FitResult at 0x7fbc80dfcf70>,\n 100: <liquidity.response_functions.fitting.FitResult at 0x7fbcb4e7b550>,\n 150: <liquidity.response_functions.fitting.FitResult at 0x7fbcc16192b0>,\n 200: <liquidity.response_functions.fitting.FitResult at 0x7fbcb4e97400>}"
     },
     "execution_count": 34,
     "metadata": {},
     "output_type": "execute_result"
    }
   ],
   "source": [
    "renor_results"
   ],
   "metadata": {
    "collapsed": false,
    "ExecuteTime": {
     "start_time": "2023-09-24T12:47:45.706271Z",
     "end_time": "2023-09-24T12:47:45.734737Z"
    }
   }
  },
  {
   "cell_type": "code",
   "execution_count": null,
   "outputs": [],
   "source": [
    "fit_param"
   ],
   "metadata": {
    "collapsed": false,
    "ExecuteTime": {
     "start_time": "2023-09-24T12:32:56.493453Z",
     "end_time": "2023-09-24T12:32:56.563818Z"
    }
   }
  },
  {
   "cell_type": "code",
   "execution_count": 38,
   "outputs": [
    {
     "data": {
      "text/plain": "<Figure size 840x800 with 1 Axes>",
      "image/png": "[encoded data removed]"
     },
     "metadata": {},
     "output_type": "display_data"
    }
   ],
   "source": [
    "from liquidity.util.plotting.plot_aggrate_impact import plot_collapsed_fitted_func\n",
    "\n",
    "fit_param = {T: fit_result.params for T, fit_result in renor_results.items()}\n",
    "plot_collapsed_fitted_func(fit_param, line_color=\"#624B00\", markers_color=\"#FCC400\",\n",
    "                           xlim=0.0005, ylim=0.01,\n",
    "                           durations=MO_LAG_INTERVALS)"
   ],
   "metadata": {
    "collapsed": false,
    "ExecuteTime": {
     "start_time": "2023-09-24T12:49:27.305683Z",
     "end_time": "2023-09-24T12:49:31.666641Z"
    }
   }
  },
  {
   "cell_type": "code",
   "execution_count": null,
   "outputs": [],
   "source": [],
   "metadata": {
    "collapsed": false,
    "ExecuteTime": {
     "start_time": "2023-09-17T17:06:28.071092Z",
     "end_time": "2023-09-17T17:06:28.071104Z"
    }
   }
  },
  {
   "cell_type": "markdown",
   "source": [
    "## Assess goodness of fit"
   ],
   "metadata": {
    "collapsed": false
   }
  },
  {
   "cell_type": "code",
   "execution_count": null,
   "outputs": [],
   "source": [
    "\"\"\"\n",
    "1. For observations at each T assess how good the master curve fits the data.\n",
    "2. Take aggregate (mean/max) of MSE - choose outlier resilient methodand Nonlinearity\n",
    "\n",
    "\"\"\""
   ],
   "metadata": {
    "collapsed": false
   }
  },
  {
   "cell_type": "markdown",
   "source": [
    "### Compute residuals for each T"
   ],
   "metadata": {
    "collapsed": false
   }
  },
  {
   "cell_type": "code",
   "execution_count": 39,
   "outputs": [
    {
     "name": "stderr",
     "output_type": "stream",
     "text": [
      "/Users/ana_bugaenko/workspace/another_workspace/liquidity/liquidity/util/fitting_util.py:13: SettingWithCopyWarning: \n",
      "A value is trying to be set on a copy of a slice from a DataFrame.\n",
      "Try using .loc[row_indexer,col_indexer] = value instead\n",
      "\n",
      "See the caveats in the documentation: https://pandas.pydata.org/pandas-docs/stable/user_guide/indexing.html#returning-a-view-versus-a-copy\n",
      "  df[\"x_bin\"] = binned_x\n",
      "/Users/ana_bugaenko/workspace/another_workspace/liquidity/liquidity/util/fitting_util.py:13: SettingWithCopyWarning: \n",
      "A value is trying to be set on a copy of a slice from a DataFrame.\n",
      "Try using .loc[row_indexer,col_indexer] = value instead\n",
      "\n",
      "See the caveats in the documentation: https://pandas.pydata.org/pandas-docs/stable/user_guide/indexing.html#returning-a-view-versus-a-copy\n",
      "  df[\"x_bin\"] = binned_x\n",
      "/Users/ana_bugaenko/workspace/another_workspace/liquidity/liquidity/util/fitting_util.py:13: SettingWithCopyWarning: \n",
      "A value is trying to be set on a copy of a slice from a DataFrame.\n",
      "Try using .loc[row_indexer,col_indexer] = value instead\n",
      "\n",
      "See the caveats in the documentation: https://pandas.pydata.org/pandas-docs/stable/user_guide/indexing.html#returning-a-view-versus-a-copy\n",
      "  df[\"x_bin\"] = binned_x\n",
      "/Users/ana_bugaenko/workspace/another_workspace/liquidity/liquidity/util/fitting_util.py:13: SettingWithCopyWarning: \n",
      "A value is trying to be set on a copy of a slice from a DataFrame.\n",
      "Try using .loc[row_indexer,col_indexer] = value instead\n",
      "\n",
      "See the caveats in the documentation: https://pandas.pydata.org/pandas-docs/stable/user_guide/indexing.html#returning-a-view-versus-a-copy\n",
      "  df[\"x_bin\"] = binned_x\n",
      "/Users/ana_bugaenko/workspace/another_workspace/liquidity/liquidity/util/fitting_util.py:13: SettingWithCopyWarning: \n",
      "A value is trying to be set on a copy of a slice from a DataFrame.\n",
      "Try using .loc[row_indexer,col_indexer] = value instead\n",
      "\n",
      "See the caveats in the documentation: https://pandas.pydata.org/pandas-docs/stable/user_guide/indexing.html#returning-a-view-versus-a-copy\n",
      "  df[\"x_bin\"] = binned_x\n",
      "/Users/ana_bugaenko/workspace/another_workspace/liquidity/liquidity/util/fitting_util.py:13: SettingWithCopyWarning: \n",
      "A value is trying to be set on a copy of a slice from a DataFrame.\n",
      "Try using .loc[row_indexer,col_indexer] = value instead\n",
      "\n",
      "See the caveats in the documentation: https://pandas.pydata.org/pandas-docs/stable/user_guide/indexing.html#returning-a-view-versus-a-copy\n",
      "  df[\"x_bin\"] = binned_x\n"
     ]
    }
   ],
   "source": [
    "from liquidity.util.fitting_util import bin_data_into_quantiles\n",
    "from liquidity.response_functions.fitting import scaling_form\n",
    "\n",
    "residual_dict = {}\n",
    "for T in MO_LAG_INTERVALS:\n",
    "    if T not in fit_param.keys():\n",
    "        continue\n",
    "    data = data_norm[data_norm['T'] == T]\n",
    "\n",
    "    binned_data = bin_data_into_quantiles(data)\n",
    "    x_values = binned_data[['vol_imbalance', 'T']].values.T\n",
    "    y_values = binned_data['R'].values\n",
    "\n",
    "    params = fit_param[T][0]\n",
    "    fitted_values = scaling_form(x_values, *params)\n",
    "    residuals = y_values - fitted_values\n",
    "    residual_dict[T] = residuals"
   ],
   "metadata": {
    "collapsed": false,
    "ExecuteTime": {
     "start_time": "2023-09-24T12:54:06.970014Z",
     "end_time": "2023-09-24T12:54:07.075438Z"
    }
   }
  },
  {
   "cell_type": "code",
   "execution_count": 40,
   "outputs": [
    {
     "data": {
      "text/plain": "dict_keys([10, 20, 50, 100, 150, 200])"
     },
     "execution_count": 40,
     "metadata": {},
     "output_type": "execute_result"
    }
   ],
   "source": [
    "residual_dict.keys()"
   ],
   "metadata": {
    "collapsed": false,
    "ExecuteTime": {
     "start_time": "2023-09-24T12:54:09.359346Z",
     "end_time": "2023-09-24T12:54:09.387599Z"
    }
   }
  },
  {
   "cell_type": "code",
   "execution_count": 41,
   "outputs": [
    {
     "name": "stdout",
     "output_type": "stream",
     "text": [
      "For T=10 \n",
      " R2 = 0.9999911882417589, \n",
      " Adj R2 = 0.9999911877764822 \n",
      " \n",
      "\n",
      "For T=20 \n",
      " R2 = 0.9999662659640162, \n",
      " Adj R2 = 0.9999662624013457 \n",
      " \n",
      "\n",
      "For T=50 \n",
      " R2 = 0.9995380179534675, \n",
      " Adj R2 = 0.9995378959538513 \n",
      " \n",
      "\n",
      "For T=100 \n",
      " R2 = 0.9989772672418619, \n",
      " Adj R2 = 0.9989767268996307 \n",
      " \n",
      "\n",
      "For T=150 \n",
      " R2 = 0.9984990649655742, \n",
      " Adj R2 = 0.9984978751637237 \n",
      " \n",
      "\n",
      "For T=200 \n",
      " R2 = 0.9978397090923522, \n",
      " Adj R2 = 0.9978374248830922 \n",
      " \n",
      "\n"
     ]
    }
   ],
   "source": [
    "from liquidity.util.goodness_of_fit import compute_rsquared\n",
    "for T in residual_dict.keys():\n",
    "    r2, ar2 = compute_rsquared(residual_dict[T], data_norm[data_norm['T'] == T]['R'].values, fit_param[T][0])\n",
    "    print(f\"For T={T} \\n R2 = {r2}, \\n Adj R2 = {ar2} \\n \\n\")"
   ],
   "metadata": {
    "collapsed": false,
    "ExecuteTime": {
     "start_time": "2023-09-24T12:54:11.904237Z",
     "end_time": "2023-09-24T12:54:11.952090Z"
    }
   }
  },
  {
   "cell_type": "code",
   "execution_count": null,
   "outputs": [],
   "source": [],
   "metadata": {
    "collapsed": false
   }
  },
  {
   "cell_type": "code",
   "execution_count": null,
   "outputs": [],
   "source": [],
   "metadata": {
    "collapsed": false
   }
  },
  {
   "cell_type": "code",
   "execution_count": null,
   "outputs": [],
   "source": [],
   "metadata": {
    "collapsed": false
   }
  }
 ],
 "metadata": {
  "kernelspec": {
   "display_name": "Python 3",
   "language": "python",
   "name": "python3"
  },
  "language_info": {
   "codemirror_mode": {
    "name": "ipython",
    "version": 2
   },
   "file_extension": ".py",
   "mimetype": "text/x-python",
   "name": "python",
   "nbconvert_exporter": "python",
   "pygments_lexer": "ipython2",
   "version": "2.7.6"
  }
 },
 "nbformat": 4,
 "nbformat_minor": 0
}
