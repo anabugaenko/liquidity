{
 "cells": [
  {
   "cell_type": "code",
   "execution_count": 1,
   "outputs": [],
   "source": [
    "import pandas as pd\n",
    "from matplotlib import pyplot as plt\n",
    "from matplotlib import rc\n",
    "import pylab\n",
    "import seaborn as sns"
   ],
   "metadata": {
    "collapsed": false,
    "ExecuteTime": {
     "start_time": "2023-08-28T12:26:26.908318Z",
     "end_time": "2023-08-28T12:26:26.913239Z"
    }
   }
  },
  {
   "cell_type": "code",
   "execution_count": null,
   "outputs": [],
   "source": [],
   "metadata": {
    "collapsed": false
   }
  },
  {
   "cell_type": "code",
   "execution_count": 7,
   "outputs": [],
   "source": [
    "%load_ext autoreload\n",
    "%autoreload 2"
   ],
   "metadata": {
    "collapsed": false,
    "ExecuteTime": {
     "start_time": "2023-08-28T12:27:49.501916Z",
     "end_time": "2023-08-28T12:27:49.644645Z"
    }
   }
  },
  {
   "cell_type": "markdown",
   "source": [
    "## Testing price response functions"
   ],
   "metadata": {
    "collapsed": false
   }
  },
  {
   "cell_type": "code",
   "execution_count": 12,
   "outputs": [],
   "source": [
    "tsla_df = pd.read_csv('../data/market_orders/TSLA-2016-R1.csv', header=0,index_col=0)\n",
    "ebay_df = pd.read_csv('../data/market_orders/EBAY-2016-R1.csv', header=0,index_col=0)"
   ],
   "metadata": {
    "collapsed": false,
    "ExecuteTime": {
     "start_time": "2023-08-28T12:36:35.268350Z",
     "end_time": "2023-08-28T12:36:37.019386Z"
    }
   }
  },
  {
   "cell_type": "code",
   "execution_count": 28,
   "outputs": [],
   "source": [
    "from liquidity.response_functions.trades_impact import get_aggregate_trade_response_features"
   ],
   "metadata": {
    "collapsed": false,
    "ExecuteTime": {
     "start_time": "2023-08-28T12:57:58.790410Z",
     "end_time": "2023-08-28T12:57:58.971193Z"
    }
   }
  },
  {
   "cell_type": "code",
   "execution_count": 29,
   "outputs": [],
   "source": [
    "SAMPLE_LAG = 100\n",
    "ACF_RANGE = 1001\n",
    "tsla_100 = get_aggregate_trade_response_features(tsla_df, T=SAMPLE_LAG)\n",
    "ebay_100 = get_aggregate_trade_response_features(ebay_df, T=SAMPLE_LAG)"
   ],
   "metadata": {
    "collapsed": false,
    "ExecuteTime": {
     "start_time": "2023-08-28T12:57:59.650619Z",
     "end_time": "2023-08-28T12:58:04.394073Z"
    }
   }
  },
  {
   "cell_type": "code",
   "execution_count": 30,
   "outputs": [
    {
     "data": {
      "text/plain": "          midprice  vol_imbalance  sign_imbalance         sign     daily_R1  \\\ncount  7576.000000    7576.000000     7576.000000  7576.000000  7576.000000   \nmean    208.625695       2.224214       -2.342526    -0.040655     0.024219   \nstd      23.926687      30.615437       35.970179     0.999239     0.020078   \nmin     144.830000    -204.946257     -259.645719    -1.000000    -0.109997   \n25%     193.805000     -12.008908      -22.668697    -1.000000     0.018343   \n50%     207.175000       1.370815       -1.495887    -1.000000     0.023188   \n75%     223.727500      16.252593       18.282880     1.000000     0.028822   \nmax     267.315000     431.529295      201.552866     1.000000     0.140840   \n\n          daily_vol    daily_num         R100  \ncount  7.576000e+03  7576.000000  7576.000000  \nmean   3.615686e+05  3590.626980    -0.001173  \nstd    1.799494e+05  1582.391274     0.931059  \nmin    8.077400e+04   962.000000   -19.100000  \n25%    2.383570e+05  2475.000000    -0.365000  \n50%    3.092610e+05  3171.000000     0.000000  \n75%    4.393330e+05  4370.000000     0.350000  \nmax    1.134392e+06  9210.000000    12.135000  ",
      "text/html": "<div>\n<style scoped>\n    .dataframe tbody tr th:only-of-type {\n        vertical-align: middle;\n    }\n\n    .dataframe tbody tr th {\n        vertical-align: top;\n    }\n\n    .dataframe thead th {\n        text-align: right;\n    }\n</style>\n<table border=\"1\" class=\"dataframe\">\n  <thead>\n    <tr style=\"text-align: right;\">\n      <th></th>\n      <th>midprice</th>\n      <th>vol_imbalance</th>\n      <th>sign_imbalance</th>\n      <th>sign</th>\n      <th>daily_R1</th>\n      <th>daily_vol</th>\n      <th>daily_num</th>\n      <th>R100</th>\n    </tr>\n  </thead>\n  <tbody>\n    <tr>\n      <th>count</th>\n      <td>7576.000000</td>\n      <td>7576.000000</td>\n      <td>7576.000000</td>\n      <td>7576.000000</td>\n      <td>7576.000000</td>\n      <td>7.576000e+03</td>\n      <td>7576.000000</td>\n      <td>7576.000000</td>\n    </tr>\n    <tr>\n      <th>mean</th>\n      <td>208.625695</td>\n      <td>2.224214</td>\n      <td>-2.342526</td>\n      <td>-0.040655</td>\n      <td>0.024219</td>\n      <td>3.615686e+05</td>\n      <td>3590.626980</td>\n      <td>-0.001173</td>\n    </tr>\n    <tr>\n      <th>std</th>\n      <td>23.926687</td>\n      <td>30.615437</td>\n      <td>35.970179</td>\n      <td>0.999239</td>\n      <td>0.020078</td>\n      <td>1.799494e+05</td>\n      <td>1582.391274</td>\n      <td>0.931059</td>\n    </tr>\n    <tr>\n      <th>min</th>\n      <td>144.830000</td>\n      <td>-204.946257</td>\n      <td>-259.645719</td>\n      <td>-1.000000</td>\n      <td>-0.109997</td>\n      <td>8.077400e+04</td>\n      <td>962.000000</td>\n      <td>-19.100000</td>\n    </tr>\n    <tr>\n      <th>25%</th>\n      <td>193.805000</td>\n      <td>-12.008908</td>\n      <td>-22.668697</td>\n      <td>-1.000000</td>\n      <td>0.018343</td>\n      <td>2.383570e+05</td>\n      <td>2475.000000</td>\n      <td>-0.365000</td>\n    </tr>\n    <tr>\n      <th>50%</th>\n      <td>207.175000</td>\n      <td>1.370815</td>\n      <td>-1.495887</td>\n      <td>-1.000000</td>\n      <td>0.023188</td>\n      <td>3.092610e+05</td>\n      <td>3171.000000</td>\n      <td>0.000000</td>\n    </tr>\n    <tr>\n      <th>75%</th>\n      <td>223.727500</td>\n      <td>16.252593</td>\n      <td>18.282880</td>\n      <td>1.000000</td>\n      <td>0.028822</td>\n      <td>4.393330e+05</td>\n      <td>4370.000000</td>\n      <td>0.350000</td>\n    </tr>\n    <tr>\n      <th>max</th>\n      <td>267.315000</td>\n      <td>431.529295</td>\n      <td>201.552866</td>\n      <td>1.000000</td>\n      <td>0.140840</td>\n      <td>1.134392e+06</td>\n      <td>9210.000000</td>\n      <td>12.135000</td>\n    </tr>\n  </tbody>\n</table>\n</div>"
     },
     "execution_count": 30,
     "metadata": {},
     "output_type": "execute_result"
    }
   ],
   "source": [
    "tsla_100.describe()"
   ],
   "metadata": {
    "collapsed": false,
    "ExecuteTime": {
     "start_time": "2023-08-28T12:58:04.395053Z",
     "end_time": "2023-08-28T12:58:04.433615Z"
    }
   }
  },
  {
   "cell_type": "code",
   "execution_count": null,
   "outputs": [],
   "source": [],
   "metadata": {
    "collapsed": false
   }
  },
  {
   "cell_type": "code",
   "execution_count": null,
   "outputs": [],
   "source": [],
   "metadata": {
    "collapsed": false
   }
  },
  {
   "cell_type": "code",
   "execution_count": null,
   "outputs": [],
   "source": [],
   "metadata": {
    "collapsed": false
   }
  },
  {
   "cell_type": "code",
   "execution_count": null,
   "outputs": [],
   "source": [],
   "metadata": {
    "collapsed": false
   }
  },
  {
   "cell_type": "code",
   "execution_count": null,
   "outputs": [],
   "source": [],
   "metadata": {
    "collapsed": false
   }
  },
  {
   "cell_type": "code",
   "execution_count": null,
   "outputs": [],
   "source": [],
   "metadata": {
    "collapsed": false
   }
  },
  {
   "cell_type": "code",
   "execution_count": null,
   "outputs": [],
   "source": [],
   "metadata": {
    "collapsed": false
   }
  },
  {
   "cell_type": "code",
   "execution_count": null,
   "outputs": [],
   "source": [],
   "metadata": {
    "collapsed": false
   }
  }
 ],
 "metadata": {
  "kernelspec": {
   "display_name": "Python 3",
   "language": "python",
   "name": "python3"
  },
  "language_info": {
   "codemirror_mode": {
    "name": "ipython",
    "version": 2
   },
   "file_extension": ".py",
   "mimetype": "text/x-python",
   "name": "python",
   "nbconvert_exporter": "python",
   "pygments_lexer": "ipython2",
   "version": "2.7.6"
  }
 },
 "nbformat": 4,
 "nbformat_minor": 0
}
