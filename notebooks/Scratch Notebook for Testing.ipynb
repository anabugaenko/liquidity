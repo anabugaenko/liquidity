{
 "cells": [
  {
   "cell_type": "code",
   "execution_count": 4,
   "outputs": [],
   "source": [
    "import pandas as pd\n",
    "import numpy as np\n",
    "from matplotlib import pyplot as plt\n",
    "from matplotlib import rc\n",
    "import pylab\n",
    "import seaborn as sns"
   ],
   "metadata": {
    "collapsed": false,
    "ExecuteTime": {
     "start_time": "2023-09-20T13:10:31.114592Z",
     "end_time": "2023-09-20T13:10:31.388089Z"
    }
   }
  },
  {
   "cell_type": "code",
   "execution_count": 4,
   "outputs": [],
   "source": [],
   "metadata": {
    "collapsed": false,
    "ExecuteTime": {
     "start_time": "2023-09-20T13:10:31.120547Z",
     "end_time": "2023-09-20T13:10:31.388644Z"
    }
   }
  },
  {
   "cell_type": "code",
   "execution_count": 5,
   "outputs": [],
   "source": [
    "%load_ext autoreload\n",
    "%autoreload 2"
   ],
   "metadata": {
    "collapsed": false,
    "ExecuteTime": {
     "start_time": "2023-09-20T13:10:31.124698Z",
     "end_time": "2023-09-20T13:10:31.463482Z"
    }
   }
  },
  {
   "cell_type": "markdown",
   "source": [
    "## Testing price response functions"
   ],
   "metadata": {
    "collapsed": false
   }
  },
  {
   "cell_type": "code",
   "execution_count": 6,
   "outputs": [],
   "source": [
    "tsla_df = pd.read_csv('../data/market_orders/TSLA-2016-R1.csv', header=0,index_col=0)\n",
    "ebay_df = pd.read_csv('../data/market_orders/EBAY-2016-R1.csv', header=0,index_col=0)"
   ],
   "metadata": {
    "collapsed": false,
    "ExecuteTime": {
     "start_time": "2023-09-20T13:10:31.175317Z",
     "end_time": "2023-09-20T13:10:33.070295Z"
    }
   }
  },
  {
   "cell_type": "code",
   "execution_count": 7,
   "outputs": [],
   "source": [
    "from liquidity.response_functions.price_response_functions import compute_conditional_aggregate_impact\n",
    "from liquidity.response_functions.price_response_functions import compute_price_response"
   ],
   "metadata": {
    "collapsed": false,
    "ExecuteTime": {
     "start_time": "2023-09-20T13:10:33.071624Z",
     "end_time": "2023-09-20T13:10:33.091923Z"
    }
   }
  },
  {
   "cell_type": "code",
   "execution_count": 8,
   "outputs": [],
   "source": [
    "\n",
    "SAMPLE_LAG = 100\n",
    "ACF_RANGE = 1001\n",
    "tsla_100 = compute_conditional_aggregate_impact(tsla_df, T=SAMPLE_LAG)\n",
    "ebay_100 = compute_conditional_aggregate_impact(ebay_df, T=SAMPLE_LAG)"
   ],
   "metadata": {
    "collapsed": false,
    "ExecuteTime": {
     "start_time": "2023-09-20T13:10:33.091050Z",
     "end_time": "2023-09-20T13:10:38.418324Z"
    }
   }
  },
  {
   "cell_type": "code",
   "execution_count": 9,
   "outputs": [
    {
     "data": {
      "text/plain": "                     event_timestamp     midprice  vol_imbalance  \\\ncount                           7576  7576.000000    7576.000000   \nmean   2016-06-23 00:30:08.185890304   208.625695       2.224214   \nmin    2016-01-04 10:30:02.487834868   144.830000    -204.946257   \n25%    2016-03-23 14:46:03.794099712   193.805000     -12.008908   \n50%    2016-06-14 14:11:20.921004032   207.175000       1.370815   \n75%    2016-09-30 11:03:42.460367872   223.727500      16.252593   \nmax    2016-12-30 14:46:27.540027150   267.315000     431.529295   \nstd                              NaN    23.926687      30.615437   \n\n       sign_imbalance         sign     daily_R1     daily_vol    daily_num  \\\ncount     7576.000000  7576.000000  7576.000000  7.576000e+03  7576.000000   \nmean        -2.342526    -0.040655     0.024219  3.615686e+05  3590.626980   \nmin       -259.645719    -1.000000    -0.109997  8.077400e+04   962.000000   \n25%        -22.668697    -1.000000     0.018343  2.383570e+05  2475.000000   \n50%         -1.495887    -1.000000     0.023188  3.092610e+05  3171.000000   \n75%         18.282880     1.000000     0.028822  4.393330e+05  4370.000000   \nmax        201.552866     1.000000     0.140840  1.134392e+06  9210.000000   \nstd         35.970179     0.999239     0.020078  1.799494e+05  1582.391274   \n\n              R100  \ncount  7576.000000  \nmean     -0.001173  \nmin     -19.100000  \n25%      -0.365000  \n50%       0.000000  \n75%       0.350000  \nmax      12.135000  \nstd       0.931059  ",
      "text/html": "<div>\n<style scoped>\n    .dataframe tbody tr th:only-of-type {\n        vertical-align: middle;\n    }\n\n    .dataframe tbody tr th {\n        vertical-align: top;\n    }\n\n    .dataframe thead th {\n        text-align: right;\n    }\n</style>\n<table border=\"1\" class=\"dataframe\">\n  <thead>\n    <tr style=\"text-align: right;\">\n      <th></th>\n      <th>event_timestamp</th>\n      <th>midprice</th>\n      <th>vol_imbalance</th>\n      <th>sign_imbalance</th>\n      <th>sign</th>\n      <th>daily_R1</th>\n      <th>daily_vol</th>\n      <th>daily_num</th>\n      <th>R100</th>\n    </tr>\n  </thead>\n  <tbody>\n    <tr>\n      <th>count</th>\n      <td>7576</td>\n      <td>7576.000000</td>\n      <td>7576.000000</td>\n      <td>7576.000000</td>\n      <td>7576.000000</td>\n      <td>7576.000000</td>\n      <td>7.576000e+03</td>\n      <td>7576.000000</td>\n      <td>7576.000000</td>\n    </tr>\n    <tr>\n      <th>mean</th>\n      <td>2016-06-23 00:30:08.185890304</td>\n      <td>208.625695</td>\n      <td>2.224214</td>\n      <td>-2.342526</td>\n      <td>-0.040655</td>\n      <td>0.024219</td>\n      <td>3.615686e+05</td>\n      <td>3590.626980</td>\n      <td>-0.001173</td>\n    </tr>\n    <tr>\n      <th>min</th>\n      <td>2016-01-04 10:30:02.487834868</td>\n      <td>144.830000</td>\n      <td>-204.946257</td>\n      <td>-259.645719</td>\n      <td>-1.000000</td>\n      <td>-0.109997</td>\n      <td>8.077400e+04</td>\n      <td>962.000000</td>\n      <td>-19.100000</td>\n    </tr>\n    <tr>\n      <th>25%</th>\n      <td>2016-03-23 14:46:03.794099712</td>\n      <td>193.805000</td>\n      <td>-12.008908</td>\n      <td>-22.668697</td>\n      <td>-1.000000</td>\n      <td>0.018343</td>\n      <td>2.383570e+05</td>\n      <td>2475.000000</td>\n      <td>-0.365000</td>\n    </tr>\n    <tr>\n      <th>50%</th>\n      <td>2016-06-14 14:11:20.921004032</td>\n      <td>207.175000</td>\n      <td>1.370815</td>\n      <td>-1.495887</td>\n      <td>-1.000000</td>\n      <td>0.023188</td>\n      <td>3.092610e+05</td>\n      <td>3171.000000</td>\n      <td>0.000000</td>\n    </tr>\n    <tr>\n      <th>75%</th>\n      <td>2016-09-30 11:03:42.460367872</td>\n      <td>223.727500</td>\n      <td>16.252593</td>\n      <td>18.282880</td>\n      <td>1.000000</td>\n      <td>0.028822</td>\n      <td>4.393330e+05</td>\n      <td>4370.000000</td>\n      <td>0.350000</td>\n    </tr>\n    <tr>\n      <th>max</th>\n      <td>2016-12-30 14:46:27.540027150</td>\n      <td>267.315000</td>\n      <td>431.529295</td>\n      <td>201.552866</td>\n      <td>1.000000</td>\n      <td>0.140840</td>\n      <td>1.134392e+06</td>\n      <td>9210.000000</td>\n      <td>12.135000</td>\n    </tr>\n    <tr>\n      <th>std</th>\n      <td>NaN</td>\n      <td>23.926687</td>\n      <td>30.615437</td>\n      <td>35.970179</td>\n      <td>0.999239</td>\n      <td>0.020078</td>\n      <td>1.799494e+05</td>\n      <td>1582.391274</td>\n      <td>0.931059</td>\n    </tr>\n  </tbody>\n</table>\n</div>"
     },
     "execution_count": 9,
     "metadata": {},
     "output_type": "execute_result"
    }
   ],
   "source": [
    "tsla_100.describe()"
   ],
   "metadata": {
    "collapsed": false,
    "ExecuteTime": {
     "start_time": "2023-09-20T13:10:38.418767Z",
     "end_time": "2023-09-20T13:10:38.463904Z"
    }
   }
  },
  {
   "cell_type": "code",
   "execution_count": 9,
   "outputs": [],
   "source": [],
   "metadata": {
    "collapsed": false,
    "ExecuteTime": {
     "start_time": "2023-09-20T13:10:38.459710Z",
     "end_time": "2023-09-20T13:10:38.464040Z"
    }
   }
  },
  {
   "cell_type": "code",
   "execution_count": 10,
   "outputs": [],
   "source": [
    "tsla_df_lo = pd.read_csv('../data/limit_orders/TSLA-2016-R1-LO.csv', header=0,index_col=0)"
   ],
   "metadata": {
    "collapsed": false,
    "ExecuteTime": {
     "start_time": "2023-09-20T13:10:38.462557Z",
     "end_time": "2023-09-20T13:10:43.478269Z"
    }
   }
  },
  {
   "cell_type": "code",
   "execution_count": 11,
   "outputs": [],
   "source": [
    "tsla_100_lo = compute_conditional_aggregate_impact(tsla_df_lo, T=SAMPLE_LAG)"
   ],
   "metadata": {
    "collapsed": false,
    "ExecuteTime": {
     "start_time": "2023-09-20T13:10:43.479051Z",
     "end_time": "2023-09-20T13:10:55.106823Z"
    }
   }
  },
  {
   "cell_type": "code",
   "execution_count": 12,
   "outputs": [
    {
     "data": {
      "text/plain": "                     event_timestamp     midprice  vol_imbalance  \\\ncount                           3468  3468.000000    3468.000000   \nmean      2016-02-24 19:08:47.828224   211.492950       7.186942   \nmin    2016-01-04 10:30:02.487909338   194.235000    -768.851448   \n25%    2016-01-04 13:17:44.965637888   200.655000     -26.877748   \n50%    2016-01-12 14:25:19.728181248   207.600000      -1.981517   \n75%    2016-06-22 13:06:58.176105216   221.760000      37.179111   \nmax    2016-08-23 10:52:55.753630266   225.565000     784.039675   \nstd                              NaN    10.141601     109.604320   \n\n       sign_imbalance         sign     daily_R1     daily_vol     daily_num  \\\ncount     3468.000000  3468.000000  3468.000000  3.468000e+03   3468.000000   \nmean         7.911859    -0.044983    -0.010559  2.430010e+06  24666.205017   \nmin       -481.594773    -1.000000    -0.016702  6.079310e+05   6233.000000   \n25%        -28.215222    -1.000000    -0.012363  2.349995e+06  21165.000000   \n50%          0.000000    -1.000000    -0.010221  2.356132e+06  24226.000000   \n75%         36.654148     1.000000    -0.008865  2.406590e+06  25091.000000   \nmax        756.511896     1.000000    -0.004414  3.158604e+06  33340.000000   \nstd         97.650769     0.999132     0.002169  4.801195e+05   5531.123074   \n\n              R100  \ncount  3468.000000  \nmean     -0.008179  \nmin     -16.725000  \n25%      -0.065000  \n50%       0.000000  \n75%       0.065000  \nmax       4.185000  \nstd       0.400838  ",
      "text/html": "<div>\n<style scoped>\n    .dataframe tbody tr th:only-of-type {\n        vertical-align: middle;\n    }\n\n    .dataframe tbody tr th {\n        vertical-align: top;\n    }\n\n    .dataframe thead th {\n        text-align: right;\n    }\n</style>\n<table border=\"1\" class=\"dataframe\">\n  <thead>\n    <tr style=\"text-align: right;\">\n      <th></th>\n      <th>event_timestamp</th>\n      <th>midprice</th>\n      <th>vol_imbalance</th>\n      <th>sign_imbalance</th>\n      <th>sign</th>\n      <th>daily_R1</th>\n      <th>daily_vol</th>\n      <th>daily_num</th>\n      <th>R100</th>\n    </tr>\n  </thead>\n  <tbody>\n    <tr>\n      <th>count</th>\n      <td>3468</td>\n      <td>3468.000000</td>\n      <td>3468.000000</td>\n      <td>3468.000000</td>\n      <td>3468.000000</td>\n      <td>3468.000000</td>\n      <td>3.468000e+03</td>\n      <td>3468.000000</td>\n      <td>3468.000000</td>\n    </tr>\n    <tr>\n      <th>mean</th>\n      <td>2016-02-24 19:08:47.828224</td>\n      <td>211.492950</td>\n      <td>7.186942</td>\n      <td>7.911859</td>\n      <td>-0.044983</td>\n      <td>-0.010559</td>\n      <td>2.430010e+06</td>\n      <td>24666.205017</td>\n      <td>-0.008179</td>\n    </tr>\n    <tr>\n      <th>min</th>\n      <td>2016-01-04 10:30:02.487909338</td>\n      <td>194.235000</td>\n      <td>-768.851448</td>\n      <td>-481.594773</td>\n      <td>-1.000000</td>\n      <td>-0.016702</td>\n      <td>6.079310e+05</td>\n      <td>6233.000000</td>\n      <td>-16.725000</td>\n    </tr>\n    <tr>\n      <th>25%</th>\n      <td>2016-01-04 13:17:44.965637888</td>\n      <td>200.655000</td>\n      <td>-26.877748</td>\n      <td>-28.215222</td>\n      <td>-1.000000</td>\n      <td>-0.012363</td>\n      <td>2.349995e+06</td>\n      <td>21165.000000</td>\n      <td>-0.065000</td>\n    </tr>\n    <tr>\n      <th>50%</th>\n      <td>2016-01-12 14:25:19.728181248</td>\n      <td>207.600000</td>\n      <td>-1.981517</td>\n      <td>0.000000</td>\n      <td>-1.000000</td>\n      <td>-0.010221</td>\n      <td>2.356132e+06</td>\n      <td>24226.000000</td>\n      <td>0.000000</td>\n    </tr>\n    <tr>\n      <th>75%</th>\n      <td>2016-06-22 13:06:58.176105216</td>\n      <td>221.760000</td>\n      <td>37.179111</td>\n      <td>36.654148</td>\n      <td>1.000000</td>\n      <td>-0.008865</td>\n      <td>2.406590e+06</td>\n      <td>25091.000000</td>\n      <td>0.065000</td>\n    </tr>\n    <tr>\n      <th>max</th>\n      <td>2016-08-23 10:52:55.753630266</td>\n      <td>225.565000</td>\n      <td>784.039675</td>\n      <td>756.511896</td>\n      <td>1.000000</td>\n      <td>-0.004414</td>\n      <td>3.158604e+06</td>\n      <td>33340.000000</td>\n      <td>4.185000</td>\n    </tr>\n    <tr>\n      <th>std</th>\n      <td>NaN</td>\n      <td>10.141601</td>\n      <td>109.604320</td>\n      <td>97.650769</td>\n      <td>0.999132</td>\n      <td>0.002169</td>\n      <td>4.801195e+05</td>\n      <td>5531.123074</td>\n      <td>0.400838</td>\n    </tr>\n  </tbody>\n</table>\n</div>"
     },
     "execution_count": 12,
     "metadata": {},
     "output_type": "execute_result"
    }
   ],
   "source": [
    "tsla_100_lo.describe()"
   ],
   "metadata": {
    "collapsed": false,
    "ExecuteTime": {
     "start_time": "2023-09-20T13:10:55.107368Z",
     "end_time": "2023-09-20T13:10:55.179913Z"
    }
   }
  },
  {
   "cell_type": "code",
   "execution_count": 12,
   "outputs": [],
   "source": [],
   "metadata": {
    "collapsed": false,
    "ExecuteTime": {
     "start_time": "2023-09-20T13:10:55.180153Z",
     "end_time": "2023-09-20T13:10:55.182411Z"
    }
   }
  },
  {
   "cell_type": "code",
   "execution_count": 13,
   "outputs": [],
   "source": [
    "# MO_LAG_INTERVALS = (5, 10, 20, 50, 100)\n",
    "MO_LAG_INTERVALS = np.arange(5, 100, 5)"
   ],
   "metadata": {
    "collapsed": false,
    "ExecuteTime": {
     "start_time": "2023-09-20T13:10:55.183192Z",
     "end_time": "2023-09-20T13:10:55.204082Z"
    }
   }
  },
  {
   "cell_type": "code",
   "execution_count": 13,
   "outputs": [],
   "source": [],
   "metadata": {
    "collapsed": false,
    "ExecuteTime": {
     "start_time": "2023-09-20T13:10:55.201632Z",
     "end_time": "2023-09-20T13:10:55.220929Z"
    }
   }
  },
  {
   "cell_type": "markdown",
   "source": [
    "# Test response functions"
   ],
   "metadata": {
    "collapsed": false
   }
  },
  {
   "cell_type": "code",
   "execution_count": 14,
   "outputs": [
    {
     "data": {
      "text/plain": "                 event_timestamp  trade_sign side lob_action  order_executed  \\\n0  2016-01-04 10:30:02.487834868          -1  BID     REMOVE            True   \n1  2016-01-04 10:30:02.594369706          -1  BID     REMOVE            True   \n2  2016-01-04 10:30:02.602151380          -1  BID     REMOVE            True   \n3  2016-01-04 10:30:02.627167275          -1  BID     REMOVE            True   \n4  2016-01-04 10:30:02.895123534          -1  BID     REMOVE            True   \n\n   execution_price  execution_size     ask     bid  midprice  ask_volume  \\\n0           221.36             100  221.46  221.36   221.410       100.0   \n1           221.36             100  221.46  221.36   221.410       100.0   \n2           221.36             100  221.46  221.36   221.410       200.0   \n3           221.27              25  221.36  221.27   221.315       200.0   \n4           221.25             100  221.36  221.25   221.305       100.0   \n\n   bid_volume  price_changing  midprice_change     R1  norm_trade_volume  \n0       100.0            True            0.000 -0.000           0.708122  \n1       100.0            True            0.000 -0.000           0.708122  \n2       100.0            True           -0.095  0.095           0.708122  \n3        25.0            True           -0.010  0.010           0.177031  \n4       100.0            True           -0.090  0.090           0.708122  ",
      "text/html": "<div>\n<style scoped>\n    .dataframe tbody tr th:only-of-type {\n        vertical-align: middle;\n    }\n\n    .dataframe tbody tr th {\n        vertical-align: top;\n    }\n\n    .dataframe thead th {\n        text-align: right;\n    }\n</style>\n<table border=\"1\" class=\"dataframe\">\n  <thead>\n    <tr style=\"text-align: right;\">\n      <th></th>\n      <th>event_timestamp</th>\n      <th>trade_sign</th>\n      <th>side</th>\n      <th>lob_action</th>\n      <th>order_executed</th>\n      <th>execution_price</th>\n      <th>execution_size</th>\n      <th>ask</th>\n      <th>bid</th>\n      <th>midprice</th>\n      <th>ask_volume</th>\n      <th>bid_volume</th>\n      <th>price_changing</th>\n      <th>midprice_change</th>\n      <th>R1</th>\n      <th>norm_trade_volume</th>\n    </tr>\n  </thead>\n  <tbody>\n    <tr>\n      <th>0</th>\n      <td>2016-01-04 10:30:02.487834868</td>\n      <td>-1</td>\n      <td>BID</td>\n      <td>REMOVE</td>\n      <td>True</td>\n      <td>221.36</td>\n      <td>100</td>\n      <td>221.46</td>\n      <td>221.36</td>\n      <td>221.410</td>\n      <td>100.0</td>\n      <td>100.0</td>\n      <td>True</td>\n      <td>0.000</td>\n      <td>-0.000</td>\n      <td>0.708122</td>\n    </tr>\n    <tr>\n      <th>1</th>\n      <td>2016-01-04 10:30:02.594369706</td>\n      <td>-1</td>\n      <td>BID</td>\n      <td>REMOVE</td>\n      <td>True</td>\n      <td>221.36</td>\n      <td>100</td>\n      <td>221.46</td>\n      <td>221.36</td>\n      <td>221.410</td>\n      <td>100.0</td>\n      <td>100.0</td>\n      <td>True</td>\n      <td>0.000</td>\n      <td>-0.000</td>\n      <td>0.708122</td>\n    </tr>\n    <tr>\n      <th>2</th>\n      <td>2016-01-04 10:30:02.602151380</td>\n      <td>-1</td>\n      <td>BID</td>\n      <td>REMOVE</td>\n      <td>True</td>\n      <td>221.36</td>\n      <td>100</td>\n      <td>221.46</td>\n      <td>221.36</td>\n      <td>221.410</td>\n      <td>200.0</td>\n      <td>100.0</td>\n      <td>True</td>\n      <td>-0.095</td>\n      <td>0.095</td>\n      <td>0.708122</td>\n    </tr>\n    <tr>\n      <th>3</th>\n      <td>2016-01-04 10:30:02.627167275</td>\n      <td>-1</td>\n      <td>BID</td>\n      <td>REMOVE</td>\n      <td>True</td>\n      <td>221.27</td>\n      <td>25</td>\n      <td>221.36</td>\n      <td>221.27</td>\n      <td>221.315</td>\n      <td>200.0</td>\n      <td>25.0</td>\n      <td>True</td>\n      <td>-0.010</td>\n      <td>0.010</td>\n      <td>0.177031</td>\n    </tr>\n    <tr>\n      <th>4</th>\n      <td>2016-01-04 10:30:02.895123534</td>\n      <td>-1</td>\n      <td>BID</td>\n      <td>REMOVE</td>\n      <td>True</td>\n      <td>221.25</td>\n      <td>100</td>\n      <td>221.36</td>\n      <td>221.25</td>\n      <td>221.305</td>\n      <td>100.0</td>\n      <td>100.0</td>\n      <td>True</td>\n      <td>-0.090</td>\n      <td>0.090</td>\n      <td>0.708122</td>\n    </tr>\n  </tbody>\n</table>\n</div>"
     },
     "execution_count": 14,
     "metadata": {},
     "output_type": "execute_result"
    }
   ],
   "source": [
    "tsla_df.head()"
   ],
   "metadata": {
    "collapsed": false,
    "ExecuteTime": {
     "start_time": "2023-09-20T13:10:55.204723Z",
     "end_time": "2023-09-20T13:10:55.256362Z"
    }
   }
  },
  {
   "cell_type": "code",
   "execution_count": 15,
   "outputs": [
    {
     "data": {
      "text/plain": "   midprice  sign  daily_R1     R1\n0   221.410    -1  0.027301  0.000\n1   221.410    -1  0.027301  0.000\n2   221.410    -1  0.027301 -0.095\n3   221.315    -1  0.027301 -0.010\n4   221.305    -1  0.027301 -0.090",
      "text/html": "<div>\n<style scoped>\n    .dataframe tbody tr th:only-of-type {\n        vertical-align: middle;\n    }\n\n    .dataframe tbody tr th {\n        vertical-align: top;\n    }\n\n    .dataframe thead th {\n        text-align: right;\n    }\n</style>\n<table border=\"1\" class=\"dataframe\">\n  <thead>\n    <tr style=\"text-align: right;\">\n      <th></th>\n      <th>midprice</th>\n      <th>sign</th>\n      <th>daily_R1</th>\n      <th>R1</th>\n    </tr>\n  </thead>\n  <tbody>\n    <tr>\n      <th>0</th>\n      <td>221.410</td>\n      <td>-1</td>\n      <td>0.027301</td>\n      <td>0.000</td>\n    </tr>\n    <tr>\n      <th>1</th>\n      <td>221.410</td>\n      <td>-1</td>\n      <td>0.027301</td>\n      <td>0.000</td>\n    </tr>\n    <tr>\n      <th>2</th>\n      <td>221.410</td>\n      <td>-1</td>\n      <td>0.027301</td>\n      <td>-0.095</td>\n    </tr>\n    <tr>\n      <th>3</th>\n      <td>221.315</td>\n      <td>-1</td>\n      <td>0.027301</td>\n      <td>-0.010</td>\n    </tr>\n    <tr>\n      <th>4</th>\n      <td>221.305</td>\n      <td>-1</td>\n      <td>0.027301</td>\n      <td>-0.090</td>\n    </tr>\n  </tbody>\n</table>\n</div>"
     },
     "execution_count": 15,
     "metadata": {},
     "output_type": "execute_result"
    }
   ],
   "source": [
    "R1 = compute_price_response(tsla_df)\n",
    "R1.head()"
   ],
   "metadata": {
    "collapsed": false,
    "ExecuteTime": {
     "start_time": "2023-09-20T13:10:55.229902Z",
     "end_time": "2023-09-20T13:10:58.010320Z"
    }
   }
  },
  {
   "cell_type": "code",
   "execution_count": 16,
   "outputs": [
    {
     "data": {
      "text/plain": "   midprice  sign  daily_R1     R4\n0   221.410    -1  0.027301 -0.105\n1   221.305    -1  0.027301 -0.105\n2   221.200     1  0.027301  0.005\n3   221.205     1  0.027301  0.020\n4   221.225     1  0.027301  0.000",
      "text/html": "<div>\n<style scoped>\n    .dataframe tbody tr th:only-of-type {\n        vertical-align: middle;\n    }\n\n    .dataframe tbody tr th {\n        vertical-align: top;\n    }\n\n    .dataframe thead th {\n        text-align: right;\n    }\n</style>\n<table border=\"1\" class=\"dataframe\">\n  <thead>\n    <tr style=\"text-align: right;\">\n      <th></th>\n      <th>midprice</th>\n      <th>sign</th>\n      <th>daily_R1</th>\n      <th>R4</th>\n    </tr>\n  </thead>\n  <tbody>\n    <tr>\n      <th>0</th>\n      <td>221.410</td>\n      <td>-1</td>\n      <td>0.027301</td>\n      <td>-0.105</td>\n    </tr>\n    <tr>\n      <th>1</th>\n      <td>221.305</td>\n      <td>-1</td>\n      <td>0.027301</td>\n      <td>-0.105</td>\n    </tr>\n    <tr>\n      <th>2</th>\n      <td>221.200</td>\n      <td>1</td>\n      <td>0.027301</td>\n      <td>0.005</td>\n    </tr>\n    <tr>\n      <th>3</th>\n      <td>221.205</td>\n      <td>1</td>\n      <td>0.027301</td>\n      <td>0.020</td>\n    </tr>\n    <tr>\n      <th>4</th>\n      <td>221.225</td>\n      <td>1</td>\n      <td>0.027301</td>\n      <td>0.000</td>\n    </tr>\n  </tbody>\n</table>\n</div>"
     },
     "execution_count": 16,
     "metadata": {},
     "output_type": "execute_result"
    }
   ],
   "source": [
    "R1 = compute_price_response(tsla_df, lag=4)\n",
    "R1.head()"
   ],
   "metadata": {
    "collapsed": false,
    "ExecuteTime": {
     "start_time": "2023-09-20T13:10:58.014458Z",
     "end_time": "2023-09-20T13:11:01.311909Z"
    }
   }
  },
  {
   "cell_type": "code",
   "execution_count": 17,
   "outputs": [
    {
     "data": {
      "text/plain": "   midprice  sign  daily_R1        R4\n0   221.410    -1  0.027301 -0.093019\n1   221.305    -1  0.027301 -0.093019\n2   221.200     1  0.027301  0.004429\n3   221.205     1  0.027301  0.017718\n4   221.225     1  0.027301  0.000000",
      "text/html": "<div>\n<style scoped>\n    .dataframe tbody tr th:only-of-type {\n        vertical-align: middle;\n    }\n\n    .dataframe tbody tr th {\n        vertical-align: top;\n    }\n\n    .dataframe thead th {\n        text-align: right;\n    }\n</style>\n<table border=\"1\" class=\"dataframe\">\n  <thead>\n    <tr style=\"text-align: right;\">\n      <th></th>\n      <th>midprice</th>\n      <th>sign</th>\n      <th>daily_R1</th>\n      <th>R4</th>\n    </tr>\n  </thead>\n  <tbody>\n    <tr>\n      <th>0</th>\n      <td>221.410</td>\n      <td>-1</td>\n      <td>0.027301</td>\n      <td>-0.093019</td>\n    </tr>\n    <tr>\n      <th>1</th>\n      <td>221.305</td>\n      <td>-1</td>\n      <td>0.027301</td>\n      <td>-0.093019</td>\n    </tr>\n    <tr>\n      <th>2</th>\n      <td>221.200</td>\n      <td>1</td>\n      <td>0.027301</td>\n      <td>0.004429</td>\n    </tr>\n    <tr>\n      <th>3</th>\n      <td>221.205</td>\n      <td>1</td>\n      <td>0.027301</td>\n      <td>0.017718</td>\n    </tr>\n    <tr>\n      <th>4</th>\n      <td>221.225</td>\n      <td>1</td>\n      <td>0.027301</td>\n      <td>0.000000</td>\n    </tr>\n  </tbody>\n</table>\n</div>"
     },
     "execution_count": 17,
     "metadata": {},
     "output_type": "execute_result"
    }
   ],
   "source": [
    "R1 = compute_price_response(tsla_df, lag=4, normalise=True)\n",
    "R1.head()"
   ],
   "metadata": {
    "collapsed": false,
    "ExecuteTime": {
     "start_time": "2023-09-20T13:11:01.312323Z",
     "end_time": "2023-09-20T13:11:04.186668Z"
    }
   }
  },
  {
   "cell_type": "code",
   "execution_count": 17,
   "outputs": [],
   "source": [],
   "metadata": {
    "collapsed": false,
    "ExecuteTime": {
     "start_time": "2023-09-20T13:11:04.186345Z",
     "end_time": "2023-09-20T13:11:04.188622Z"
    }
   }
  },
  {
   "cell_type": "markdown",
   "source": [
    "#  Fitting process"
   ],
   "metadata": {
    "collapsed": false
   }
  },
  {
   "cell_type": "code",
   "execution_count": 18,
   "outputs": [
    {
     "data": {
      "text/plain": "                 event_timestamp  trade_sign side lob_action  order_executed  \\\n0  2016-01-04 10:30:02.487834868          -1  BID     REMOVE            True   \n1  2016-01-04 10:30:02.594369706          -1  BID     REMOVE            True   \n2  2016-01-04 10:30:02.602151380          -1  BID     REMOVE            True   \n3  2016-01-04 10:30:02.627167275          -1  BID     REMOVE            True   \n4  2016-01-04 10:30:02.895123534          -1  BID     REMOVE            True   \n\n   execution_price  execution_size     ask     bid  midprice  ask_volume  \\\n0           221.36             100  221.46  221.36   221.410       100.0   \n1           221.36             100  221.46  221.36   221.410       100.0   \n2           221.36             100  221.46  221.36   221.410       200.0   \n3           221.27              25  221.36  221.27   221.315       200.0   \n4           221.25             100  221.36  221.25   221.305       100.0   \n\n   bid_volume  price_changing  midprice_change     R1  norm_trade_volume  \n0       100.0            True            0.000 -0.000           0.708122  \n1       100.0            True            0.000 -0.000           0.708122  \n2       100.0            True           -0.095  0.095           0.708122  \n3        25.0            True           -0.010  0.010           0.177031  \n4       100.0            True           -0.090  0.090           0.708122  ",
      "text/html": "<div>\n<style scoped>\n    .dataframe tbody tr th:only-of-type {\n        vertical-align: middle;\n    }\n\n    .dataframe tbody tr th {\n        vertical-align: top;\n    }\n\n    .dataframe thead th {\n        text-align: right;\n    }\n</style>\n<table border=\"1\" class=\"dataframe\">\n  <thead>\n    <tr style=\"text-align: right;\">\n      <th></th>\n      <th>event_timestamp</th>\n      <th>trade_sign</th>\n      <th>side</th>\n      <th>lob_action</th>\n      <th>order_executed</th>\n      <th>execution_price</th>\n      <th>execution_size</th>\n      <th>ask</th>\n      <th>bid</th>\n      <th>midprice</th>\n      <th>ask_volume</th>\n      <th>bid_volume</th>\n      <th>price_changing</th>\n      <th>midprice_change</th>\n      <th>R1</th>\n      <th>norm_trade_volume</th>\n    </tr>\n  </thead>\n  <tbody>\n    <tr>\n      <th>0</th>\n      <td>2016-01-04 10:30:02.487834868</td>\n      <td>-1</td>\n      <td>BID</td>\n      <td>REMOVE</td>\n      <td>True</td>\n      <td>221.36</td>\n      <td>100</td>\n      <td>221.46</td>\n      <td>221.36</td>\n      <td>221.410</td>\n      <td>100.0</td>\n      <td>100.0</td>\n      <td>True</td>\n      <td>0.000</td>\n      <td>-0.000</td>\n      <td>0.708122</td>\n    </tr>\n    <tr>\n      <th>1</th>\n      <td>2016-01-04 10:30:02.594369706</td>\n      <td>-1</td>\n      <td>BID</td>\n      <td>REMOVE</td>\n      <td>True</td>\n      <td>221.36</td>\n      <td>100</td>\n      <td>221.46</td>\n      <td>221.36</td>\n      <td>221.410</td>\n      <td>100.0</td>\n      <td>100.0</td>\n      <td>True</td>\n      <td>0.000</td>\n      <td>-0.000</td>\n      <td>0.708122</td>\n    </tr>\n    <tr>\n      <th>2</th>\n      <td>2016-01-04 10:30:02.602151380</td>\n      <td>-1</td>\n      <td>BID</td>\n      <td>REMOVE</td>\n      <td>True</td>\n      <td>221.36</td>\n      <td>100</td>\n      <td>221.46</td>\n      <td>221.36</td>\n      <td>221.410</td>\n      <td>200.0</td>\n      <td>100.0</td>\n      <td>True</td>\n      <td>-0.095</td>\n      <td>0.095</td>\n      <td>0.708122</td>\n    </tr>\n    <tr>\n      <th>3</th>\n      <td>2016-01-04 10:30:02.627167275</td>\n      <td>-1</td>\n      <td>BID</td>\n      <td>REMOVE</td>\n      <td>True</td>\n      <td>221.27</td>\n      <td>25</td>\n      <td>221.36</td>\n      <td>221.27</td>\n      <td>221.315</td>\n      <td>200.0</td>\n      <td>25.0</td>\n      <td>True</td>\n      <td>-0.010</td>\n      <td>0.010</td>\n      <td>0.177031</td>\n    </tr>\n    <tr>\n      <th>4</th>\n      <td>2016-01-04 10:30:02.895123534</td>\n      <td>-1</td>\n      <td>BID</td>\n      <td>REMOVE</td>\n      <td>True</td>\n      <td>221.25</td>\n      <td>100</td>\n      <td>221.36</td>\n      <td>221.25</td>\n      <td>221.305</td>\n      <td>100.0</td>\n      <td>100.0</td>\n      <td>True</td>\n      <td>-0.090</td>\n      <td>0.090</td>\n      <td>0.708122</td>\n    </tr>\n  </tbody>\n</table>\n</div>"
     },
     "execution_count": 18,
     "metadata": {},
     "output_type": "execute_result"
    }
   ],
   "source": [
    "tsla_df.head()"
   ],
   "metadata": {
    "collapsed": false,
    "ExecuteTime": {
     "start_time": "2023-09-20T13:11:04.189720Z",
     "end_time": "2023-09-20T13:11:04.230833Z"
    }
   }
  },
  {
   "cell_type": "code",
   "execution_count": 19,
   "outputs": [
    {
     "data": {
      "text/plain": "'\\nApproach I: fit scaling form on all data to find exponents and then use them for renormalisation\\n\\n\\nApproach II: produce series of RN and QN by fitting scaling funtion for different N, then use powerlaw library to fit power law and determine scale factors; finally, fit known scaling form to find exponents and then use them for renormalisation\\n\\n'"
     },
     "execution_count": 19,
     "metadata": {},
     "output_type": "execute_result"
    }
   ],
   "source": [
    "\"\"\"\n",
    "Approach I: fit scaling form on all data to find exponents and then use them for renormalisation\n",
    "\n",
    "\n",
    "Approach II: produce series of RN and QN by fitting scaling funtion for different N, then use powerlaw library to fit power law and determine scale factors; finally, fit known scaling form to find exponents and then use them for renormalisation\n",
    "\n",
    "\"\"\""
   ],
   "metadata": {
    "collapsed": false,
    "ExecuteTime": {
     "start_time": "2023-09-20T13:11:04.215141Z",
     "end_time": "2023-09-20T13:11:04.257607Z"
    }
   }
  },
  {
   "cell_type": "markdown",
   "source": [
    "## Approach I"
   ],
   "metadata": {
    "collapsed": false
   }
  },
  {
   "cell_type": "code",
   "execution_count": 20,
   "outputs": [],
   "source": [
    "from liquidity.response_functions.fitting import compute_scaling_exponents, renormalise"
   ],
   "metadata": {
    "collapsed": false,
    "ExecuteTime": {
     "start_time": "2023-09-20T13:11:04.234744Z",
     "end_time": "2023-09-20T13:11:04.274152Z"
    }
   }
  },
  {
   "cell_type": "code",
   "execution_count": 21,
   "outputs": [],
   "source": [
    "MO_LAG_INTERVALS = (5, 10, 20, 50, 100, 150, 200)\n",
    "# MO_LAG_INTERVALS = np.arange(5, 100, 5)"
   ],
   "metadata": {
    "collapsed": false,
    "ExecuteTime": {
     "start_time": "2023-09-20T13:11:04.254462Z",
     "end_time": "2023-09-20T13:11:04.289419Z"
    }
   }
  },
  {
   "cell_type": "code",
   "execution_count": 22,
   "outputs": [],
   "source": [
    "popt_tsla, pcov_tsla, fit_func, data_norm = compute_scaling_exponents(tsla_df, MO_LAG_INTERVALS)"
   ],
   "metadata": {
    "collapsed": false,
    "ExecuteTime": {
     "start_time": "2023-09-20T13:11:04.275046Z",
     "end_time": "2023-09-20T13:11:13.744078Z"
    }
   }
  },
  {
   "cell_type": "code",
   "execution_count": 23,
   "outputs": [
    {
     "data": {
      "text/plain": "array([3.22877450e-01, 2.11407604e-03, 3.41326854e-01, 1.68397197e+01,\n       2.34134643e+05])"
     },
     "execution_count": 23,
     "metadata": {},
     "output_type": "execute_result"
    }
   ],
   "source": [
    "popt_tsla"
   ],
   "metadata": {
    "collapsed": false,
    "ExecuteTime": {
     "start_time": "2023-09-20T13:11:13.744638Z",
     "end_time": "2023-09-20T13:11:13.771435Z"
    }
   }
  },
  {
   "cell_type": "code",
   "execution_count": 24,
   "outputs": [
    {
     "name": "stderr",
     "output_type": "stream",
     "text": [
      "/Users/ana_bugaenko/workspace/another_workspace/liquidity/liquidity/response_functions/fitting.py:20: RuntimeWarning: overflow encountered in power\n",
      "  return x / (1 + abs(x) ** alpha) ** (beta / alpha)\n"
     ]
    },
    {
     "name": "stdout",
     "output_type": "stream",
     "text": [
      "Optimal parameters not found: The maximum number of function evaluations is exceeded\n",
      "re-trying\n",
      "Optimal parameters not found: The maximum number of function evaluations is exceeded\n",
      "Failed to fit for lag 5\n",
      "Optimal parameters not found: The maximum number of function evaluations is exceeded\n",
      "re-trying\n",
      "Optimal parameters not found: The maximum number of function evaluations is exceeded\n",
      "Failed to fit for lag 200\n"
     ]
    }
   ],
   "source": [
    "renor_results = renormalise(data_norm, popt_tsla, MO_LAG_INTERVALS)"
   ],
   "metadata": {
    "collapsed": false,
    "ExecuteTime": {
     "start_time": "2023-09-20T13:11:13.766191Z",
     "end_time": "2023-09-20T13:11:14.710517Z"
    }
   }
  },
  {
   "cell_type": "code",
   "execution_count": 25,
   "outputs": [
    {
     "data": {
      "text/plain": "{10: <liquidity.response_functions.fitting.FitResult at 0x7f9460444a60>,\n 20: <liquidity.response_functions.fitting.FitResult at 0x7f94a26c7e50>,\n 50: <liquidity.response_functions.fitting.FitResult at 0x7f945b4e87f0>,\n 100: <liquidity.response_functions.fitting.FitResult at 0x7f945b4e80a0>,\n 150: <liquidity.response_functions.fitting.FitResult at 0x7f945e442d30>}"
     },
     "execution_count": 25,
     "metadata": {},
     "output_type": "execute_result"
    }
   ],
   "source": [
    "renor_results"
   ],
   "metadata": {
    "collapsed": false,
    "ExecuteTime": {
     "start_time": "2023-09-20T13:11:14.710969Z",
     "end_time": "2023-09-20T13:11:14.729017Z"
    }
   }
  },
  {
   "cell_type": "code",
   "execution_count": 26,
   "outputs": [
    {
     "ename": "ValueError",
     "evalue": "setting an array element with a sequence. The requested array has an inhomogeneous shape after 1 dimensions. The detected shape was (2,) + inhomogeneous part.",
     "output_type": "error",
     "traceback": [
      "\u001B[0;31m---------------------------------------------------------------------------\u001B[0m",
      "\u001B[0;31mValueError\u001B[0m                                Traceback (most recent call last)",
      "Cell \u001B[0;32mIn[26], line 4\u001B[0m\n\u001B[1;32m      1\u001B[0m \u001B[38;5;28;01mfrom\u001B[39;00m \u001B[38;5;21;01mliquidity\u001B[39;00m\u001B[38;5;21;01m.\u001B[39;00m\u001B[38;5;21;01mutil\u001B[39;00m\u001B[38;5;21;01m.\u001B[39;00m\u001B[38;5;21;01mplotting\u001B[39;00m\u001B[38;5;21;01m.\u001B[39;00m\u001B[38;5;21;01mplot_aggrate_impact\u001B[39;00m \u001B[38;5;28;01mimport\u001B[39;00m plot_collapsed_fitted_func\n\u001B[1;32m      3\u001B[0m fit_param \u001B[38;5;241m=\u001B[39m {T: fit_result\u001B[38;5;241m.\u001B[39mparams \u001B[38;5;28;01mfor\u001B[39;00m T, fit_result \u001B[38;5;129;01min\u001B[39;00m renor_results\u001B[38;5;241m.\u001B[39mitems()}\n\u001B[0;32m----> 4\u001B[0m \u001B[43mplot_collapsed_fitted_func\u001B[49m\u001B[43m(\u001B[49m\u001B[43mfit_param\u001B[49m\u001B[43m,\u001B[49m\u001B[43m \u001B[49m\u001B[43mline_color\u001B[49m\u001B[38;5;241;43m=\u001B[39;49m\u001B[38;5;124;43m\"\u001B[39;49m\u001B[38;5;124;43m#624B00\u001B[39;49m\u001B[38;5;124;43m\"\u001B[39;49m\u001B[43m,\u001B[49m\u001B[43m \u001B[49m\u001B[43mmarkers_color\u001B[49m\u001B[38;5;241;43m=\u001B[39;49m\u001B[38;5;124;43m\"\u001B[39;49m\u001B[38;5;124;43m#FCC400\u001B[39;49m\u001B[38;5;124;43m\"\u001B[39;49m\u001B[43m,\u001B[49m\n\u001B[1;32m      5\u001B[0m \u001B[43m                           \u001B[49m\u001B[43mxlim\u001B[49m\u001B[38;5;241;43m=\u001B[39;49m\u001B[38;5;241;43m0.0001\u001B[39;49m\u001B[43m,\u001B[49m\u001B[43m \u001B[49m\u001B[43mylim\u001B[49m\u001B[38;5;241;43m=\u001B[39;49m\u001B[38;5;241;43m3\u001B[39;49m\u001B[43m,\u001B[49m\n\u001B[1;32m      6\u001B[0m \u001B[43m                           \u001B[49m\u001B[43mdurations\u001B[49m\u001B[38;5;241;43m=\u001B[39;49m\u001B[43mMO_LAG_INTERVALS\u001B[49m\u001B[43m)\u001B[49m\n",
      "File \u001B[0;32m~/workspace/another_workspace/liquidity/liquidity/util/plotting/plot_aggrate_impact.py:253\u001B[0m, in \u001B[0;36mplot_collapsed_fitted_func\u001B[0;34m(fit_param, line_color, markers_color, ylim, xlim, imbalance_col, renorm, durations, master_curve, save, filename)\u001B[0m\n\u001B[1;32m    251\u001B[0m         popt \u001B[38;5;241m=\u001B[39m fit_param[T][\u001B[38;5;241m0\u001B[39m]\n\u001B[1;32m    252\u001B[0m         \u001B[38;5;28;01mif\u001B[39;00m popt \u001B[38;5;129;01mis\u001B[39;00m \u001B[38;5;129;01mnot\u001B[39;00m \u001B[38;5;28;01mNone\u001B[39;00m:\n\u001B[0;32m--> 253\u001B[0m             plt\u001B[38;5;241m.\u001B[39mplot(q, fit_param[T][\u001B[38;5;241m2\u001B[39m](\u001B[43mnp\u001B[49m\u001B[38;5;241;43m.\u001B[39;49m\u001B[43marray\u001B[49m\u001B[43m(\u001B[49m\u001B[43m[\u001B[49m\u001B[43mq\u001B[49m\u001B[43m,\u001B[49m\u001B[43m \u001B[49m\u001B[43mT\u001B[49m\u001B[43m]\u001B[49m\u001B[43m)\u001B[49m, \u001B[38;5;241m*\u001B[39mpopt),\n\u001B[1;32m    254\u001B[0m                      \u001B[38;5;66;03m# linestyle=LINESTYLE_LIST[indx],\u001B[39;00m\n\u001B[1;32m    255\u001B[0m                      \u001B[38;5;66;03m# marker=MARKETS_LIST[indx], markerfacecolor=markers_color,\u001B[39;00m\n\u001B[1;32m    256\u001B[0m                      markevery\u001B[38;5;241m=\u001B[39m\u001B[38;5;241m0.05\u001B[39m, ms\u001B[38;5;241m=\u001B[39m\u001B[38;5;241m3.5\u001B[39m,\n\u001B[1;32m    257\u001B[0m                      label\u001B[38;5;241m=\u001B[39m\u001B[38;5;124m'\u001B[39m\u001B[38;5;124mx\u001B[39m\u001B[38;5;124m'\u001B[39m, color\u001B[38;5;241m=\u001B[39mline_color, \u001B[38;5;66;03m#alpha=ALPHA_LIST[indx],\u001B[39;00m\n\u001B[1;32m    258\u001B[0m                      linewidth\u001B[38;5;241m=\u001B[39m\u001B[38;5;241m0.5\u001B[39m, markeredgewidth\u001B[38;5;241m=\u001B[39m\u001B[38;5;241m0.5\u001B[39m)\n\u001B[1;32m    260\u001B[0m \u001B[38;5;28;01mif\u001B[39;00m master_curve \u001B[38;5;129;01mis\u001B[39;00m \u001B[38;5;129;01mnot\u001B[39;00m \u001B[38;5;28;01mNone\u001B[39;00m:\n\u001B[1;32m    261\u001B[0m     plt\u001B[38;5;241m.\u001B[39mplot(q, scaling_function(\u001B[38;5;241m-\u001B[39mq, master_curve[\u001B[38;5;241m2\u001B[39m], master_curve[\u001B[38;5;241m3\u001B[39m]) \u001B[38;5;241m*\u001B[39m master_curve[\u001B[38;5;241m-\u001B[39m\u001B[38;5;241m1\u001B[39m],\n\u001B[1;32m    262\u001B[0m              \u001B[38;5;124m'\u001B[39m\u001B[38;5;124m-\u001B[39m\u001B[38;5;124m'\u001B[39m, linewidth\u001B[38;5;241m=\u001B[39m\u001B[38;5;241m1\u001B[39m, color\u001B[38;5;241m=\u001B[39m\u001B[38;5;124m'\u001B[39m\u001B[38;5;124mblack\u001B[39m\u001B[38;5;124m'\u001B[39m)\n",
      "\u001B[0;31mValueError\u001B[0m: setting an array element with a sequence. The requested array has an inhomogeneous shape after 1 dimensions. The detected shape was (2,) + inhomogeneous part."
     ]
    },
    {
     "data": {
      "text/plain": "<Figure size 840x800 with 1 Axes>",
      "image/png": "[encoded data removed]"
     },
     "metadata": {},
     "output_type": "display_data"
    }
   ],
   "source": [
    "from liquidity.util.plotting.plot_aggrate_impact import plot_collapsed_fitted_func\n",
    "\n",
    "fit_param = {T: fit_result.params for T, fit_result in renor_results.items()}\n",
    "plot_collapsed_fitted_func(fit_param, line_color=\"#624B00\", markers_color=\"#FCC400\",\n",
    "                           xlim=0.0001, ylim=3,\n",
    "                           durations=MO_LAG_INTERVALS)"
   ],
   "metadata": {
    "collapsed": false,
    "ExecuteTime": {
     "start_time": "2023-09-17T17:06:28.070970Z",
     "end_time": "2023-09-17T17:06:28.071029Z"
    }
   }
  },
  {
   "cell_type": "code",
   "execution_count": null,
   "outputs": [],
   "source": [],
   "metadata": {
    "collapsed": false,
    "ExecuteTime": {
     "start_time": "2023-09-17T17:06:28.071092Z",
     "end_time": "2023-09-17T17:06:28.071104Z"
    }
   }
  },
  {
   "cell_type": "markdown",
   "source": [
    "## Assess goodness of fit"
   ],
   "metadata": {
    "collapsed": false
   }
  },
  {
   "cell_type": "code",
   "execution_count": null,
   "outputs": [],
   "source": [
    "\"\"\"\n",
    "1. For observations at each T assess how good the master curve fits the data.\n",
    "2. Take aggregate (mean/max) of MSE - choose outlier resilient methodand Nonlinearity\n",
    "\n",
    "\"\"\""
   ],
   "metadata": {
    "collapsed": false
   }
  },
  {
   "cell_type": "markdown",
   "source": [
    "### Compute residuals for each T"
   ],
   "metadata": {
    "collapsed": false
   }
  },
  {
   "cell_type": "code",
   "execution_count": null,
   "outputs": [],
   "source": [
    "from liquidity.util.fitting_util import bin_data_into_quantiles\n",
    "from liquidity.response_functions.fitting import scaling_form\n",
    "\n",
    "residual_dict = {}\n",
    "for T in MO_LAG_INTERVALS:\n",
    "    if T not in fit_param.keys():\n",
    "        continue\n",
    "    data = data_norm[data_norm['T'] == T]\n",
    "\n",
    "    binned_data = bin_data_into_quantiles(data)\n",
    "    x_values = binned_data[['vol_imbalance', 'T']].values.T\n",
    "    y_values = binned_data['R'].values\n",
    "\n",
    "    params = fit_param[T][0]\n",
    "    fitted_values = scaling_form(x_values, *params)\n",
    "    residuals = y_values - fitted_values\n",
    "    residual_dict[T] = residuals"
   ],
   "metadata": {
    "collapsed": false,
    "ExecuteTime": {
     "start_time": "2023-09-17T18:00:32.447514Z",
     "end_time": "2023-09-17T18:00:32.447585Z"
    }
   }
  },
  {
   "cell_type": "code",
   "execution_count": null,
   "outputs": [],
   "source": [
    "residual_dict.keys()"
   ],
   "metadata": {
    "collapsed": false,
    "ExecuteTime": {
     "start_time": "2023-09-17T18:00:34.012754Z",
     "end_time": "2023-09-17T18:00:34.012834Z"
    }
   }
  },
  {
   "cell_type": "code",
   "execution_count": null,
   "outputs": [],
   "source": [
    "from liquidity.util.goodness_of_fit import compute_rsquared\n",
    "for T in residual_dict.keys():\n",
    "    r2, ar2 = compute_rsquared(residual_dict[T], data_norm[data_norm['T'] == T]['R'].values, fit_param[T][0])\n",
    "    print(f\"For T={T} \\n R2 = {r2}, \\n Adj R2 = {ar2} \\n \\n\")"
   ],
   "metadata": {
    "collapsed": false,
    "ExecuteTime": {
     "start_time": "2023-09-17T18:00:35.580509Z",
     "end_time": "2023-09-17T18:00:35.580569Z"
    }
   }
  },
  {
   "cell_type": "code",
   "execution_count": null,
   "outputs": [],
   "source": [],
   "metadata": {
    "collapsed": false
   }
  },
  {
   "cell_type": "code",
   "execution_count": null,
   "outputs": [],
   "source": [],
   "metadata": {
    "collapsed": false
   }
  },
  {
   "cell_type": "code",
   "execution_count": null,
   "outputs": [],
   "source": [],
   "metadata": {
    "collapsed": false
   }
  }
 ],
 "metadata": {
  "kernelspec": {
   "display_name": "Python 3",
   "language": "python",
   "name": "python3"
  },
  "language_info": {
   "codemirror_mode": {
    "name": "ipython",
    "version": 2
   },
   "file_extension": ".py",
   "mimetype": "text/x-python",
   "name": "python",
   "nbconvert_exporter": "python",
   "pygments_lexer": "ipython2",
   "version": "2.7.6"
  }
 },
 "nbformat": 4,
 "nbformat_minor": 0
}
