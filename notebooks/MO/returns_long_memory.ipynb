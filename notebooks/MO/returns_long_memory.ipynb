{
 "cells": [
  {
   "cell_type": "code",
   "execution_count": 1,
   "metadata": {
    "collapsed": true,
    "ExecuteTime": {
     "start_time": "2023-10-09T07:31:53.220224Z",
     "end_time": "2023-10-09T07:31:54.110061Z"
    }
   },
   "outputs": [],
   "source": [
    "from IPython.display import display\n",
    "\n",
    "from notebooks.util.long_memory_utils import *\n",
    "from liquidity.util.utils import compute_returns\n",
    "\n",
    "from powerlaw_function.powerlaw_function import Fit\n",
    "\n",
    "from hurst_exponent.hurst_exponent import standard_hurst, generalized_hurst\n",
    "from hurst_exponent.util.utils import interpret_hurst, augmented_dickey_fuller"
   ]
  },
  {
   "cell_type": "code",
   "execution_count": 2,
   "outputs": [],
   "source": [
    "# Automatically reload changes in package dependencies\n",
    "%load_ext autoreload\n",
    "%autoreload 2"
   ],
   "metadata": {
    "collapsed": false,
    "ExecuteTime": {
     "start_time": "2023-10-09T07:31:53.553112Z",
     "end_time": "2023-10-09T07:31:54.114984Z"
    }
   }
  },
  {
   "cell_type": "code",
   "execution_count": 3,
   "outputs": [],
   "source": [
    "# Number of events to use\n",
    "EVENTS_RANGE = 100000\n",
    "\n",
    "# Number of lags for the ACF\n",
    "ACF_RANGE = 1001"
   ],
   "metadata": {
    "collapsed": false,
    "ExecuteTime": {
     "start_time": "2023-10-09T07:31:53.592656Z",
     "end_time": "2023-10-09T07:31:54.198501Z"
    }
   }
  },
  {
   "cell_type": "markdown",
   "source": [
    "## Load raw sample data"
   ],
   "metadata": {
    "collapsed": false
   }
  },
  {
   "cell_type": "code",
   "execution_count": 4,
   "outputs": [],
   "source": [
    "# Load raw sample data  from CSV\n",
    "stocks = ['TSLA', 'AMZN', 'NFLX', 'MSFT', 'EBAY', 'APPL']\n",
    "\n",
    "current_dir = os.path.abspath('.')\n",
    "root_dir = os.path.join(current_dir, '..', '..')\n",
    "data_dir = os.path.join(root_dir, 'data', 'market_orders')\n",
    "\n",
    "\n",
    "stock_dfs = {}\n",
    "\n",
    "# Loop through each stock\n",
    "for stock in stocks:\n",
    "\n",
    "    filename = f\"{stock}-2016-R1.csv\"\n",
    "\n",
    "    stock_file_path = os.path.join(data_dir, filename)\n",
    "\n",
    "    # Read the CSV and store in the dictionary\n",
    "    stock_dfs[stock] = pd.read_csv(stock_file_path)\n",
    "\n",
    "# Access the dataframe using stock's ticker as key\n",
    "tsla_raw_df = stock_dfs['TSLA']\n",
    "amzn_raw_df = stock_dfs['AMZN']\n",
    "nflx_raw_df = stock_dfs['NFLX']\n",
    "msft_raw_df = stock_dfs['MSFT']\n",
    "ebay_raw_df = stock_dfs['EBAY']\n",
    "appl_raw_df = stock_dfs['APPL']"
   ],
   "metadata": {
    "collapsed": false,
    "ExecuteTime": {
     "start_time": "2023-10-09T07:31:53.609372Z",
     "end_time": "2023-10-09T07:32:01.307114Z"
    }
   }
  },
  {
   "cell_type": "markdown",
   "source": [
    "## 1. Compute Returns"
   ],
   "metadata": {
    "collapsed": false
   }
  },
  {
   "cell_type": "code",
   "execution_count": 5,
   "outputs": [],
   "source": [
    "# Compute returns\n",
    "tsla_returns = compute_returns(tsla_raw_df)['returns']\n",
    "msft_returns = compute_returns(msft_raw_df)['returns']\n",
    "amzn_returns = compute_returns(amzn_raw_df)['returns']\n",
    "nflx_returns = compute_returns(nflx_raw_df)['returns']\n",
    "ebay_returns = compute_returns(ebay_raw_df)['returns']\n",
    "appl_returns = compute_returns(appl_raw_df)['returns']\n",
    "\n",
    "returns = {\n",
    "  'TSLA': tsla_returns,\n",
    "  'MSFT': msft_returns,\n",
    "  'AMZN': amzn_returns,\n",
    "  'NFLX': nflx_returns,\n",
    "  'EBAY': ebay_returns,\n",
    "  'APPL': appl_returns\n",
    "}\n",
    "returns = {stock: data.head(EVENTS_RANGE) for stock, data in returns.items()}"
   ],
   "metadata": {
    "collapsed": false,
    "ExecuteTime": {
     "start_time": "2023-10-09T07:32:01.309089Z",
     "end_time": "2023-10-09T07:32:35.493315Z"
    }
   }
  },
  {
   "cell_type": "code",
   "execution_count": 6,
   "outputs": [
    {
     "data": {
      "text/plain": "('TSLA',\n 0       1.000000\n 1      -0.015541\n 2       0.001610\n 3       0.005973\n 4       0.005574\n           ...   \n 996    -0.001168\n 997     0.000533\n 998     0.001713\n 999    -0.000517\n 1000   -0.000748\n Length: 1001, dtype: float64)"
     },
     "metadata": {},
     "output_type": "display_data"
    }
   ],
   "source": [
    "# Compute ACF for TSLA using the linear method\n",
    "tsla_acf = compute_acf(\"TSLA\", tsla_returns, option=\"linear\")\n",
    "display(tsla_acf)"
   ],
   "metadata": {
    "collapsed": false,
    "ExecuteTime": {
     "start_time": "2023-10-09T07:32:35.494791Z",
     "end_time": "2023-10-09T07:32:43.158987Z"
    }
   }
  },
  {
   "cell_type": "markdown",
   "source": [
    "## 2. Stationarity Test\n",
    "\n",
    "To test whether our time series are stationary, we perform an augmented Dickey-Fuller test on each series, which uses the following null and alternative hypotheses:\n",
    "\n",
    "- **H0:** The time series is non-stationary.\n",
    "  - In other words, it has some time-dependent structure and does not have constant variance over time.\n",
    "  - There is at least one unit root.\n",
    "\n",
    "- **H1:** The time series is stationary.\n",
    "\n",
    "- **Note:** If the p-value from the test is less than some significance level (e.g. $\\alpha$ = .05), then we can reject the null hypothesis and conclude that the time series is stationary."
   ],
   "metadata": {
    "collapsed": false
   }
  },
  {
   "cell_type": "code",
   "execution_count": 7,
   "outputs": [
    {
     "name": "stdout",
     "output_type": "stream",
     "text": [
      "TSLA\n",
      "ADF: -320.14\n",
      "p-value: 0.00,\n",
      "N: 99999, \n",
      "critical values: {'1%': -3.4304153953326493, '5%': -2.8615689037124814, '10%': -2.566785384434747}\n",
      "We reject the null hypothesis at a significance level of 0.05.\n",
      "The time series appears to be stationary.\n",
      "\n",
      "\n",
      "MSFT\n",
      "ADF: -319.31\n",
      "p-value: 0.00,\n",
      "N: 99999, \n",
      "critical values: {'1%': -3.4304153953326493, '5%': -2.8615689037124814, '10%': -2.566785384434747}\n",
      "We reject the null hypothesis at a significance level of 0.05.\n",
      "The time series appears to be stationary.\n",
      "\n",
      "\n",
      "AMZN\n",
      "ADF: -322.06\n",
      "p-value: 0.00,\n",
      "N: 99999, \n",
      "critical values: {'1%': -3.4304153953326493, '5%': -2.8615689037124814, '10%': -2.566785384434747}\n",
      "We reject the null hypothesis at a significance level of 0.05.\n",
      "The time series appears to be stationary.\n",
      "\n",
      "\n",
      "NFLX\n",
      "ADF: -178.95\n",
      "p-value: 0.00,\n",
      "N: 99997, \n",
      "critical values: {'1%': -3.4304153966406288, '5%': -2.8615689042905816, '10%': -2.5667853847424507}\n",
      "We reject the null hypothesis at a significance level of 0.05.\n",
      "The time series appears to be stationary.\n",
      "\n",
      "\n",
      "EBAY\n",
      "ADF: -317.72\n",
      "p-value: 0.00,\n",
      "N: 99999, \n",
      "critical values: {'1%': -3.4304153953326493, '5%': -2.8615689037124814, '10%': -2.566785384434747}\n",
      "We reject the null hypothesis at a significance level of 0.05.\n",
      "The time series appears to be stationary.\n",
      "\n",
      "\n",
      "APPL\n",
      "ADF: -155.63\n",
      "p-value: 0.00,\n",
      "N: 99996, \n",
      "critical values: {'1%': -3.430415397294638, '5%': -2.86156890457964, '10%': -2.566785384896307}\n",
      "We reject the null hypothesis at a significance level of 0.05.\n",
      "The time series appears to be stationary.\n",
      "\n",
      "\n"
     ]
    }
   ],
   "source": [
    "# ADF test\n",
    "for stock, data in returns.items():\n",
    "    augmented_dickey_fuller(data, stock)"
   ],
   "metadata": {
    "collapsed": false,
    "ExecuteTime": {
     "start_time": "2023-10-09T07:32:43.159123Z",
     "end_time": "2023-10-09T07:34:24.649304Z"
    }
   }
  },
  {
   "cell_type": "markdown",
   "source": [
    "## 3. Autocorrelation Functions\n",
    "\n",
    "There appears to be a clear difference between linear and nonlinear ACFs. If our data doesn’t contain significant non-linear patterns, both Pearson and Kendall methods could end up providing similar results.\n",
    "\n",
    "**Key Points:**\n",
    "- The **Kendall correlation** would detect non-linear relationships if they exist.\n",
    "- If no non-linear relationships exist, it would just mirror the results of the Pearson correlation.\n",
    "- Given this behavior, it’s best to use **Kendall** in case a non-linear relation holds for some data in our sample.\n"
   ],
   "metadata": {
    "collapsed": false
   }
  },
  {
   "cell_type": "code",
   "execution_count": 8,
   "outputs": [
    {
     "name": "stdout",
     "output_type": "stream",
     "text": [
      "dict_keys(['TSLA', 'MSFT', 'AMZN', 'NFLX', 'EBAY', 'APPL'])\n",
      "dict_keys(['TSLA', 'MSFT', 'AMZN', 'NFLX', 'EBAY', 'APPL'])\n"
     ]
    }
   ],
   "source": [
    "# # Save data for lazy loading\n",
    "acf_data_dir = os.path.join(root_dir, 'data', 'generated', 'mo_data')\n",
    "linear_filename = f\"{acf_data_dir}/mo_returns_linear_acfs.pkl\"\n",
    "nonlinear_filename = f\"{acf_data_dir}/mo_returns_nonlinear_acfs.pkl\"\n",
    "\n",
    "# Linear ACF\n",
    "linear_acfs = compute_acfs(filename=linear_filename, data=returns, option='linear')\n",
    "print(linear_acfs.keys())\n",
    "\n",
    "# Nonlinear ACF\n",
    "nonlinear_acfs = compute_acfs(filename=nonlinear_filename, data=returns, option='nonlinear')\n",
    "print(nonlinear_acfs.keys())"
   ],
   "metadata": {
    "collapsed": false,
    "ExecuteTime": {
     "start_time": "2023-10-09T07:34:24.662729Z",
     "end_time": "2023-10-09T07:34:24.735673Z"
    }
   }
  },
  {
   "cell_type": "code",
   "execution_count": 8,
   "outputs": [],
   "source": [],
   "metadata": {
    "collapsed": false,
    "ExecuteTime": {
     "start_time": "2023-10-09T07:34:24.728941Z",
     "end_time": "2023-10-09T07:34:24.743131Z"
    }
   }
  },
  {
   "cell_type": "code",
   "execution_count": 9,
   "outputs": [
    {
     "name": "stdout",
     "output_type": "stream",
     "text": [
      "{'TSLA': 0       1.000000\n",
      "1      -0.015541\n",
      "2       0.001610\n",
      "3       0.005973\n",
      "4       0.005574\n",
      "          ...   \n",
      "996    -0.001168\n",
      "997     0.000533\n",
      "998     0.001713\n",
      "999    -0.000517\n",
      "1000   -0.000748\n",
      "Length: 1001, dtype: float64, 'MSFT': 0       1.000000\n",
      "1      -0.012089\n",
      "2      -0.000513\n",
      "3       0.002015\n",
      "4       0.000918\n",
      "          ...   \n",
      "996    -0.001260\n",
      "997     0.000577\n",
      "998     0.001008\n",
      "999    -0.000427\n",
      "1000   -0.000014\n",
      "Length: 1001, dtype: float64, 'AMZN': 0       1.000000\n",
      "1      -0.008277\n",
      "2       0.003189\n",
      "3       0.004914\n",
      "4       0.003466\n",
      "          ...   \n",
      "996    -0.001008\n",
      "997    -0.000016\n",
      "998     0.000995\n",
      "999     0.000018\n",
      "1000    0.000328\n",
      "Length: 1001, dtype: float64}\n"
     ]
    }
   ],
   "source": [
    "# Let's assume you've got returns for multiple stocks in a dictionary format\n",
    "returns = {\n",
    "  'TSLA': tsla_returns,\n",
    "  'MSFT': msft_returns,\n",
    "  'AMZN': amzn_returns,\n",
    "  # ... add as many stocks as you have\n",
    "}\n",
    "\n",
    "# Filename to save/load computed ACFs\n",
    "filename = \"computed_acfs.pkl\"\n",
    "\n",
    "# Compute (or load) ACFs for all stocks in parallel using the linear method\n",
    "all_acfs = compute_acfs(filename, returns, option=\"linear\")\n",
    "\n",
    "print(all_acfs)"
   ],
   "metadata": {
    "collapsed": false,
    "ExecuteTime": {
     "start_time": "2023-10-09T07:34:24.766468Z",
     "end_time": "2023-10-09T07:34:36.207707Z"
    }
   }
  },
  {
   "cell_type": "code",
   "execution_count": 31,
   "outputs": [
    {
     "data": {
      "text/plain": "pandas.core.series.Series"
     },
     "execution_count": 31,
     "metadata": {},
     "output_type": "execute_result"
    }
   ],
   "source": [
    "type(all_acfs['TSLA'])"
   ],
   "metadata": {
    "collapsed": false,
    "ExecuteTime": {
     "start_time": "2023-10-09T14:22:22.267533Z",
     "end_time": "2023-10-09T14:22:22.330723Z"
    }
   }
  },
  {
   "cell_type": "code",
   "execution_count": 29,
   "outputs": [
    {
     "data": {
      "text/plain": "<Figure size 1400x400 with 3 Axes>",
      "image/png": "[encoded data removed]"
     },
     "metadata": {},
     "output_type": "display_data"
    },
    {
     "name": "stdout",
     "output_type": "stream",
     "text": [
      "TSLA Max difference: 0.0014872265680442105\n"
     ]
    }
   ],
   "source": [
    "# Plot differences\n",
    "# plot_acf_difference(\"TSLA\", linear_acfs, nonlinear_acfs)\n",
    "for stock_name in linear_acfs.keys():\n",
    "    plot_acf_difference(stock_name, linear_acfs, nonlinear_acfs, acf_range=ACF_RANGE)"
   ],
   "metadata": {
    "collapsed": false,
    "ExecuteTime": {
     "start_time": "2023-10-09T12:38:44.945673Z",
     "end_time": "2023-10-09T12:38:45.420243Z"
    }
   }
  },
  {
   "cell_type": "code",
   "execution_count": 10,
   "outputs": [],
   "source": [],
   "metadata": {
    "collapsed": false,
    "ExecuteTime": {
     "start_time": "2023-10-09T07:34:38.302883Z",
     "end_time": "2023-10-09T07:34:38.304133Z"
    }
   }
  },
  {
   "cell_type": "markdown",
   "source": [
    "## 4. The Long Memory of Returns\n",
    "To determine if a process exhibits long memory, we take the following approach:\n",
    "\n",
    "1. **Infer an Autocorrelation Function (ACF):** Start by inferring the ACF from a finite return sample.\n",
    "\n",
    "2. **Fit a Power-law to the ACF:** Use the inferred ACF to fit a power-law.\n",
    "\n",
    "3. **Estimate Hurst Exponent:** Use standard anf generalized hurst on raw series."
   ],
   "metadata": {
    "collapsed": false
   }
  },
  {
   "cell_type": "markdown",
   "source": [
    "### 4.1. Estimate ACF scaling parameter"
   ],
   "metadata": {
    "collapsed": false
   }
  },
  {
   "cell_type": "code",
   "execution_count": 11,
   "outputs": [
    {
     "name": "stdout",
     "output_type": "stream",
     "text": [
      "\n",
      "For powerlaw fitted using MLE:\n",
      "\n",
      "Pre-fitting parameters;\n",
      "xmin_index: 5\n",
      "xmin: 6.0\n",
      "\n",
      "Fitting parameters;\n",
      "param_names = ['C', 'alpha']\n",
      "C = 0.0504239110954098\n",
      "alpha = -0.5046943591841555\n",
      "\n",
      "Goodness of fit to data;\n",
      "D = 0.20883534136546184\n",
      "bic = -13377.55696211441\n",
      "mape = 59.982641398292536\n",
      "Adjusted R-squared = 0.739121588359529\n",
      "\n",
      "\n"
     ]
    }
   ],
   "source": [
    "# TSLA Example\n",
    "tsla_returns_acf = nonlinear_acfs['TSLA']\n",
    "x = list(range(1, len(tsla_returns_acf) + 1))\n",
    "xy_df = pd.DataFrame({\"x_values\": x, \"y_values\": tsla_returns_acf})\n",
    "\n",
    "tsla_acf_fit = Fit(xy_df)\n",
    "tsla_acf_fit.powerlaw.fit_results()"
   ],
   "metadata": {
    "collapsed": false,
    "ExecuteTime": {
     "start_time": "2023-10-09T07:34:38.306360Z",
     "end_time": "2023-10-09T07:35:37.376166Z"
    }
   }
  },
  {
   "cell_type": "markdown",
   "source": [
    "### 4.1.2. For all assets"
   ],
   "metadata": {
    "collapsed": false
   }
  },
  {
   "cell_type": "code",
   "execution_count": 12,
   "outputs": [],
   "source": [
    "# Load the pre-computed ACFs\n",
    "# 1. Construct values for x- and y-axis of our ACF\n",
    "def construct_xy(sample: pd.Series, name: str) -> pd.DataFrame:\n",
    "    y_values = list(sample)\n",
    "    if len(sample) != len(y_values):\n",
    "        raise ValueError(f\"Sample sizes mismatch for {name}.\")\n",
    "\n",
    "    xy_df = pd.DataFrame({\n",
    "        'x_values': range(1, len(y_values) + 1),\n",
    "        'y_values': y_values\n",
    "    })\n",
    "\n",
    "    return xy_df\n",
    "\n",
    "return_acf_values = {}\n",
    "\n",
    "for stock, data in nonlinear_acfs.items():\n",
    "    return_acf_values[stock] = construct_xy(data, stock)\n"
   ],
   "metadata": {
    "collapsed": false,
    "ExecuteTime": {
     "start_time": "2023-10-09T07:35:37.375203Z",
     "end_time": "2023-10-09T07:35:37.417229Z"
    }
   }
  },
  {
   "cell_type": "code",
   "execution_count": 13,
   "outputs": [
    {
     "name": "stdout",
     "output_type": "stream",
     "text": [
      "cannot unpack non-iterable NoneType object\n"
     ]
    },
    {
     "data": {
      "text/plain": "  function_name                                             params  \\\n0      powerlaw  {'param_names': ['C', 'alpha'], 'C': 0.0504239...   \n1      powerlaw  {'param_names': ['C', 'alpha'], 'C': -5.248442...   \n2      powerlaw  {'param_names': ['C', 'alpha'], 'C': 0.0526749...   \n3      powerlaw  {'param_names': ['C', 'alpha'], 'C': 0.0305855...   \n4      powerlaw  {'param_names': ['C', 'alpha'], 'C': -0.008619...   \n\n   xmin_index   xmin         D           bic         mape  adjusted_rsquared  \\\n0           5    6.0  0.208835 -13377.556962    59.982641           0.739122   \n1         883  884.0  0.491525  -1640.558015    98.591943          -0.025164   \n2           8    9.0  0.133938 -13964.951429    15.633124           0.882044   \n3           7    8.0  0.283702 -14015.659526  1138.744238           0.396696   \n4          11   12.0  0.475758 -13236.455505   112.002219           0.002800   \n\n      gamma stock  \n0 -0.504694  TSLA  \n1  1.716810  MSFT  \n2 -0.416564  AMZN  \n3 -0.652869  NFLX  \n4 -0.874573  EBAY  ",
      "text/html": "<div>\n<style scoped>\n    .dataframe tbody tr th:only-of-type {\n        vertical-align: middle;\n    }\n\n    .dataframe tbody tr th {\n        vertical-align: top;\n    }\n\n    .dataframe thead th {\n        text-align: right;\n    }\n</style>\n<table border=\"1\" class=\"dataframe\">\n  <thead>\n    <tr style=\"text-align: right;\">\n      <th></th>\n      <th>function_name</th>\n      <th>params</th>\n      <th>xmin_index</th>\n      <th>xmin</th>\n      <th>D</th>\n      <th>bic</th>\n      <th>mape</th>\n      <th>adjusted_rsquared</th>\n      <th>gamma</th>\n      <th>stock</th>\n    </tr>\n  </thead>\n  <tbody>\n    <tr>\n      <th>0</th>\n      <td>powerlaw</td>\n      <td>{'param_names': ['C', 'alpha'], 'C': 0.0504239...</td>\n      <td>5</td>\n      <td>6.0</td>\n      <td>0.208835</td>\n      <td>-13377.556962</td>\n      <td>59.982641</td>\n      <td>0.739122</td>\n      <td>-0.504694</td>\n      <td>TSLA</td>\n    </tr>\n    <tr>\n      <th>1</th>\n      <td>powerlaw</td>\n      <td>{'param_names': ['C', 'alpha'], 'C': -5.248442...</td>\n      <td>883</td>\n      <td>884.0</td>\n      <td>0.491525</td>\n      <td>-1640.558015</td>\n      <td>98.591943</td>\n      <td>-0.025164</td>\n      <td>1.716810</td>\n      <td>MSFT</td>\n    </tr>\n    <tr>\n      <th>2</th>\n      <td>powerlaw</td>\n      <td>{'param_names': ['C', 'alpha'], 'C': 0.0526749...</td>\n      <td>8</td>\n      <td>9.0</td>\n      <td>0.133938</td>\n      <td>-13964.951429</td>\n      <td>15.633124</td>\n      <td>0.882044</td>\n      <td>-0.416564</td>\n      <td>AMZN</td>\n    </tr>\n    <tr>\n      <th>3</th>\n      <td>powerlaw</td>\n      <td>{'param_names': ['C', 'alpha'], 'C': 0.0305855...</td>\n      <td>7</td>\n      <td>8.0</td>\n      <td>0.283702</td>\n      <td>-14015.659526</td>\n      <td>1138.744238</td>\n      <td>0.396696</td>\n      <td>-0.652869</td>\n      <td>NFLX</td>\n    </tr>\n    <tr>\n      <th>4</th>\n      <td>powerlaw</td>\n      <td>{'param_names': ['C', 'alpha'], 'C': -0.008619...</td>\n      <td>11</td>\n      <td>12.0</td>\n      <td>0.475758</td>\n      <td>-13236.455505</td>\n      <td>112.002219</td>\n      <td>0.002800</td>\n      <td>-0.874573</td>\n      <td>EBAY</td>\n    </tr>\n  </tbody>\n</table>\n</div>"
     },
     "metadata": {},
     "output_type": "display_data"
    }
   ],
   "source": [
    "# Using return_acf_values\n",
    "fit_results_list = []\n",
    "fit_objects = {}  # Dictionary to store fit objects\n",
    "\n",
    "for stock, data in return_acf_values.items():\n",
    "    fit_dict, fit_obj = get_acf_params(stock, data)\n",
    "    if fit_dict:\n",
    "        fit_results_list.append(fit_dict)\n",
    "        fit_objects[stock] = fit_obj  # Store the fit object\n",
    "\n",
    "acf_fit_results = pd.DataFrame(fit_results_list)\n",
    "display(acf_fit_results.head())"
   ],
   "metadata": {
    "collapsed": false,
    "ExecuteTime": {
     "start_time": "2023-10-09T07:35:37.396318Z",
     "end_time": "2023-10-09T07:40:46.092815Z"
    }
   }
  },
  {
   "cell_type": "code",
   "execution_count": 14,
   "outputs": [
    {
     "data": {
      "text/plain": "dict_keys(['TSLA', 'MSFT', 'AMZN', 'NFLX', 'EBAY', 'APPL'])"
     },
     "execution_count": 14,
     "metadata": {},
     "output_type": "execute_result"
    }
   ],
   "source": [
    "fit_objects.keys()"
   ],
   "metadata": {
    "collapsed": false,
    "ExecuteTime": {
     "start_time": "2023-10-09T07:40:46.091236Z",
     "end_time": "2023-10-09T07:40:46.116423Z"
    }
   }
  },
  {
   "cell_type": "code",
   "execution_count": 15,
   "outputs": [],
   "source": [
    "# Retrieve the fit object for 'STOCK':\n",
    "# tsla_acf_fit = fit_objects['AMZN']\n",
    "# tsla_acf_fit.powerlaw.plot_fit()"
   ],
   "metadata": {
    "collapsed": false,
    "ExecuteTime": {
     "start_time": "2023-10-09T07:40:46.114228Z",
     "end_time": "2023-10-09T07:40:46.193280Z"
    }
   }
  },
  {
   "cell_type": "code",
   "execution_count": 17,
   "outputs": [
    {
     "name": "stdout",
     "output_type": "stream",
     "text": [
      "Average Alpha: -0.2023442270305559\n"
     ]
    }
   ],
   "source": [
    "avg_alpha = acf_fit_results['gamma'].mean()\n",
    "print(f\"Average Gamma: {avg_alpha}\")"
   ],
   "metadata": {
    "collapsed": false,
    "ExecuteTime": {
     "start_time": "2023-10-09T07:48:18.069921Z",
     "end_time": "2023-10-09T07:48:18.450510Z"
    }
   }
  },
  {
   "cell_type": "code",
   "execution_count": 17,
   "outputs": [],
   "source": [],
   "metadata": {
    "collapsed": false,
    "ExecuteTime": {
     "start_time": "2023-10-09T07:48:18.093210Z",
     "end_time": "2023-10-09T07:48:18.450745Z"
    }
   }
  },
  {
   "cell_type": "markdown",
   "source": [
    "### 4.2. Estimate Hurst Exponent\n",
    "\n",
    "The Hurst Exponent, denoted by $H$, is a statistical measure of a time series which can be used to determine the nature of the series. Its value can range between 0 and 1:\n",
    "\n",
    "- $H = 0.5$: The series is a random walk (Brownian motion). The future values do not depend on the past values.\n",
    "\n",
    "- $H < 0.5$: The series has a tendency to revert to a mean, indicating negative autocorrelation. This is typical of \"mean-reverting\" series.\n",
    "\n",
    "- $H > 0.5$: The series shows a trending behavior, meaning that increases (decreases) in the past will likely be followed by increases (decreases) in the future."
   ],
   "metadata": {
    "collapsed": false,
    "ExecuteTime": {
     "start_time": "2023-10-01T12:11:02.975053Z",
     "end_time": "2023-10-01T12:11:12.527000Z"
    }
   },
   "outputs": [
    {
     "name": "stdout",
     "output_type": "stream",
     "text": [
      "\n",
      "For powerlaw fitted using MLE:\n",
      "\n",
      "Pre-fitting parameters;\n",
      "xmin: 2.0\n",
      "\n",
      "Fitting parameters;\n",
      "param_names = ['C', 'alpha']\n",
      "C = 0.004896708201515535\n",
      "alpha = 0.6344809217031534\n",
      "\n",
      "Goodness of fit to data;\n",
      "D = 0.09183673469387756\n",
      "bic = -949.8108379500586\n",
      "mape = 9.392559002982424\n",
      "Adjusted R-squared = 0.8995072340161586\n",
      "\n",
      "\n",
      "\n",
      "For powerlaw fitted using MLE:\n",
      "\n",
      "Pre-fitting parameters;\n",
      "xmin: 2.0\n",
      "\n",
      "Fitting parameters;\n",
      "param_names = ['C', 'alpha']\n",
      "C = 0.0020690073156606117\n",
      "alpha = 0.5426970413254992\n",
      "\n",
      "Goodness of fit to data;\n",
      "D = 0.02040816326530612\n",
      "bic = -1718.8016459095988\n",
      "mape = 1.0589247746805535\n",
      "Adjusted R-squared = 0.9993787130550914\n",
      "\n",
      "\n",
      "Standard Hurst Exponent: 0.6344809217031534 (Super-diffusive: series demonstrates persistent long-range dependence)\n",
      "Generalized Hurst Exponent: 0.5426970413254992 (Super-diffusive: series demonstrates persistent long-range dependence)\n"
     ]
    }
   ],
   "execution_count": 13
  },
  {
   "cell_type": "code",
   "execution_count": 18,
   "outputs": [
    {
     "name": "stdout",
     "output_type": "stream",
     "text": [
      "\n",
      "For powerlaw fitted using MLE:\n",
      "\n",
      "Pre-fitting parameters;\n",
      "xmin_index: 1\n",
      "xmin: 1.0\n",
      "\n",
      "Fitting parameters;\n",
      "param_names = ['C', 'alpha']\n",
      "C = 0.08878075715410834\n",
      "alpha = 0.508993923594669\n",
      "\n",
      "Goodness of fit to data;\n",
      "D = 0.019562715765247412\n",
      "bic = -10551.073137659814\n",
      "mape = 0.3039840628666917\n",
      "Adjusted R-squared = 0.9998873360358319\n",
      "\n",
      "\n",
      "\n",
      "For powerlaw fitted using MLE:\n",
      "\n",
      "Pre-fitting parameters;\n",
      "xmin_index: 28\n",
      "xmin: 4.0\n",
      "\n",
      "Fitting parameters;\n",
      "param_names = ['C', 'alpha']\n",
      "C = 0.03435193222180402\n",
      "alpha = 0.5866272248116898\n",
      "\n",
      "Goodness of fit to data;\n",
      "D = 0.010688836104513063\n",
      "bic = -12636.526927697314\n",
      "mape = 0.1914300187159466\n",
      "Adjusted R-squared = 0.9999787658903939\n",
      "\n",
      "\n",
      "Standard Hurst Exponent: 0.508993923594669 (Super-diffusive: series demonstrates persistent long-range dependence)\n",
      "Generalized Hurst Exponent: 0.5866272248116898 (Super-diffusive: series demonstrates persistent long-range dependence)\n"
     ]
    }
   ],
   "source": [
    "# TSLA Example\n",
    "tsla_returns = compute_returns(tsla_raw_df)['cumsum_returns']\n",
    "\n",
    "# Estimate Hurst Exponent using both Standard and Generalized metod\n",
    "hurst_std, fit_std = standard_hurst(tsla_returns)\n",
    "hurst_gen, fit_gen = generalized_hurst(tsla_returns)\n",
    "\n",
    "fit_std.powerlaw.fit_results()\n",
    "fit_gen.powerlaw.fit_results()\n",
    "\n",
    "print(f\"Standard Hurst Exponent: {hurst_std} ({interpret_hurst(hurst_std)})\")\n",
    "print(f\"Generalized Hurst Exponent: {hurst_gen} ({interpret_hurst(hurst_gen)})\")"
   ],
   "metadata": {
    "collapsed": false,
    "ExecuteTime": {
     "start_time": "2023-10-09T07:48:18.135743Z",
     "end_time": "2023-10-09T07:50:19.158187Z"
    }
   }
  },
  {
   "cell_type": "code",
   "execution_count": 18,
   "outputs": [],
   "source": [],
   "metadata": {
    "collapsed": false,
    "ExecuteTime": {
     "start_time": "2023-10-09T07:50:19.156214Z",
     "end_time": "2023-10-09T07:50:19.158309Z"
    }
   }
  },
  {
   "cell_type": "markdown",
   "source": [
    "### 4.2.1 For all assets"
   ],
   "metadata": {
    "collapsed": false
   }
  },
  {
   "cell_type": "code",
   "execution_count": 19,
   "outputs": [
    {
     "data": {
      "text/plain": "<Figure size 640x480 with 1 Axes>",
      "image/png": "[encoded data removed]"
     },
     "metadata": {},
     "output_type": "display_data"
    }
   ],
   "source": [
    "# Compute cumsum of returns as input for Hurst\n",
    "tsla_cum_returns = compute_returns(tsla_raw_df)['cumsum_returns']\n",
    "amzn_cum_returns = compute_returns(msft_raw_df)['cumsum_returns']\n",
    "nflx_cum_returns = compute_returns(amzn_raw_df)['cumsum_returns']\n",
    "msft_cum_returns = compute_returns(nflx_raw_df)['cumsum_returns']\n",
    "ebay_cum_returns = compute_returns(ebay_raw_df)['cumsum_returns']\n",
    "appl_cum_returns = compute_returns(appl_raw_df)['cumsum_returns']\n",
    "\n",
    "cumsum_returns = {\n",
    "  'TSLA': tsla_cum_returns,\n",
    "  'MSFT': amzn_cum_returns,\n",
    "  'AMZN': nflx_cum_returns,\n",
    "  'NFLX': msft_cum_returns,\n",
    "  'EBAY': ebay_cum_returns,\n",
    "  'APPL': appl_cum_returns\n",
    "}\n",
    "cumsum_returns = {stock: data.head(EVENTS_RANGE) for stock, data in cumsum_returns.items()}\n",
    "\n",
    "\n",
    "x = list(range(1, len(tsla_cum_returns)+1))\n",
    "plt.plot(x, tsla_cum_returns)\n",
    "plt.grid(False)\n",
    "plt.show()"
   ],
   "metadata": {
    "collapsed": false,
    "ExecuteTime": {
     "start_time": "2023-10-09T07:50:19.158860Z",
     "end_time": "2023-10-09T07:50:48.139119Z"
    }
   }
  },
  {
   "cell_type": "markdown",
   "source": [
    "#### Standard Hurst"
   ],
   "metadata": {
    "collapsed": false
   }
  },
  {
   "cell_type": "code",
   "execution_count": 20,
   "outputs": [
    {
     "data": {
      "text/plain": "  function_name                                             params  \\\n0      powerlaw  {'param_names': ['C', 'alpha'], 'C': 0.1145656...   \n1      powerlaw  {'param_names': ['C', 'alpha'], 'C': 0.0094922...   \n2      powerlaw  {'param_names': ['C', 'alpha'], 'C': 0.2410204...   \n3      powerlaw  {'param_names': ['C', 'alpha'], 'C': 0.0417651...   \n4      powerlaw  {'param_names': ['C', 'alpha'], 'C': 0.0141333...   \n\n   xmin_index  xmin         D          bic      mape  adjusted_rsquared  \\\n0           1   1.0  0.031746 -3040.368136  0.727560           0.999213   \n1           1   1.0  0.022222 -4675.859833  0.656646           0.999255   \n2           1   1.0  0.028571 -2793.443518  0.569582           0.999626   \n3           1   1.0  0.022222 -3523.893856  0.993128           0.998639   \n4           1   1.0  0.022222 -4738.437607  0.430865           0.999747   \n\n   standard_hurst stock random_variate  \n0        0.510266  TSLA        returns  \n1        0.495638  MSFT        returns  \n2        0.514030  AMZN        returns  \n3        0.503503  NFLX        returns  \n4        0.503954  EBAY        returns  ",
      "text/html": "<div>\n<style scoped>\n    .dataframe tbody tr th:only-of-type {\n        vertical-align: middle;\n    }\n\n    .dataframe tbody tr th {\n        vertical-align: top;\n    }\n\n    .dataframe thead th {\n        text-align: right;\n    }\n</style>\n<table border=\"1\" class=\"dataframe\">\n  <thead>\n    <tr style=\"text-align: right;\">\n      <th></th>\n      <th>function_name</th>\n      <th>params</th>\n      <th>xmin_index</th>\n      <th>xmin</th>\n      <th>D</th>\n      <th>bic</th>\n      <th>mape</th>\n      <th>adjusted_rsquared</th>\n      <th>standard_hurst</th>\n      <th>stock</th>\n      <th>random_variate</th>\n    </tr>\n  </thead>\n  <tbody>\n    <tr>\n      <th>0</th>\n      <td>powerlaw</td>\n      <td>{'param_names': ['C', 'alpha'], 'C': 0.1145656...</td>\n      <td>1</td>\n      <td>1.0</td>\n      <td>0.031746</td>\n      <td>-3040.368136</td>\n      <td>0.727560</td>\n      <td>0.999213</td>\n      <td>0.510266</td>\n      <td>TSLA</td>\n      <td>returns</td>\n    </tr>\n    <tr>\n      <th>1</th>\n      <td>powerlaw</td>\n      <td>{'param_names': ['C', 'alpha'], 'C': 0.0094922...</td>\n      <td>1</td>\n      <td>1.0</td>\n      <td>0.022222</td>\n      <td>-4675.859833</td>\n      <td>0.656646</td>\n      <td>0.999255</td>\n      <td>0.495638</td>\n      <td>MSFT</td>\n      <td>returns</td>\n    </tr>\n    <tr>\n      <th>2</th>\n      <td>powerlaw</td>\n      <td>{'param_names': ['C', 'alpha'], 'C': 0.2410204...</td>\n      <td>1</td>\n      <td>1.0</td>\n      <td>0.028571</td>\n      <td>-2793.443518</td>\n      <td>0.569582</td>\n      <td>0.999626</td>\n      <td>0.514030</td>\n      <td>AMZN</td>\n      <td>returns</td>\n    </tr>\n    <tr>\n      <th>3</th>\n      <td>powerlaw</td>\n      <td>{'param_names': ['C', 'alpha'], 'C': 0.0417651...</td>\n      <td>1</td>\n      <td>1.0</td>\n      <td>0.022222</td>\n      <td>-3523.893856</td>\n      <td>0.993128</td>\n      <td>0.998639</td>\n      <td>0.503503</td>\n      <td>NFLX</td>\n      <td>returns</td>\n    </tr>\n    <tr>\n      <th>4</th>\n      <td>powerlaw</td>\n      <td>{'param_names': ['C', 'alpha'], 'C': 0.0141333...</td>\n      <td>1</td>\n      <td>1.0</td>\n      <td>0.022222</td>\n      <td>-4738.437607</td>\n      <td>0.430865</td>\n      <td>0.999747</td>\n      <td>0.503954</td>\n      <td>EBAY</td>\n      <td>returns</td>\n    </tr>\n  </tbody>\n</table>\n</div>"
     },
     "metadata": {},
     "output_type": "display_data"
    }
   ],
   "source": [
    "# Standard Hurst\n",
    "method = 'standard'\n",
    "fit_results_list = []\n",
    "fit_objects = {}\n",
    "\n",
    "for stock, data in cumsum_returns.items():\n",
    "    fit_dict, fit = compute_hurst_exponent('returns', stock, data, method=method)\n",
    "    if fit_dict:\n",
    "        fit_results_list.append(fit_dict)\n",
    "        fit_objects[(stock, method, 'returns')] = fit\n",
    "\n",
    "std_hurst_fit_results = pd.DataFrame(fit_results_list)\n",
    "display(std_hurst_fit_results.head())"
   ],
   "metadata": {
    "collapsed": false,
    "ExecuteTime": {
     "start_time": "2023-10-09T07:50:48.136027Z",
     "end_time": "2023-10-09T07:52:28.988536Z"
    }
   }
  },
  {
   "cell_type": "code",
   "execution_count": 21,
   "outputs": [
    {
     "name": "stdout",
     "output_type": "stream",
     "text": [
      "Average Standard Hurst: 0.5033475963575543\n"
     ]
    }
   ],
   "source": [
    "# Average Standard Hurst exponents across stocks\n",
    "avg_hurst_std = std_hurst_fit_results['standard_hurst'].mean()\n",
    "print(f\"Average Standard Hurst: {avg_hurst_std}\")"
   ],
   "metadata": {
    "collapsed": false,
    "ExecuteTime": {
     "start_time": "2023-10-09T07:52:28.983470Z",
     "end_time": "2023-10-09T07:52:29.105643Z"
    }
   }
  },
  {
   "cell_type": "code",
   "execution_count": 22,
   "outputs": [
    {
     "name": "stdout",
     "output_type": "stream",
     "text": [
      "dict_keys([('TSLA', 'standard', 'returns'), ('MSFT', 'standard', 'returns'), ('AMZN', 'standard', 'returns'), ('NFLX', 'standard', 'returns'), ('EBAY', 'standard', 'returns'), ('APPL', 'standard', 'returns')])\n"
     ]
    }
   ],
   "source": [
    "print(fit_objects.keys())"
   ],
   "metadata": {
    "collapsed": false,
    "ExecuteTime": {
     "start_time": "2023-10-09T07:52:29.029359Z",
     "end_time": "2023-10-09T07:52:29.105750Z"
    }
   }
  },
  {
   "cell_type": "code",
   "execution_count": 23,
   "outputs": [],
   "source": [
    "# Retrieve standard Hurst fit object for specific 'STOCK'\n",
    "# tsla_standard_fit = fit_objects[('TSLA', 'standard', 'returns')]\n",
    "# tsla_standard_fit.powerlaw.plot_fit()"
   ],
   "metadata": {
    "collapsed": false,
    "ExecuteTime": {
     "start_time": "2023-10-09T07:52:29.047427Z",
     "end_time": "2023-10-09T07:52:29.105867Z"
    }
   }
  },
  {
   "cell_type": "code",
   "execution_count": 23,
   "outputs": [],
   "source": [],
   "metadata": {
    "collapsed": false,
    "ExecuteTime": {
     "start_time": "2023-10-09T07:52:29.064957Z",
     "end_time": "2023-10-09T07:52:29.105891Z"
    }
   }
  },
  {
   "cell_type": "markdown",
   "source": [
    "#### Generalized Hurst"
   ],
   "metadata": {
    "collapsed": false
   }
  },
  {
   "cell_type": "code",
   "execution_count": 24,
   "outputs": [
    {
     "name": "stderr",
     "output_type": "stream",
     "text": [
      "/Users/ana_bugaenko/workspace/powerlaw_function/util/goodness_of_fit.py:152: RuntimeWarning: ks_2samp: Exact calculation unsuccessful. Switching to method=asymp.\n",
      "  result = stats.ks_2samp(y_values, model_predictions, alternative=\"two-sided\")\n",
      "/Users/ana_bugaenko/workspace/powerlaw_function/util/goodness_of_fit.py:152: RuntimeWarning: ks_2samp: Exact calculation unsuccessful. Switching to method=asymp.\n",
      "  result = stats.ks_2samp(y_values, model_predictions, alternative=\"two-sided\")\n",
      "/Users/ana_bugaenko/workspace/powerlaw_function/util/goodness_of_fit.py:152: RuntimeWarning: ks_2samp: Exact calculation unsuccessful. Switching to method=asymp.\n",
      "  result = stats.ks_2samp(y_values, model_predictions, alternative=\"two-sided\")\n",
      "/Users/ana_bugaenko/workspace/powerlaw_function/util/goodness_of_fit.py:152: RuntimeWarning: ks_2samp: Exact calculation unsuccessful. Switching to method=asymp.\n",
      "  result = stats.ks_2samp(y_values, model_predictions, alternative=\"two-sided\")\n",
      "/Users/ana_bugaenko/workspace/powerlaw_function/util/goodness_of_fit.py:152: RuntimeWarning: ks_2samp: Exact calculation unsuccessful. Switching to method=asymp.\n",
      "  result = stats.ks_2samp(y_values, model_predictions, alternative=\"two-sided\")\n"
     ]
    },
    {
     "data": {
      "text/plain": "  function_name                                             params  \\\n0      powerlaw  {'param_names': ['C', 'alpha'], 'C': 0.0428193...   \n1      powerlaw  {'param_names': ['C', 'alpha'], 'C': 0.0046053...   \n2      powerlaw  {'param_names': ['C', 'alpha'], 'C': 0.0845996...   \n3      powerlaw  {'param_names': ['C', 'alpha'], 'C': 0.0196806...   \n4      powerlaw  {'param_names': ['C', 'alpha'], 'C': 0.0038501...   \n\n   xmin_index  xmin         D          bic      mape  adjusted_rsquared  \\\n0           1   1.0  0.012698 -4037.703129  0.570835           0.999909   \n1           5   2.0  0.012862 -5558.650038  0.383467           0.999898   \n2          21   7.0  0.013559 -3783.744488  0.210818           0.999967   \n3           1   1.0  0.019048 -4463.209948  0.739190           0.999826   \n4           1   1.0  0.012698 -5818.442651  0.383010           0.999955   \n\n   generalized_hurst stock random_variate  \n0           0.600000  TSLA        returns  \n1           0.538793  MSFT        returns  \n2           0.589635  AMZN        returns  \n3           0.557226  NFLX        returns  \n4           0.586856  EBAY        returns  ",
      "text/html": "<div>\n<style scoped>\n    .dataframe tbody tr th:only-of-type {\n        vertical-align: middle;\n    }\n\n    .dataframe tbody tr th {\n        vertical-align: top;\n    }\n\n    .dataframe thead th {\n        text-align: right;\n    }\n</style>\n<table border=\"1\" class=\"dataframe\">\n  <thead>\n    <tr style=\"text-align: right;\">\n      <th></th>\n      <th>function_name</th>\n      <th>params</th>\n      <th>xmin_index</th>\n      <th>xmin</th>\n      <th>D</th>\n      <th>bic</th>\n      <th>mape</th>\n      <th>adjusted_rsquared</th>\n      <th>generalized_hurst</th>\n      <th>stock</th>\n      <th>random_variate</th>\n    </tr>\n  </thead>\n  <tbody>\n    <tr>\n      <th>0</th>\n      <td>powerlaw</td>\n      <td>{'param_names': ['C', 'alpha'], 'C': 0.0428193...</td>\n      <td>1</td>\n      <td>1.0</td>\n      <td>0.012698</td>\n      <td>-4037.703129</td>\n      <td>0.570835</td>\n      <td>0.999909</td>\n      <td>0.600000</td>\n      <td>TSLA</td>\n      <td>returns</td>\n    </tr>\n    <tr>\n      <th>1</th>\n      <td>powerlaw</td>\n      <td>{'param_names': ['C', 'alpha'], 'C': 0.0046053...</td>\n      <td>5</td>\n      <td>2.0</td>\n      <td>0.012862</td>\n      <td>-5558.650038</td>\n      <td>0.383467</td>\n      <td>0.999898</td>\n      <td>0.538793</td>\n      <td>MSFT</td>\n      <td>returns</td>\n    </tr>\n    <tr>\n      <th>2</th>\n      <td>powerlaw</td>\n      <td>{'param_names': ['C', 'alpha'], 'C': 0.0845996...</td>\n      <td>21</td>\n      <td>7.0</td>\n      <td>0.013559</td>\n      <td>-3783.744488</td>\n      <td>0.210818</td>\n      <td>0.999967</td>\n      <td>0.589635</td>\n      <td>AMZN</td>\n      <td>returns</td>\n    </tr>\n    <tr>\n      <th>3</th>\n      <td>powerlaw</td>\n      <td>{'param_names': ['C', 'alpha'], 'C': 0.0196806...</td>\n      <td>1</td>\n      <td>1.0</td>\n      <td>0.019048</td>\n      <td>-4463.209948</td>\n      <td>0.739190</td>\n      <td>0.999826</td>\n      <td>0.557226</td>\n      <td>NFLX</td>\n      <td>returns</td>\n    </tr>\n    <tr>\n      <th>4</th>\n      <td>powerlaw</td>\n      <td>{'param_names': ['C', 'alpha'], 'C': 0.0038501...</td>\n      <td>1</td>\n      <td>1.0</td>\n      <td>0.012698</td>\n      <td>-5818.442651</td>\n      <td>0.383010</td>\n      <td>0.999955</td>\n      <td>0.586856</td>\n      <td>EBAY</td>\n      <td>returns</td>\n    </tr>\n  </tbody>\n</table>\n</div>"
     },
     "metadata": {},
     "output_type": "display_data"
    }
   ],
   "source": [
    "# Generalized Hurst\n",
    "method = 'generalized'\n",
    "fit_results_list = []\n",
    "fit_objects = {}\n",
    "\n",
    "for stock, data in cumsum_returns.items():\n",
    "    fit_dict, fit = compute_hurst_exponent('returns', stock, data, method=method)\n",
    "    if fit_dict:\n",
    "        fit_results_list.append(fit_dict)\n",
    "        fit_objects[(stock, method, 'returns')] = fit\n",
    "\n",
    "gen_hurst_fit_results = pd.DataFrame(fit_results_list)\n",
    "display(gen_hurst_fit_results.head())"
   ],
   "metadata": {
    "collapsed": false,
    "ExecuteTime": {
     "start_time": "2023-10-09T07:52:29.067540Z",
     "end_time": "2023-10-09T07:54:18.002047Z"
    }
   }
  },
  {
   "cell_type": "code",
   "execution_count": 25,
   "outputs": [
    {
     "name": "stdout",
     "output_type": "stream",
     "text": [
      "Min Generalized Hurst: 0.5387928141913161\n",
      "Max Generalized Hurst: 0.5999997080084587\n",
      "Average Generalized Hurst: 0.5719970258010453\n",
      "Standard_dev Generalized Hurst: 0.02363737149728893\n"
     ]
    }
   ],
   "source": [
    "# Generalized Hurst statistic across stocks\n",
    "min_hurst_gen = gen_hurst_fit_results['generalized_hurst'].min()\n",
    "max_hurst_gen = gen_hurst_fit_results['generalized_hurst'].max()\n",
    "avg_hurst_gen = gen_hurst_fit_results['generalized_hurst'].mean()\n",
    "standard_dev = gen_hurst_fit_results['generalized_hurst'].std()\n",
    "\n",
    "print(f\"Min Generalized Hurst: {min_hurst_gen}\")\n",
    "print(f\"Max Generalized Hurst: {max_hurst_gen}\")\n",
    "print(f\"Average Generalized Hurst: {avg_hurst_gen}\")\n",
    "print(f\"Standard_dev Generalized Hurst: {standard_dev}\")"
   ],
   "metadata": {
    "collapsed": false,
    "ExecuteTime": {
     "start_time": "2023-10-09T07:54:18.001547Z",
     "end_time": "2023-10-09T07:54:18.109153Z"
    }
   }
  },
  {
   "cell_type": "code",
   "execution_count": 26,
   "outputs": [
    {
     "name": "stdout",
     "output_type": "stream",
     "text": [
      "dict_keys([('TSLA', 'generalized', 'returns'), ('MSFT', 'generalized', 'returns'), ('AMZN', 'generalized', 'returns'), ('NFLX', 'generalized', 'returns'), ('EBAY', 'generalized', 'returns'), ('APPL', 'generalized', 'returns')])\n"
     ]
    }
   ],
   "source": [
    "print(fit_objects.keys())"
   ],
   "metadata": {
    "collapsed": false,
    "ExecuteTime": {
     "start_time": "2023-10-09T07:54:18.046677Z",
     "end_time": "2023-10-09T07:54:18.109253Z"
    }
   }
  },
  {
   "cell_type": "code",
   "execution_count": 27,
   "outputs": [],
   "source": [
    "# Retrieve generalized fit object for specific 'STOCK'\n",
    "# msft_generalized_fit = fit_objects[('TSLA', 'generalized', 'returns')]\n",
    "# msft_generalized_fit.powerlaw.plot_fit()"
   ],
   "metadata": {
    "collapsed": false,
    "ExecuteTime": {
     "start_time": "2023-10-09T07:54:18.065342Z",
     "end_time": "2023-10-09T07:54:18.109486Z"
    }
   }
  },
  {
   "cell_type": "code",
   "execution_count": 27,
   "outputs": [],
   "source": [],
   "metadata": {
    "collapsed": false,
    "ExecuteTime": {
     "start_time": "2023-10-09T07:54:18.083250Z",
     "end_time": "2023-10-09T07:54:18.109584Z"
    }
   }
  }
 ],
 "metadata": {
  "kernelspec": {
   "display_name": "Python 3",
   "language": "python",
   "name": "python3"
  },
  "language_info": {
   "codemirror_mode": {
    "name": "ipython",
    "version": 2
   },
   "file_extension": ".py",
   "mimetype": "text/x-python",
   "name": "python",
   "nbconvert_exporter": "python",
   "pygments_lexer": "ipython2",
   "version": "2.7.6"
  }
 },
 "nbformat": 4,
 "nbformat_minor": 0
}
