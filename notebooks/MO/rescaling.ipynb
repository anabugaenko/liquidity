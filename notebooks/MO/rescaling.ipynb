{
 "cells": [
  {
   "cell_type": "code",
   "execution_count": 1,
   "metadata": {
    "collapsed": true,
    "ExecuteTime": {
     "start_time": "2023-10-28T13:45:07.462951Z",
     "end_time": "2023-10-28T13:45:08.012150Z"
    }
   },
   "outputs": [],
   "source": [
    "import os\n",
    "import pandas as pd\n",
    "import numpy as np\n",
    "from matplotlib import pyplot as plt"
   ]
  },
  {
   "cell_type": "code",
   "execution_count": 2,
   "outputs": [],
   "source": [
    "from liquidity.response_functions.functional_form import rescaled_form, scaling_form\n",
    "from liquidity.util.utils import bin_data_into_quantiles, smooth_outliers\n",
    "from liquidity.response_functions.features import compute_aggregate_features\n",
    "from liquidity.response_functions.fit import find_shape_parameters, compute_scale_factors, renormalise\n",
    "from liquidity.response_functions.price_response_functions import compute_conditional_aggregate_impact"
   ],
   "metadata": {
    "collapsed": false,
    "ExecuteTime": {
     "start_time": "2023-10-28T13:45:09.099921Z",
     "end_time": "2023-10-28T13:45:09.716905Z"
    }
   }
  },
  {
   "cell_type": "code",
   "execution_count": 3,
   "outputs": [],
   "source": [
    "from IPython.core.interactiveshell import InteractiveShell\n",
    "InteractiveShell.ast_node_interactivity = 'last_expr'"
   ],
   "metadata": {
    "collapsed": false,
    "ExecuteTime": {
     "start_time": "2023-10-28T13:45:10.474956Z",
     "end_time": "2023-10-28T13:45:10.509537Z"
    }
   }
  },
  {
   "cell_type": "code",
   "execution_count": 4,
   "outputs": [],
   "source": [
    "%load_ext autoreload\n",
    "%autoreload 2"
   ],
   "metadata": {
    "collapsed": false,
    "ExecuteTime": {
     "start_time": "2023-10-28T13:45:11.227194Z",
     "end_time": "2023-10-28T13:45:11.280197Z"
    }
   }
  },
  {
   "cell_type": "code",
   "execution_count": 4,
   "outputs": [],
   "source": [],
   "metadata": {
    "collapsed": false,
    "ExecuteTime": {
     "start_time": "2023-10-28T13:45:11.773529Z",
     "end_time": "2023-10-28T13:45:11.814278Z"
    }
   }
  },
  {
   "cell_type": "markdown",
   "source": [
    "## Load data"
   ],
   "metadata": {
    "collapsed": false
   }
  },
  {
   "cell_type": "code",
   "execution_count": 5,
   "outputs": [],
   "source": [
    "# TSLA Example\n",
    "current_dir = os.path.abspath('.')\n",
    "root_dir = os.path.join(current_dir, '..', '..')\n",
    "data_dir = os.path.join(root_dir, 'data', 'market_orders')\n",
    "filename = \"TSLA-2017-NEW.csv\"\n",
    "stock_file_path = os.path.join(data_dir, filename)\n",
    "tsla_orderbook_states = pd.read_csv(stock_file_path)"
   ],
   "metadata": {
    "collapsed": false,
    "ExecuteTime": {
     "start_time": "2023-10-28T13:45:13.101088Z",
     "end_time": "2023-10-28T13:45:15.852484Z"
    }
   }
  },
  {
   "cell_type": "code",
   "execution_count": 8,
   "outputs": [
    {
     "data": {
      "text/plain": "         Unnamed: 0                event_timestamp  sign side lob_action  \\\n0                 0  2017-01-03 10:30:19.351489154     1  ASK     UPDATE   \n1                 1  2017-01-03 10:30:19.351537884     1  ASK     REMOVE   \n2                 2  2017-01-03 10:30:19.351549791     1  ASK     UPDATE   \n3                 3  2017-01-03 10:30:19.351601187     1  ASK     UPDATE   \n4                 4  2017-01-03 10:30:19.351702603     1  ASK     REMOVE   \n...             ...                            ...   ...  ...        ...   \n1411991        3572  2017-12-29 14:59:11.533706465     1  ASK     REMOVE   \n1411992        3573  2017-12-29 14:59:50.386983509    -1  BID     REMOVE   \n1411993        3574  2017-12-29 14:59:50.387892067    -1  BID     UPDATE   \n1411994        3575  2017-12-29 14:59:50.387904347    -1  BID     UPDATE   \n1411995        3576  2017-12-29 14:59:50.387918018    -1  BID     REMOVE   \n\n         order_executed  execution_price  size     ask     bid  ...  \\\n0                  True           219.37     1  219.37  219.28  ...   \n1                  True           219.37    15  219.37  219.28  ...   \n2                  True           219.38    80  219.38  219.28  ...   \n3                  True           219.38    80  219.38  219.29  ...   \n4                  True           219.38    40  219.38  219.29  ...   \n...                 ...              ...   ...     ...     ...  ...   \n1411991            True           311.06   321  311.06  311.02  ...   \n1411992            True           311.03   200  311.10  311.03  ...   \n1411993            True           311.02   200  311.05  311.02  ...   \n1411994            True           311.02     2  311.05  311.02  ...   \n1411995            True           311.02    18  311.05  311.02  ...   \n\n         bid_queue_size_mean  midprice_change     R1  spread        date  \\\n0                 135.963741            0.000  0.000    0.09  2017-01-03   \n1                 135.963741            0.005  0.005    0.09  2017-01-03   \n2                 135.963741            0.005  0.005    0.10  2017-01-03   \n3                 135.963741            0.000  0.000    0.09  2017-01-03   \n4                 135.963741            0.050  0.050    0.09  2017-01-03   \n...                      ...              ...    ...     ...         ...   \n1411991           151.020334            0.025  0.025    0.04  2017-12-29   \n1411992           151.020334           -0.030  0.030    0.07  2017-12-29   \n1411993           151.020334            0.000 -0.000    0.03  2017-12-29   \n1411994           151.020334            0.000 -0.000    0.03  2017-12-29   \n1411995           151.020334            0.000 -0.000    0.03  2017-12-29   \n\n         daily_R1  daily_vol  daily_num  norm_size signed_volume  \n0        0.021159     277786       3279   0.008043             1  \n1        0.021159     277786       3279   0.120647            15  \n2        0.021159     277786       3279   0.643452            80  \n3        0.021159     277786       3279   0.643452            80  \n4        0.021159     277786       3279   0.321726            40  \n...           ...        ...        ...        ...           ...  \n1411991  0.019713     322243       3577   2.112474           321  \n1411992  0.019713     322243       3577   1.324325          -200  \n1411993  0.019713     322243       3577   1.324325          -200  \n1411994  0.019713     322243       3577   0.013243            -2  \n1411995  0.019713     322243       3577   0.119189           -18  \n\n[1411996 rows x 25 columns]",
      "text/html": "<div>\n<style scoped>\n    .dataframe tbody tr th:only-of-type {\n        vertical-align: middle;\n    }\n\n    .dataframe tbody tr th {\n        vertical-align: top;\n    }\n\n    .dataframe thead th {\n        text-align: right;\n    }\n</style>\n<table border=\"1\" class=\"dataframe\">\n  <thead>\n    <tr style=\"text-align: right;\">\n      <th></th>\n      <th>Unnamed: 0</th>\n      <th>event_timestamp</th>\n      <th>sign</th>\n      <th>side</th>\n      <th>lob_action</th>\n      <th>order_executed</th>\n      <th>execution_price</th>\n      <th>size</th>\n      <th>ask</th>\n      <th>bid</th>\n      <th>...</th>\n      <th>bid_queue_size_mean</th>\n      <th>midprice_change</th>\n      <th>R1</th>\n      <th>spread</th>\n      <th>date</th>\n      <th>daily_R1</th>\n      <th>daily_vol</th>\n      <th>daily_num</th>\n      <th>norm_size</th>\n      <th>signed_volume</th>\n    </tr>\n  </thead>\n  <tbody>\n    <tr>\n      <th>0</th>\n      <td>0</td>\n      <td>2017-01-03 10:30:19.351489154</td>\n      <td>1</td>\n      <td>ASK</td>\n      <td>UPDATE</td>\n      <td>True</td>\n      <td>219.37</td>\n      <td>1</td>\n      <td>219.37</td>\n      <td>219.28</td>\n      <td>...</td>\n      <td>135.963741</td>\n      <td>0.000</td>\n      <td>0.000</td>\n      <td>0.09</td>\n      <td>2017-01-03</td>\n      <td>0.021159</td>\n      <td>277786</td>\n      <td>3279</td>\n      <td>0.008043</td>\n      <td>1</td>\n    </tr>\n    <tr>\n      <th>1</th>\n      <td>1</td>\n      <td>2017-01-03 10:30:19.351537884</td>\n      <td>1</td>\n      <td>ASK</td>\n      <td>REMOVE</td>\n      <td>True</td>\n      <td>219.37</td>\n      <td>15</td>\n      <td>219.37</td>\n      <td>219.28</td>\n      <td>...</td>\n      <td>135.963741</td>\n      <td>0.005</td>\n      <td>0.005</td>\n      <td>0.09</td>\n      <td>2017-01-03</td>\n      <td>0.021159</td>\n      <td>277786</td>\n      <td>3279</td>\n      <td>0.120647</td>\n      <td>15</td>\n    </tr>\n    <tr>\n      <th>2</th>\n      <td>2</td>\n      <td>2017-01-03 10:30:19.351549791</td>\n      <td>1</td>\n      <td>ASK</td>\n      <td>UPDATE</td>\n      <td>True</td>\n      <td>219.38</td>\n      <td>80</td>\n      <td>219.38</td>\n      <td>219.28</td>\n      <td>...</td>\n      <td>135.963741</td>\n      <td>0.005</td>\n      <td>0.005</td>\n      <td>0.10</td>\n      <td>2017-01-03</td>\n      <td>0.021159</td>\n      <td>277786</td>\n      <td>3279</td>\n      <td>0.643452</td>\n      <td>80</td>\n    </tr>\n    <tr>\n      <th>3</th>\n      <td>3</td>\n      <td>2017-01-03 10:30:19.351601187</td>\n      <td>1</td>\n      <td>ASK</td>\n      <td>UPDATE</td>\n      <td>True</td>\n      <td>219.38</td>\n      <td>80</td>\n      <td>219.38</td>\n      <td>219.29</td>\n      <td>...</td>\n      <td>135.963741</td>\n      <td>0.000</td>\n      <td>0.000</td>\n      <td>0.09</td>\n      <td>2017-01-03</td>\n      <td>0.021159</td>\n      <td>277786</td>\n      <td>3279</td>\n      <td>0.643452</td>\n      <td>80</td>\n    </tr>\n    <tr>\n      <th>4</th>\n      <td>4</td>\n      <td>2017-01-03 10:30:19.351702603</td>\n      <td>1</td>\n      <td>ASK</td>\n      <td>REMOVE</td>\n      <td>True</td>\n      <td>219.38</td>\n      <td>40</td>\n      <td>219.38</td>\n      <td>219.29</td>\n      <td>...</td>\n      <td>135.963741</td>\n      <td>0.050</td>\n      <td>0.050</td>\n      <td>0.09</td>\n      <td>2017-01-03</td>\n      <td>0.021159</td>\n      <td>277786</td>\n      <td>3279</td>\n      <td>0.321726</td>\n      <td>40</td>\n    </tr>\n    <tr>\n      <th>...</th>\n      <td>...</td>\n      <td>...</td>\n      <td>...</td>\n      <td>...</td>\n      <td>...</td>\n      <td>...</td>\n      <td>...</td>\n      <td>...</td>\n      <td>...</td>\n      <td>...</td>\n      <td>...</td>\n      <td>...</td>\n      <td>...</td>\n      <td>...</td>\n      <td>...</td>\n      <td>...</td>\n      <td>...</td>\n      <td>...</td>\n      <td>...</td>\n      <td>...</td>\n      <td>...</td>\n    </tr>\n    <tr>\n      <th>1411991</th>\n      <td>3572</td>\n      <td>2017-12-29 14:59:11.533706465</td>\n      <td>1</td>\n      <td>ASK</td>\n      <td>REMOVE</td>\n      <td>True</td>\n      <td>311.06</td>\n      <td>321</td>\n      <td>311.06</td>\n      <td>311.02</td>\n      <td>...</td>\n      <td>151.020334</td>\n      <td>0.025</td>\n      <td>0.025</td>\n      <td>0.04</td>\n      <td>2017-12-29</td>\n      <td>0.019713</td>\n      <td>322243</td>\n      <td>3577</td>\n      <td>2.112474</td>\n      <td>321</td>\n    </tr>\n    <tr>\n      <th>1411992</th>\n      <td>3573</td>\n      <td>2017-12-29 14:59:50.386983509</td>\n      <td>-1</td>\n      <td>BID</td>\n      <td>REMOVE</td>\n      <td>True</td>\n      <td>311.03</td>\n      <td>200</td>\n      <td>311.10</td>\n      <td>311.03</td>\n      <td>...</td>\n      <td>151.020334</td>\n      <td>-0.030</td>\n      <td>0.030</td>\n      <td>0.07</td>\n      <td>2017-12-29</td>\n      <td>0.019713</td>\n      <td>322243</td>\n      <td>3577</td>\n      <td>1.324325</td>\n      <td>-200</td>\n    </tr>\n    <tr>\n      <th>1411993</th>\n      <td>3574</td>\n      <td>2017-12-29 14:59:50.387892067</td>\n      <td>-1</td>\n      <td>BID</td>\n      <td>UPDATE</td>\n      <td>True</td>\n      <td>311.02</td>\n      <td>200</td>\n      <td>311.05</td>\n      <td>311.02</td>\n      <td>...</td>\n      <td>151.020334</td>\n      <td>0.000</td>\n      <td>-0.000</td>\n      <td>0.03</td>\n      <td>2017-12-29</td>\n      <td>0.019713</td>\n      <td>322243</td>\n      <td>3577</td>\n      <td>1.324325</td>\n      <td>-200</td>\n    </tr>\n    <tr>\n      <th>1411994</th>\n      <td>3575</td>\n      <td>2017-12-29 14:59:50.387904347</td>\n      <td>-1</td>\n      <td>BID</td>\n      <td>UPDATE</td>\n      <td>True</td>\n      <td>311.02</td>\n      <td>2</td>\n      <td>311.05</td>\n      <td>311.02</td>\n      <td>...</td>\n      <td>151.020334</td>\n      <td>0.000</td>\n      <td>-0.000</td>\n      <td>0.03</td>\n      <td>2017-12-29</td>\n      <td>0.019713</td>\n      <td>322243</td>\n      <td>3577</td>\n      <td>0.013243</td>\n      <td>-2</td>\n    </tr>\n    <tr>\n      <th>1411995</th>\n      <td>3576</td>\n      <td>2017-12-29 14:59:50.387918018</td>\n      <td>-1</td>\n      <td>BID</td>\n      <td>REMOVE</td>\n      <td>True</td>\n      <td>311.02</td>\n      <td>18</td>\n      <td>311.05</td>\n      <td>311.02</td>\n      <td>...</td>\n      <td>151.020334</td>\n      <td>0.000</td>\n      <td>-0.000</td>\n      <td>0.03</td>\n      <td>2017-12-29</td>\n      <td>0.019713</td>\n      <td>322243</td>\n      <td>3577</td>\n      <td>0.119189</td>\n      <td>-18</td>\n    </tr>\n  </tbody>\n</table>\n<p>1411996 rows × 25 columns</p>\n</div>"
     },
     "execution_count": 8,
     "metadata": {},
     "output_type": "execute_result"
    }
   ],
   "source": [
    "tsla_orderbook_states"
   ],
   "metadata": {
    "collapsed": false,
    "ExecuteTime": {
     "start_time": "2023-10-28T13:46:53.420812Z",
     "end_time": "2023-10-28T13:46:53.720189Z"
    }
   }
  },
  {
   "cell_type": "code",
   "execution_count": null,
   "outputs": [],
   "source": [],
   "metadata": {
    "collapsed": false
   }
  },
  {
   "cell_type": "markdown",
   "source": [
    "## Finite-size scaling of conditional distrubutions (functions or curves)\n",
    "\n",
    "#### Fitting functions\n",
    "\n",
    "   Scaling function: $\\mathscr{F}(x) = \\frac{x}{(1 + |x|^\\alpha)^{\\frac{\\beta}{\\alpha}}}$\n",
    "   Rescaled form:  $R(ΔV,T) \\approx R(1)T^\\chi \\times  \\mathscr{F}\\left(\\frac{ΔV}{V_{D}T^\\varkappa}\\right)$\n",
    "   Scaling form: $R(ΔV) \\approx R_T \\times  \\mathscr{F}\\left(\\frac{ΔV}{\\mathcal{E}_T}\\right)$\n",
    "\n",
    "\n",
    "   In order to determine the rescaling exponents $\\chi$ and $\\varkappa$:\n",
    "\n",
    "   1. The shape of $R(ΔV,T)$ is fitted for all T using the scaling form with scaling function given by $\\mathscr{F}(x)$.\n",
    "\n",
    "   2. Once shape parameters $\\alpha$ and $\\beta$ are fixed, we can map out scale factors $QN$ and $RN$, by fitting the\n",
    "    rescaled_form on each $T$ whilst keeping constant the value of $\\alpha$ and $\\beta$ for all $T$."
   ],
   "metadata": {
    "collapsed": false
   }
  },
  {
   "cell_type": "code",
   "execution_count": null,
   "outputs": [],
   "source": [],
   "metadata": {
    "collapsed": false
   }
  },
  {
   "cell_type": "code",
   "execution_count": null,
   "outputs": [],
   "source": [],
   "metadata": {
    "collapsed": false
   }
  },
  {
   "cell_type": "code",
   "execution_count": null,
   "outputs": [],
   "source": [],
   "metadata": {
    "collapsed": false
   }
  },
  {
   "cell_type": "code",
   "execution_count": null,
   "outputs": [],
   "source": [],
   "metadata": {
    "collapsed": false
   }
  }
 ],
 "metadata": {
  "kernelspec": {
   "display_name": "Python 3",
   "language": "python",
   "name": "python3"
  },
  "language_info": {
   "codemirror_mode": {
    "name": "ipython",
    "version": 2
   },
   "file_extension": ".py",
   "mimetype": "text/x-python",
   "name": "python",
   "nbconvert_exporter": "python",
   "pygments_lexer": "ipython2",
   "version": "2.7.6"
  }
 },
 "nbformat": 4,
 "nbformat_minor": 0
}
