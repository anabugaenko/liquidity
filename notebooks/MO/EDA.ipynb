{
 "cells": [
  {
   "cell_type": "code",
   "execution_count": 1,
   "metadata": {
    "collapsed": true,
    "ExecuteTime": {
     "start_time": "2023-09-27T16:52:36.304950Z",
     "end_time": "2023-09-27T16:52:36.314575Z"
    }
   },
   "outputs": [],
   "source": [
    "import os\n",
    "import pandas as pd\n",
    "\n",
    "from powerlaw import Fit\n",
    "from powerlaw import plot_pdf, plot_ccdf\n",
    "\n",
    "from liquidity.util.trades_data_util import get_trades_impact"
   ]
  },
  {
   "cell_type": "code",
   "execution_count": 2,
   "outputs": [],
   "source": [
    "%load_ext autoreload\n",
    "%autoreload 2"
   ],
   "metadata": {
    "collapsed": false,
    "ExecuteTime": {
     "start_time": "2023-09-27T16:52:37.302984Z",
     "end_time": "2023-09-27T16:52:37.333325Z"
    }
   }
  },
  {
   "cell_type": "code",
   "execution_count": 3,
   "outputs": [
    {
     "data": {
      "text/plain": "       event_no  quote_no side   price  size    order_id  \\\n41425     41426     41426  ASK  201.50   100  67683208.0   \n41426     41427     41427  BID     NaN     0         NaN   \n41428     41429     41429  ASK     NaN     0         NaN   \n41430     41431     41431  BID     NaN     0         NaN   \n41432     41433     41433  BID     NaN     0         NaN   \n41436     41437     41437  ASK     NaN     0         NaN   \n41437     41438     41438  ASK  201.50    47  67683208.0   \n41438     41439     41439  ASK     NaN     0         NaN   \n41440     41441     41441  BID  201.41   100  67791820.0   \n41446     41447     41447  BID  201.42   100  67791956.0   \n\n                     event_timestamp lob_action  old_price  old_size  ...  \\\n41425  2016-09-30 10:30:00.034204396     INSERT        NaN         0  ...   \n41426  2016-09-30 10:30:00.245165058     REMOVE     200.03       100  ...   \n41428  2016-09-30 10:30:00.245244884     REMOVE     202.86       100  ...   \n41430  2016-09-30 10:30:01.225076157     REMOVE     201.12        81  ...   \n41432  2016-09-30 10:30:01.332869328     REMOVE     200.04       100  ...   \n41436  2016-09-30 10:30:02.196223415     REMOVE     201.50        47  ...   \n41437  2016-09-30 10:30:02.196223415     UPDATE     201.50       100  ...   \n41438  2016-09-30 10:30:02.196272178     REMOVE     201.50        47  ...   \n41440  2016-09-30 10:30:02.196313234     INSERT        NaN         0  ...   \n41446  2016-09-30 10:30:02.196763463     INSERT        NaN         0  ...   \n\n       modify_count  end_of_event  best_ask_num_orders  best_bid_num_orders  \\\n41425             0          True                    2                    1   \n41426             0          True                    2                    1   \n41428             0          True                    2                    1   \n41430             0          True                    2                    1   \n41432             0          True                    2                    1   \n41436             0          True                    1                    1   \n41437             1          True                    1                    1   \n41438             1          True                    1                    1   \n41440             0          True                    1                    1   \n41446             0          True                    1                    1   \n\n       level_num_orders_total  level_size_total  total_ask_orders  \\\n41425                       2               147              5194   \n41426                       0                 0              5194   \n41428                       0                 0              5193   \n41430                       0                 0              5194   \n41432                       0                 0              5194   \n41436                       1               100              5193   \n41437                       1                47              5193   \n41438                       0                 0              5192   \n41440                       1               100              5192   \n41446                       1               100              5192   \n\n       total_bid_orders        market_state  printable  \n41425              4065  CONTINUOUS_TRADING       True  \n41426              4064  CONTINUOUS_TRADING       True  \n41428              4065  CONTINUOUS_TRADING       True  \n41430              4064  CONTINUOUS_TRADING       True  \n41432              4064  CONTINUOUS_TRADING       True  \n41436              4065  CONTINUOUS_TRADING       True  \n41437              4065  CONTINUOUS_TRADING       True  \n41438              4065  CONTINUOUS_TRADING       True  \n41440              4065  CONTINUOUS_TRADING       True  \n41446              4067  CONTINUOUS_TRADING       True  \n\n[10 rows x 38 columns]",
      "text/html": "<div>\n<style scoped>\n    .dataframe tbody tr th:only-of-type {\n        vertical-align: middle;\n    }\n\n    .dataframe tbody tr th {\n        vertical-align: top;\n    }\n\n    .dataframe thead th {\n        text-align: right;\n    }\n</style>\n<table border=\"1\" class=\"dataframe\">\n  <thead>\n    <tr style=\"text-align: right;\">\n      <th></th>\n      <th>event_no</th>\n      <th>quote_no</th>\n      <th>side</th>\n      <th>price</th>\n      <th>size</th>\n      <th>order_id</th>\n      <th>event_timestamp</th>\n      <th>lob_action</th>\n      <th>old_price</th>\n      <th>old_size</th>\n      <th>...</th>\n      <th>modify_count</th>\n      <th>end_of_event</th>\n      <th>best_ask_num_orders</th>\n      <th>best_bid_num_orders</th>\n      <th>level_num_orders_total</th>\n      <th>level_size_total</th>\n      <th>total_ask_orders</th>\n      <th>total_bid_orders</th>\n      <th>market_state</th>\n      <th>printable</th>\n    </tr>\n  </thead>\n  <tbody>\n    <tr>\n      <th>41425</th>\n      <td>41426</td>\n      <td>41426</td>\n      <td>ASK</td>\n      <td>201.50</td>\n      <td>100</td>\n      <td>67683208.0</td>\n      <td>2016-09-30 10:30:00.034204396</td>\n      <td>INSERT</td>\n      <td>NaN</td>\n      <td>0</td>\n      <td>...</td>\n      <td>0</td>\n      <td>True</td>\n      <td>2</td>\n      <td>1</td>\n      <td>2</td>\n      <td>147</td>\n      <td>5194</td>\n      <td>4065</td>\n      <td>CONTINUOUS_TRADING</td>\n      <td>True</td>\n    </tr>\n    <tr>\n      <th>41426</th>\n      <td>41427</td>\n      <td>41427</td>\n      <td>BID</td>\n      <td>NaN</td>\n      <td>0</td>\n      <td>NaN</td>\n      <td>2016-09-30 10:30:00.245165058</td>\n      <td>REMOVE</td>\n      <td>200.03</td>\n      <td>100</td>\n      <td>...</td>\n      <td>0</td>\n      <td>True</td>\n      <td>2</td>\n      <td>1</td>\n      <td>0</td>\n      <td>0</td>\n      <td>5194</td>\n      <td>4064</td>\n      <td>CONTINUOUS_TRADING</td>\n      <td>True</td>\n    </tr>\n    <tr>\n      <th>41428</th>\n      <td>41429</td>\n      <td>41429</td>\n      <td>ASK</td>\n      <td>NaN</td>\n      <td>0</td>\n      <td>NaN</td>\n      <td>2016-09-30 10:30:00.245244884</td>\n      <td>REMOVE</td>\n      <td>202.86</td>\n      <td>100</td>\n      <td>...</td>\n      <td>0</td>\n      <td>True</td>\n      <td>2</td>\n      <td>1</td>\n      <td>0</td>\n      <td>0</td>\n      <td>5193</td>\n      <td>4065</td>\n      <td>CONTINUOUS_TRADING</td>\n      <td>True</td>\n    </tr>\n    <tr>\n      <th>41430</th>\n      <td>41431</td>\n      <td>41431</td>\n      <td>BID</td>\n      <td>NaN</td>\n      <td>0</td>\n      <td>NaN</td>\n      <td>2016-09-30 10:30:01.225076157</td>\n      <td>REMOVE</td>\n      <td>201.12</td>\n      <td>81</td>\n      <td>...</td>\n      <td>0</td>\n      <td>True</td>\n      <td>2</td>\n      <td>1</td>\n      <td>0</td>\n      <td>0</td>\n      <td>5194</td>\n      <td>4064</td>\n      <td>CONTINUOUS_TRADING</td>\n      <td>True</td>\n    </tr>\n    <tr>\n      <th>41432</th>\n      <td>41433</td>\n      <td>41433</td>\n      <td>BID</td>\n      <td>NaN</td>\n      <td>0</td>\n      <td>NaN</td>\n      <td>2016-09-30 10:30:01.332869328</td>\n      <td>REMOVE</td>\n      <td>200.04</td>\n      <td>100</td>\n      <td>...</td>\n      <td>0</td>\n      <td>True</td>\n      <td>2</td>\n      <td>1</td>\n      <td>0</td>\n      <td>0</td>\n      <td>5194</td>\n      <td>4064</td>\n      <td>CONTINUOUS_TRADING</td>\n      <td>True</td>\n    </tr>\n    <tr>\n      <th>41436</th>\n      <td>41437</td>\n      <td>41437</td>\n      <td>ASK</td>\n      <td>NaN</td>\n      <td>0</td>\n      <td>NaN</td>\n      <td>2016-09-30 10:30:02.196223415</td>\n      <td>REMOVE</td>\n      <td>201.50</td>\n      <td>47</td>\n      <td>...</td>\n      <td>0</td>\n      <td>True</td>\n      <td>1</td>\n      <td>1</td>\n      <td>1</td>\n      <td>100</td>\n      <td>5193</td>\n      <td>4065</td>\n      <td>CONTINUOUS_TRADING</td>\n      <td>True</td>\n    </tr>\n    <tr>\n      <th>41437</th>\n      <td>41438</td>\n      <td>41438</td>\n      <td>ASK</td>\n      <td>201.50</td>\n      <td>47</td>\n      <td>67683208.0</td>\n      <td>2016-09-30 10:30:02.196223415</td>\n      <td>UPDATE</td>\n      <td>201.50</td>\n      <td>100</td>\n      <td>...</td>\n      <td>1</td>\n      <td>True</td>\n      <td>1</td>\n      <td>1</td>\n      <td>1</td>\n      <td>47</td>\n      <td>5193</td>\n      <td>4065</td>\n      <td>CONTINUOUS_TRADING</td>\n      <td>True</td>\n    </tr>\n    <tr>\n      <th>41438</th>\n      <td>41439</td>\n      <td>41439</td>\n      <td>ASK</td>\n      <td>NaN</td>\n      <td>0</td>\n      <td>NaN</td>\n      <td>2016-09-30 10:30:02.196272178</td>\n      <td>REMOVE</td>\n      <td>201.50</td>\n      <td>47</td>\n      <td>...</td>\n      <td>1</td>\n      <td>True</td>\n      <td>1</td>\n      <td>1</td>\n      <td>0</td>\n      <td>0</td>\n      <td>5192</td>\n      <td>4065</td>\n      <td>CONTINUOUS_TRADING</td>\n      <td>True</td>\n    </tr>\n    <tr>\n      <th>41440</th>\n      <td>41441</td>\n      <td>41441</td>\n      <td>BID</td>\n      <td>201.41</td>\n      <td>100</td>\n      <td>67791820.0</td>\n      <td>2016-09-30 10:30:02.196313234</td>\n      <td>INSERT</td>\n      <td>NaN</td>\n      <td>0</td>\n      <td>...</td>\n      <td>0</td>\n      <td>True</td>\n      <td>1</td>\n      <td>1</td>\n      <td>1</td>\n      <td>100</td>\n      <td>5192</td>\n      <td>4065</td>\n      <td>CONTINUOUS_TRADING</td>\n      <td>True</td>\n    </tr>\n    <tr>\n      <th>41446</th>\n      <td>41447</td>\n      <td>41447</td>\n      <td>BID</td>\n      <td>201.42</td>\n      <td>100</td>\n      <td>67791956.0</td>\n      <td>2016-09-30 10:30:02.196763463</td>\n      <td>INSERT</td>\n      <td>NaN</td>\n      <td>0</td>\n      <td>...</td>\n      <td>0</td>\n      <td>True</td>\n      <td>1</td>\n      <td>1</td>\n      <td>1</td>\n      <td>100</td>\n      <td>5192</td>\n      <td>4067</td>\n      <td>CONTINUOUS_TRADING</td>\n      <td>True</td>\n    </tr>\n  </tbody>\n</table>\n<p>10 rows × 38 columns</p>\n</div>"
     },
     "execution_count": 3,
     "metadata": {},
     "output_type": "execute_result"
    }
   ],
   "source": [
    "# Creating the path to the CSV file\n",
    "current_dir = os.path.abspath('.')\n",
    "root_dir = os.path.join(current_dir, '..', '..')\n",
    "csv_path = os.path.join(root_dir, 'data', 'sample', '2016-09-30_TSLA.csv')\n",
    "\n",
    "# Read the CSV\n",
    "tsla_data = pd.read_csv(csv_path, header=0, index_col=0)\n",
    "tsla_data.head(10)"
   ],
   "metadata": {
    "collapsed": false,
    "ExecuteTime": {
     "start_time": "2023-09-27T16:52:39.044977Z",
     "end_time": "2023-09-27T16:52:39.210998Z"
    }
   }
  },
  {
   "cell_type": "markdown",
   "source": [
    "# Summary Statistics\n",
    "\n",
    "Below, we present some up-to-date statistical results regarding order flow and LOB state for a set of representative of assets that we study from our universe. More specificaly, we list a range of summary statistics that describe aggregate activity.  A few notable features, common to all stocks, should be outlined:"
   ],
   "metadata": {
    "collapsed": false
   }
  },
  {
   "cell_type": "code",
   "execution_count": 5,
   "outputs": [
    {
     "data": {
      "text/plain": "                   event_timestamp  sign side lob_action  order_executed  \\\n0    2016-09-30 10:30:02.196223415     1  ASK     UPDATE            True   \n1    2016-09-30 10:30:02.196272178     1  ASK     REMOVE            True   \n2    2016-09-30 10:30:24.282472187    -1  BID     REMOVE            True   \n3    2016-09-30 10:30:24.283284414    -1  BID     REMOVE            True   \n4    2016-09-30 10:30:42.004295012     1  ASK     REMOVE            True   \n...                            ...   ...  ...        ...             ...   \n1810 2016-09-30 14:59:25.335373566    -1  BID     REMOVE            True   \n1811 2016-09-30 14:59:25.336160987    -1  BID     REMOVE            True   \n1812 2016-09-30 14:59:25.338106494    -1  BID     REMOVE            True   \n1813 2016-09-30 14:59:25.338138898    -1  BID     REMOVE            True   \n1814 2016-09-30 14:59:57.795769926    -1  BID     REMOVE            True   \n\n      execution_price  execution_size     ask     bid  midprice  ask_volume  \\\n0              201.50             100  201.50  201.31   201.405       147.0   \n1              201.50              47  201.50  201.31   201.405        47.0   \n2              201.51             100  201.62  201.51   201.565        15.0   \n3              201.51             100  201.62  201.51   201.565        15.0   \n4              201.59              50  201.59  201.42   201.505        50.0   \n...               ...             ...     ...     ...       ...         ...   \n1810           204.18             100  204.47  204.18   204.325       145.0   \n1811           204.13             100  204.41  204.13   204.270       100.0   \n1812           204.19             100  204.41  204.19   204.300       100.0   \n1813           204.19              81  204.41  204.19   204.300       100.0   \n1814           204.09               5  204.25  204.09   204.170       100.0   \n\n      bid_volume  price_changing  midprice_change     R1  norm_trade_volume  \n0          100.0           False            0.000  0.000           0.832413  \n1          100.0            True            0.160  0.160           0.391234  \n2          100.0            True            0.000 -0.000           0.771640  \n3          100.0            True           -0.060  0.060           0.771640  \n4          200.0            True            0.100  0.100           0.416207  \n...          ...             ...              ...    ...                ...  \n1810       100.0            True           -0.055  0.055           0.771640  \n1811       181.0           False            0.030 -0.030           0.771640  \n1812       181.0           False            0.000 -0.000           0.771640  \n1813        81.0            True           -0.130  0.130           0.625028  \n1814         5.0            True            0.000 -0.000           0.038582  \n\n[1815 rows x 16 columns]",
      "text/html": "<div>\n<style scoped>\n    .dataframe tbody tr th:only-of-type {\n        vertical-align: middle;\n    }\n\n    .dataframe tbody tr th {\n        vertical-align: top;\n    }\n\n    .dataframe thead th {\n        text-align: right;\n    }\n</style>\n<table border=\"1\" class=\"dataframe\">\n  <thead>\n    <tr style=\"text-align: right;\">\n      <th></th>\n      <th>event_timestamp</th>\n      <th>sign</th>\n      <th>side</th>\n      <th>lob_action</th>\n      <th>order_executed</th>\n      <th>execution_price</th>\n      <th>execution_size</th>\n      <th>ask</th>\n      <th>bid</th>\n      <th>midprice</th>\n      <th>ask_volume</th>\n      <th>bid_volume</th>\n      <th>price_changing</th>\n      <th>midprice_change</th>\n      <th>R1</th>\n      <th>norm_trade_volume</th>\n    </tr>\n  </thead>\n  <tbody>\n    <tr>\n      <th>0</th>\n      <td>2016-09-30 10:30:02.196223415</td>\n      <td>1</td>\n      <td>ASK</td>\n      <td>UPDATE</td>\n      <td>True</td>\n      <td>201.50</td>\n      <td>100</td>\n      <td>201.50</td>\n      <td>201.31</td>\n      <td>201.405</td>\n      <td>147.0</td>\n      <td>100.0</td>\n      <td>False</td>\n      <td>0.000</td>\n      <td>0.000</td>\n      <td>0.832413</td>\n    </tr>\n    <tr>\n      <th>1</th>\n      <td>2016-09-30 10:30:02.196272178</td>\n      <td>1</td>\n      <td>ASK</td>\n      <td>REMOVE</td>\n      <td>True</td>\n      <td>201.50</td>\n      <td>47</td>\n      <td>201.50</td>\n      <td>201.31</td>\n      <td>201.405</td>\n      <td>47.0</td>\n      <td>100.0</td>\n      <td>True</td>\n      <td>0.160</td>\n      <td>0.160</td>\n      <td>0.391234</td>\n    </tr>\n    <tr>\n      <th>2</th>\n      <td>2016-09-30 10:30:24.282472187</td>\n      <td>-1</td>\n      <td>BID</td>\n      <td>REMOVE</td>\n      <td>True</td>\n      <td>201.51</td>\n      <td>100</td>\n      <td>201.62</td>\n      <td>201.51</td>\n      <td>201.565</td>\n      <td>15.0</td>\n      <td>100.0</td>\n      <td>True</td>\n      <td>0.000</td>\n      <td>-0.000</td>\n      <td>0.771640</td>\n    </tr>\n    <tr>\n      <th>3</th>\n      <td>2016-09-30 10:30:24.283284414</td>\n      <td>-1</td>\n      <td>BID</td>\n      <td>REMOVE</td>\n      <td>True</td>\n      <td>201.51</td>\n      <td>100</td>\n      <td>201.62</td>\n      <td>201.51</td>\n      <td>201.565</td>\n      <td>15.0</td>\n      <td>100.0</td>\n      <td>True</td>\n      <td>-0.060</td>\n      <td>0.060</td>\n      <td>0.771640</td>\n    </tr>\n    <tr>\n      <th>4</th>\n      <td>2016-09-30 10:30:42.004295012</td>\n      <td>1</td>\n      <td>ASK</td>\n      <td>REMOVE</td>\n      <td>True</td>\n      <td>201.59</td>\n      <td>50</td>\n      <td>201.59</td>\n      <td>201.42</td>\n      <td>201.505</td>\n      <td>50.0</td>\n      <td>200.0</td>\n      <td>True</td>\n      <td>0.100</td>\n      <td>0.100</td>\n      <td>0.416207</td>\n    </tr>\n    <tr>\n      <th>...</th>\n      <td>...</td>\n      <td>...</td>\n      <td>...</td>\n      <td>...</td>\n      <td>...</td>\n      <td>...</td>\n      <td>...</td>\n      <td>...</td>\n      <td>...</td>\n      <td>...</td>\n      <td>...</td>\n      <td>...</td>\n      <td>...</td>\n      <td>...</td>\n      <td>...</td>\n      <td>...</td>\n    </tr>\n    <tr>\n      <th>1810</th>\n      <td>2016-09-30 14:59:25.335373566</td>\n      <td>-1</td>\n      <td>BID</td>\n      <td>REMOVE</td>\n      <td>True</td>\n      <td>204.18</td>\n      <td>100</td>\n      <td>204.47</td>\n      <td>204.18</td>\n      <td>204.325</td>\n      <td>145.0</td>\n      <td>100.0</td>\n      <td>True</td>\n      <td>-0.055</td>\n      <td>0.055</td>\n      <td>0.771640</td>\n    </tr>\n    <tr>\n      <th>1811</th>\n      <td>2016-09-30 14:59:25.336160987</td>\n      <td>-1</td>\n      <td>BID</td>\n      <td>REMOVE</td>\n      <td>True</td>\n      <td>204.13</td>\n      <td>100</td>\n      <td>204.41</td>\n      <td>204.13</td>\n      <td>204.270</td>\n      <td>100.0</td>\n      <td>181.0</td>\n      <td>False</td>\n      <td>0.030</td>\n      <td>-0.030</td>\n      <td>0.771640</td>\n    </tr>\n    <tr>\n      <th>1812</th>\n      <td>2016-09-30 14:59:25.338106494</td>\n      <td>-1</td>\n      <td>BID</td>\n      <td>REMOVE</td>\n      <td>True</td>\n      <td>204.19</td>\n      <td>100</td>\n      <td>204.41</td>\n      <td>204.19</td>\n      <td>204.300</td>\n      <td>100.0</td>\n      <td>181.0</td>\n      <td>False</td>\n      <td>0.000</td>\n      <td>-0.000</td>\n      <td>0.771640</td>\n    </tr>\n    <tr>\n      <th>1813</th>\n      <td>2016-09-30 14:59:25.338138898</td>\n      <td>-1</td>\n      <td>BID</td>\n      <td>REMOVE</td>\n      <td>True</td>\n      <td>204.19</td>\n      <td>81</td>\n      <td>204.41</td>\n      <td>204.19</td>\n      <td>204.300</td>\n      <td>100.0</td>\n      <td>81.0</td>\n      <td>True</td>\n      <td>-0.130</td>\n      <td>0.130</td>\n      <td>0.625028</td>\n    </tr>\n    <tr>\n      <th>1814</th>\n      <td>2016-09-30 14:59:57.795769926</td>\n      <td>-1</td>\n      <td>BID</td>\n      <td>REMOVE</td>\n      <td>True</td>\n      <td>204.09</td>\n      <td>5</td>\n      <td>204.25</td>\n      <td>204.09</td>\n      <td>204.170</td>\n      <td>100.0</td>\n      <td>5.0</td>\n      <td>True</td>\n      <td>0.000</td>\n      <td>-0.000</td>\n      <td>0.038582</td>\n    </tr>\n  </tbody>\n</table>\n<p>1815 rows × 16 columns</p>\n</div>"
     },
     "execution_count": 5,
     "metadata": {},
     "output_type": "execute_result"
    }
   ],
   "source": [
    "get_trades_impact(filepath=csv_path, date='2016-09-30')"
   ],
   "metadata": {
    "collapsed": false,
    "ExecuteTime": {
     "start_time": "2023-09-27T17:05:08.735117Z",
     "end_time": "2023-09-27T17:05:09.314880Z"
    }
   }
  },
  {
   "cell_type": "markdown",
   "source": [
    "# 1.  Bid-Ask Spread Distribution"
   ],
   "metadata": {
    "collapsed": false
   }
  },
  {
   "cell_type": "markdown",
   "source": [
    "# 2. Order Size Distribution"
   ],
   "metadata": {
    "collapsed": false
   }
  },
  {
   "cell_type": "markdown",
   "source": [
    "# 3. Volume at the Best Quotes"
   ],
   "metadata": {
    "collapsed": false
   }
  },
  {
   "cell_type": "markdown",
   "source": [
    "## 3.1. Distribution $x_{\\rm MO}$ of the fraction of executed volume $p(x) = v/V_{\\rm best}$\n",
    "\n",
    "They submit small orders when liquidity is abundant and large orders only when it is scarce thus ensuring they are not on the (wrong) side of the market that is being adversely selected."
   ],
   "metadata": {
    "collapsed": false
   }
  },
  {
   "cell_type": "markdown",
   "source": [
    "## 3.2 Conditional distribution of avg $x_{\\rm MO}$ size $f(x) = v/\\overline{V}_{\\rm{best}}| V_{\\rm best}$"
   ],
   "metadata": {
    "collapsed": false
   }
  },
  {
   "cell_type": "code",
   "execution_count": null,
   "outputs": [],
   "source": [],
   "metadata": {
    "collapsed": false
   }
  }
 ],
 "metadata": {
  "kernelspec": {
   "display_name": "Python 3",
   "language": "python",
   "name": "python3"
  },
  "language_info": {
   "codemirror_mode": {
    "name": "ipython",
    "version": 2
   },
   "file_extension": ".py",
   "mimetype": "text/x-python",
   "name": "python",
   "nbconvert_exporter": "python",
   "pygments_lexer": "ipython2",
   "version": "2.7.6"
  }
 },
 "nbformat": 4,
 "nbformat_minor": 0
}
