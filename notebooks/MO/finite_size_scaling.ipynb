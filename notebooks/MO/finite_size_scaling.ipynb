{
 "cells": [
  {
   "cell_type": "code",
   "execution_count": 1,
   "metadata": {
    "collapsed": true,
    "ExecuteTime": {
     "start_time": "2023-10-08T16:21:59.841127Z",
     "end_time": "2023-10-08T16:21:59.841209Z"
    }
   },
   "outputs": [],
   "source": [
    "import os\n",
    "import pylab\n",
    "import numpy as np\n",
    "import pandas as pd\n",
    "from matplotlib import rc\n",
    "from matplotlib import pyplot as plt\n",
    "import pickle\n",
    "\n",
    "from liquidity.util.utils import get_agg_features\n",
    "from liquidity.response_functions.fitting import compute_shape_parameters, renormalise"
   ]
  },
  {
   "cell_type": "code",
   "execution_count": 2,
   "outputs": [],
   "source": [
    "%load_ext autoreload\n",
    "%autoreload 2"
   ],
   "metadata": {
    "collapsed": false,
    "ExecuteTime": {
     "start_time": "2023-10-08T16:21:59.868340Z",
     "end_time": "2023-10-08T16:21:59.868409Z"
    }
   }
  },
  {
   "cell_type": "code",
   "execution_count": 3,
   "outputs": [],
   "source": [
    "# Window/bin size for computing imbalances\n",
    "T = 1000"
   ],
   "metadata": {
    "collapsed": false,
    "ExecuteTime": {
     "start_time": "2023-10-08T16:22:01.098929Z",
     "end_time": "2023-10-08T16:22:01.098989Z"
    }
   }
  },
  {
   "cell_type": "code",
   "execution_count": 4,
   "outputs": [],
   "source": [
    "# Load raw sample data  from CSV\n",
    "stocks = ['TSLA', 'AMZN', 'NFLX', 'MSFT', 'EBAY', 'APPL']\n",
    "\n",
    "current_dir = os.path.abspath('.')\n",
    "root_dir = os.path.join(current_dir, '..', '..')\n",
    "data_dir = os.path.join(root_dir, 'data', 'market_orders')\n",
    "\n",
    "\n",
    "stock_dfs = {}\n",
    "\n",
    "# Loop through each stock\n",
    "for stock in stocks:\n",
    "\n",
    "    filename = f\"{stock}-2016-R1.csv\"\n",
    "\n",
    "    stock_file_path = os.path.join(data_dir, filename)\n",
    "\n",
    "    # Read the CSV and store in the dictionary\n",
    "    stock_dfs[stock] = pd.read_csv(stock_file_path)\n",
    "\n",
    "# Access the dataframe using stock's ticker as key\n",
    "tsla_raw_df = stock_dfs['TSLA']\n",
    "amzn_raw_df = stock_dfs['AMZN']\n",
    "nflx_raw_df = stock_dfs['NFLX']\n",
    "msft_raw_df = stock_dfs['MSFT']\n",
    "ebay_raw_df = stock_dfs['EBAY']\n",
    "appl_raw_df = stock_dfs['APPL']"
   ],
   "metadata": {
    "collapsed": false,
    "ExecuteTime": {
     "start_time": "2023-10-08T16:22:08.602482Z",
     "end_time": "2023-10-08T16:22:08.602576Z"
    }
   }
  },
  {
   "cell_type": "markdown",
   "source": [
    "## 1. Fitting Scaling Form\n",
    "\n",
    "    - Find Alpha and Beta\n",
    "\n",
    "Approach I: fit scaling form on all data to find exponents and then use them for renormalisation."
   ],
   "metadata": {
    "collapsed": false
   }
  },
  {
   "cell_type": "markdown",
   "source": [],
   "metadata": {
    "collapsed": false
   }
  },
  {
   "cell_type": "code",
   "execution_count": 5,
   "outputs": [],
   "source": [
    "MO_LAG_INTERVALS = list(range(1, T))"
   ],
   "metadata": {
    "collapsed": false,
    "ExecuteTime": {
     "start_time": "2023-10-08T13:27:06.633682Z",
     "end_time": "2023-10-08T13:27:06.633706Z"
    }
   }
  },
  {
   "cell_type": "markdown",
   "source": [
    "### Get results for other stocks"
   ],
   "metadata": {
    "collapsed": false
   }
  },
  {
   "cell_type": "code",
   "execution_count": 89,
   "outputs": [],
   "source": [
    "popt_ebay, pcov_ebay, fit_func_ebay, data_norm_ebay = compute_shape_parameters(ebay_raw_df, MO_LAG_INTERVALS)\n",
    "# popt_msft, pcov_msft, fit_func_msft, data_norm_msft = compute_shape_parameters(msft_raw_df, MO_LAG_INTERVALS)\n",
    "# popt_appl, pcov_appl, fit_func_appl, data_norm_appl = compute_shape_parameters(appl_raw_df, MO_LAG_INTERVALS)\n",
    "# popt_nflx, pcov_nflx, fit_func_nflx, data_norm_nflx = compute_shape_parameters(nflx_raw_df, MO_LAG_INTERVALS)\n",
    "# popt_amzn, pcov_amzn, fit_func_amzn, data_norm_amzn = compute_shape_parameters(amzn_raw_df, MO_LAG_INTERVALS)"
   ],
   "metadata": {
    "collapsed": false,
    "ExecuteTime": {
     "start_time": "2023-10-07T16:09:41.044792Z",
     "end_time": "2023-10-07T19:33:08.707564Z"
    }
   }
  },
  {
   "cell_type": "code",
   "execution_count": 90,
   "outputs": [],
   "source": [
    "# result_all = {\n",
    "#     'TSLA': (popt_tsla, pcov_tsla, fit_func, data_norm),\n",
    "#     'EBAY': (popt_ebay, pcov_ebay, fit_func_ebay, data_norm_ebay),\n",
    "#     'MSFT': (popt_msft, pcov_msft, fit_func_msft, data_norm_msft),\n",
    "#     'APPL': (popt_appl, pcov_appl, fit_func_appl, data_norm_appl),\n",
    "#     'NFLX': (popt_nflx, pcov_nflx, fit_func_nflx, data_norm_nflx),\n",
    "#     'AMZN': (popt_amzn, pcov_amzn, fit_func_amzn, data_norm_amzn)\n",
    "# }"
   ],
   "metadata": {
    "collapsed": false,
    "ExecuteTime": {
     "start_time": "2023-10-07T19:33:08.533414Z",
     "end_time": "2023-10-07T19:33:08.707991Z"
    }
   }
  },
  {
   "cell_type": "code",
   "execution_count": 6,
   "outputs": [
    {
     "data": {
      "text/plain": "dict_keys(['TSLA', 'EBAY', 'MSFT', 'APPL', 'NFLX', 'AMZN'])"
     },
     "execution_count": 6,
     "metadata": {},
     "output_type": "execute_result"
    }
   ],
   "source": [
    "import pickle\n",
    "# pickle.dump(result_all, open('../../data/generated/shape_parameters_mo.pkl', 'wb'))\n",
    "shape_params_dict = pickle.load(open('../../data/generated/shape_parameters_mo.pkl', 'rb'))\n",
    "shape_params_dict.keys()"
   ],
   "metadata": {
    "collapsed": false,
    "ExecuteTime": {
     "start_time": "2023-10-08T13:27:10.194451Z",
     "end_time": "2023-10-08T13:27:10.194501Z"
    }
   }
  },
  {
   "cell_type": "code",
   "execution_count": 7,
   "outputs": [],
   "source": [
    "appl_shape_params = shape_params_dict['APPL']"
   ],
   "metadata": {
    "collapsed": false,
    "ExecuteTime": {
     "start_time": "2023-10-08T13:27:12.127393Z",
     "end_time": "2023-10-08T13:27:12.127461Z"
    }
   }
  },
  {
   "cell_type": "code",
   "execution_count": 8,
   "outputs": [],
   "source": [
    "popt_appl, pcov_appl, fit_func_appl, data_norm_appl = appl_shape_params"
   ],
   "metadata": {
    "collapsed": false,
    "ExecuteTime": {
     "start_time": "2023-10-08T13:27:12.499826Z",
     "end_time": "2023-10-08T13:27:12.499903Z"
    }
   }
  },
  {
   "cell_type": "code",
   "execution_count": 9,
   "outputs": [],
   "source": [
    "chi, kappa, alpha, beta, gamma = popt_appl"
   ],
   "metadata": {
    "collapsed": false,
    "ExecuteTime": {
     "start_time": "2023-10-08T13:27:12.814529Z",
     "end_time": "2023-10-08T13:27:12.814581Z"
    }
   }
  },
  {
   "cell_type": "code",
   "execution_count": 10,
   "outputs": [
    {
     "data": {
      "text/plain": "0.5277979122995787"
     },
     "execution_count": 10,
     "metadata": {},
     "output_type": "execute_result"
    }
   ],
   "source": [
    "chi"
   ],
   "metadata": {
    "collapsed": false,
    "ExecuteTime": {
     "start_time": "2023-10-08T13:27:13.234346Z",
     "end_time": "2023-10-08T13:27:13.234400Z"
    }
   }
  },
  {
   "cell_type": "code",
   "execution_count": 11,
   "outputs": [
    {
     "data": {
      "text/plain": "0.8282064394561939"
     },
     "execution_count": 11,
     "metadata": {},
     "output_type": "execute_result"
    }
   ],
   "source": [
    "kappa"
   ],
   "metadata": {
    "collapsed": false,
    "ExecuteTime": {
     "start_time": "2023-10-08T13:27:14.265373Z",
     "end_time": "2023-10-08T13:27:14.265428Z"
    }
   }
  },
  {
   "cell_type": "code",
   "execution_count": 12,
   "outputs": [
    {
     "data": {
      "text/plain": "0.521073801226079"
     },
     "execution_count": 12,
     "metadata": {},
     "output_type": "execute_result"
    }
   ],
   "source": [
    "alpha"
   ],
   "metadata": {
    "collapsed": false,
    "ExecuteTime": {
     "start_time": "2023-10-08T13:27:15.263830Z",
     "end_time": "2023-10-08T13:27:15.263870Z"
    }
   }
  },
  {
   "cell_type": "code",
   "execution_count": 13,
   "outputs": [
    {
     "data": {
      "text/plain": "868.318406822373"
     },
     "execution_count": 13,
     "metadata": {},
     "output_type": "execute_result"
    }
   ],
   "source": [
    "beta"
   ],
   "metadata": {
    "collapsed": false,
    "ExecuteTime": {
     "start_time": "2023-10-08T13:27:16.309348Z",
     "end_time": "2023-10-08T13:27:16.309404Z"
    }
   }
  },
  {
   "cell_type": "markdown",
   "source": [
    "## 1.1. Before Collapse"
   ],
   "metadata": {
    "collapsed": false
   }
  },
  {
   "cell_type": "code",
   "execution_count": null,
   "outputs": [],
   "source": [
    "\"\"\"\n",
    "* for a given list of lags fit scaling function\n",
    "* use LS for fitting --> test\n",
    "\n",
    "* integrate goodness of fit for LS --> test\n",
    "* integrate goodness of fit for MLE --> test\n",
    "\n",
    "* plot data with fits for each N\n",
    "\n",
    "\"\"\""
   ],
   "metadata": {
    "collapsed": false
   }
  },
  {
   "cell_type": "code",
   "execution_count": 81,
   "outputs": [],
   "source": [
    "from liquidity.response_functions.fitting import least_squares_fit, scaling_function,scaling_form, fit_scaling_form, fit_scaling_function\n",
    "\n",
    "from liquidity.util.utils import bin_data_into_quantiles"
   ],
   "metadata": {
    "collapsed": false,
    "ExecuteTime": {
     "start_time": "2023-10-08T18:17:57.266925Z",
     "end_time": "2023-10-08T18:17:57.266977Z"
    }
   }
  },
  {
   "cell_type": "code",
   "execution_count": 109,
   "outputs": [],
   "source": [
    "FITTING_LAGS = [10, 20, 50, 100]"
   ],
   "metadata": {
    "collapsed": false,
    "ExecuteTime": {
     "start_time": "2023-10-08T18:31:46.947440Z",
     "end_time": "2023-10-08T18:31:46.947516Z"
    }
   }
  },
  {
   "cell_type": "code",
   "execution_count": 110,
   "outputs": [],
   "source": [
    "# agg_features_df = pickle.load(open('../../data/generated/appl_aggregate_features_mo_df.pkl', 'rb'))"
   ],
   "metadata": {
    "collapsed": false,
    "ExecuteTime": {
     "start_time": "2023-10-08T18:31:47.716873Z",
     "end_time": "2023-10-08T18:31:47.716933Z"
    }
   }
  },
  {
   "cell_type": "code",
   "execution_count": 111,
   "outputs": [],
   "source": [
    "agg_features_df = get_agg_features(appl_raw_df, FITTING_LAGS,remove_outliers=True)"
   ],
   "metadata": {
    "collapsed": false,
    "ExecuteTime": {
     "start_time": "2023-10-08T18:31:59.365181Z",
     "end_time": "2023-10-08T18:31:59.365256Z"
    }
   }
  },
  {
   "cell_type": "code",
   "execution_count": 118,
   "outputs": [],
   "source": [
    "from scipy.optimize import curve_fit\n",
    "\n",
    "fit_result_dict = {}\n",
    "for lag in FITTING_LAGS:\n",
    "    data = agg_features_df[agg_features_df['T']==lag][[\"vol_imbalance\", \"T\", \"R\"]]\n",
    "    data_binned = bin_data_into_quantiles(data, q=31)\n",
    "\n",
    "    fit_result_dict[lag] = fit_scaling_form(data_binned)\n",
    "    # fit_result_dict[lag] = fit_scaling_function(data_binned)\n"
   ],
   "metadata": {
    "collapsed": false,
    "ExecuteTime": {
     "start_time": "2023-10-08T18:34:48.265886Z",
     "end_time": "2023-10-08T18:34:48.265969Z"
    }
   }
  },
  {
   "cell_type": "code",
   "execution_count": 114,
   "outputs": [
    {
     "data": {
      "text/plain": "(array([2.16140815e+00, 2.66248012e-06, 4.58760239e-01, 5.59434290e+01,\n        1.12659205e+00]),\n 23.878360544875022,\n <function liquidity.response_functions.fitting.scaling_form(orderflow_imbalance, chi, kappa, alpha, beta, gamma)>)"
     },
     "execution_count": 114,
     "metadata": {},
     "output_type": "execute_result"
    }
   ],
   "source": [
    "fit_result_dict[100]"
   ],
   "metadata": {
    "collapsed": false,
    "ExecuteTime": {
     "start_time": "2023-10-08T18:32:10.847819Z",
     "end_time": "2023-10-08T18:32:10.847865Z"
    }
   }
  },
  {
   "cell_type": "code",
   "execution_count": 130,
   "outputs": [
    {
     "data": {
      "text/plain": "<Figure size 640x480 with 1 Axes>",
      "image/png": "[encoded data removed]"
     },
     "metadata": {},
     "output_type": "display_data"
    }
   ],
   "source": [
    "for lag, fit_result in fit_result_dict.items():\n",
    "    # plt.figure(figsize=(4, 4))\n",
    "    param = fit_result[0]\n",
    "    data = agg_features_df[agg_features_df['T']==lag][[\"vol_imbalance\", \"T\", \"R\"]]\n",
    "    data_binned = bin_data_into_quantiles(data, q=31)\n",
    "    xs = data_binned[\"vol_imbalance\"].values\n",
    "    ys = data_binned[\"R\"].values\n",
    "    q = np.transpose(data_binned.iloc[:, :2].to_numpy())\n",
    "    y_hat = scaling_form(q, *param)\n",
    "    plt.scatter(xs, ys)\n",
    "    plt.plot(q[0], y_hat)"
   ],
   "metadata": {
    "collapsed": false,
    "ExecuteTime": {
     "start_time": "2023-10-08T18:39:18.725859Z",
     "end_time": "2023-10-08T18:39:18.725920Z"
    }
   }
  },
  {
   "cell_type": "code",
   "execution_count": null,
   "outputs": [],
   "source": [],
   "metadata": {
    "collapsed": false
   }
  },
  {
   "cell_type": "code",
   "execution_count": 148,
   "outputs": [],
   "source": [
    "FITTING_LAGS = (10, 20, 50, 100)"
   ],
   "metadata": {
    "collapsed": false,
    "ExecuteTime": {
     "start_time": "2023-10-08T18:55:40.060975Z",
     "end_time": "2023-10-08T18:55:40.061033Z"
    }
   }
  },
  {
   "cell_type": "code",
   "execution_count": 149,
   "outputs": [],
   "source": [
    "\n",
    "fit_result_dict = {}\n",
    "for lag in FITTING_LAGS:\n",
    "    data = agg_features_df[agg_features_df['T']==lag][[\"vol_imbalance\", \"T\", \"R\"]]\n",
    "    data_binned = bin_data_into_quantiles(data, q=31)\n",
    "\n",
    "    # fit_result_dict[lag] = fit_scaling_form(data_binned)\n",
    "    fit_result_dict[lag] = fit_scaling_function(data_binned)\n"
   ],
   "metadata": {
    "collapsed": false,
    "ExecuteTime": {
     "start_time": "2023-10-08T18:55:40.645040Z",
     "end_time": "2023-10-08T18:55:40.645107Z"
    }
   }
  },
  {
   "cell_type": "code",
   "execution_count": 150,
   "outputs": [
    {
     "data": {
      "text/plain": "(array([1.19143953e-05, 8.39196637e-11]),\n 99.98730809184896,\n <function liquidity.response_functions.fitting.scaling_function(x: float, alpha: float, beta: float) -> float>)"
     },
     "execution_count": 150,
     "metadata": {},
     "output_type": "execute_result"
    }
   ],
   "source": [
    "fit_result_dict[100]"
   ],
   "metadata": {
    "collapsed": false,
    "ExecuteTime": {
     "start_time": "2023-10-08T18:55:41.957968Z",
     "end_time": "2023-10-08T18:55:41.958011Z"
    }
   }
  },
  {
   "cell_type": "code",
   "execution_count": 142,
   "outputs": [],
   "source": [],
   "metadata": {
    "collapsed": false,
    "ExecuteTime": {
     "start_time": "2023-10-08T18:54:03.468819Z",
     "end_time": "2023-10-08T18:54:03.468888Z"
    }
   }
  },
  {
   "cell_type": "code",
   "execution_count": 143,
   "outputs": [
    {
     "data": {
      "text/plain": "<Figure size 640x480 with 1 Axes>",
      "image/png": "[encoded data removed]"
     },
     "metadata": {},
     "output_type": "display_data"
    }
   ],
   "source": [
    "for lag, fit_result in fit_result_dict.items():\n",
    "    # plt.figure(figsize=(4, 4))\n",
    "    param = fit_result[0]\n",
    "    data = agg_features_df[agg_features_df['T']==lag][[\"vol_imbalance\", \"T\", \"R\"]]\n",
    "    data_binned = bin_data_into_quantiles(data, q=31)\n",
    "    xs = data_binned[\"vol_imbalance\"].values\n",
    "    ys = data_binned[\"R\"].values\n",
    "    # q = np.transpose(data_binned.iloc[:, :2].to_numpy())\n",
    "    y_hat = scaling_function(xs, *param)\n",
    "    plt.scatter(xs, ys)\n",
    "    plt.plot(xs, y_hat)"
   ],
   "metadata": {
    "collapsed": false,
    "ExecuteTime": {
     "start_time": "2023-10-08T18:54:04.045409Z",
     "end_time": "2023-10-08T18:54:04.045492Z"
    }
   }
  },
  {
   "cell_type": "code",
   "execution_count": null,
   "outputs": [],
   "source": [],
   "metadata": {
    "collapsed": false
   }
  },
  {
   "cell_type": "code",
   "execution_count": null,
   "outputs": [],
   "source": [],
   "metadata": {
    "collapsed": false
   }
  },
  {
   "cell_type": "markdown",
   "source": [
    "## 1.2. After Collapse"
   ],
   "metadata": {
    "collapsed": false
   }
  },
  {
   "cell_type": "code",
   "execution_count": null,
   "outputs": [],
   "source": [],
   "metadata": {
    "collapsed": false
   }
  },
  {
   "cell_type": "code",
   "execution_count": null,
   "outputs": [],
   "source": [
    "\"\"\"\n",
    "Lage beta:\n",
    "\n",
    "- fix 1: restraint volume imbalance scope when fitting (requires re-running fit of scaling form for each N each stock\n",
    "\n",
    "- temp fix 2: remove outliers in the series of RN and QN\n",
    "\n",
    "\"\"\""
   ],
   "metadata": {
    "collapsed": false
   }
  },
  {
   "cell_type": "code",
   "execution_count": null,
   "outputs": [],
   "source": [],
   "metadata": {
    "collapsed": false
   }
  },
  {
   "cell_type": "code",
   "execution_count": 41,
   "outputs": [],
   "source": [],
   "metadata": {
    "collapsed": false,
    "ExecuteTime": {
     "start_time": "2023-10-08T11:37:54.982559Z",
     "end_time": "2023-10-08T11:37:54.982675Z"
    }
   }
  },
  {
   "cell_type": "code",
   "execution_count": 42,
   "outputs": [],
   "source": [],
   "metadata": {
    "collapsed": false,
    "ExecuteTime": {
     "start_time": "2023-10-08T11:37:59.607784Z",
     "end_time": "2023-10-08T11:37:59.607853Z"
    }
   }
  },
  {
   "cell_type": "markdown",
   "source": [
    "## 2. Fitting Rescaled Form\n",
    "\n",
    "    - Find RN, QN, given Alpha, Beta\n",
    "\n",
    "Approach II: produce series of RN and QN by fitting scaling funtion for different N, then use powerlaw library to fit power law and determine scale factors; finally, fit known scaling form to find exponents and then use them for renormalisation."
   ],
   "metadata": {
    "collapsed": false
   }
  },
  {
   "cell_type": "code",
   "execution_count": 13,
   "outputs": [],
   "source": [
    "LAGS = list(range(1, 1001))"
   ],
   "metadata": {
    "collapsed": false,
    "ExecuteTime": {
     "start_time": "2023-10-08T13:19:12.939963Z",
     "end_time": "2023-10-08T13:19:12.940052Z"
    }
   }
  },
  {
   "cell_type": "code",
   "execution_count": null,
   "outputs": [],
   "source": [
    "# # Aggregate orderflow\n",
    "# tsla_imbalance = get_agg_features(tsla_raw_df, LAGS, remove_outliers=False)\n",
    "# pickle.dump(tsla_imbalance, open('../../data/generated/tsla_aggregate_features_mo_df.pkl', 'wb'))"
   ],
   "metadata": {
    "collapsed": false
   }
  },
  {
   "cell_type": "code",
   "execution_count": 34,
   "outputs": [],
   "source": [
    "# msft_imbalance = get_agg_features(msft_raw_df, LAGS, remove_outliers=False)\n",
    "# pickle.dump(msft_imbalance, open('../../data/generated/msft_aggregate_features_mo_df.pkl', 'wb'))"
   ],
   "metadata": {
    "collapsed": false,
    "ExecuteTime": {
     "start_time": "2023-10-06T18:24:59.525104Z",
     "end_time": "2023-10-06T18:54:34.071470Z"
    }
   }
  },
  {
   "cell_type": "code",
   "execution_count": 35,
   "outputs": [],
   "source": [
    "# amzn_imbalance= get_agg_features(amzn_raw_df, LAGS, remove_outliers=False)\n",
    "# pickle.dump(amzn_imbalance, open('../../data/generated/amzn_aggregate_features_mo_df.pkl', 'wb'))"
   ],
   "metadata": {
    "collapsed": false,
    "ExecuteTime": {
     "start_time": "2023-10-06T18:54:34.072862Z",
     "end_time": "2023-10-06T19:14:19.702870Z"
    }
   }
  },
  {
   "cell_type": "code",
   "execution_count": 36,
   "outputs": [],
   "source": [
    "# nflx_imbalance = get_agg_features(nflx_raw_df, LAGS,remove_outliers=False)\n",
    "# pickle.dump(nflx_imbalance, open('../../data/generated/nflx_aggregate_features_mo_df.pkl', 'wb'))"
   ],
   "metadata": {
    "collapsed": false,
    "ExecuteTime": {
     "start_time": "2023-10-06T19:14:19.703577Z",
     "end_time": "2023-10-06T19:45:36.047207Z"
    }
   }
  },
  {
   "cell_type": "code",
   "execution_count": 37,
   "outputs": [],
   "source": [
    "# ebay_imbalance = get_agg_features(ebay_raw_df, LAGS, remove_outliers=False)\n",
    "# pickle.dump(ebay_imbalance, open('../../data/generated/ebay_aggregate_features_mo_df.pkl', 'wb'))"
   ],
   "metadata": {
    "collapsed": false,
    "ExecuteTime": {
     "start_time": "2023-10-06T19:45:36.048610Z",
     "end_time": "2023-10-06T19:56:30.907885Z"
    }
   }
  },
  {
   "cell_type": "code",
   "execution_count": 38,
   "outputs": [],
   "source": [
    "# appl_imbalance = get_agg_features(appl_raw_df, LAGS,remove_outliers=False)\n",
    "# pickle.dump(appl_imbalance, open('../../data/generated/appl_aggregate_features_mo_df.pkl', 'wb'))"
   ],
   "metadata": {
    "collapsed": false,
    "ExecuteTime": {
     "start_time": "2023-10-06T19:56:30.908424Z",
     "end_time": "2023-10-06T20:24:30.447088Z"
    }
   }
  },
  {
   "cell_type": "markdown",
   "source": [
    "### Load pre-computed data"
   ],
   "metadata": {
    "collapsed": false
   }
  },
  {
   "cell_type": "code",
   "execution_count": 72,
   "outputs": [],
   "source": [],
   "metadata": {
    "collapsed": false,
    "ExecuteTime": {
     "start_time": "2023-10-08T03:10:36.561273Z",
     "end_time": "2023-10-08T03:36:57.002243Z"
    }
   }
  },
  {
   "cell_type": "code",
   "execution_count": 27,
   "outputs": [],
   "source": [
    "appl_features_df = pickle.load(open('../../data/generated/appl_aggregate_features_mo_df.pkl', 'rb'))"
   ],
   "metadata": {
    "collapsed": false,
    "ExecuteTime": {
     "start_time": "2023-10-08T13:53:23.081742Z",
     "end_time": "2023-10-08T13:53:23.081837Z"
    }
   }
  },
  {
   "cell_type": "code",
   "execution_count": 15,
   "outputs": [
    {
     "data": {
      "text/plain": "                event_timestamp  midprice  vol_imbalance  sign_imbalance  \\\n0 2017-01-03 10:30:19.351489154   219.325   2.934072e-08        0.000305   \n1 2017-01-03 10:30:19.351537884   219.325   4.401108e-07        0.000305   \n2 2017-01-03 10:30:19.351549791   219.330   2.347257e-06        0.000305   \n3 2017-01-03 10:30:19.351601187   219.335   2.347257e-06        0.000305   \n4 2017-01-03 10:30:19.351702603   219.335   1.173629e-06        0.000305   \n\n   sign  daily_R1  daily_vol  daily_num      R  T  \n0     1  0.021159     277786       3279  0.000  1  \n1     1  0.021159     277786       3279  0.005  1  \n2     1  0.021159     277786       3279  0.005  1  \n3     1  0.021159     277786       3279  0.000  1  \n4     1  0.021159     277786       3279  0.050  1  ",
      "text/html": "<div>\n<style scoped>\n    .dataframe tbody tr th:only-of-type {\n        vertical-align: middle;\n    }\n\n    .dataframe tbody tr th {\n        vertical-align: top;\n    }\n\n    .dataframe thead th {\n        text-align: right;\n    }\n</style>\n<table border=\"1\" class=\"dataframe\">\n  <thead>\n    <tr style=\"text-align: right;\">\n      <th></th>\n      <th>event_timestamp</th>\n      <th>midprice</th>\n      <th>vol_imbalance</th>\n      <th>sign_imbalance</th>\n      <th>sign</th>\n      <th>daily_R1</th>\n      <th>daily_vol</th>\n      <th>daily_num</th>\n      <th>R</th>\n      <th>T</th>\n    </tr>\n  </thead>\n  <tbody>\n    <tr>\n      <th>0</th>\n      <td>2017-01-03 10:30:19.351489154</td>\n      <td>219.325</td>\n      <td>2.934072e-08</td>\n      <td>0.000305</td>\n      <td>1</td>\n      <td>0.021159</td>\n      <td>277786</td>\n      <td>3279</td>\n      <td>0.000</td>\n      <td>1</td>\n    </tr>\n    <tr>\n      <th>1</th>\n      <td>2017-01-03 10:30:19.351537884</td>\n      <td>219.325</td>\n      <td>4.401108e-07</td>\n      <td>0.000305</td>\n      <td>1</td>\n      <td>0.021159</td>\n      <td>277786</td>\n      <td>3279</td>\n      <td>0.005</td>\n      <td>1</td>\n    </tr>\n    <tr>\n      <th>2</th>\n      <td>2017-01-03 10:30:19.351549791</td>\n      <td>219.330</td>\n      <td>2.347257e-06</td>\n      <td>0.000305</td>\n      <td>1</td>\n      <td>0.021159</td>\n      <td>277786</td>\n      <td>3279</td>\n      <td>0.005</td>\n      <td>1</td>\n    </tr>\n    <tr>\n      <th>3</th>\n      <td>2017-01-03 10:30:19.351601187</td>\n      <td>219.335</td>\n      <td>2.347257e-06</td>\n      <td>0.000305</td>\n      <td>1</td>\n      <td>0.021159</td>\n      <td>277786</td>\n      <td>3279</td>\n      <td>0.000</td>\n      <td>1</td>\n    </tr>\n    <tr>\n      <th>4</th>\n      <td>2017-01-03 10:30:19.351702603</td>\n      <td>219.335</td>\n      <td>1.173629e-06</td>\n      <td>0.000305</td>\n      <td>1</td>\n      <td>0.021159</td>\n      <td>277786</td>\n      <td>3279</td>\n      <td>0.050</td>\n      <td>1</td>\n    </tr>\n  </tbody>\n</table>\n</div>"
     },
     "metadata": {},
     "output_type": "display_data"
    }
   ],
   "source": [
    "from IPython.display import display\n",
    "display(appl_features_df.head())"
   ],
   "metadata": {
    "collapsed": false,
    "ExecuteTime": {
     "start_time": "2023-10-08T13:27:39.058503Z",
     "end_time": "2023-10-08T13:27:39.058539Z"
    }
   }
  },
  {
   "cell_type": "code",
   "execution_count": 25,
   "outputs": [],
   "source": [],
   "metadata": {
    "collapsed": false,
    "ExecuteTime": {
     "start_time": "2023-10-08T13:24:20.836837Z",
     "end_time": "2023-10-08T13:24:20.836895Z"
    }
   }
  },
  {
   "cell_type": "markdown",
   "source": [
    "### Generate series of RN and QN by fitting scaling form with known parameters of alpha and beta"
   ],
   "metadata": {
    "collapsed": false
   }
  },
  {
   "cell_type": "code",
   "execution_count": 25,
   "outputs": [],
   "source": [
    "from liquidity.response_functions.fitting import compute_RN_QN"
   ],
   "metadata": {
    "collapsed": false,
    "ExecuteTime": {
     "start_time": "2023-10-08T13:53:08.253780Z",
     "end_time": "2023-10-08T13:53:08.253854Z"
    }
   }
  },
  {
   "cell_type": "code",
   "execution_count": 28,
   "outputs": [
    {
     "name": "stderr",
     "output_type": "stream",
     "text": [
      "/Users/ana_bugaenko/workspace/another_workspace/liquidity/liquidity/response_functions/fitting.py:38: RuntimeWarning: overflow encountered in power\n",
      "  return x / (1 + abs(x) ** alpha) ** (beta / alpha)\n",
      "/Users/ana_bugaenko/workspace/another_workspace/liquidity/liquidity/response_functions/fitting.py:38: RuntimeWarning: overflow encountered in power\n",
      "  return x / (1 + abs(x) ** alpha) ** (beta / alpha)\n"
     ]
    }
   ],
   "source": [
    "# fit powerlaw on series of RN and QN ranges\n",
    "RN_df, QN_df, RN_fit_object, QN_fit_object = compute_RN_QN(appl_features_df, alpha, beta)"
   ],
   "metadata": {
    "collapsed": false,
    "ExecuteTime": {
     "start_time": "2023-10-08T13:53:43.787461Z",
     "end_time": "2023-10-08T13:53:43.787546Z"
    }
   }
  },
  {
   "cell_type": "code",
   "execution_count": 29,
   "outputs": [
    {
     "data": {
      "text/plain": "[]"
     },
     "execution_count": 29,
     "metadata": {},
     "output_type": "execute_result"
    },
    {
     "data": {
      "text/plain": "<Figure size 640x480 with 1 Axes>",
      "image/png": "[encoded data removed]"
     },
     "metadata": {},
     "output_type": "display_data"
    }
   ],
   "source": [
    "plt.scatter(RN_df['x_values'],RN_df['y_values'])\n",
    "plt.scatter(QN_df['x_values'],QN_df['y_values'])\n",
    "plt.loglog()"
   ],
   "metadata": {
    "collapsed": false,
    "ExecuteTime": {
     "start_time": "2023-10-08T13:53:54.431081Z",
     "end_time": "2023-10-08T13:53:54.431129Z"
    }
   }
  },
  {
   "cell_type": "code",
   "execution_count": 30,
   "outputs": [
    {
     "name": "stdout",
     "output_type": "stream",
     "text": [
      "\n",
      "For powerlaw fitted using MLE:\n",
      "\n",
      "Pre-fitting parameters;\n",
      "xmin_index: 10\n",
      "xmin: 21.0\n",
      "\n",
      "Fitting parameters;\n",
      "param_names = ['C', 'alpha']\n",
      "C = 34.243376287073396\n",
      "alpha = 0.7046514589153091\n",
      "\n",
      "Goodness of fit to data;\n",
      "D = 0.02613240418118467\n",
      "bic = 5273.130510313039\n",
      "mape = 3.0032334784226298\n",
      "Adjusted R-squared = 0.9915444240723101\n",
      "\n",
      "\n"
     ]
    }
   ],
   "source": [
    "RN_fit_object.powerlaw.fit_results()"
   ],
   "metadata": {
    "collapsed": false,
    "ExecuteTime": {
     "start_time": "2023-10-08T13:53:55.283949Z",
     "end_time": "2023-10-08T13:53:55.283994Z"
    }
   }
  },
  {
   "cell_type": "code",
   "execution_count": 31,
   "outputs": [
    {
     "name": "stdout",
     "output_type": "stream",
     "text": [
      "\n",
      "For powerlaw fitted using MLE:\n",
      "\n",
      "Pre-fitting parameters;\n",
      "xmin_index: 10\n",
      "xmin: 21.0\n",
      "\n",
      "Fitting parameters;\n",
      "param_names = ['C', 'alpha']\n",
      "C = 0.7138946658340644\n",
      "alpha = 0.7057269991562459\n",
      "\n",
      "Goodness of fit to data;\n",
      "D = 0.020905923344947737\n",
      "bic = 1614.5259857378246\n",
      "mape = 6.860499484714514\n",
      "Adjusted R-squared = 0.968111850380766\n",
      "\n",
      "\n"
     ]
    }
   ],
   "source": [
    "QN_fit_object.powerlaw.fit_results()"
   ],
   "metadata": {
    "collapsed": false,
    "ExecuteTime": {
     "start_time": "2023-10-08T13:53:57.454387Z",
     "end_time": "2023-10-08T13:53:57.454429Z"
    }
   }
  },
  {
   "cell_type": "code",
   "execution_count": 32,
   "outputs": [
    {
     "data": {
      "text/plain": "<Figure size 640x480 with 1 Axes>",
      "image/png": "[encoded data removed]"
     },
     "metadata": {},
     "output_type": "display_data"
    }
   ],
   "source": [
    "RN_fit_object.powerlaw.plot_fit()"
   ],
   "metadata": {
    "collapsed": false,
    "ExecuteTime": {
     "start_time": "2023-10-08T13:53:58.430097Z",
     "end_time": "2023-10-08T13:53:58.430161Z"
    }
   }
  },
  {
   "cell_type": "code",
   "execution_count": 33,
   "outputs": [
    {
     "data": {
      "text/plain": "<Figure size 640x480 with 1 Axes>",
      "image/png": "[encoded data removed]"
     },
     "metadata": {},
     "output_type": "display_data"
    }
   ],
   "source": [
    "QN_fit_object.powerlaw.plot_fit()"
   ],
   "metadata": {
    "collapsed": false,
    "ExecuteTime": {
     "start_time": "2023-10-08T13:53:59.194942Z",
     "end_time": "2023-10-08T13:53:59.195009Z"
    }
   }
  },
  {
   "cell_type": "code",
   "execution_count": null,
   "outputs": [],
   "source": [],
   "metadata": {
    "collapsed": false
   }
  }
 ],
 "metadata": {
  "kernelspec": {
   "display_name": "Python 3",
   "language": "python",
   "name": "python3"
  },
  "language_info": {
   "codemirror_mode": {
    "name": "ipython",
    "version": 2
   },
   "file_extension": ".py",
   "mimetype": "text/x-python",
   "name": "python",
   "nbconvert_exporter": "python",
   "pygments_lexer": "ipython2",
   "version": "2.7.6"
  }
 },
 "nbformat": 4,
 "nbformat_minor": 0
}
