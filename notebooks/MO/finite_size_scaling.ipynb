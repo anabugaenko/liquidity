{
 "cells": [
  {
   "cell_type": "code",
   "execution_count": 1,
   "outputs": [],
   "source": [
    "import os\n",
    "import pickle\n",
    "import numpy as np\n",
    "import pandas as pd\n",
    "from IPython.display import display\n",
    "from matplotlib import pyplot as plt\n",
    "\n",
    "from liquidity.response_functions import fit\n",
    "from liquidity.util.utils import bin_data_into_quantiles\n",
    "from liquidity.util.goodness_of_fit import compute_rsquared\n",
    "from liquidity.response_functions.features import compute_aggregate_features\n",
    "from liquidity.response_functions.functional_form import scaling_form, rescaled_form"
   ],
   "metadata": {
    "collapsed": false,
    "ExecuteTime": {
     "start_time": "2023-10-21T12:09:26.396346Z",
     "end_time": "2023-10-21T12:09:27.636848Z"
    }
   }
  },
  {
   "cell_type": "code",
   "execution_count": 2,
   "outputs": [],
   "source": [
    "%load_ext autoreload\n",
    "%autoreload 2"
   ],
   "metadata": {
    "collapsed": false,
    "ExecuteTime": {
     "start_time": "2023-10-21T12:09:27.638133Z",
     "end_time": "2023-10-21T12:09:27.686061Z"
    }
   }
  },
  {
   "cell_type": "code",
   "execution_count": 3,
   "outputs": [],
   "source": [
    "# Window/bin size\n",
    "T = 100"
   ],
   "metadata": {
    "collapsed": false,
    "ExecuteTime": {
     "start_time": "2023-10-21T12:09:27.671846Z",
     "end_time": "2023-10-21T12:09:27.704986Z"
    }
   }
  },
  {
   "cell_type": "code",
   "execution_count": 23,
   "outputs": [],
   "source": [
    "# Load raw sample data  from CSV\n",
    "stocks = ['TSLA', 'AMZN', 'NFLX', 'MSFT', 'EBAY', 'APPL']\n",
    "\n",
    "current_dir = os.path.abspath('.')\n",
    "root_dir = os.path.join(current_dir, '..', '..')\n",
    "data_dir = os.path.join(root_dir, 'data', 'market_orders')\n",
    "\n",
    "stock_dfs = {}\n",
    "\n",
    "# Loop through each stock\n",
    "for stock in stocks:\n",
    "    filename = f\"{stock}-2016-R1.csv\"\n",
    "\n",
    "    stock_file_path = os.path.join(data_dir, filename)\n",
    "\n",
    "    # Read the CSV and store in the dictionary\n",
    "    stock_dfs[stock] = pd.read_csv(stock_file_path)\n",
    "\n",
    "# Access the dataframe using stock's ticker as key\n",
    "tsla_raw_df = stock_dfs['TSLA']\n",
    "amzn_raw_df = stock_dfs['AMZN']\n",
    "nflx_raw_df = stock_dfs['NFLX']\n",
    "msft_raw_df = stock_dfs['MSFT']\n",
    "ebay_raw_df = stock_dfs['EBAY']\n",
    "appl_raw_df = stock_dfs['APPL']"
   ],
   "metadata": {
    "collapsed": false,
    "ExecuteTime": {
     "start_time": "2023-10-22T14:32:04.830095Z",
     "end_time": "2023-10-22T14:32:12.652845Z"
    }
   }
  },
  {
   "cell_type": "code",
   "execution_count": 24,
   "outputs": [
    {
     "data": {
      "text/plain": "         Unnamed: 0                event_timestamp  trade_sign side  \\\n0                 0  2017-01-03 10:30:19.351489154           1  ASK   \n1                 1  2017-01-03 10:30:19.351537884           1  ASK   \n2                 2  2017-01-03 10:30:19.351549791           1  ASK   \n3                 3  2017-01-03 10:30:19.351601187           1  ASK   \n4                 4  2017-01-03 10:30:19.351702603           1  ASK   \n...             ...                            ...         ...  ...   \n1411991     1411991  2017-12-29 14:59:11.533706465           1  ASK   \n1411992     1411992  2017-12-29 14:59:50.386983509          -1  BID   \n1411993     1411993  2017-12-29 14:59:50.387892067          -1  BID   \n1411994     1411994  2017-12-29 14:59:50.387904347          -1  BID   \n1411995     1411995  2017-12-29 14:59:50.387918018          -1  BID   \n\n        lob_action  order_executed  execution_price  execution_size     ask  \\\n0           UPDATE            True           219.37               1  219.37   \n1           REMOVE            True           219.37              15  219.37   \n2           UPDATE            True           219.38              80  219.38   \n3           UPDATE            True           219.38              80  219.38   \n4           REMOVE            True           219.38              40  219.38   \n...            ...             ...              ...             ...     ...   \n1411991     REMOVE            True           311.06             321  311.06   \n1411992     REMOVE            True           311.03             200  311.10   \n1411993     UPDATE            True           311.02             200  311.05   \n1411994     UPDATE            True           311.02               2  311.05   \n1411995     REMOVE            True           311.02              18  311.05   \n\n            bid  midprice  ask_volume  bid_volume  price_changing  \\\n0        219.28   219.325        16.0       100.0           False   \n1        219.28   219.325        15.0       100.0            True   \n2        219.28   219.330       200.0       100.0           False   \n3        219.29   219.335       120.0       100.0           False   \n4        219.29   219.335        40.0       100.0            True   \n...         ...       ...         ...         ...             ...   \n1411991  311.02   311.040       321.0       125.0            True   \n1411992  311.03   311.065      3400.0       200.0            True   \n1411993  311.02   311.035        10.0       220.0           False   \n1411994  311.02   311.035        10.0        20.0           False   \n1411995  311.02   311.035        10.0        18.0            True   \n\n         midprice_change     R1  norm_trade_volume  \n0                  0.000  0.000           0.008150  \n1                  0.005  0.005           0.122257  \n2                  0.005  0.005           0.652035  \n3                  0.000  0.000           0.652035  \n4                  0.050  0.050           0.326018  \n...                  ...    ...                ...  \n1411991            0.025  0.025           1.774181  \n1411992           -0.030  0.030           0.881088  \n1411993            0.000 -0.000           0.881088  \n1411994            0.000 -0.000           0.008811  \n1411995            0.000 -0.000           0.079298  \n\n[1411996 rows x 17 columns]",
      "text/html": "<div>\n<style scoped>\n    .dataframe tbody tr th:only-of-type {\n        vertical-align: middle;\n    }\n\n    .dataframe tbody tr th {\n        vertical-align: top;\n    }\n\n    .dataframe thead th {\n        text-align: right;\n    }\n</style>\n<table border=\"1\" class=\"dataframe\">\n  <thead>\n    <tr style=\"text-align: right;\">\n      <th></th>\n      <th>Unnamed: 0</th>\n      <th>event_timestamp</th>\n      <th>trade_sign</th>\n      <th>side</th>\n      <th>lob_action</th>\n      <th>order_executed</th>\n      <th>execution_price</th>\n      <th>execution_size</th>\n      <th>ask</th>\n      <th>bid</th>\n      <th>midprice</th>\n      <th>ask_volume</th>\n      <th>bid_volume</th>\n      <th>price_changing</th>\n      <th>midprice_change</th>\n      <th>R1</th>\n      <th>norm_trade_volume</th>\n    </tr>\n  </thead>\n  <tbody>\n    <tr>\n      <th>0</th>\n      <td>0</td>\n      <td>2017-01-03 10:30:19.351489154</td>\n      <td>1</td>\n      <td>ASK</td>\n      <td>UPDATE</td>\n      <td>True</td>\n      <td>219.37</td>\n      <td>1</td>\n      <td>219.37</td>\n      <td>219.28</td>\n      <td>219.325</td>\n      <td>16.0</td>\n      <td>100.0</td>\n      <td>False</td>\n      <td>0.000</td>\n      <td>0.000</td>\n      <td>0.008150</td>\n    </tr>\n    <tr>\n      <th>1</th>\n      <td>1</td>\n      <td>2017-01-03 10:30:19.351537884</td>\n      <td>1</td>\n      <td>ASK</td>\n      <td>REMOVE</td>\n      <td>True</td>\n      <td>219.37</td>\n      <td>15</td>\n      <td>219.37</td>\n      <td>219.28</td>\n      <td>219.325</td>\n      <td>15.0</td>\n      <td>100.0</td>\n      <td>True</td>\n      <td>0.005</td>\n      <td>0.005</td>\n      <td>0.122257</td>\n    </tr>\n    <tr>\n      <th>2</th>\n      <td>2</td>\n      <td>2017-01-03 10:30:19.351549791</td>\n      <td>1</td>\n      <td>ASK</td>\n      <td>UPDATE</td>\n      <td>True</td>\n      <td>219.38</td>\n      <td>80</td>\n      <td>219.38</td>\n      <td>219.28</td>\n      <td>219.330</td>\n      <td>200.0</td>\n      <td>100.0</td>\n      <td>False</td>\n      <td>0.005</td>\n      <td>0.005</td>\n      <td>0.652035</td>\n    </tr>\n    <tr>\n      <th>3</th>\n      <td>3</td>\n      <td>2017-01-03 10:30:19.351601187</td>\n      <td>1</td>\n      <td>ASK</td>\n      <td>UPDATE</td>\n      <td>True</td>\n      <td>219.38</td>\n      <td>80</td>\n      <td>219.38</td>\n      <td>219.29</td>\n      <td>219.335</td>\n      <td>120.0</td>\n      <td>100.0</td>\n      <td>False</td>\n      <td>0.000</td>\n      <td>0.000</td>\n      <td>0.652035</td>\n    </tr>\n    <tr>\n      <th>4</th>\n      <td>4</td>\n      <td>2017-01-03 10:30:19.351702603</td>\n      <td>1</td>\n      <td>ASK</td>\n      <td>REMOVE</td>\n      <td>True</td>\n      <td>219.38</td>\n      <td>40</td>\n      <td>219.38</td>\n      <td>219.29</td>\n      <td>219.335</td>\n      <td>40.0</td>\n      <td>100.0</td>\n      <td>True</td>\n      <td>0.050</td>\n      <td>0.050</td>\n      <td>0.326018</td>\n    </tr>\n    <tr>\n      <th>...</th>\n      <td>...</td>\n      <td>...</td>\n      <td>...</td>\n      <td>...</td>\n      <td>...</td>\n      <td>...</td>\n      <td>...</td>\n      <td>...</td>\n      <td>...</td>\n      <td>...</td>\n      <td>...</td>\n      <td>...</td>\n      <td>...</td>\n      <td>...</td>\n      <td>...</td>\n      <td>...</td>\n      <td>...</td>\n    </tr>\n    <tr>\n      <th>1411991</th>\n      <td>1411991</td>\n      <td>2017-12-29 14:59:11.533706465</td>\n      <td>1</td>\n      <td>ASK</td>\n      <td>REMOVE</td>\n      <td>True</td>\n      <td>311.06</td>\n      <td>321</td>\n      <td>311.06</td>\n      <td>311.02</td>\n      <td>311.040</td>\n      <td>321.0</td>\n      <td>125.0</td>\n      <td>True</td>\n      <td>0.025</td>\n      <td>0.025</td>\n      <td>1.774181</td>\n    </tr>\n    <tr>\n      <th>1411992</th>\n      <td>1411992</td>\n      <td>2017-12-29 14:59:50.386983509</td>\n      <td>-1</td>\n      <td>BID</td>\n      <td>REMOVE</td>\n      <td>True</td>\n      <td>311.03</td>\n      <td>200</td>\n      <td>311.10</td>\n      <td>311.03</td>\n      <td>311.065</td>\n      <td>3400.0</td>\n      <td>200.0</td>\n      <td>True</td>\n      <td>-0.030</td>\n      <td>0.030</td>\n      <td>0.881088</td>\n    </tr>\n    <tr>\n      <th>1411993</th>\n      <td>1411993</td>\n      <td>2017-12-29 14:59:50.387892067</td>\n      <td>-1</td>\n      <td>BID</td>\n      <td>UPDATE</td>\n      <td>True</td>\n      <td>311.02</td>\n      <td>200</td>\n      <td>311.05</td>\n      <td>311.02</td>\n      <td>311.035</td>\n      <td>10.0</td>\n      <td>220.0</td>\n      <td>False</td>\n      <td>0.000</td>\n      <td>-0.000</td>\n      <td>0.881088</td>\n    </tr>\n    <tr>\n      <th>1411994</th>\n      <td>1411994</td>\n      <td>2017-12-29 14:59:50.387904347</td>\n      <td>-1</td>\n      <td>BID</td>\n      <td>UPDATE</td>\n      <td>True</td>\n      <td>311.02</td>\n      <td>2</td>\n      <td>311.05</td>\n      <td>311.02</td>\n      <td>311.035</td>\n      <td>10.0</td>\n      <td>20.0</td>\n      <td>False</td>\n      <td>0.000</td>\n      <td>-0.000</td>\n      <td>0.008811</td>\n    </tr>\n    <tr>\n      <th>1411995</th>\n      <td>1411995</td>\n      <td>2017-12-29 14:59:50.387918018</td>\n      <td>-1</td>\n      <td>BID</td>\n      <td>REMOVE</td>\n      <td>True</td>\n      <td>311.02</td>\n      <td>18</td>\n      <td>311.05</td>\n      <td>311.02</td>\n      <td>311.035</td>\n      <td>10.0</td>\n      <td>18.0</td>\n      <td>True</td>\n      <td>0.000</td>\n      <td>-0.000</td>\n      <td>0.079298</td>\n    </tr>\n  </tbody>\n</table>\n<p>1411996 rows × 17 columns</p>\n</div>"
     },
     "metadata": {},
     "output_type": "display_data"
    }
   ],
   "source": [
    "display(appl_raw_df)"
   ],
   "metadata": {
    "collapsed": false,
    "ExecuteTime": {
     "start_time": "2023-10-22T14:32:12.653530Z",
     "end_time": "2023-10-22T14:32:12.779172Z"
    }
   }
  },
  {
   "cell_type": "markdown",
   "source": [
    "## Finding scaling parameters\n",
    "\n",
    "Scaling function – $\\mathscr{F}(x) = \\frac{x}{(1 + |x|^\\alpha)^{\\frac{\\beta}{\\alpha}}}$\n",
    "Scaling form –  $R(ΔV,T) \\approx R(1) \\times T^{\\chi} \\times  \\mathscr{F}\\left(\\frac{ΔV}{T^{\\kappa}}\\right)$\n",
    "Rescaled form – $R(ΔV) \\approx R_T \\times  \\mathscr{F}\\left(\\frac{ΔV}{\\mathcal{E}_T}\\right)$\n",
    "\n",
    "In order to map out the scale factors  $R_T$ and $\\mathcal{E}_T$ we use the following approach:\n",
    "\n",
    "Part $I$:\n",
    "\n",
    "   – Fit scaling form on all $T$ in the data to determine a heuristic guess of the scaling parameters $\\alpha$, $\\beta$,  $\\chi$ and $\\kappa$.\n",
    "\n",
    "   – Use found shape parameters $\\alpha$ and $\\beta$ and scaling exponents $\\chi$ and $\\kappa$ to approximate an initial renormalization of data.\n",
    "\n",
    "Part $II$:\n",
    "\n",
    "   – Once the found parameters $\\alpha$ and $\\beta$ of $\\mathscr{F}(x)$ are fixed, we use them to map out scale factors $R_T$ and $\\mathcal{E}_T$ by\n",
    "     fitting the rescaled form $R(ΔV)$  as a funtion of $T$, which are accurately described by a power law $R_T \\sim T^\\chi$ and $\\mathcal{E}_T \\sim T^\\kappa$.\n",
    "\n",
    "   – Use the mapped out scale factors to extract the fitted scaling exponents and perform a renomalization of the data to obtain the final master curves."
   ],
   "metadata": {
    "collapsed": false
   }
  },
  {
   "cell_type": "code",
   "execution_count": 24,
   "outputs": [],
   "source": [],
   "metadata": {
    "collapsed": false,
    "ExecuteTime": {
     "start_time": "2023-10-22T14:32:12.696987Z",
     "end_time": "2023-10-22T14:32:12.779255Z"
    }
   }
  },
  {
   "cell_type": "markdown",
   "source": [
    "## 1. Part $I$: Fit scaling form $R(ΔV,T)$ on normalised data"
   ],
   "metadata": {
    "collapsed": false
   }
  },
  {
   "cell_type": "markdown",
   "source": [],
   "metadata": {
    "collapsed": false
   }
  },
  {
   "cell_type": "code",
   "execution_count": 25,
   "outputs": [],
   "source": [
    "FITTING_LAGS = [10, 20, 50, 100, 150]"
   ],
   "metadata": {
    "collapsed": false,
    "ExecuteTime": {
     "start_time": "2023-10-22T14:32:12.699632Z",
     "end_time": "2023-10-22T14:32:12.781650Z"
    }
   }
  },
  {
   "cell_type": "code",
   "execution_count": 26,
   "outputs": [],
   "source": [
    "norm_agg_features_df = compute_aggregate_features(appl_raw_df, FITTING_LAGS)"
   ],
   "metadata": {
    "collapsed": false,
    "ExecuteTime": {
     "start_time": "2023-10-22T14:32:12.732653Z",
     "end_time": "2023-10-22T14:32:23.827746Z"
    }
   }
  },
  {
   "cell_type": "code",
   "execution_count": 27,
   "outputs": [],
   "source": [
    "norm_fit_result_dict = {}\n",
    "for lag in FITTING_LAGS:\n",
    "    data = norm_agg_features_df[norm_agg_features_df['T']==lag][[\"vol_imbalance\", \"T\", \"R\"]]\n",
    "    data_binned = bin_data_into_quantiles(data, q=31)\n",
    "\n",
    "    norm_fit_result_dict[lag] = fit.fit_scaling_form(data_binned)"
   ],
   "metadata": {
    "collapsed": false,
    "ExecuteTime": {
     "start_time": "2023-10-22T14:32:23.828354Z",
     "end_time": "2023-10-22T14:32:24.065779Z"
    }
   }
  },
  {
   "cell_type": "code",
   "execution_count": 28,
   "outputs": [
    {
     "data": {
      "text/plain": "<Figure size 640x480 with 1 Axes>",
      "image/png": "[encoded data removed]"
     },
     "metadata": {},
     "output_type": "display_data"
    }
   ],
   "source": [
    "residual_dict = {}\n",
    "for lag, fit_result in norm_fit_result_dict.items():\n",
    "    # plt.figure(figsize=(4, 4))\n",
    "    param = fit_result[0]\n",
    "    data = norm_agg_features_df[norm_agg_features_df['T']==lag][[\"vol_imbalance\", \"T\", \"R\"]]\n",
    "    data_binned = bin_data_into_quantiles(data, q=31)\n",
    "    xs = data_binned[\"vol_imbalance\"].values\n",
    "    ys = data_binned[\"R\"].values\n",
    "    imbalance_T = np.transpose(data_binned.iloc[:, :2].to_numpy())\n",
    "    y_hat = scaling_form(imbalance_T, *param)\n",
    "    residuals = ys - y_hat\n",
    "    residual_dict[lag] = residuals, ys\n",
    "\n",
    "    plt.scatter(xs, ys)\n",
    "    plt.plot(imbalance_T[0], y_hat, label=f\"{lag}\")\n",
    "    plt.legend()"
   ],
   "metadata": {
    "collapsed": false,
    "ExecuteTime": {
     "start_time": "2023-10-22T14:32:24.066903Z",
     "end_time": "2023-10-22T14:32:24.251646Z"
    }
   }
  },
  {
   "cell_type": "code",
   "execution_count": 29,
   "outputs": [
    {
     "name": "stdout",
     "output_type": "stream",
     "text": [
      "For T=10 \n",
      " R2 = 0.9977083386920073, \n",
      " Adj R2 = 0.9972500064304087, \n",
      " ks_distance = KstestResult(statistic=0.12903225806451613, pvalue=0.9634297148886908, statistic_location=-0.3519384530954189, statistic_sign=-1) \n",
      " \n",
      "\n",
      "For T=20 \n",
      " R2 = 0.9963951457633112, \n",
      " Adj R2 = 0.9956741749159734, \n",
      " ks_distance = KstestResult(statistic=0.12903225806451613, pvalue=0.9634297148886908, statistic_location=-0.3519384530954189, statistic_sign=-1) \n",
      " \n",
      "\n",
      "For T=50 \n",
      " R2 = 0.9929644274269085, \n",
      " Adj R2 = 0.9915573129122902, \n",
      " ks_distance = KstestResult(statistic=0.12903225806451613, pvalue=0.9634297148886908, statistic_location=-0.3519384530954189, statistic_sign=-1) \n",
      " \n",
      "\n",
      "For T=100 \n",
      " R2 = 0.9857183691241517, \n",
      " Adj R2 = 0.982862042948982, \n",
      " ks_distance = KstestResult(statistic=0.12903225806451613, pvalue=0.9634297148886908, statistic_location=-0.3519384530954189, statistic_sign=-1) \n",
      " \n",
      "\n",
      "For T=150 \n",
      " R2 = 0.9771940080671632, \n",
      " Adj R2 = 0.9726328096805958, \n",
      " ks_distance = KstestResult(statistic=0.12903225806451613, pvalue=0.9634297148886908, statistic_location=-0.3519384530954189, statistic_sign=-1) \n",
      " \n",
      "\n"
     ]
    }
   ],
   "source": [
    "from sklearn.metrics import mean_squared_error\n",
    "from scipy.stats import ks_2samp\n",
    "for lag in residual_dict.keys():\n",
    "    fit_result = norm_fit_result_dict[lag]\n",
    "    param = fit_result[0]\n",
    "\n",
    "    r2, ar2 = compute_rsquared(*residual_dict[lag], param)\n",
    "    mse = mean_squared_error(ys, y_hat)\n",
    "    ks_distance = ks_2samp(ys, y_hat, alternative=\"two-sided\")\n",
    "    print(f\"For T={lag} \\n R2 = {r2}, \\n Adj R2 = {ar2}, \\n ks_distance = {ks_distance} \\n \\n\")"
   ],
   "metadata": {
    "collapsed": false,
    "ExecuteTime": {
     "start_time": "2023-10-22T14:32:24.247131Z",
     "end_time": "2023-10-22T14:32:24.287924Z"
    }
   }
  },
  {
   "cell_type": "markdown",
   "source": [
    "# Fit scaling form on renormalised data"
   ],
   "metadata": {
    "collapsed": false
   }
  },
  {
   "cell_type": "code",
   "execution_count": 10,
   "outputs": [],
   "source": [
    "MO_LAG_INTERVALS = list(range(1, T))"
   ],
   "metadata": {
    "collapsed": false,
    "ExecuteTime": {
     "start_time": "2023-10-21T12:16:23.669383Z",
     "end_time": "2023-10-21T12:16:23.869551Z"
    }
   }
  },
  {
   "cell_type": "code",
   "execution_count": 32,
   "outputs": [],
   "source": [
    "# popt_ebay, pcov_ebay, fit_func_ebay, data_norm_ebay = compute_shape_parameters(ebay_raw_df, MO_LAG_INTERVALS)\n",
    "# popt_msft, pcov_msft, fit_func_msft, data_norm_msft = compute_shape_parameters(msft_raw_df, MO_LAG_INTERVALS)\n",
    "popt_appl, pcov_appl, fit_func_appl, data_norm_appl = fit.compute_shape_parameters(appl_raw_df, MO_LAG_INTERVALS)\n",
    "# popt_nflx, pcov_nflx, fit_func_nflx, data_norm_nflx = compute_shape_parameters(nflx_raw_df, MO_LAG_INTERVALS)\n",
    "# popt_amzn, pcov_amzn, fit_func_amzn, data_norm_amzn = compute_shape_parameters(amzn_raw_df, MO_LAG_INTERVALS)"
   ],
   "metadata": {
    "collapsed": false,
    "ExecuteTime": {
     "start_time": "2023-10-21T11:55:34.291608Z",
     "end_time": "2023-10-21T11:56:03.898178Z"
    }
   }
  },
  {
   "cell_type": "code",
   "execution_count": null,
   "outputs": [],
   "source": [],
   "metadata": {
    "collapsed": false
   }
  },
  {
   "cell_type": "code",
   "execution_count": null,
   "outputs": [],
   "source": [],
   "metadata": {
    "collapsed": false
   }
  },
  {
   "cell_type": "markdown",
   "source": [
    "## TESTING"
   ],
   "metadata": {
    "collapsed": false
   }
  },
  {
   "cell_type": "code",
   "execution_count": 4,
   "outputs": [],
   "source": [
    "current_dir = os.path.abspath('.')\n",
    "root_dir = os.path.join(current_dir, '..', '..')\n",
    "data_dir = os.path.join(root_dir, 'data', 'market_orders')\n",
    "filename = \"APPL-2016-R1.csv\"\n",
    "stock_file_path = os.path.join(data_dir, filename)\n",
    "appl_data_raw = pd.read_csv(stock_file_path)"
   ],
   "metadata": {
    "collapsed": false,
    "ExecuteTime": {
     "start_time": "2023-10-21T12:09:31.998855Z",
     "end_time": "2023-10-21T12:09:33.558631Z"
    }
   }
  },
  {
   "cell_type": "code",
   "execution_count": 13,
   "outputs": [],
   "source": [
    "FITTING_LAGS = MO_LAG_INTERVALS"
   ],
   "metadata": {
    "collapsed": false,
    "ExecuteTime": {
     "start_time": "2023-10-21T12:17:24.346650Z",
     "end_time": "2023-10-21T12:17:24.412717Z"
    }
   }
  },
  {
   "cell_type": "code",
   "execution_count": 14,
   "outputs": [
    {
     "data": {
      "text/plain": "array([5.27391182e-01, 8.28367457e-01, 5.94433916e-01, 2.43251108e+03,\n       8.90415317e+04])"
     },
     "metadata": {},
     "output_type": "display_data"
    }
   ],
   "source": [
    "# remove outlier (default)\n",
    "popt_appl1, pcov_appl1, fit_func_appl1, data_norm_appl1 = fit.compute_shape_parameters(appl_data_raw, FITTING_LAGS)\n",
    "display(popt_appl1)"
   ],
   "metadata": {
    "collapsed": false,
    "ExecuteTime": {
     "start_time": "2023-10-21T12:17:25.283488Z",
     "end_time": "2023-10-21T12:53:52.116241Z"
    }
   }
  },
  {
   "cell_type": "code",
   "execution_count": 18,
   "outputs": [
    {
     "data": {
      "text/plain": "{'chi': 0.5273911823169363,\n 'kappa': 0.8283674572095264,\n 'alpha': 0.5944339164231282,\n 'beta': 2432.5110798488367,\n 'gamma': 89041.53165906374}"
     },
     "execution_count": 18,
     "metadata": {},
     "output_type": "execute_result"
    }
   ],
   "source": [
    "chi, kappa, alpha, beta, gamma = popt_appl1\n",
    "params1 = {\n",
    "    'chi': chi,\n",
    "    'kappa': kappa,\n",
    "    'alpha': alpha,\n",
    "    'beta': beta,\n",
    "    'gamma': gamma\n",
    "}\n",
    "params1"
   ],
   "metadata": {
    "collapsed": false,
    "ExecuteTime": {
     "start_time": "2023-10-21T14:58:44.248489Z",
     "end_time": "2023-10-21T14:58:44.556395Z"
    }
   }
  },
  {
   "cell_type": "code",
   "execution_count": 15,
   "outputs": [
    {
     "data": {
      "text/plain": "array([5.30399797e-01, 8.33751680e-01, 4.58682267e-01, 3.68287653e+02,\n       1.18675987e+05])"
     },
     "metadata": {},
     "output_type": "display_data"
    }
   ],
   "source": [
    "# NOT remove outlier\n",
    "popt_appl2, pcov_appl2, fit_func_appl2, data_norm_appl2 = fit.compute_shape_parameters(appl_data_raw, FITTING_LAGS, remove_outliers=False)\n",
    "display(popt_appl2)"
   ],
   "metadata": {
    "collapsed": false,
    "ExecuteTime": {
     "start_time": "2023-10-21T12:53:52.078859Z",
     "end_time": "2023-10-21T13:23:19.587860Z"
    }
   }
  },
  {
   "cell_type": "code",
   "execution_count": 19,
   "outputs": [
    {
     "data": {
      "text/plain": "{'chi': 0.530399796600703,\n 'kappa': 0.8337516797675467,\n 'alpha': 0.4586822673363147,\n 'beta': 368.2876534177346,\n 'gamma': 118675.98724990043}"
     },
     "execution_count": 19,
     "metadata": {},
     "output_type": "execute_result"
    }
   ],
   "source": [
    "chi, kappa, alpha, beta, gamma = popt_appl2\n",
    "params2 = {\n",
    "    'chi': chi,\n",
    "    'kappa': kappa,\n",
    "    'alpha': alpha,\n",
    "    'beta': beta,\n",
    "    'gamma': gamma\n",
    "}\n",
    "params2"
   ],
   "metadata": {
    "collapsed": false,
    "ExecuteTime": {
     "start_time": "2023-10-21T15:01:06.330055Z",
     "end_time": "2023-10-21T15:01:06.621937Z"
    }
   }
  },
  {
   "cell_type": "code",
   "execution_count": 16,
   "outputs": [
    {
     "data": {
      "text/plain": "array([5.27391182e-01, 8.28367457e-01, 5.94433916e-01, 2.43251108e+03,\n       8.90415317e+04])"
     },
     "metadata": {},
     "output_type": "display_data"
    }
   ],
   "source": [
    "# run again\n",
    "popt_appl3, pcov_appl3, fit_func_appl3, data_norm_appl3 = fit.compute_shape_parameters(appl_data_raw, FITTING_LAGS)\n",
    "display(popt_appl3)"
   ],
   "metadata": {
    "collapsed": false,
    "ExecuteTime": {
     "start_time": "2023-10-21T13:23:19.528058Z",
     "end_time": "2023-10-21T14:00:06.207850Z"
    }
   }
  },
  {
   "cell_type": "code",
   "execution_count": 20,
   "outputs": [
    {
     "data": {
      "text/plain": "{'chi': 0.5273911823169363,\n 'kappa': 0.8283674572095264,\n 'alpha': 0.5944339164231282,\n 'beta': 2432.5110798488367,\n 'gamma': 89041.53165906374}"
     },
     "execution_count": 20,
     "metadata": {},
     "output_type": "execute_result"
    }
   ],
   "source": [
    "chi, kappa, alpha, beta, gamma = popt_appl3\n",
    "params3 = {\n",
    "    'chi': chi,\n",
    "    'kappa': kappa,\n",
    "    'alpha': alpha,\n",
    "    'beta': beta,\n",
    "    'gamma': gamma\n",
    "}\n",
    "params3"
   ],
   "metadata": {
    "collapsed": false,
    "ExecuteTime": {
     "start_time": "2023-10-21T15:02:48.854526Z",
     "end_time": "2023-10-21T15:02:49.249287Z"
    }
   }
  },
  {
   "cell_type": "code",
   "execution_count": 17,
   "outputs": [
    {
     "data": {
      "text/plain": "array([0.69518319, 1.04282756, 1.55973373, 3.35352819, 0.0836362 ])"
     },
     "metadata": {},
     "output_type": "display_data"
    }
   ],
   "source": [
    "# NOT normalise\n",
    "popt_appl4, pcov_appl4, fit_func_appl4, data_norm_appl4 = fit.compute_shape_parameters(appl_data_raw, FITTING_LAGS, normalise=False)\n",
    "display(popt_appl4)"
   ],
   "metadata": {
    "collapsed": false,
    "ExecuteTime": {
     "start_time": "2023-10-21T14:00:06.107565Z",
     "end_time": "2023-10-21T14:26:19.117311Z"
    }
   }
  },
  {
   "cell_type": "code",
   "execution_count": 21,
   "outputs": [
    {
     "data": {
      "text/plain": "{'chi': 0.6951831946346549,\n 'kappa': 1.0428275604170847,\n 'alpha': 1.5597337345446072,\n 'beta': 3.353528187003223,\n 'gamma': 0.08363619923433775}"
     },
     "execution_count": 21,
     "metadata": {},
     "output_type": "execute_result"
    }
   ],
   "source": [
    "chi, kappa, alpha, beta, gamma = popt_appl4\n",
    "params4 = {\n",
    "    'chi': chi,\n",
    "    'kappa': kappa,\n",
    "    'alpha': alpha,\n",
    "    'beta': beta,\n",
    "    'gamma': gamma\n",
    "}\n",
    "params4"
   ],
   "metadata": {
    "collapsed": false,
    "ExecuteTime": {
     "start_time": "2023-10-21T15:06:56.686517Z",
     "end_time": "2023-10-21T15:06:56.688041Z"
    }
   }
  },
  {
   "cell_type": "markdown",
   "source": [
    "## TESTING"
   ],
   "metadata": {
    "collapsed": false
   }
  },
  {
   "cell_type": "code",
   "execution_count": null,
   "outputs": [],
   "source": [],
   "metadata": {
    "collapsed": false
   }
  },
  {
   "cell_type": "code",
   "execution_count": 30,
   "outputs": [],
   "source": [
    "result_all = {\n",
    "#     'TSLA': (popt_tsla, pcov_tsla, fit_func, data_norm),\n",
    "#     'EBAY': (popt_ebay, pcov_ebay, fit_func_ebay, data_norm_ebay),\n",
    "#     'MSFT': (popt_msft, pcov_msft, fit_func_msft, data_norm_msft),\n",
    "    'APPL': (popt_appl, pcov_appl, fit_func_appl, data_norm_appl),\n",
    "#     'NFLX': (popt_nflx, pcov_nflx, fit_func_nflx, data_norm_nflx),\n",
    "#     'AMZN': (popt_amzn, pcov_amzn, fit_func_amzn, data_norm_amzn)\n",
    "}"
   ],
   "metadata": {
    "collapsed": false,
    "ExecuteTime": {
     "start_time": "2023-10-22T14:32:50.323544Z",
     "end_time": "2023-10-22T14:32:50.537425Z"
    }
   }
  },
  {
   "cell_type": "code",
   "execution_count": 31,
   "outputs": [
    {
     "data": {
      "text/plain": "dict_keys(['APPL'])"
     },
     "execution_count": 31,
     "metadata": {},
     "output_type": "execute_result"
    }
   ],
   "source": [
    "import pickle\n",
    "#pickle.dump(result_all, open('../../data/generated/shape_parameters_mo.pkl', 'wb'))\n",
    "shape_params_dict = pickle.load(open('../../data/generated/shape_parameters_mo.pkl', 'rb'))\n",
    "shape_params_dict.keys()"
   ],
   "metadata": {
    "collapsed": false,
    "ExecuteTime": {
     "start_time": "2023-10-22T14:32:51.114391Z",
     "end_time": "2023-10-22T14:32:51.563812Z"
    }
   }
  },
  {
   "cell_type": "markdown",
   "source": [],
   "metadata": {
    "collapsed": false
   }
  },
  {
   "cell_type": "markdown",
   "source": [
    "### Parameters of master curve"
   ],
   "metadata": {
    "collapsed": false
   }
  },
  {
   "cell_type": "code",
   "execution_count": 32,
   "outputs": [],
   "source": [
    "appl_shape_params = shape_params_dict['APPL']"
   ],
   "metadata": {
    "collapsed": false,
    "ExecuteTime": {
     "start_time": "2023-10-22T14:32:54.240829Z",
     "end_time": "2023-10-22T14:32:54.312984Z"
    }
   }
  },
  {
   "cell_type": "code",
   "execution_count": 33,
   "outputs": [],
   "source": [
    "popt_appl, pcov_appl, fit_func_appl, data_norm_appl = appl_shape_params"
   ],
   "metadata": {
    "collapsed": false,
    "ExecuteTime": {
     "start_time": "2023-10-22T14:32:56.499299Z",
     "end_time": "2023-10-22T14:32:56.559646Z"
    }
   }
  },
  {
   "cell_type": "code",
   "execution_count": 34,
   "outputs": [],
   "source": [
    "chi, kappa, alpha, beta, gamma = popt_appl"
   ],
   "metadata": {
    "collapsed": false,
    "ExecuteTime": {
     "start_time": "2023-10-22T14:32:57.092133Z",
     "end_time": "2023-10-22T14:32:57.146954Z"
    }
   }
  },
  {
   "cell_type": "code",
   "execution_count": 35,
   "outputs": [
    {
     "data": {
      "text/plain": "0.5273911823169363"
     },
     "execution_count": 35,
     "metadata": {},
     "output_type": "execute_result"
    }
   ],
   "source": [
    "chi"
   ],
   "metadata": {
    "collapsed": false,
    "ExecuteTime": {
     "start_time": "2023-10-22T14:32:57.665512Z",
     "end_time": "2023-10-22T14:32:57.734588Z"
    }
   }
  },
  {
   "cell_type": "code",
   "execution_count": 36,
   "outputs": [
    {
     "data": {
      "text/plain": "0.8283674572095264"
     },
     "execution_count": 36,
     "metadata": {},
     "output_type": "execute_result"
    }
   ],
   "source": [
    "kappa"
   ],
   "metadata": {
    "collapsed": false,
    "ExecuteTime": {
     "start_time": "2023-10-22T14:32:58.821946Z",
     "end_time": "2023-10-22T14:32:58.880093Z"
    }
   }
  },
  {
   "cell_type": "code",
   "execution_count": 37,
   "outputs": [
    {
     "data": {
      "text/plain": "0.5944339164231282"
     },
     "execution_count": 37,
     "metadata": {},
     "output_type": "execute_result"
    }
   ],
   "source": [
    "alpha"
   ],
   "metadata": {
    "collapsed": false,
    "ExecuteTime": {
     "start_time": "2023-10-22T14:32:59.981293Z",
     "end_time": "2023-10-22T14:33:00.042578Z"
    }
   }
  },
  {
   "cell_type": "code",
   "execution_count": 38,
   "outputs": [
    {
     "data": {
      "text/plain": "2432.5110798488367"
     },
     "execution_count": 38,
     "metadata": {},
     "output_type": "execute_result"
    }
   ],
   "source": [
    "beta"
   ],
   "metadata": {
    "collapsed": false,
    "ExecuteTime": {
     "start_time": "2023-10-22T14:33:01.047961Z",
     "end_time": "2023-10-22T14:33:01.108248Z"
    }
   }
  },
  {
   "cell_type": "code",
   "execution_count": 39,
   "outputs": [],
   "source": [
    "param = shape_params_dict['APPL']"
   ],
   "metadata": {
    "collapsed": false,
    "ExecuteTime": {
     "start_time": "2023-10-22T14:33:02.468894Z",
     "end_time": "2023-10-22T14:33:02.527103Z"
    }
   }
  },
  {
   "cell_type": "code",
   "execution_count": 40,
   "outputs": [],
   "source": [
    "COLLAPSE_LAGS = [10, 20, 50, 100, 150]"
   ],
   "metadata": {
    "collapsed": false,
    "ExecuteTime": {
     "start_time": "2023-10-22T14:33:03.442513Z",
     "end_time": "2023-10-22T14:33:03.501089Z"
    }
   }
  },
  {
   "cell_type": "code",
   "execution_count": 41,
   "outputs": [],
   "source": [
    "norm_agg_features_df_for_durations = norm_agg_features_df[norm_agg_features_df['T'].isin(COLLAPSE_LAGS)]"
   ],
   "metadata": {
    "collapsed": false,
    "ExecuteTime": {
     "start_time": "2023-10-22T14:33:04.326393Z",
     "end_time": "2023-10-22T14:33:04.394905Z"
    }
   }
  },
  {
   "cell_type": "markdown",
   "source": [
    "### Compare fits of individual curves to the renormalised data"
   ],
   "metadata": {
    "collapsed": false
   }
  },
  {
   "cell_type": "code",
   "execution_count": 42,
   "outputs": [
    {
     "data": {
      "text/plain": "'\\n* fit scaling form on all renormalised data\\n'"
     },
     "execution_count": 42,
     "metadata": {},
     "output_type": "execute_result"
    }
   ],
   "source": [
    "\"\"\"\n",
    "* fit scaling form on all renormalised data\n",
    "\"\"\""
   ],
   "metadata": {
    "collapsed": false,
    "ExecuteTime": {
     "start_time": "2023-10-22T14:33:06.117141Z",
     "end_time": "2023-10-22T14:33:06.201015Z"
    }
   }
  },
  {
   "cell_type": "code",
   "execution_count": 43,
   "outputs": [
    {
     "name": "stderr",
     "output_type": "stream",
     "text": [
      "/Users/ana_bugaenko/workspace/another_workspace/liquidity/liquidity/response_functions/functional_form.py:31: RuntimeWarning: overflow encountered in power\n",
      "  return x / np.power(1 + np.power(abs(x), alpha), beta / alpha)\n",
      "/Users/ana_bugaenko/workspace/another_workspace/liquidity/liquidity/response_functions/functional_form.py:31: RuntimeWarning: overflow encountered in power\n",
      "  return x / np.power(1 + np.power(abs(x), alpha), beta / alpha)\n"
     ]
    }
   ],
   "source": [
    "renomalized_param_dict = fit.renormalise(norm_agg_features_df_for_durations, popt_appl, durations=COLLAPSE_LAGS)"
   ],
   "metadata": {
    "collapsed": false,
    "ExecuteTime": {
     "start_time": "2023-10-22T14:33:06.918231Z",
     "end_time": "2023-10-22T14:33:07.232133Z"
    }
   }
  },
  {
   "cell_type": "code",
   "execution_count": 44,
   "outputs": [
    {
     "name": "stdout",
     "output_type": "stream",
     "text": [
      "for lag 10 mape is [[ 1.35261601e+12 -5.46992311e+07  2.35905803e+04 -1.02773404e+11\n",
      "  -7.48646623e+12]\n",
      " [-5.46992311e+07  2.93889937e+05 -1.09878653e+02  5.52468231e+08\n",
      "   3.04364202e+08]\n",
      " [ 2.35905803e+04 -1.09878653e+02  4.29860729e-02 -2.06516914e+05\n",
      "  -1.31172242e+05]\n",
      " [-1.02773404e+11  5.52468231e+08 -2.06516914e+05  1.03855673e+12\n",
      "   5.71866008e+11]\n",
      " [-7.48646623e+12  3.04364202e+08 -1.31172242e+05  5.71866008e+11\n",
      "   4.14361419e+13]]\n",
      "for lag 20 mape is [[ 1.75873368e+12  1.08955993e+08 -4.05302310e+04  3.42401367e+11\n",
      "  -8.87908207e+12]\n",
      " [ 1.08955993e+08  3.85099801e+05 -1.56878280e+02  1.20983340e+09\n",
      "  -5.48160947e+08]\n",
      " [-4.05302310e+04 -1.56878280e+02  6.78157393e-02 -4.92752478e+05\n",
      "   2.03840017e+05]\n",
      " [ 3.42401367e+11  1.20983340e+09 -4.92752478e+05  3.80082719e+12\n",
      "  -1.72263366e+12]\n",
      " [-8.87908207e+12 -5.48160947e+08  2.03840017e+05 -1.72263366e+12\n",
      "   4.48266364e+13]]\n",
      "for lag 50 mape is [[ 7.37118260e+11 -1.03268272e+08  6.50347296e+04 -1.96148854e+11\n",
      "  -2.95259777e+12]\n",
      " [-1.03268272e+08  5.99406371e+05 -4.31381207e+02  1.13787271e+09\n",
      "   4.15994089e+08]\n",
      " [ 6.50347296e+04 -4.31381207e+02  3.21974779e-01 -8.18758905e+05\n",
      "  -2.62194385e+05]\n",
      " [-1.96148854e+11  1.13787271e+09 -8.18758905e+05  2.16006281e+12\n",
      "   7.90141010e+11]\n",
      " [-2.95259777e+12  4.15994089e+08 -2.62194385e+05  7.90141010e+11\n",
      "   1.18269225e+13]]\n",
      "for lag 100 mape is [[ 1.20721705e+12  9.53702127e+07 -1.32171430e+05  6.01641616e+10\n",
      "  -8.02979416e+12]\n",
      " [ 9.53702127e+07  8.14549212e+05 -1.29620955e+03  5.13171651e+08\n",
      "  -6.28983771e+08]\n",
      " [-1.32171430e+05 -1.29620955e+03  2.09707356e+00 -8.16476586e+05\n",
      "   8.70580699e+05]\n",
      " [ 6.01641616e+10  5.13171651e+08 -8.16476586e+05  3.23302305e+11\n",
      "  -3.96798071e+11]\n",
      " [-8.02979416e+12 -6.28983771e+08  8.70580699e+05 -3.96798071e+11\n",
      "   5.34101449e+13]]\n",
      "for lag 150 mape is [[ 1.47982578e+12 -1.08499166e+08  2.41611991e+05 -6.81915502e+10\n",
      "  -7.45525518e+12]\n",
      " [-1.08499166e+08  1.19570442e+06 -2.13428341e+03  7.53643299e+08\n",
      "   5.52596758e+08]\n",
      " [ 2.41611991e+05 -2.13428341e+03  3.87021304e+00 -1.34498432e+06\n",
      "  -1.22789059e+06]\n",
      " [-6.81915502e+10  7.53643299e+08 -1.34498432e+06  4.75016512e+11\n",
      "   3.47316976e+11]\n",
      " [-7.45525518e+12  5.52596758e+08 -1.22789059e+06  3.47316976e+11\n",
      "   3.75590662e+13]]\n"
     ]
    }
   ],
   "source": [
    "for k,v in renomalized_param_dict.items():\n",
    "    mape = v.params[1]\n",
    "    print(f\"for lag {k} mape is {mape}\")"
   ],
   "metadata": {
    "collapsed": false,
    "ExecuteTime": {
     "start_time": "2023-10-22T14:33:08.148999Z",
     "end_time": "2023-10-22T14:33:08.208859Z"
    }
   }
  },
  {
   "cell_type": "code",
   "execution_count": 45,
   "outputs": [
    {
     "data": {
      "text/plain": "<Figure size 640x480 with 1 Axes>",
      "image/png": "[encoded data removed]"
     },
     "metadata": {},
     "output_type": "display_data"
    }
   ],
   "source": [
    "residual_dict = {}\n",
    "for lag, fit_result in renomalized_param_dict.items():\n",
    "    # plt.figure(figsize=(4, 4))\n",
    "    param = fit_result.params[0]\n",
    "    data = fit_result.data\n",
    "    data_binned = bin_data_into_quantiles(data, q=31)\n",
    "    xs = data_binned[\"vol_imbalance\"].values\n",
    "    ys = data_binned[\"R\"].values\n",
    "    imbalance_T = np.transpose(data_binned.iloc[:, :2].to_numpy())\n",
    "    y_hat = scaling_form(imbalance_T, *param)\n",
    "    residuals = ys - y_hat\n",
    "    residual_dict[lag] = residuals, ys\n",
    "\n",
    "    plt.scatter(xs, ys)\n",
    "    plt.plot(imbalance_T[0], y_hat, label=f\"{lag}\")\n",
    "    plt.legend()"
   ],
   "metadata": {
    "collapsed": false,
    "ExecuteTime": {
     "start_time": "2023-10-22T14:33:09.261105Z",
     "end_time": "2023-10-22T14:33:09.388227Z"
    }
   }
  },
  {
   "cell_type": "code",
   "execution_count": 46,
   "outputs": [
    {
     "name": "stdout",
     "output_type": "stream",
     "text": [
      "For T=10 \n",
      " R2 = 0.9977076595676029, \n",
      " Adj R2 = 0.9972491914811235 \n",
      " \n",
      ",\n",
      "For T=20 \n",
      " R2 = 0.9963938876701763, \n",
      " Adj R2 = 0.9956726652042116 \n",
      " \n",
      ",\n",
      "For T=50 \n",
      " R2 = 0.9929590287195801, \n",
      " Adj R2 = 0.9915508344634961 \n",
      " \n",
      ",\n",
      "For T=100 \n",
      " R2 = 0.9857136368443721, \n",
      " Adj R2 = 0.9828563642132465 \n",
      " \n",
      ",\n",
      "For T=150 \n",
      " R2 = 0.9771902429900517, \n",
      " Adj R2 = 0.9726282915880621 \n",
      " \n",
      ",\n"
     ]
    }
   ],
   "source": [
    "for lag in renomalized_param_dict.keys():\n",
    "    fit_result = renomalized_param_dict[lag]\n",
    "    param = fit_result.params[0]\n",
    "\n",
    "    r2, ar2 = compute_rsquared(*residual_dict[lag], param)\n",
    "    print(f\"For T={lag} \\n R2 = {r2}, \\n Adj R2 = {ar2} \\n \\n,\")"
   ],
   "metadata": {
    "collapsed": false,
    "ExecuteTime": {
     "start_time": "2023-10-22T14:33:10.963859Z",
     "end_time": "2023-10-22T14:33:11.019012Z"
    }
   }
  },
  {
   "cell_type": "code",
   "execution_count": 46,
   "outputs": [],
   "source": [],
   "metadata": {
    "collapsed": false,
    "ExecuteTime": {
     "start_time": "2023-10-22T14:33:13.054472Z",
     "end_time": "2023-10-22T14:33:13.099987Z"
    }
   }
  },
  {
   "cell_type": "markdown",
   "source": [
    "### Compare master curve fit to the renormalised data"
   ],
   "metadata": {
    "collapsed": false
   }
  },
  {
   "cell_type": "code",
   "execution_count": 47,
   "outputs": [
    {
     "data": {
      "text/plain": "'\\nplot data points for larger lags\\n'"
     },
     "execution_count": 47,
     "metadata": {},
     "output_type": "execute_result"
    }
   ],
   "source": [
    "\"\"\"\n",
    "plot data points for larger lags\n",
    "\"\"\""
   ],
   "metadata": {
    "collapsed": false,
    "ExecuteTime": {
     "start_time": "2023-10-22T14:33:14.207814Z",
     "end_time": "2023-10-22T14:33:14.262817Z"
    }
   }
  },
  {
   "cell_type": "code",
   "execution_count": 48,
   "outputs": [
    {
     "data": {
      "text/plain": "<Figure size 640x480 with 1 Axes>",
      "image/png": "[encoded data removed]"
     },
     "metadata": {},
     "output_type": "display_data"
    }
   ],
   "source": [
    "residual_dict = {}\n",
    "for lag, fit_result in renomalized_param_dict.items():\n",
    "    # plt.figure(figsize=(4, 4))\n",
    "    param = shape_params_dict['APPL'][0]\n",
    "\n",
    "    data = fit_result.data\n",
    "    data_binned = bin_data_into_quantiles(data, q=31)\n",
    "    xs = data_binned[\"vol_imbalance\"].values\n",
    "    ys = data_binned[\"R\"].values\n",
    "    imbalance_T = np.transpose(data_binned.iloc[:, :2].to_numpy())\n",
    "    y_hat = scaling_form(imbalance_T, *param)\n",
    "    residuals = ys - y_hat\n",
    "    residual_dict[lag] = residuals, ys\n",
    "\n",
    "    plt.scatter(xs, ys)\n",
    "    if lag == 10:\n",
    "        plt.plot(imbalance_T[0], y_hat)"
   ],
   "metadata": {
    "collapsed": false,
    "ExecuteTime": {
     "start_time": "2023-10-22T14:33:14.849294Z",
     "end_time": "2023-10-22T14:33:14.959540Z"
    }
   }
  },
  {
   "cell_type": "code",
   "execution_count": 49,
   "outputs": [
    {
     "name": "stdout",
     "output_type": "stream",
     "text": [
      "For T=10 \n",
      " R2 = 0.6728346227992437, \n",
      " Adj R2 = 0.6074015473590924 \n",
      " \n",
      ",\n",
      "For T=20 \n",
      " R2 = 0.7833565777623333, \n",
      " Adj R2 = 0.7400278933147999 \n",
      " \n",
      ",\n",
      "For T=50 \n",
      " R2 = 0.8769260329028122, \n",
      " Adj R2 = 0.8523112394833747 \n",
      " \n",
      ",\n",
      "For T=100 \n",
      " R2 = 0.8880589700083186, \n",
      " Adj R2 = 0.8656707640099823 \n",
      " \n",
      ",\n",
      "For T=150 \n",
      " R2 = 0.8415976688257157, \n",
      " Adj R2 = 0.8099172025908589 \n",
      " \n",
      ",\n"
     ]
    }
   ],
   "source": [
    "for lag in renomalized_param_dict.keys():\n",
    "    fit_result = renomalized_param_dict[lag]\n",
    "    param = fit_result.params[0]\n",
    "\n",
    "    r2, ar2 = compute_rsquared(*residual_dict[lag], param)\n",
    "    print(f\"For T={lag} \\n R2 = {r2}, \\n Adj R2 = {ar2} \\n \\n,\")"
   ],
   "metadata": {
    "collapsed": false,
    "ExecuteTime": {
     "start_time": "2023-10-22T14:33:23.364485Z",
     "end_time": "2023-10-22T14:33:23.448394Z"
    }
   }
  },
  {
   "cell_type": "code",
   "execution_count": 49,
   "outputs": [],
   "source": [],
   "metadata": {
    "collapsed": false,
    "ExecuteTime": {
     "start_time": "2023-10-22T14:33:32.251236Z",
     "end_time": "2023-10-22T14:33:32.310054Z"
    }
   }
  },
  {
   "cell_type": "markdown",
   "source": [
    "## 1.2. After Collapse"
   ],
   "metadata": {
    "collapsed": false
   }
  },
  {
   "cell_type": "code",
   "execution_count": 49,
   "outputs": [],
   "source": [],
   "metadata": {
    "collapsed": false,
    "ExecuteTime": {
     "start_time": "2023-10-22T14:33:33.200281Z",
     "end_time": "2023-10-22T14:33:33.234053Z"
    }
   }
  },
  {
   "cell_type": "code",
   "execution_count": 50,
   "outputs": [
    {
     "data": {
      "text/plain": "'\\nLage beta:\\n\\n- fix 1: restraint volume imbalance scope when fitting (requires re-running fit of scaling form for each N each stock\\n\\n- temp fix 2: remove outliers in the series of RN and QN\\n\\n'"
     },
     "execution_count": 50,
     "metadata": {},
     "output_type": "execute_result"
    }
   ],
   "source": [
    "\"\"\"\n",
    "Lage beta:\n",
    "\n",
    "- fix 1: restraint volume imbalance scope when fitting (requires re-running fit of scaling form for each N each stock\n",
    "\n",
    "- temp fix 2: remove outliers in the series of RN and QN\n",
    "\n",
    "\"\"\""
   ],
   "metadata": {
    "collapsed": false,
    "ExecuteTime": {
     "start_time": "2023-10-22T14:33:33.693633Z",
     "end_time": "2023-10-22T14:33:33.866951Z"
    }
   }
  },
  {
   "cell_type": "code",
   "execution_count": 50,
   "outputs": [],
   "source": [],
   "metadata": {
    "collapsed": false,
    "ExecuteTime": {
     "start_time": "2023-10-22T14:33:34.081880Z",
     "end_time": "2023-10-22T14:33:34.112638Z"
    }
   }
  },
  {
   "cell_type": "code",
   "execution_count": 50,
   "outputs": [],
   "source": [],
   "metadata": {
    "collapsed": false,
    "ExecuteTime": {
     "start_time": "2023-10-22T14:33:34.721080Z",
     "end_time": "2023-10-22T14:33:34.749400Z"
    }
   }
  },
  {
   "cell_type": "code",
   "execution_count": null,
   "outputs": [],
   "source": [],
   "metadata": {
    "collapsed": false
   }
  },
  {
   "cell_type": "markdown",
   "source": [
    "## 2. Fitting Rescaled Form on normalised data\n",
    "\n",
    "    - Find RN, QN, given Alpha, Beta\n",
    "\n",
    "Approach II: produce series of RN and QN by fitting scaling funtion for different N, then use powerlaw library to fit power law and determine scale factors; finally, fit known scaling form to find exponents and then use them for renormalisation."
   ],
   "metadata": {
    "collapsed": false
   }
  },
  {
   "cell_type": "code",
   "execution_count": 51,
   "outputs": [],
   "source": [
    "LAGS = list(range(1, 1001))"
   ],
   "metadata": {
    "collapsed": false,
    "ExecuteTime": {
     "start_time": "2023-10-22T14:34:14.132220Z",
     "end_time": "2023-10-22T14:34:14.342549Z"
    }
   }
  },
  {
   "cell_type": "code",
   "execution_count": 52,
   "outputs": [],
   "source": [
    "# # Aggregate orderflow\n",
    "# tsla_imbalance = get_agg_features(tsla_raw_df, LAGS, remove_outliers=False)\n",
    "# pickle.dump(tsla_imbalance, open('../../data/generated/tsla_aggregate_features_mo_df.pkl', 'wb'))"
   ],
   "metadata": {
    "collapsed": false,
    "ExecuteTime": {
     "start_time": "2023-10-22T14:34:14.608925Z",
     "end_time": "2023-10-22T14:34:14.683901Z"
    }
   }
  },
  {
   "cell_type": "code",
   "execution_count": null,
   "outputs": [],
   "source": [
    "# msft_imbalance = get_agg_features(msft_raw_df, LAGS, remove_outliers=False)\n",
    "# pickle.dump(msft_imbalance, open('../../data/generated/msft_aggregate_features_mo_df.pkl', 'wb'))"
   ],
   "metadata": {
    "collapsed": false
   }
  },
  {
   "cell_type": "code",
   "execution_count": null,
   "outputs": [],
   "source": [
    "# amzn_imbalance= get_agg_features(amzn_raw_df, LAGS, remove_outliers=False)\n",
    "# pickle.dump(amzn_imbalance, open('../../data/generated/amzn_aggregate_features_mo_df.pkl', 'wb'))"
   ],
   "metadata": {
    "collapsed": false
   }
  },
  {
   "cell_type": "code",
   "execution_count": null,
   "outputs": [],
   "source": [
    "# nflx_imbalance = get_agg_features(nflx_raw_df, LAGS,remove_outliers=False)\n",
    "# pickle.dump(nflx_imbalance, open('../../data/generated/nflx_aggregate_features_mo_df.pkl', 'wb'))"
   ],
   "metadata": {
    "collapsed": false
   }
  },
  {
   "cell_type": "code",
   "execution_count": null,
   "outputs": [],
   "source": [
    "# ebay_imbalance = get_agg_features(ebay_raw_df, LAGS, remove_outliers=False)\n",
    "# pickle.dump(ebay_imbalance, open('../../data/generated/ebay_aggregate_features_mo_df.pkl', 'wb'))"
   ],
   "metadata": {
    "collapsed": false
   }
  },
  {
   "cell_type": "code",
   "execution_count": null,
   "outputs": [],
   "source": [
    "# appl_imbalance = get_agg_features(appl_raw_df, LAGS,remove_outliers=False)\n",
    "# pickle.dump(appl_imbalance, open('../../data/generated/appl_aggregate_features_mo_df.pkl', 'wb'))"
   ],
   "metadata": {
    "collapsed": false
   }
  },
  {
   "cell_type": "markdown",
   "source": [
    "### Load pre-computed data"
   ],
   "metadata": {
    "collapsed": false
   }
  },
  {
   "cell_type": "code",
   "execution_count": null,
   "outputs": [],
   "source": [],
   "metadata": {
    "collapsed": false
   }
  },
  {
   "cell_type": "code",
   "execution_count": 53,
   "outputs": [],
   "source": [
    "appl_features_df = pickle.load(open('../../data/generated/appl_aggregate_features_mo_df.pkl', 'rb'))"
   ],
   "metadata": {
    "collapsed": false,
    "ExecuteTime": {
     "start_time": "2023-10-22T14:34:18.259883Z",
     "end_time": "2023-10-22T14:34:18.598628Z"
    }
   }
  },
  {
   "cell_type": "code",
   "execution_count": 54,
   "outputs": [
    {
     "data": {
      "text/plain": "                event_timestamp  midprice  vol_imbalance  sign_imbalance  \\\n0 2017-01-03 10:30:19.351489154   219.325   2.934072e-08        0.000305   \n1 2017-01-03 10:30:19.351537884   219.325   4.401108e-07        0.000305   \n2 2017-01-03 10:30:19.351549791   219.330   2.347257e-06        0.000305   \n3 2017-01-03 10:30:19.351601187   219.335   2.347257e-06        0.000305   \n4 2017-01-03 10:30:19.351702603   219.335   1.173629e-06        0.000305   \n\n   sign  daily_R1  daily_vol  daily_num      R  T  \n0     1  0.021159     277786       3279  0.000  1  \n1     1  0.021159     277786       3279  0.005  1  \n2     1  0.021159     277786       3279  0.005  1  \n3     1  0.021159     277786       3279  0.000  1  \n4     1  0.021159     277786       3279  0.050  1  ",
      "text/html": "<div>\n<style scoped>\n    .dataframe tbody tr th:only-of-type {\n        vertical-align: middle;\n    }\n\n    .dataframe tbody tr th {\n        vertical-align: top;\n    }\n\n    .dataframe thead th {\n        text-align: right;\n    }\n</style>\n<table border=\"1\" class=\"dataframe\">\n  <thead>\n    <tr style=\"text-align: right;\">\n      <th></th>\n      <th>event_timestamp</th>\n      <th>midprice</th>\n      <th>vol_imbalance</th>\n      <th>sign_imbalance</th>\n      <th>sign</th>\n      <th>daily_R1</th>\n      <th>daily_vol</th>\n      <th>daily_num</th>\n      <th>R</th>\n      <th>T</th>\n    </tr>\n  </thead>\n  <tbody>\n    <tr>\n      <th>0</th>\n      <td>2017-01-03 10:30:19.351489154</td>\n      <td>219.325</td>\n      <td>2.934072e-08</td>\n      <td>0.000305</td>\n      <td>1</td>\n      <td>0.021159</td>\n      <td>277786</td>\n      <td>3279</td>\n      <td>0.000</td>\n      <td>1</td>\n    </tr>\n    <tr>\n      <th>1</th>\n      <td>2017-01-03 10:30:19.351537884</td>\n      <td>219.325</td>\n      <td>4.401108e-07</td>\n      <td>0.000305</td>\n      <td>1</td>\n      <td>0.021159</td>\n      <td>277786</td>\n      <td>3279</td>\n      <td>0.005</td>\n      <td>1</td>\n    </tr>\n    <tr>\n      <th>2</th>\n      <td>2017-01-03 10:30:19.351549791</td>\n      <td>219.330</td>\n      <td>2.347257e-06</td>\n      <td>0.000305</td>\n      <td>1</td>\n      <td>0.021159</td>\n      <td>277786</td>\n      <td>3279</td>\n      <td>0.005</td>\n      <td>1</td>\n    </tr>\n    <tr>\n      <th>3</th>\n      <td>2017-01-03 10:30:19.351601187</td>\n      <td>219.335</td>\n      <td>2.347257e-06</td>\n      <td>0.000305</td>\n      <td>1</td>\n      <td>0.021159</td>\n      <td>277786</td>\n      <td>3279</td>\n      <td>0.000</td>\n      <td>1</td>\n    </tr>\n    <tr>\n      <th>4</th>\n      <td>2017-01-03 10:30:19.351702603</td>\n      <td>219.335</td>\n      <td>1.173629e-06</td>\n      <td>0.000305</td>\n      <td>1</td>\n      <td>0.021159</td>\n      <td>277786</td>\n      <td>3279</td>\n      <td>0.050</td>\n      <td>1</td>\n    </tr>\n  </tbody>\n</table>\n</div>"
     },
     "metadata": {},
     "output_type": "display_data"
    }
   ],
   "source": [
    "display(appl_features_df.head())"
   ],
   "metadata": {
    "collapsed": false,
    "ExecuteTime": {
     "start_time": "2023-10-22T14:34:20.378344Z",
     "end_time": "2023-10-22T14:34:20.443884Z"
    }
   }
  },
  {
   "cell_type": "code",
   "execution_count": 54,
   "outputs": [],
   "source": [],
   "metadata": {
    "collapsed": false,
    "ExecuteTime": {
     "start_time": "2023-10-22T14:34:25.288186Z",
     "end_time": "2023-10-22T14:34:25.345860Z"
    }
   }
  },
  {
   "cell_type": "markdown",
   "source": [
    "### Generate series of RN and QN by fitting scaling form with known parameters of alpha and beta"
   ],
   "metadata": {
    "collapsed": false
   }
  },
  {
   "cell_type": "code",
   "execution_count": 55,
   "outputs": [],
   "source": [
    "from liquidity.response_functions.fit import compute_RN_QN"
   ],
   "metadata": {
    "collapsed": false,
    "ExecuteTime": {
     "start_time": "2023-10-22T14:34:27.510509Z",
     "end_time": "2023-10-22T14:34:27.603290Z"
    }
   }
  },
  {
   "cell_type": "code",
   "execution_count": 56,
   "outputs": [
    {
     "name": "stderr",
     "output_type": "stream",
     "text": [
      "/Users/ana_bugaenko/workspace/another_workspace/liquidity/liquidity/response_functions/functional_form.py:31: RuntimeWarning: overflow encountered in power\n",
      "  return x / np.power(1 + np.power(abs(x), alpha), beta / alpha)\n",
      "/Users/ana_bugaenko/workspace/another_workspace/liquidity/liquidity/response_functions/functional_form.py:31: RuntimeWarning: overflow encountered in power\n",
      "  return x / np.power(1 + np.power(abs(x), alpha), beta / alpha)\n",
      "/Users/ana_bugaenko/workspace/another_workspace/liquidity/liquidity/response_functions/functional_form.py:31: RuntimeWarning: overflow encountered in power\n",
      "  return x / np.power(1 + np.power(abs(x), alpha), beta / alpha)\n",
      "/Users/ana_bugaenko/workspace/another_workspace/liquidity/liquidity/response_functions/functional_form.py:31: RuntimeWarning: overflow encountered in power\n",
      "  return x / np.power(1 + np.power(abs(x), alpha), beta / alpha)\n",
      "/Users/ana_bugaenko/workspace/another_workspace/liquidity/liquidity/response_functions/functional_form.py:31: RuntimeWarning: overflow encountered in power\n",
      "  return x / np.power(1 + np.power(abs(x), alpha), beta / alpha)\n"
     ]
    }
   ],
   "source": [
    "# fit powerlaw on series of RN and QN ranges\n",
    "RN_df, QN_df, RN_fit_object, QN_fit_object = compute_RN_QN(appl_features_df, alpha, beta)"
   ],
   "metadata": {
    "collapsed": false,
    "ExecuteTime": {
     "start_time": "2023-10-22T14:34:28.302287Z",
     "end_time": "2023-10-22T14:34:45.273868Z"
    }
   }
  },
  {
   "cell_type": "code",
   "execution_count": 57,
   "outputs": [
    {
     "data": {
      "text/plain": "<Figure size 640x480 with 1 Axes>",
      "image/png": "[encoded data removed]"
     },
     "metadata": {},
     "output_type": "display_data"
    }
   ],
   "source": [
    "PLOTTING_LAGS = [10, 20, 50, 100, 150]\n",
    "PLOTTING_LAGS = [x for x in PLOTTING_LAGS if x in RN_df['x_values'].values]\n",
    "\n",
    "rn = RN_df[RN_df['x_values'].isin(PLOTTING_LAGS)]['y_values']\n",
    "qn = QN_df[QN_df['x_values'].isin(PLOTTING_LAGS)]['y_values']\n",
    "\n",
    "for lag in PLOTTING_LAGS:\n",
    "    data = norm_agg_features_df[norm_agg_features_df['T']==lag][[\"vol_imbalance\", \"T\", \"R\"]]\n",
    "    data_binned = bin_data_into_quantiles(data, q=31)\n",
    "    imbalance = data_binned[\"vol_imbalance\"].values\n",
    "    indx = PLOTTING_LAGS.index(lag)\n",
    "    response = rescaled_form(imbalance, rn.iloc[indx], qn.iloc[indx], alpha, beta)\n",
    "    plt.scatter(imbalance, response)"
   ],
   "metadata": {
    "collapsed": false,
    "ExecuteTime": {
     "start_time": "2023-10-22T14:34:45.270637Z",
     "end_time": "2023-10-22T14:34:45.393635Z"
    }
   }
  },
  {
   "cell_type": "code",
   "execution_count": 58,
   "outputs": [
    {
     "data": {
      "text/plain": "[]"
     },
     "execution_count": 58,
     "metadata": {},
     "output_type": "execute_result"
    },
    {
     "data": {
      "text/plain": "<Figure size 640x480 with 1 Axes>",
      "image/png": "[encoded data removed]"
     },
     "metadata": {},
     "output_type": "display_data"
    }
   ],
   "source": [
    "plt.scatter(RN_df['x_values'],RN_df['y_values'])\n",
    "plt.scatter(QN_df['x_values'],QN_df['y_values'])\n",
    "plt.loglog()"
   ],
   "metadata": {
    "collapsed": false,
    "ExecuteTime": {
     "start_time": "2023-10-22T14:34:45.389721Z",
     "end_time": "2023-10-22T14:34:45.603628Z"
    }
   }
  },
  {
   "cell_type": "code",
   "execution_count": 58,
   "outputs": [],
   "source": [],
   "metadata": {
    "collapsed": false,
    "ExecuteTime": {
     "start_time": "2023-10-22T14:34:45.600922Z",
     "end_time": "2023-10-22T14:34:45.603758Z"
    }
   }
  },
  {
   "cell_type": "code",
   "execution_count": 58,
   "outputs": [],
   "source": [],
   "metadata": {
    "collapsed": false,
    "ExecuteTime": {
     "start_time": "2023-10-22T14:34:45.602879Z",
     "end_time": "2023-10-22T14:34:45.608083Z"
    }
   }
  },
  {
   "cell_type": "code",
   "execution_count": 58,
   "outputs": [],
   "source": [],
   "metadata": {
    "collapsed": false,
    "ExecuteTime": {
     "start_time": "2023-10-22T14:34:45.605130Z",
     "end_time": "2023-10-22T14:34:45.608169Z"
    }
   }
  },
  {
   "cell_type": "code",
   "execution_count": 59,
   "outputs": [
    {
     "name": "stdout",
     "output_type": "stream",
     "text": [
      "\n",
      "For powerlaw fitted using MLE:\n",
      "\n",
      "Pre-fitting parameters;\n",
      "xmin_index: 10\n",
      "xmin: 21.0\n",
      "\n",
      "Fitting parameters;\n",
      "param_names = ['C', 'alpha']\n",
      "C = 37.687932578535445\n",
      "alpha = 0.705176777364399\n",
      "\n",
      "Goodness of fit to data;\n",
      "D = 0.0326530612244898\n",
      "bic = 4609.7101106935315\n",
      "mape = 3.082697940352669\n",
      "Adjusted R-squared = 0.991783442563648\n",
      "\n",
      "\n"
     ]
    }
   ],
   "source": [
    "RN_fit_object.powerlaw.fit_results()"
   ],
   "metadata": {
    "collapsed": false,
    "ExecuteTime": {
     "start_time": "2023-10-22T14:34:45.607691Z",
     "end_time": "2023-10-22T14:34:45.661331Z"
    }
   }
  },
  {
   "cell_type": "code",
   "execution_count": 60,
   "outputs": [
    {
     "name": "stdout",
     "output_type": "stream",
     "text": [
      "\n",
      "For powerlaw fitted using MLE:\n",
      "\n",
      "Pre-fitting parameters;\n",
      "xmin_index: 10\n",
      "xmin: 20.0\n",
      "\n",
      "Fitting parameters;\n",
      "param_names = ['C', 'alpha']\n",
      "C = 0.8466621063907139\n",
      "alpha = 0.7008919477077424\n",
      "\n",
      "Goodness of fit to data;\n",
      "D = 0.020366598778004074\n",
      "bic = 1571.0998868879685\n",
      "mape = 6.741843975161959\n",
      "Adjusted R-squared = 0.9663222712948544\n",
      "\n",
      "\n"
     ]
    }
   ],
   "source": [
    "QN_fit_object.powerlaw.fit_results()"
   ],
   "metadata": {
    "collapsed": false,
    "ExecuteTime": {
     "start_time": "2023-10-22T14:34:45.640290Z",
     "end_time": "2023-10-22T14:34:45.672192Z"
    }
   }
  },
  {
   "cell_type": "code",
   "execution_count": 62,
   "outputs": [
    {
     "data": {
      "text/plain": "<Figure size 640x480 with 1 Axes>",
      "image/png": "[encoded data removed]"
     },
     "metadata": {},
     "output_type": "display_data"
    }
   ],
   "source": [
    "RN_fit_object.powerlaw.plot_fit()"
   ],
   "metadata": {
    "collapsed": false,
    "ExecuteTime": {
     "start_time": "2023-10-19T20:58:05.790836Z",
     "end_time": "2023-10-19T20:58:05.928274Z"
    }
   }
  },
  {
   "cell_type": "code",
   "execution_count": 63,
   "outputs": [
    {
     "data": {
      "text/plain": "<Figure size 640x480 with 1 Axes>",
      "image/png": "[encoded data removed]"
     },
     "metadata": {},
     "output_type": "display_data"
    }
   ],
   "source": [
    "QN_fit_object.powerlaw.plot_fit()"
   ],
   "metadata": {
    "collapsed": false,
    "ExecuteTime": {
     "start_time": "2023-10-19T20:58:06.703945Z",
     "end_time": "2023-10-19T20:58:06.841666Z"
    }
   }
  },
  {
   "cell_type": "code",
   "execution_count": 63,
   "outputs": [],
   "source": [],
   "metadata": {
    "collapsed": false,
    "ExecuteTime": {
     "start_time": "2023-10-19T20:58:07.398349Z",
     "end_time": "2023-10-19T20:58:07.419813Z"
    }
   }
  },
  {
   "cell_type": "code",
   "execution_count": 63,
   "outputs": [],
   "source": [],
   "metadata": {
    "collapsed": false,
    "ExecuteTime": {
     "start_time": "2023-10-19T20:58:08.150148Z",
     "end_time": "2023-10-19T20:58:08.186091Z"
    }
   }
  },
  {
   "cell_type": "code",
   "execution_count": 63,
   "outputs": [],
   "source": [],
   "metadata": {
    "collapsed": false,
    "ExecuteTime": {
     "start_time": "2023-10-19T20:58:08.509845Z",
     "end_time": "2023-10-19T20:58:08.534064Z"
    }
   }
  },
  {
   "cell_type": "code",
   "execution_count": 61,
   "outputs": [],
   "source": [
    "chi = RN_fit_object.powerlaw.params.alpha\n",
    "kappa = QN_fit_object.powerlaw.params.alpha"
   ],
   "metadata": {
    "collapsed": false,
    "ExecuteTime": {
     "start_time": "2023-10-22T14:35:04.279413Z",
     "end_time": "2023-10-22T14:35:04.488707Z"
    }
   }
  },
  {
   "cell_type": "code",
   "execution_count": 62,
   "outputs": [
    {
     "data": {
      "text/plain": "<Figure size 640x480 with 1 Axes>",
      "image/png": "[encoded data removed]"
     },
     "metadata": {},
     "output_type": "display_data"
    }
   ],
   "source": [
    "PLOTTING_LAGS = [10, 20, 50, 100, 150]\n",
    "PLOTTING_LAGS = [x for x in PLOTTING_LAGS if x in RN_df['x_values'].values]\n",
    "\n",
    "rn = RN_df[RN_df['x_values'].isin(PLOTTING_LAGS)]['y_values']\n",
    "qn = QN_df[QN_df['x_values'].isin(PLOTTING_LAGS)]['y_values']\n",
    "\n",
    "for lag in PLOTTING_LAGS:\n",
    "    data = norm_agg_features_df[norm_agg_features_df['T']==lag][[\"vol_imbalance\", \"T\", \"R\"]]\n",
    "\n",
    "    data[\"vol_imbalance\"] = data[\"vol_imbalance\"] / T**kappa\n",
    "    data[\"R\"] = data[\"R\"] / T**chi\n",
    "\n",
    "    data_binned = bin_data_into_quantiles(data, q=31)\n",
    "    imbalance = data_binned[\"vol_imbalance\"].values\n",
    "    indx = PLOTTING_LAGS.index(lag)\n",
    "    response = rescaled_form(imbalance, chi, kappa, alpha, beta)\n",
    "    plt.scatter(imbalance, response)"
   ],
   "metadata": {
    "collapsed": false,
    "ExecuteTime": {
     "start_time": "2023-10-22T14:35:06.329956Z",
     "end_time": "2023-10-22T14:35:06.445409Z"
    }
   }
  },
  {
   "cell_type": "code",
   "execution_count": 65,
   "outputs": [],
   "source": [],
   "metadata": {
    "collapsed": false,
    "ExecuteTime": {
     "start_time": "2023-10-19T20:58:10.350083Z",
     "end_time": "2023-10-19T20:58:10.438640Z"
    }
   }
  },
  {
   "cell_type": "code",
   "execution_count": null,
   "outputs": [],
   "source": [],
   "metadata": {
    "collapsed": false
   }
  }
 ],
 "metadata": {
  "kernelspec": {
   "display_name": "Python 3",
   "language": "python",
   "name": "python3"
  },
  "language_info": {
   "codemirror_mode": {
    "name": "ipython",
    "version": 2
   },
   "file_extension": ".py",
   "mimetype": "text/x-python",
   "name": "python",
   "nbconvert_exporter": "python",
   "pygments_lexer": "ipython2",
   "version": "2.7.6"
  }
 },
 "nbformat": 4,
 "nbformat_minor": 0
}
