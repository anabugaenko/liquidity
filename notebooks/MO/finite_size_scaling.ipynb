{
 "cells": [
  {
   "cell_type": "code",
   "execution_count": 1,
   "metadata": {
    "collapsed": true,
    "ExecuteTime": {
     "start_time": "2023-10-07T11:56:13.147592Z",
     "end_time": "2023-10-07T11:56:13.158638Z"
    }
   },
   "outputs": [],
   "source": [
    "import os\n",
    "import pylab\n",
    "import numpy as np\n",
    "import pandas as pd\n",
    "from matplotlib import rc\n",
    "from matplotlib import pyplot as plt\n",
    "import pickle\n",
    "\n",
    "from liquidity.util.utils import get_agg_features"
   ]
  },
  {
   "cell_type": "code",
   "execution_count": 2,
   "outputs": [],
   "source": [
    "%load_ext autoreload\n",
    "%autoreload 2"
   ],
   "metadata": {
    "collapsed": false,
    "ExecuteTime": {
     "start_time": "2023-10-07T11:56:14.482650Z",
     "end_time": "2023-10-07T11:56:14.512822Z"
    }
   }
  },
  {
   "cell_type": "code",
   "execution_count": 3,
   "outputs": [],
   "source": [
    "from liquidity.response_functions.fitting import compute_scaling_exponents, renormalise"
   ],
   "metadata": {
    "collapsed": false,
    "ExecuteTime": {
     "start_time": "2023-10-07T11:56:16.176985Z",
     "end_time": "2023-10-07T11:56:16.199050Z"
    }
   }
  },
  {
   "cell_type": "code",
   "execution_count": 4,
   "outputs": [],
   "source": [
    "# Load raw sample data  from CSV\n",
    "stocks = ['TSLA', 'AMZN', 'NFLX', 'MSFT', 'EBAY', 'APPL']\n",
    "\n",
    "current_dir = os.path.abspath('.')\n",
    "root_dir = os.path.join(current_dir, '..', '..')\n",
    "data_dir = os.path.join(root_dir, 'data', 'market_orders')\n",
    "\n",
    "\n",
    "stock_dfs = {}\n",
    "\n",
    "# Loop through each stock\n",
    "for stock in stocks:\n",
    "\n",
    "    filename = f\"{stock}-2016-R1.csv\"\n",
    "\n",
    "    stock_file_path = os.path.join(data_dir, filename)\n",
    "\n",
    "    # Read the CSV and store in the dictionary\n",
    "    stock_dfs[stock] = pd.read_csv(stock_file_path)\n",
    "\n",
    "# Access the dataframe using stock's ticker as key\n",
    "tsla_raw_df = stock_dfs['TSLA']\n",
    "amzn_raw_df = stock_dfs['AMZN']\n",
    "nflx_raw_df = stock_dfs['NFLX']\n",
    "msft_raw_df = stock_dfs['MSFT']\n",
    "ebay_raw_df = stock_dfs['EBAY']\n",
    "appl_raw_df = stock_dfs['APPL']"
   ],
   "metadata": {
    "collapsed": false,
    "ExecuteTime": {
     "start_time": "2023-10-07T11:56:28.833803Z",
     "end_time": "2023-10-07T11:56:35.853956Z"
    }
   }
  },
  {
   "cell_type": "markdown",
   "source": [
    "## 1. Fitting Scaling Form\n",
    "\n",
    "Approach I: fit scaling form on all data to find exponents and then use them for renormalisation."
   ],
   "metadata": {
    "collapsed": false
   }
  },
  {
   "cell_type": "code",
   "execution_count": 5,
   "outputs": [],
   "source": [
    "MO_LAG_INTERVALS = [5, 10, 20, 50, 100]"
   ],
   "metadata": {
    "collapsed": false,
    "ExecuteTime": {
     "start_time": "2023-10-02T07:23:29.640628Z",
     "end_time": "2023-10-02T07:23:29.656242Z"
    }
   }
  },
  {
   "cell_type": "code",
   "execution_count": 6,
   "outputs": [],
   "source": [
    "# Find scaling parameters by fitting scaling form to entire dataset\n",
    "popt_tsla, pcov_tsla, fit_func, data_norm = compute_scaling_exponents(tsla_raw_df, MO_LAG_INTERVALS)"
   ],
   "metadata": {
    "collapsed": false,
    "ExecuteTime": {
     "start_time": "2023-10-02T07:23:29.656478Z",
     "end_time": "2023-10-02T07:24:05.933183Z"
    }
   }
  },
  {
   "cell_type": "code",
   "execution_count": null,
   "outputs": [],
   "source": [],
   "metadata": {
    "collapsed": false
   }
  },
  {
   "cell_type": "markdown",
   "source": [
    "## 2. Fitting Scaling Functions\n",
    "\n",
    "Approach II: produce series of RN and QN by fitting scaling funtion for different N, then use powerlaw library to fit power law and determine scale factors; finally, fit known scaling form to find exponents and then use them for renormalisation."
   ],
   "metadata": {
    "collapsed": false
   }
  },
  {
   "cell_type": "code",
   "execution_count": 32,
   "outputs": [],
   "source": [
    "LAGS = list(range(1, 1001))"
   ],
   "metadata": {
    "collapsed": false,
    "ExecuteTime": {
     "start_time": "2023-10-06T18:24:08.669834Z",
     "end_time": "2023-10-06T18:24:08.689093Z"
    }
   }
  },
  {
   "cell_type": "code",
   "execution_count": null,
   "outputs": [],
   "source": [
    "# # Aggregate orderflow\n",
    "# tsla_imbalance = get_agg_features(tsla_raw_df, LAGS, remove_outliers=False)\n",
    "# pickle.dump(tsla_imbalance, open('../../data/generated/tsla_aggregate_features_mo_df.pkl', 'wb'))"
   ],
   "metadata": {
    "collapsed": false
   }
  },
  {
   "cell_type": "code",
   "execution_count": 34,
   "outputs": [],
   "source": [
    "# msft_imbalance = get_agg_features(msft_raw_df, LAGS, remove_outliers=False)\n",
    "# pickle.dump(msft_imbalance, open('../../data/generated/msft_aggregate_features_mo_df.pkl', 'wb'))"
   ],
   "metadata": {
    "collapsed": false,
    "ExecuteTime": {
     "start_time": "2023-10-06T18:24:59.525104Z",
     "end_time": "2023-10-06T18:54:34.071470Z"
    }
   }
  },
  {
   "cell_type": "code",
   "execution_count": 35,
   "outputs": [],
   "source": [
    "# amzn_imbalance= get_agg_features(amzn_raw_df, LAGS, remove_outliers=False)\n",
    "# pickle.dump(amzn_imbalance, open('../../data/generated/amzn_aggregate_features_mo_df.pkl', 'wb'))"
   ],
   "metadata": {
    "collapsed": false,
    "ExecuteTime": {
     "start_time": "2023-10-06T18:54:34.072862Z",
     "end_time": "2023-10-06T19:14:19.702870Z"
    }
   }
  },
  {
   "cell_type": "code",
   "execution_count": 36,
   "outputs": [],
   "source": [
    "# nflx_imbalance = get_agg_features(nflx_raw_df, LAGS,remove_outliers=False)\n",
    "# pickle.dump(nflx_imbalance, open('../../data/generated/nflx_aggregate_features_mo_df.pkl', 'wb'))"
   ],
   "metadata": {
    "collapsed": false,
    "ExecuteTime": {
     "start_time": "2023-10-06T19:14:19.703577Z",
     "end_time": "2023-10-06T19:45:36.047207Z"
    }
   }
  },
  {
   "cell_type": "code",
   "execution_count": 37,
   "outputs": [],
   "source": [
    "# ebay_imbalance = get_agg_features(ebay_raw_df, LAGS, remove_outliers=False)\n",
    "# pickle.dump(ebay_imbalance, open('../../data/generated/ebay_aggregate_features_mo_df.pkl', 'wb'))"
   ],
   "metadata": {
    "collapsed": false,
    "ExecuteTime": {
     "start_time": "2023-10-06T19:45:36.048610Z",
     "end_time": "2023-10-06T19:56:30.907885Z"
    }
   }
  },
  {
   "cell_type": "code",
   "execution_count": 38,
   "outputs": [],
   "source": [
    "# appl_imbalance = get_agg_features(appl_raw_df, LAGS,remove_outliers=False)\n",
    "# pickle.dump(appl_imbalance, open('../../data/generated/appl_aggregate_features_mo_df.pkl', 'wb'))"
   ],
   "metadata": {
    "collapsed": false,
    "ExecuteTime": {
     "start_time": "2023-10-06T19:56:30.908424Z",
     "end_time": "2023-10-06T20:24:30.447088Z"
    }
   }
  },
  {
   "cell_type": "markdown",
   "source": [
    "### Load pre-computed data"
   ],
   "metadata": {
    "collapsed": false
   }
  },
  {
   "cell_type": "code",
   "execution_count": 5,
   "outputs": [],
   "source": [
    "tsla_result_df = pickle.load(open('../../data/generated/tsla_aggregate_features_mo_df_2.pkl', 'rb'))"
   ],
   "metadata": {
    "collapsed": false,
    "ExecuteTime": {
     "start_time": "2023-10-07T11:57:10.610441Z",
     "end_time": "2023-10-07T11:57:10.749071Z"
    }
   }
  },
  {
   "cell_type": "code",
   "execution_count": null,
   "outputs": [],
   "source": [
    "returns = {\n",
    "  'TSLA': tsla_imbalance,\n",
    "  'MSFT': msft_imbalance,\n",
    "  'AMZN': amzn_imbalance,\n",
    "  'NFLX': nflx_imbalance,\n",
    "  'EBAY': ebay_imbalance,\n",
    "  'APPL': appl_imbalance\n",
    "}"
   ],
   "metadata": {
    "collapsed": false
   }
  },
  {
   "cell_type": "code",
   "execution_count": 19,
   "outputs": [
    {
     "data": {
      "text/plain": "                event_timestamp  midprice  vol_imbalance  sign_imbalance  \\\n0 2016-01-04 10:30:02.487834868   221.410  -1.406573e-06       -0.000166   \n1 2016-01-04 10:30:02.594369706   221.410  -1.406573e-06       -0.000166   \n2 2016-01-04 10:30:02.602151380   221.410  -1.406573e-06       -0.000166   \n3 2016-01-04 10:30:02.627167275   221.315  -3.516433e-07       -0.000166   \n4 2016-01-04 10:30:02.895123534   221.305  -1.406573e-06       -0.000166   \n\n   sign  daily_R1  daily_vol  daily_num      R  T  \n0    -1  0.027301     503438       6009  0.000  1  \n1    -1  0.027301     503438       6009  0.000  1  \n2    -1  0.027301     503438       6009 -0.095  1  \n3    -1  0.027301     503438       6009 -0.010  1  \n4    -1  0.027301     503438       6009 -0.090  1  ",
      "text/html": "<div>\n<style scoped>\n    .dataframe tbody tr th:only-of-type {\n        vertical-align: middle;\n    }\n\n    .dataframe tbody tr th {\n        vertical-align: top;\n    }\n\n    .dataframe thead th {\n        text-align: right;\n    }\n</style>\n<table border=\"1\" class=\"dataframe\">\n  <thead>\n    <tr style=\"text-align: right;\">\n      <th></th>\n      <th>event_timestamp</th>\n      <th>midprice</th>\n      <th>vol_imbalance</th>\n      <th>sign_imbalance</th>\n      <th>sign</th>\n      <th>daily_R1</th>\n      <th>daily_vol</th>\n      <th>daily_num</th>\n      <th>R</th>\n      <th>T</th>\n    </tr>\n  </thead>\n  <tbody>\n    <tr>\n      <th>0</th>\n      <td>2016-01-04 10:30:02.487834868</td>\n      <td>221.410</td>\n      <td>-1.406573e-06</td>\n      <td>-0.000166</td>\n      <td>-1</td>\n      <td>0.027301</td>\n      <td>503438</td>\n      <td>6009</td>\n      <td>0.000</td>\n      <td>1</td>\n    </tr>\n    <tr>\n      <th>1</th>\n      <td>2016-01-04 10:30:02.594369706</td>\n      <td>221.410</td>\n      <td>-1.406573e-06</td>\n      <td>-0.000166</td>\n      <td>-1</td>\n      <td>0.027301</td>\n      <td>503438</td>\n      <td>6009</td>\n      <td>0.000</td>\n      <td>1</td>\n    </tr>\n    <tr>\n      <th>2</th>\n      <td>2016-01-04 10:30:02.602151380</td>\n      <td>221.410</td>\n      <td>-1.406573e-06</td>\n      <td>-0.000166</td>\n      <td>-1</td>\n      <td>0.027301</td>\n      <td>503438</td>\n      <td>6009</td>\n      <td>-0.095</td>\n      <td>1</td>\n    </tr>\n    <tr>\n      <th>3</th>\n      <td>2016-01-04 10:30:02.627167275</td>\n      <td>221.315</td>\n      <td>-3.516433e-07</td>\n      <td>-0.000166</td>\n      <td>-1</td>\n      <td>0.027301</td>\n      <td>503438</td>\n      <td>6009</td>\n      <td>-0.010</td>\n      <td>1</td>\n    </tr>\n    <tr>\n      <th>4</th>\n      <td>2016-01-04 10:30:02.895123534</td>\n      <td>221.305</td>\n      <td>-1.406573e-06</td>\n      <td>-0.000166</td>\n      <td>-1</td>\n      <td>0.027301</td>\n      <td>503438</td>\n      <td>6009</td>\n      <td>-0.090</td>\n      <td>1</td>\n    </tr>\n  </tbody>\n</table>\n</div>"
     },
     "execution_count": 19,
     "metadata": {},
     "output_type": "execute_result"
    }
   ],
   "source": [
    "tsla_result_df.head()"
   ],
   "metadata": {
    "collapsed": false,
    "ExecuteTime": {
     "start_time": "2023-10-06T16:45:40.427247Z",
     "end_time": "2023-10-06T16:45:40.439152Z"
    }
   }
  },
  {
   "cell_type": "code",
   "execution_count": 16,
   "outputs": [
    {
     "data": {
      "text/plain": "                event_timestamp  midprice  vol_imbalance  sign_imbalance  \\\n0 2016-01-04 10:30:02.487834868   221.410  -1.406573e-06       -0.000166   \n1 2016-01-04 10:30:02.594369706   221.410  -1.406573e-06       -0.000166   \n2 2016-01-04 10:30:02.602151380   221.410  -1.406573e-06       -0.000166   \n3 2016-01-04 10:30:02.627167275   221.315  -3.516433e-07       -0.000166   \n4 2016-01-04 10:30:02.895123534   221.305  -1.406573e-06       -0.000166   \n\n   sign  daily_R1  daily_vol  daily_num      R  T  \n0    -1  0.027301     503438       6009  0.000  1  \n1    -1  0.027301     503438       6009  0.000  1  \n2    -1  0.027301     503438       6009 -0.095  1  \n3    -1  0.027301     503438       6009 -0.010  1  \n4    -1  0.027301     503438       6009 -0.090  1  ",
      "text/html": "<div>\n<style scoped>\n    .dataframe tbody tr th:only-of-type {\n        vertical-align: middle;\n    }\n\n    .dataframe tbody tr th {\n        vertical-align: top;\n    }\n\n    .dataframe thead th {\n        text-align: right;\n    }\n</style>\n<table border=\"1\" class=\"dataframe\">\n  <thead>\n    <tr style=\"text-align: right;\">\n      <th></th>\n      <th>event_timestamp</th>\n      <th>midprice</th>\n      <th>vol_imbalance</th>\n      <th>sign_imbalance</th>\n      <th>sign</th>\n      <th>daily_R1</th>\n      <th>daily_vol</th>\n      <th>daily_num</th>\n      <th>R</th>\n      <th>T</th>\n    </tr>\n  </thead>\n  <tbody>\n    <tr>\n      <th>0</th>\n      <td>2016-01-04 10:30:02.487834868</td>\n      <td>221.410</td>\n      <td>-1.406573e-06</td>\n      <td>-0.000166</td>\n      <td>-1</td>\n      <td>0.027301</td>\n      <td>503438</td>\n      <td>6009</td>\n      <td>0.000</td>\n      <td>1</td>\n    </tr>\n    <tr>\n      <th>1</th>\n      <td>2016-01-04 10:30:02.594369706</td>\n      <td>221.410</td>\n      <td>-1.406573e-06</td>\n      <td>-0.000166</td>\n      <td>-1</td>\n      <td>0.027301</td>\n      <td>503438</td>\n      <td>6009</td>\n      <td>0.000</td>\n      <td>1</td>\n    </tr>\n    <tr>\n      <th>2</th>\n      <td>2016-01-04 10:30:02.602151380</td>\n      <td>221.410</td>\n      <td>-1.406573e-06</td>\n      <td>-0.000166</td>\n      <td>-1</td>\n      <td>0.027301</td>\n      <td>503438</td>\n      <td>6009</td>\n      <td>-0.095</td>\n      <td>1</td>\n    </tr>\n    <tr>\n      <th>3</th>\n      <td>2016-01-04 10:30:02.627167275</td>\n      <td>221.315</td>\n      <td>-3.516433e-07</td>\n      <td>-0.000166</td>\n      <td>-1</td>\n      <td>0.027301</td>\n      <td>503438</td>\n      <td>6009</td>\n      <td>-0.010</td>\n      <td>1</td>\n    </tr>\n    <tr>\n      <th>4</th>\n      <td>2016-01-04 10:30:02.895123534</td>\n      <td>221.305</td>\n      <td>-1.406573e-06</td>\n      <td>-0.000166</td>\n      <td>-1</td>\n      <td>0.027301</td>\n      <td>503438</td>\n      <td>6009</td>\n      <td>-0.090</td>\n      <td>1</td>\n    </tr>\n  </tbody>\n</table>\n</div>"
     },
     "metadata": {},
     "output_type": "display_data"
    }
   ],
   "source": [
    "from IPython.display import display\n",
    "display(tsla_result_df.head())"
   ],
   "metadata": {
    "collapsed": false,
    "ExecuteTime": {
     "start_time": "2023-10-07T12:00:56.580776Z",
     "end_time": "2023-10-07T12:00:56.632803Z"
    }
   }
  },
  {
   "cell_type": "code",
   "execution_count": 17,
   "outputs": [],
   "source": [
    "ALPHA = 1.2\n",
    "BETA = 1.3"
   ],
   "metadata": {
    "collapsed": false,
    "ExecuteTime": {
     "start_time": "2023-10-07T12:01:17.166309Z",
     "end_time": "2023-10-07T12:01:17.184074Z"
    }
   }
  },
  {
   "cell_type": "code",
   "execution_count": 18,
   "outputs": [],
   "source": [
    "MAX_LAG = tsla_result_df['T'].max()"
   ],
   "metadata": {
    "collapsed": false,
    "ExecuteTime": {
     "start_time": "2023-10-07T12:01:22.167046Z",
     "end_time": "2023-10-07T12:01:22.197692Z"
    }
   }
  },
  {
   "cell_type": "markdown",
   "source": [
    "### Generate series of RN and QN by fitting scaling form with known parameters of alpha and beta"
   ],
   "metadata": {
    "collapsed": false
   }
  },
  {
   "cell_type": "code",
   "execution_count": 33,
   "outputs": [],
   "source": [
    "from liquidity.response_functions.fitting import compute_RN_QN, compute_fit_results"
   ],
   "metadata": {
    "collapsed": false,
    "ExecuteTime": {
     "start_time": "2023-10-07T12:38:50.676777Z",
     "end_time": "2023-10-07T12:38:50.888731Z"
    }
   }
  },
  {
   "cell_type": "code",
   "execution_count": 34,
   "outputs": [
    {
     "ename": "TypeError",
     "evalue": "compute_RN_QN() takes 1 positional argument but 3 were given",
     "output_type": "error",
     "traceback": [
      "\u001B[0;31m---------------------------------------------------------------------------\u001B[0m",
      "\u001B[0;31mTypeError\u001B[0m                                 Traceback (most recent call last)",
      "Cell \u001B[0;32mIn[34], line 1\u001B[0m\n\u001B[0;32m----> 1\u001B[0m RN, QN \u001B[38;5;241m=\u001B[39m \u001B[43mcompute_RN_QN\u001B[49m\u001B[43m(\u001B[49m\u001B[43mtsla_result_df\u001B[49m\u001B[43m,\u001B[49m\u001B[43m \u001B[49m\u001B[43mALPHA\u001B[49m\u001B[43m,\u001B[49m\u001B[43m \u001B[49m\u001B[43mBETA\u001B[49m\u001B[43m)\u001B[49m\n",
      "\u001B[0;31mTypeError\u001B[0m: compute_RN_QN() takes 1 positional argument but 3 were given"
     ]
    }
   ],
   "source": [
    "RN, QN = compute_RN_QN(tsla_result_df, ALPHA, BETA)"
   ],
   "metadata": {
    "collapsed": false,
    "ExecuteTime": {
     "start_time": "2023-10-07T12:01:26.624713Z",
     "end_time": "2023-10-07T12:01:31.688279Z"
    }
   }
  },
  {
   "cell_type": "code",
   "execution_count": 20,
   "outputs": [
    {
     "data": {
      "text/plain": "[]"
     },
     "execution_count": 20,
     "metadata": {},
     "output_type": "execute_result"
    },
    {
     "data": {
      "text/plain": "<Figure size 640x480 with 1 Axes>",
      "image/png": "[encoded data removed]"
     },
     "metadata": {},
     "output_type": "display_data"
    }
   ],
   "source": [
    "plt.scatter(range(1, MAX_LAG),RN)\n",
    "plt.scatter(range(1, MAX_LAG),QN)\n",
    "plt.loglog()"
   ],
   "metadata": {
    "collapsed": false,
    "ExecuteTime": {
     "start_time": "2023-10-07T12:01:39.663929Z",
     "end_time": "2023-10-07T12:01:40.070568Z"
    }
   }
  },
  {
   "cell_type": "code",
   "execution_count": null,
   "outputs": [],
   "source": [],
   "metadata": {
    "collapsed": false
   }
  },
  {
   "cell_type": "code",
   "execution_count": 35,
   "outputs": [],
   "source": [
    "fit_result_dic = compute_fit_results(tsla_result_df, ALPHA, BETA)"
   ],
   "metadata": {
    "collapsed": false,
    "ExecuteTime": {
     "start_time": "2023-10-07T12:38:58.719188Z",
     "end_time": "2023-10-07T12:39:03.691673Z"
    }
   }
  },
  {
   "cell_type": "code",
   "execution_count": 37,
   "outputs": [
    {
     "data": {
      "text/plain": "{'param': array([1.28035313e-01, 5.02759515e-06]),\n 'x': array([-2.69767886e-05, -1.49247884e-05, -1.13402104e-05, -9.26195481e-06,\n        -7.81042824e-06, -6.65242795e-06, -5.68444900e-06, -4.84069658e-06,\n        -4.10435808e-06, -3.43020282e-06, -2.81260296e-06, -2.21126379e-06,\n        -1.63449262e-06, -1.04803770e-06, -4.63824701e-07,  7.81906443e-08,\n         6.50878132e-07,  1.25059580e-06,  1.83752940e-06,  2.43532398e-06,\n         3.04984139e-06,  3.71686153e-06,  4.45152480e-06,  5.22866288e-06,\n         6.12602158e-06,  7.14174349e-06,  8.35799141e-06,  9.92045388e-06,\n         1.21033675e-05,  1.57687643e-05,  2.81778616e-05]),\n 'y': array([-0.06768861, -0.06910597, -0.06941821, -0.06816695, -0.06349804,\n        -0.06387724, -0.06268443, -0.05990346, -0.05599939, -0.05385827,\n        -0.04680272, -0.04598774, -0.03335151, -0.02864274, -0.02095808,\n        -0.00187013,  0.0109859 ,  0.02265178,  0.03456429,  0.03831051,\n         0.05017287,  0.04979844,  0.05757492,  0.06010268,  0.06593577,\n         0.06822958,  0.06986909,  0.06459798,  0.07474593,  0.07188255,\n         0.07369554]),\n 'alpha': 1.2,\n 'beta': 1.3}"
     },
     "execution_count": 37,
     "metadata": {},
     "output_type": "execute_result"
    }
   ],
   "source": [
    "fit_result_dic[5]"
   ],
   "metadata": {
    "collapsed": false,
    "ExecuteTime": {
     "start_time": "2023-10-07T12:39:09.264048Z",
     "end_time": "2023-10-07T12:39:09.292978Z"
    }
   }
  },
  {
   "cell_type": "code",
   "execution_count": null,
   "outputs": [],
   "source": [],
   "metadata": {
    "collapsed": false
   }
  },
  {
   "cell_type": "code",
   "execution_count": null,
   "outputs": [],
   "source": [],
   "metadata": {
    "collapsed": false
   }
  },
  {
   "cell_type": "code",
   "execution_count": null,
   "outputs": [],
   "source": [],
   "metadata": {
    "collapsed": false
   }
  },
  {
   "cell_type": "code",
   "execution_count": null,
   "outputs": [],
   "source": [],
   "metadata": {
    "collapsed": false
   }
  },
  {
   "cell_type": "code",
   "execution_count": null,
   "outputs": [],
   "source": [],
   "metadata": {
    "collapsed": false
   }
  },
  {
   "cell_type": "code",
   "execution_count": null,
   "outputs": [],
   "source": [],
   "metadata": {
    "collapsed": false
   }
  },
  {
   "cell_type": "markdown",
   "source": [
    "### Fit power law functon on series of RN and QN"
   ],
   "metadata": {
    "collapsed": false
   }
  },
  {
   "cell_type": "code",
   "execution_count": null,
   "outputs": [],
   "source": [],
   "metadata": {
    "collapsed": false
   }
  }
 ],
 "metadata": {
  "kernelspec": {
   "display_name": "Python 3",
   "language": "python",
   "name": "python3"
  },
  "language_info": {
   "codemirror_mode": {
    "name": "ipython",
    "version": 2
   },
   "file_extension": ".py",
   "mimetype": "text/x-python",
   "name": "python",
   "nbconvert_exporter": "python",
   "pygments_lexer": "ipython2",
   "version": "2.7.6"
  }
 },
 "nbformat": 4,
 "nbformat_minor": 0
}
