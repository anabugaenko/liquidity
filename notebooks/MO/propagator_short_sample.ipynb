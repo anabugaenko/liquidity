{
 "cells": [
  {
   "cell_type": "markdown",
   "metadata": {
    "pycharm": {
     "name": "#%% md\n"
    }
   },
   "source": [
    "# Batch calibration & simulation\n",
    "\n",
    "First create artificial returns from simple surrogate order-flow and the HDIM2 model. Then try to recover the kernels again and to predict the return using several different models.\n",
    "You might need to `pip install matplotlib colorednoise` if you didn't install all of these optional packages yet."
   ]
  },
  {
   "cell_type": "code",
   "execution_count": 1,
   "metadata": {
    "pycharm": {
     "name": "#%%\n"
    },
    "scrolled": true
   },
   "outputs": [],
   "source": [
    "import os\n",
    "\n",
    "# set the backend\n",
    "import matplotlib.pyplot as plt\n",
    "\n",
    "\n",
    "# standard packages\n",
    "import numpy as np\n",
    "import pandas as pd\n",
    "\n",
    "# included noise generator\n",
    "from colorednoise import powerlaw_psd_gaussian\n",
    "\n",
    "# propagator models\n",
    "import priceprop as prop\n",
    "import priceprop.batch as pb\n",
    "import scorr"
   ]
  },
  {
   "cell_type": "code",
   "execution_count": 2,
   "metadata": {},
   "outputs": [],
   "source": [
    "%load_ext autoreload\n",
    "%autoreload 2"
   ]
  },
  {
   "cell_type": "markdown",
   "metadata": {
    "pycharm": {
     "name": "#%% md\n"
    }
   },
   "source": [
    "### Generate synthetic power-law correlated order-flow\n"
   ]
  },
  {
   "cell_type": "code",
   "execution_count": 3,
   "metadata": {
    "pycharm": {
     "name": "#%%\n"
    }
   },
   "outputs": [],
   "source": [
    "# autocorrelation exponents\n",
    "gamma_s = 0.5   # ... of the signs\n",
    "gamma_c = 0.25  # ... of the price-change indicator\n",
    "# time steps to simulate\n",
    "steps = 10**5 # 10**4 already gives usable results"
   ]
  },
  {
   "cell_type": "code",
   "execution_count": 4,
   "metadata": {
    "pycharm": {
     "name": "#%%\n"
    }
   },
   "outputs": [],
   "source": [
    "# signs\n",
    "s = np.sign(powerlaw_psd_gaussian(1-gamma_s, steps)).astype(int)\n",
    "# change indicator\n",
    "c = (powerlaw_psd_gaussian(1-gamma_c, steps) > 0)"
   ]
  },
  {
   "cell_type": "code",
   "execution_count": 5,
   "metadata": {
    "pycharm": {
     "name": "#%%\n"
    }
   },
   "outputs": [],
   "source": [
    "# simulate HDIM2 model as \"ground truth\"\n",
    "# ---------------------------------------------\n",
    "\n",
    "# maximum lag for propagator kernel\n",
    "maxlag = 2**8\n",
    "lags = np.arange(1,maxlag+1)\n",
    "\n",
    "# time steps\n",
    "t = np.arange(steps, dtype=int)\n",
    "\n",
    "# some power law kernels\n",
    "k_n = prop.k_pow(maxlag+1, prop.beta_from_gamma(gamma_s)) * 0.25\n",
    "k_c = prop.k_pow(maxlag+1, prop.beta_from_gamma(gamma_s))\n",
    "k_n[0] = 0\n",
    "k_n[1] = .1\n",
    "\n",
    "r = prop.hdim2(s, c, k_n, k_c)"
   ]
  },
  {
   "cell_type": "markdown",
   "metadata": {
    "pycharm": {
     "name": "#%% md\n"
    }
   },
   "source": [
    "Create a dataframe that resembles the way actual trading data may be analysed"
   ]
  },
  {
   "cell_type": "code",
   "execution_count": 6,
   "metadata": {
    "pycharm": {
     "name": "#%%\n"
    }
   },
   "outputs": [],
   "source": [
    "# simulate split over different days\n",
    "mean_day_length = 2**8\n",
    "trades = pd.DataFrame({\n",
    "    'r1':         r,  # one-step mid-return\n",
    "    'sign':       s,  # sign of a single trade (buy: 1, sell: -1) \n",
    "    'change':     c,  # change indicator\n",
    "    # simulate days of different lenghts\n",
    "    'date':       np.cumsum(np.random.rand(len(c)) / mean_day_length).astype(int)\n",
    "})\n",
    "# split in two sample groups for out-of-sample analysis\n",
    "trades['sample'] = trades['date'] % 2"
   ]
  },
  {
   "cell_type": "code",
   "execution_count": 7,
   "metadata": {
    "pycharm": {
     "name": "#%%\n"
    },
    "scrolled": true
   },
   "outputs": [
    {
     "data": {
      "text/html": [
       "<div>\n",
       "<style scoped>\n",
       "    .dataframe tbody tr th:only-of-type {\n",
       "        vertical-align: middle;\n",
       "    }\n",
       "\n",
       "    .dataframe tbody tr th {\n",
       "        vertical-align: top;\n",
       "    }\n",
       "\n",
       "    .dataframe thead th {\n",
       "        text-align: right;\n",
       "    }\n",
       "</style>\n",
       "<table border=\"1\" class=\"dataframe\">\n",
       "  <thead>\n",
       "    <tr style=\"text-align: right;\">\n",
       "      <th></th>\n",
       "      <th>r1</th>\n",
       "      <th>sign</th>\n",
       "      <th>change</th>\n",
       "      <th>date</th>\n",
       "      <th>sample</th>\n",
       "    </tr>\n",
       "  </thead>\n",
       "  <tbody>\n",
       "    <tr>\n",
       "      <th>0</th>\n",
       "      <td>-0.000000</td>\n",
       "      <td>-1</td>\n",
       "      <td>False</td>\n",
       "      <td>0</td>\n",
       "      <td>0</td>\n",
       "    </tr>\n",
       "    <tr>\n",
       "      <th>1</th>\n",
       "      <td>0.900000</td>\n",
       "      <td>1</td>\n",
       "      <td>True</td>\n",
       "      <td>0</td>\n",
       "      <td>0</td>\n",
       "    </tr>\n",
       "    <tr>\n",
       "      <th>2</th>\n",
       "      <td>-1.138838</td>\n",
       "      <td>-1</td>\n",
       "      <td>True</td>\n",
       "      <td>0</td>\n",
       "      <td>0</td>\n",
       "    </tr>\n",
       "    <tr>\n",
       "      <th>3</th>\n",
       "      <td>-0.908775</td>\n",
       "      <td>-1</td>\n",
       "      <td>True</td>\n",
       "      <td>0</td>\n",
       "      <td>0</td>\n",
       "    </tr>\n",
       "    <tr>\n",
       "      <th>4</th>\n",
       "      <td>-0.802973</td>\n",
       "      <td>-1</td>\n",
       "      <td>True</td>\n",
       "      <td>0</td>\n",
       "      <td>0</td>\n",
       "    </tr>\n",
       "  </tbody>\n",
       "</table>\n",
       "</div>"
      ],
      "text/plain": [
       "         r1  sign  change  date  sample\n",
       "0 -0.000000    -1   False     0       0\n",
       "1  0.900000     1    True     0       0\n",
       "2 -1.138838    -1    True     0       0\n",
       "3 -0.908775    -1    True     0       0\n",
       "4 -0.802973    -1    True     0       0"
      ]
     },
     "execution_count": 7,
     "metadata": {},
     "output_type": "execute_result"
    }
   ],
   "source": [
    "trades.head()"
   ]
  },
  {
   "cell_type": "markdown",
   "metadata": {
    "pycharm": {
     "name": "#%% md\n"
    }
   },
   "source": [
    "Now the trades are added to a dictionary which allows to collect also the price responses, correlation matrices, etc. for later analyses."
   ]
  },
  {
   "cell_type": "code",
   "execution_count": 8,
   "metadata": {
    "pycharm": {
     "name": "#%%\n"
    }
   },
   "outputs": [],
   "source": [
    "db = {'tt': trades} # tt stands for true trades, i.e. after merging transactions"
   ]
  },
  {
   "cell_type": "code",
   "execution_count": 9,
   "metadata": {},
   "outputs": [
    {
     "data": {
      "text/html": [
       "<div>\n",
       "<style scoped>\n",
       "    .dataframe tbody tr th:only-of-type {\n",
       "        vertical-align: middle;\n",
       "    }\n",
       "\n",
       "    .dataframe tbody tr th {\n",
       "        vertical-align: top;\n",
       "    }\n",
       "\n",
       "    .dataframe thead th {\n",
       "        text-align: right;\n",
       "    }\n",
       "</style>\n",
       "<table border=\"1\" class=\"dataframe\">\n",
       "  <thead>\n",
       "    <tr style=\"text-align: right;\">\n",
       "      <th></th>\n",
       "      <th>r1</th>\n",
       "      <th>sign</th>\n",
       "      <th>change</th>\n",
       "      <th>date</th>\n",
       "      <th>sample</th>\n",
       "    </tr>\n",
       "  </thead>\n",
       "  <tbody>\n",
       "    <tr>\n",
       "      <th>0</th>\n",
       "      <td>-0.000000</td>\n",
       "      <td>-1</td>\n",
       "      <td>False</td>\n",
       "      <td>0</td>\n",
       "      <td>0</td>\n",
       "    </tr>\n",
       "    <tr>\n",
       "      <th>1</th>\n",
       "      <td>0.900000</td>\n",
       "      <td>1</td>\n",
       "      <td>True</td>\n",
       "      <td>0</td>\n",
       "      <td>0</td>\n",
       "    </tr>\n",
       "    <tr>\n",
       "      <th>2</th>\n",
       "      <td>-1.138838</td>\n",
       "      <td>-1</td>\n",
       "      <td>True</td>\n",
       "      <td>0</td>\n",
       "      <td>0</td>\n",
       "    </tr>\n",
       "    <tr>\n",
       "      <th>3</th>\n",
       "      <td>-0.908775</td>\n",
       "      <td>-1</td>\n",
       "      <td>True</td>\n",
       "      <td>0</td>\n",
       "      <td>0</td>\n",
       "    </tr>\n",
       "    <tr>\n",
       "      <th>4</th>\n",
       "      <td>-0.802973</td>\n",
       "      <td>-1</td>\n",
       "      <td>True</td>\n",
       "      <td>0</td>\n",
       "      <td>0</td>\n",
       "    </tr>\n",
       "    <tr>\n",
       "      <th>...</th>\n",
       "      <td>...</td>\n",
       "      <td>...</td>\n",
       "      <td>...</td>\n",
       "      <td>...</td>\n",
       "      <td>...</td>\n",
       "    </tr>\n",
       "    <tr>\n",
       "      <th>99995</th>\n",
       "      <td>0.756907</td>\n",
       "      <td>1</td>\n",
       "      <td>True</td>\n",
       "      <td>195</td>\n",
       "      <td>1</td>\n",
       "    </tr>\n",
       "    <tr>\n",
       "      <th>99996</th>\n",
       "      <td>-1.301914</td>\n",
       "      <td>-1</td>\n",
       "      <td>True</td>\n",
       "      <td>195</td>\n",
       "      <td>1</td>\n",
       "    </tr>\n",
       "    <tr>\n",
       "      <th>99997</th>\n",
       "      <td>-1.023924</td>\n",
       "      <td>-1</td>\n",
       "      <td>True</td>\n",
       "      <td>195</td>\n",
       "      <td>1</td>\n",
       "    </tr>\n",
       "    <tr>\n",
       "      <th>99998</th>\n",
       "      <td>1.107776</td>\n",
       "      <td>1</td>\n",
       "      <td>True</td>\n",
       "      <td>195</td>\n",
       "      <td>1</td>\n",
       "    </tr>\n",
       "    <tr>\n",
       "      <th>99999</th>\n",
       "      <td>0.870688</td>\n",
       "      <td>1</td>\n",
       "      <td>True</td>\n",
       "      <td>195</td>\n",
       "      <td>1</td>\n",
       "    </tr>\n",
       "  </tbody>\n",
       "</table>\n",
       "<p>100000 rows × 5 columns</p>\n",
       "</div>"
      ],
      "text/plain": [
       "             r1  sign  change  date  sample\n",
       "0     -0.000000    -1   False     0       0\n",
       "1      0.900000     1    True     0       0\n",
       "2     -1.138838    -1    True     0       0\n",
       "3     -0.908775    -1    True     0       0\n",
       "4     -0.802973    -1    True     0       0\n",
       "...         ...   ...     ...   ...     ...\n",
       "99995  0.756907     1    True   195       1\n",
       "99996 -1.301914    -1    True   195       1\n",
       "99997 -1.023924    -1    True   195       1\n",
       "99998  1.107776     1    True   195       1\n",
       "99999  0.870688     1    True   195       1\n",
       "\n",
       "[100000 rows x 5 columns]"
      ]
     },
     "execution_count": 9,
     "metadata": {},
     "output_type": "execute_result"
    }
   ],
   "source": [
    "db['tt']"
   ]
  },
  {
   "cell_type": "code",
   "execution_count": 11,
   "metadata": {},
   "outputs": [
    {
     "data": {
      "text/plain": [
       "r1        510.204082\n",
       "sign      510.204082\n",
       "change    510.204082\n",
       "sample    510.204082\n",
       "dtype: float64"
      ]
     },
     "execution_count": 11,
     "metadata": {},
     "output_type": "execute_result"
    }
   ],
   "source": [
    "db['tt'].groupby(\"date\").count().mean()"
   ]
  },
  {
   "cell_type": "code",
   "execution_count": null,
   "metadata": {},
   "outputs": [],
   "source": []
  },
  {
   "cell_type": "markdown",
   "metadata": {},
   "source": [
    "### Load real orderflow"
   ]
  },
  {
   "cell_type": "code",
   "execution_count": 6,
   "metadata": {},
   "outputs": [],
   "source": [
    "stock = \"AAPL\"\n",
    "current_dir = os.path.abspath('.')\n",
    "root_dir = os.path.join(current_dir, '..', '..')\n",
    "data_dir = os.path.join(root_dir, 'data', 'market_orders')\n",
    "filename = f\"{stock}-2017-NEW.csv\"\n",
    "stock_file_path = os.path.join(data_dir, filename)\n",
    "aapl_raw_df = pd.read_csv(stock_file_path)"
   ]
  },
  {
   "cell_type": "code",
   "execution_count": 7,
   "metadata": {},
   "outputs": [
    {
     "data": {
      "text/html": [
       "<div>\n",
       "<style scoped>\n",
       "    .dataframe tbody tr th:only-of-type {\n",
       "        vertical-align: middle;\n",
       "    }\n",
       "\n",
       "    .dataframe tbody tr th {\n",
       "        vertical-align: top;\n",
       "    }\n",
       "\n",
       "    .dataframe thead th {\n",
       "        text-align: right;\n",
       "    }\n",
       "</style>\n",
       "<table border=\"1\" class=\"dataframe\">\n",
       "  <thead>\n",
       "    <tr style=\"text-align: right;\">\n",
       "      <th></th>\n",
       "      <th>Unnamed: 0</th>\n",
       "      <th>event_timestamp</th>\n",
       "      <th>sign</th>\n",
       "      <th>side</th>\n",
       "      <th>lob_action</th>\n",
       "      <th>order_executed</th>\n",
       "      <th>execution_price</th>\n",
       "      <th>size</th>\n",
       "      <th>ask</th>\n",
       "      <th>bid</th>\n",
       "      <th>...</th>\n",
       "      <th>average_vol_at_best</th>\n",
       "      <th>midprice_change</th>\n",
       "      <th>R1</th>\n",
       "      <th>spread</th>\n",
       "      <th>date</th>\n",
       "      <th>daily_R1</th>\n",
       "      <th>daily_vol</th>\n",
       "      <th>daily_num</th>\n",
       "      <th>norm_size</th>\n",
       "      <th>signed_volume</th>\n",
       "    </tr>\n",
       "  </thead>\n",
       "  <tbody>\n",
       "    <tr>\n",
       "      <th>0</th>\n",
       "      <td>0</td>\n",
       "      <td>2017-01-03 10:30:00.544161131</td>\n",
       "      <td>1</td>\n",
       "      <td>ASK</td>\n",
       "      <td>REMOVE</td>\n",
       "      <td>True</td>\n",
       "      <td>115.70</td>\n",
       "      <td>100</td>\n",
       "      <td>115.70</td>\n",
       "      <td>115.69</td>\n",
       "      <td>...</td>\n",
       "      <td>1045.040418</td>\n",
       "      <td>0.00</td>\n",
       "      <td>0.00</td>\n",
       "      <td>0.01</td>\n",
       "      <td>2017-01-03</td>\n",
       "      <td>0.004271</td>\n",
       "      <td>1398089</td>\n",
       "      <td>6170</td>\n",
       "      <td>0.095690</td>\n",
       "      <td>100</td>\n",
       "    </tr>\n",
       "    <tr>\n",
       "      <th>1</th>\n",
       "      <td>1</td>\n",
       "      <td>2017-01-03 10:30:02.758712611</td>\n",
       "      <td>-1</td>\n",
       "      <td>BID</td>\n",
       "      <td>REMOVE</td>\n",
       "      <td>True</td>\n",
       "      <td>115.69</td>\n",
       "      <td>153</td>\n",
       "      <td>115.70</td>\n",
       "      <td>115.69</td>\n",
       "      <td>...</td>\n",
       "      <td>762.184840</td>\n",
       "      <td>-0.01</td>\n",
       "      <td>0.01</td>\n",
       "      <td>0.01</td>\n",
       "      <td>2017-01-03</td>\n",
       "      <td>0.004271</td>\n",
       "      <td>1398089</td>\n",
       "      <td>6170</td>\n",
       "      <td>0.200739</td>\n",
       "      <td>-153</td>\n",
       "    </tr>\n",
       "    <tr>\n",
       "      <th>2</th>\n",
       "      <td>2</td>\n",
       "      <td>2017-01-03 10:30:02.852790059</td>\n",
       "      <td>1</td>\n",
       "      <td>ASK</td>\n",
       "      <td>REMOVE</td>\n",
       "      <td>True</td>\n",
       "      <td>115.69</td>\n",
       "      <td>200</td>\n",
       "      <td>115.69</td>\n",
       "      <td>115.68</td>\n",
       "      <td>...</td>\n",
       "      <td>1045.040418</td>\n",
       "      <td>0.01</td>\n",
       "      <td>0.01</td>\n",
       "      <td>0.01</td>\n",
       "      <td>2017-01-03</td>\n",
       "      <td>0.004271</td>\n",
       "      <td>1398089</td>\n",
       "      <td>6170</td>\n",
       "      <td>0.191380</td>\n",
       "      <td>200</td>\n",
       "    </tr>\n",
       "    <tr>\n",
       "      <th>3</th>\n",
       "      <td>3</td>\n",
       "      <td>2017-01-03 10:30:04.539218241</td>\n",
       "      <td>1</td>\n",
       "      <td>ASK</td>\n",
       "      <td>REMOVE</td>\n",
       "      <td>True</td>\n",
       "      <td>115.70</td>\n",
       "      <td>100</td>\n",
       "      <td>115.70</td>\n",
       "      <td>115.69</td>\n",
       "      <td>...</td>\n",
       "      <td>1045.040418</td>\n",
       "      <td>0.00</td>\n",
       "      <td>0.00</td>\n",
       "      <td>0.01</td>\n",
       "      <td>2017-01-03</td>\n",
       "      <td>0.004271</td>\n",
       "      <td>1398089</td>\n",
       "      <td>6170</td>\n",
       "      <td>0.095690</td>\n",
       "      <td>100</td>\n",
       "    </tr>\n",
       "    <tr>\n",
       "      <th>4</th>\n",
       "      <td>4</td>\n",
       "      <td>2017-01-03 10:30:07.865732286</td>\n",
       "      <td>1</td>\n",
       "      <td>ASK</td>\n",
       "      <td>UPDATE</td>\n",
       "      <td>True</td>\n",
       "      <td>115.70</td>\n",
       "      <td>10</td>\n",
       "      <td>115.70</td>\n",
       "      <td>115.69</td>\n",
       "      <td>...</td>\n",
       "      <td>1045.040418</td>\n",
       "      <td>0.00</td>\n",
       "      <td>0.00</td>\n",
       "      <td>0.01</td>\n",
       "      <td>2017-01-03</td>\n",
       "      <td>0.004271</td>\n",
       "      <td>1398089</td>\n",
       "      <td>6170</td>\n",
       "      <td>0.009569</td>\n",
       "      <td>10</td>\n",
       "    </tr>\n",
       "  </tbody>\n",
       "</table>\n",
       "<p>5 rows × 27 columns</p>\n",
       "</div>"
      ],
      "text/plain": [
       "   Unnamed: 0                event_timestamp  sign side lob_action  \\\n",
       "0           0  2017-01-03 10:30:00.544161131     1  ASK     REMOVE   \n",
       "1           1  2017-01-03 10:30:02.758712611    -1  BID     REMOVE   \n",
       "2           2  2017-01-03 10:30:02.852790059     1  ASK     REMOVE   \n",
       "3           3  2017-01-03 10:30:04.539218241     1  ASK     REMOVE   \n",
       "4           4  2017-01-03 10:30:07.865732286     1  ASK     UPDATE   \n",
       "\n",
       "   order_executed  execution_price  size     ask     bid  ...  \\\n",
       "0            True           115.70   100  115.70  115.69  ...   \n",
       "1            True           115.69   153  115.70  115.69  ...   \n",
       "2            True           115.69   200  115.69  115.68  ...   \n",
       "3            True           115.70   100  115.70  115.69  ...   \n",
       "4            True           115.70    10  115.70  115.69  ...   \n",
       "\n",
       "   average_vol_at_best  midprice_change    R1  spread        date  daily_R1  \\\n",
       "0          1045.040418             0.00  0.00    0.01  2017-01-03  0.004271   \n",
       "1           762.184840            -0.01  0.01    0.01  2017-01-03  0.004271   \n",
       "2          1045.040418             0.01  0.01    0.01  2017-01-03  0.004271   \n",
       "3          1045.040418             0.00  0.00    0.01  2017-01-03  0.004271   \n",
       "4          1045.040418             0.00  0.00    0.01  2017-01-03  0.004271   \n",
       "\n",
       "   daily_vol  daily_num  norm_size  signed_volume  \n",
       "0    1398089       6170   0.095690            100  \n",
       "1    1398089       6170   0.200739           -153  \n",
       "2    1398089       6170   0.191380            200  \n",
       "3    1398089       6170   0.095690            100  \n",
       "4    1398089       6170   0.009569             10  \n",
       "\n",
       "[5 rows x 27 columns]"
      ]
     },
     "execution_count": 7,
     "metadata": {},
     "output_type": "execute_result"
    }
   ],
   "source": [
    "aapl_raw_df.head()"
   ]
  },
  {
   "cell_type": "code",
   "execution_count": 8,
   "metadata": {},
   "outputs": [
    {
     "data": {
      "text/plain": [
       "Index(['Unnamed: 0', 'event_timestamp', 'sign', 'side', 'lob_action',\n",
       "       'order_executed', 'execution_price', 'size', 'ask', 'bid', 'midprice',\n",
       "       'ask_volume', 'bid_volume', 'price_changing', 'ask_queue_size_mean',\n",
       "       'bid_queue_size_mean', 'average_num_at_best', 'average_vol_at_best',\n",
       "       'midprice_change', 'R1', 'spread', 'date', 'daily_R1', 'daily_vol',\n",
       "       'daily_num', 'norm_size', 'signed_volume'],\n",
       "      dtype='object')"
      ]
     },
     "execution_count": 8,
     "metadata": {},
     "output_type": "execute_result"
    }
   ],
   "source": [
    "aapl_raw_df.columns"
   ]
  },
  {
   "cell_type": "code",
   "execution_count": 9,
   "metadata": {},
   "outputs": [],
   "source": [
    "aapl_data = aapl_raw_df[[\"event_timestamp\", \"R1\", \"sign\", \"price_changing\"]]"
   ]
  },
  {
   "cell_type": "code",
   "execution_count": 10,
   "metadata": {},
   "outputs": [
    {
     "name": "stderr",
     "output_type": "stream",
     "text": [
      "/var/folders/ht/ftxq182137ngc38c1g4m9ff40000gn/T/ipykernel_74009/3569341304.py:1: SettingWithCopyWarning: \n",
      "A value is trying to be set on a copy of a slice from a DataFrame.\n",
      "Try using .loc[row_indexer,col_indexer] = value instead\n",
      "\n",
      "See the caveats in the documentation: https://pandas.pydata.org/pandas-docs/stable/user_guide/indexing.html#returning-a-view-versus-a-copy\n",
      "  aapl_data[\"event_timestamp\"] = aapl_data[\"event_timestamp\"].apply(lambda x: pd.Timestamp(x))\n",
      "/var/folders/ht/ftxq182137ngc38c1g4m9ff40000gn/T/ipykernel_74009/3569341304.py:2: SettingWithCopyWarning: \n",
      "A value is trying to be set on a copy of a slice from a DataFrame.\n",
      "Try using .loc[row_indexer,col_indexer] = value instead\n",
      "\n",
      "See the caveats in the documentation: https://pandas.pydata.org/pandas-docs/stable/user_guide/indexing.html#returning-a-view-versus-a-copy\n",
      "  aapl_data[\"date\"] = aapl_data[\"event_timestamp\"].apply(lambda x: x.date())\n"
     ]
    }
   ],
   "source": [
    "aapl_data[\"event_timestamp\"] = aapl_data[\"event_timestamp\"].apply(lambda x: pd.Timestamp(x))\n",
    "aapl_data[\"date\"] = aapl_data[\"event_timestamp\"].apply(lambda x: x.date())"
   ]
  },
  {
   "cell_type": "code",
   "execution_count": 11,
   "metadata": {},
   "outputs": [
    {
     "data": {
      "text/html": [
       "<div>\n",
       "<style scoped>\n",
       "    .dataframe tbody tr th:only-of-type {\n",
       "        vertical-align: middle;\n",
       "    }\n",
       "\n",
       "    .dataframe tbody tr th {\n",
       "        vertical-align: top;\n",
       "    }\n",
       "\n",
       "    .dataframe thead th {\n",
       "        text-align: right;\n",
       "    }\n",
       "</style>\n",
       "<table border=\"1\" class=\"dataframe\">\n",
       "  <thead>\n",
       "    <tr style=\"text-align: right;\">\n",
       "      <th></th>\n",
       "      <th>event_timestamp</th>\n",
       "      <th>R1</th>\n",
       "      <th>sign</th>\n",
       "      <th>price_changing</th>\n",
       "      <th>date</th>\n",
       "    </tr>\n",
       "  </thead>\n",
       "  <tbody>\n",
       "    <tr>\n",
       "      <th>0</th>\n",
       "      <td>2017-01-03 10:30:00.544161131</td>\n",
       "      <td>0.00</td>\n",
       "      <td>1</td>\n",
       "      <td>True</td>\n",
       "      <td>2017-01-03</td>\n",
       "    </tr>\n",
       "    <tr>\n",
       "      <th>1</th>\n",
       "      <td>2017-01-03 10:30:02.758712611</td>\n",
       "      <td>0.01</td>\n",
       "      <td>-1</td>\n",
       "      <td>True</td>\n",
       "      <td>2017-01-03</td>\n",
       "    </tr>\n",
       "    <tr>\n",
       "      <th>2</th>\n",
       "      <td>2017-01-03 10:30:02.852790059</td>\n",
       "      <td>0.01</td>\n",
       "      <td>1</td>\n",
       "      <td>True</td>\n",
       "      <td>2017-01-03</td>\n",
       "    </tr>\n",
       "    <tr>\n",
       "      <th>3</th>\n",
       "      <td>2017-01-03 10:30:04.539218241</td>\n",
       "      <td>0.00</td>\n",
       "      <td>1</td>\n",
       "      <td>True</td>\n",
       "      <td>2017-01-03</td>\n",
       "    </tr>\n",
       "    <tr>\n",
       "      <th>4</th>\n",
       "      <td>2017-01-03 10:30:07.865732286</td>\n",
       "      <td>0.00</td>\n",
       "      <td>1</td>\n",
       "      <td>False</td>\n",
       "      <td>2017-01-03</td>\n",
       "    </tr>\n",
       "  </tbody>\n",
       "</table>\n",
       "</div>"
      ],
      "text/plain": [
       "                event_timestamp    R1  sign  price_changing        date\n",
       "0 2017-01-03 10:30:00.544161131  0.00     1            True  2017-01-03\n",
       "1 2017-01-03 10:30:02.758712611  0.01    -1            True  2017-01-03\n",
       "2 2017-01-03 10:30:02.852790059  0.01     1            True  2017-01-03\n",
       "3 2017-01-03 10:30:04.539218241  0.00     1            True  2017-01-03\n",
       "4 2017-01-03 10:30:07.865732286  0.00     1           False  2017-01-03"
      ]
     },
     "execution_count": 11,
     "metadata": {},
     "output_type": "execute_result"
    }
   ],
   "source": [
    "aapl_data.head()"
   ]
  },
  {
   "cell_type": "code",
   "execution_count": 12,
   "metadata": {},
   "outputs": [
    {
     "data": {
      "text/plain": [
       "event_timestamp    10493.936255\n",
       "R1                 10493.936255\n",
       "sign               10493.936255\n",
       "price_changing     10493.936255\n",
       "dtype: float64"
      ]
     },
     "execution_count": 12,
     "metadata": {},
     "output_type": "execute_result"
    }
   ],
   "source": [
    "aapl_data.groupby(\"date\").count().mean()"
   ]
  },
  {
   "cell_type": "code",
   "execution_count": 13,
   "metadata": {},
   "outputs": [
    {
     "data": {
      "text/html": [
       "<div>\n",
       "<style scoped>\n",
       "    .dataframe tbody tr th:only-of-type {\n",
       "        vertical-align: middle;\n",
       "    }\n",
       "\n",
       "    .dataframe tbody tr th {\n",
       "        vertical-align: top;\n",
       "    }\n",
       "\n",
       "    .dataframe thead th {\n",
       "        text-align: right;\n",
       "    }\n",
       "</style>\n",
       "<table border=\"1\" class=\"dataframe\">\n",
       "  <thead>\n",
       "    <tr style=\"text-align: right;\">\n",
       "      <th></th>\n",
       "      <th>r1</th>\n",
       "      <th>sign</th>\n",
       "      <th>change</th>\n",
       "      <th>date</th>\n",
       "      <th>sample</th>\n",
       "    </tr>\n",
       "  </thead>\n",
       "  <tbody>\n",
       "    <tr>\n",
       "      <th>0</th>\n",
       "      <td>0.00</td>\n",
       "      <td>1</td>\n",
       "      <td>True</td>\n",
       "      <td>2017-01-03</td>\n",
       "      <td>1</td>\n",
       "    </tr>\n",
       "    <tr>\n",
       "      <th>1</th>\n",
       "      <td>0.01</td>\n",
       "      <td>-1</td>\n",
       "      <td>True</td>\n",
       "      <td>2017-01-03</td>\n",
       "      <td>1</td>\n",
       "    </tr>\n",
       "    <tr>\n",
       "      <th>2</th>\n",
       "      <td>0.01</td>\n",
       "      <td>1</td>\n",
       "      <td>True</td>\n",
       "      <td>2017-01-03</td>\n",
       "      <td>1</td>\n",
       "    </tr>\n",
       "    <tr>\n",
       "      <th>3</th>\n",
       "      <td>0.00</td>\n",
       "      <td>1</td>\n",
       "      <td>True</td>\n",
       "      <td>2017-01-03</td>\n",
       "      <td>1</td>\n",
       "    </tr>\n",
       "    <tr>\n",
       "      <th>4</th>\n",
       "      <td>0.00</td>\n",
       "      <td>1</td>\n",
       "      <td>False</td>\n",
       "      <td>2017-01-03</td>\n",
       "      <td>1</td>\n",
       "    </tr>\n",
       "  </tbody>\n",
       "</table>\n",
       "</div>"
      ],
      "text/plain": [
       "     r1  sign  change        date  sample\n",
       "0  0.00     1    True  2017-01-03       1\n",
       "1  0.01    -1    True  2017-01-03       1\n",
       "2  0.01     1    True  2017-01-03       1\n",
       "3  0.00     1    True  2017-01-03       1\n",
       "4  0.00     1   False  2017-01-03       1"
      ]
     },
     "execution_count": 13,
     "metadata": {},
     "output_type": "execute_result"
    }
   ],
   "source": [
    "trades = aapl_data[[\"R1\", \"sign\", \"price_changing\", \"date\"]]\n",
    "trades = trades.rename(columns={\"R1\": \"r1\", \"price_changing\": \"change\"})\n",
    "trades['sample'] = trades[\"date\"].apply(lambda x: x.day % 2)\n",
    "\n",
    "trades.head()"
   ]
  },
  {
   "cell_type": "code",
   "execution_count": 14,
   "metadata": {},
   "outputs": [
    {
     "data": {
      "text/plain": [
       "sample\n",
       "1    1403128\n",
       "0    1230850\n",
       "Name: count, dtype: int64"
      ]
     },
     "execution_count": 14,
     "metadata": {},
     "output_type": "execute_result"
    }
   ],
   "source": [
    "trades[\"sample\"].value_counts()"
   ]
  },
  {
   "cell_type": "code",
   "execution_count": null,
   "metadata": {},
   "outputs": [],
   "source": []
  },
  {
   "cell_type": "code",
   "execution_count": 18,
   "metadata": {},
   "outputs": [],
   "source": [
    "shorter_sample_trades = trades.head(100000)"
   ]
  },
  {
   "cell_type": "code",
   "execution_count": 19,
   "metadata": {},
   "outputs": [],
   "source": [
    "db = {'tt': shorter_sample_trades}"
   ]
  },
  {
   "cell_type": "markdown",
   "metadata": {
    "pycharm": {
     "name": "#%% md\n"
    }
   },
   "source": [
    "### Calibrate and simulate the models"
   ]
  },
  {
   "cell_type": "code",
   "execution_count": 20,
   "metadata": {
    "pycharm": {
     "name": "#%%\n"
    }
   },
   "outputs": [
    {
     "name": "stderr",
     "output_type": "stream",
     "text": [
      "/Users/ana_bugaenko/workspace/priceprop/priceprop/batch.py:18: SettingWithCopyWarning: \n",
      "A value is trying to be set on a copy of a slice from a DataFrame.\n",
      "Try using .loc[row_indexer,col_indexer] = value instead\n",
      "\n",
      "See the caveats in the documentation: https://pandas.pydata.org/pandas-docs/stable/user_guide/indexing.html#returning-a-view-versus-a-copy\n",
      "  tt['sc'] = tt['sign'] * tt['change']\n",
      "/Users/ana_bugaenko/workspace/priceprop/priceprop/batch.py:20: SettingWithCopyWarning: \n",
      "A value is trying to be set on a copy of a slice from a DataFrame.\n",
      "Try using .loc[row_indexer,col_indexer] = value instead\n",
      "\n",
      "See the caveats in the documentation: https://pandas.pydata.org/pandas-docs/stable/user_guide/indexing.html#returning-a-view-versus-a-copy\n",
      "  tt['sn'] = tt['sign'] * (~tt['change'])\n",
      "/Users/ana_bugaenko/workspace/priceprop/priceprop/batch.py:414: SettingWithCopyWarning: \n",
      "A value is trying to be set on a copy of a slice from a DataFrame.\n",
      "Try using .loc[row_indexer,col_indexer] = value instead\n",
      "\n",
      "See the caveats in the documentation: https://pandas.pydata.org/pandas-docs/stable/user_guide/indexing.html#returning-a-view-versus-a-copy\n",
      "  if 'cim' in models:    tt.loc[m,'r_cim']    = np.concatenate(rcim)\n",
      "/Users/ana_bugaenko/workspace/priceprop/priceprop/batch.py:415: SettingWithCopyWarning: \n",
      "A value is trying to be set on a copy of a slice from a DataFrame.\n",
      "Try using .loc[row_indexer,col_indexer] = value instead\n",
      "\n",
      "See the caveats in the documentation: https://pandas.pydata.org/pandas-docs/stable/user_guide/indexing.html#returning-a-view-versus-a-copy\n",
      "  if 'tim1' in models:   tt.loc[m,'r_tim1']  = np.concatenate(rtim1)\n",
      "/Users/ana_bugaenko/workspace/priceprop/priceprop/batch.py:416: SettingWithCopyWarning: \n",
      "A value is trying to be set on a copy of a slice from a DataFrame.\n",
      "Try using .loc[row_indexer,col_indexer] = value instead\n",
      "\n",
      "See the caveats in the documentation: https://pandas.pydata.org/pandas-docs/stable/user_guide/indexing.html#returning-a-view-versus-a-copy\n",
      "  if 'tim2' in models:   tt.loc[m,'r_tim2']  = np.concatenate(rtim2)\n",
      "/Users/ana_bugaenko/workspace/priceprop/priceprop/batch.py:417: SettingWithCopyWarning: \n",
      "A value is trying to be set on a copy of a slice from a DataFrame.\n",
      "Try using .loc[row_indexer,col_indexer] = value instead\n",
      "\n",
      "See the caveats in the documentation: https://pandas.pydata.org/pandas-docs/stable/user_guide/indexing.html#returning-a-view-versus-a-copy\n",
      "  if 'hdim2' in models:  tt.loc[m,'r_hdim2'] = np.concatenate(rhdim2)\n",
      "/Users/ana_bugaenko/workspace/priceprop/priceprop/batch.py:419: SettingWithCopyWarning: \n",
      "A value is trying to be set on a copy of a slice from a DataFrame.\n",
      "Try using .loc[row_indexer,col_indexer] = value instead\n",
      "\n",
      "See the caveats in the documentation: https://pandas.pydata.org/pandas-docs/stable/user_guide/indexing.html#returning-a-view-versus-a-copy\n",
      "  tt.loc[m,'r_hdim2_x2'] = np.concatenate(rhdim2_x2)\n"
     ]
    }
   ],
   "source": [
    "\n",
    "pb.calc_models(db, nfft='pad > 300', group=True, calibrate=True, split_by='sample')\n",
    "# nfft options from fast to precise: 'crop', 'pad', 'demix'\n",
    "# the addition '> 300' specifies to drop groups with fewer than 300 events\n",
    "# feedback can be obtained using Python's logging module."
   ]
  },
  {
   "cell_type": "code",
   "execution_count": 21,
   "metadata": {
    "pycharm": {
     "name": "#%%\n"
    },
    "scrolled": false
   },
   "outputs": [
    {
     "name": "stdout",
     "output_type": "stream",
     "text": [
      "Calibration completed for the following sample groups:\n",
      "dict_keys([0, 1])\n"
     ]
    }
   ],
   "source": [
    "# A calibration dict 'cal' was added to db. \n",
    "# It includes one key for each of the sample groups \n",
    "# (based on the column \"samples\" created above)\n",
    "print(\"Calibration completed for the following sample groups:\")\n",
    "print(db['cal'].keys())"
   ]
  },
  {
   "cell_type": "code",
   "execution_count": 22,
   "metadata": {
    "pycharm": {
     "name": "#%%\n"
    },
    "scrolled": false
   },
   "outputs": [
    {
     "data": {
      "text/html": [
       "<div>\n",
       "<style scoped>\n",
       "    .dataframe tbody tr th:only-of-type {\n",
       "        vertical-align: middle;\n",
       "    }\n",
       "\n",
       "    .dataframe tbody tr th {\n",
       "        vertical-align: top;\n",
       "    }\n",
       "\n",
       "    .dataframe thead th {\n",
       "        text-align: right;\n",
       "    }\n",
       "</style>\n",
       "<table border=\"1\" class=\"dataframe\">\n",
       "  <thead>\n",
       "    <tr style=\"text-align: right;\">\n",
       "      <th></th>\n",
       "      <th>r1</th>\n",
       "      <th>sign</th>\n",
       "      <th>change</th>\n",
       "      <th>date</th>\n",
       "      <th>sample</th>\n",
       "      <th>sc</th>\n",
       "      <th>sn</th>\n",
       "      <th>r_cim</th>\n",
       "      <th>r_tim1</th>\n",
       "      <th>r_tim2</th>\n",
       "      <th>r_hdim2</th>\n",
       "      <th>r_hdim2_x2</th>\n",
       "    </tr>\n",
       "  </thead>\n",
       "  <tbody>\n",
       "    <tr>\n",
       "      <th>0</th>\n",
       "      <td>0.00</td>\n",
       "      <td>1</td>\n",
       "      <td>True</td>\n",
       "      <td>2017-01-03</td>\n",
       "      <td>1</td>\n",
       "      <td>1</td>\n",
       "      <td>0</td>\n",
       "      <td>1.0</td>\n",
       "      <td>0.003371</td>\n",
       "      <td>0.006905</td>\n",
       "      <td>0.004133</td>\n",
       "      <td>0.006880</td>\n",
       "    </tr>\n",
       "    <tr>\n",
       "      <th>1</th>\n",
       "      <td>0.01</td>\n",
       "      <td>-1</td>\n",
       "      <td>True</td>\n",
       "      <td>2017-01-03</td>\n",
       "      <td>1</td>\n",
       "      <td>-1</td>\n",
       "      <td>0</td>\n",
       "      <td>-1.0</td>\n",
       "      <td>0.002000</td>\n",
       "      <td>-0.007323</td>\n",
       "      <td>0.002259</td>\n",
       "      <td>-0.006768</td>\n",
       "    </tr>\n",
       "    <tr>\n",
       "      <th>2</th>\n",
       "      <td>0.01</td>\n",
       "      <td>1</td>\n",
       "      <td>True</td>\n",
       "      <td>2017-01-03</td>\n",
       "      <td>1</td>\n",
       "      <td>1</td>\n",
       "      <td>0</td>\n",
       "      <td>1.0</td>\n",
       "      <td>-0.007786</td>\n",
       "      <td>-0.003363</td>\n",
       "      <td>-0.018039</td>\n",
       "      <td>-0.003889</td>\n",
       "    </tr>\n",
       "    <tr>\n",
       "      <th>3</th>\n",
       "      <td>0.00</td>\n",
       "      <td>1</td>\n",
       "      <td>True</td>\n",
       "      <td>2017-01-03</td>\n",
       "      <td>1</td>\n",
       "      <td>1</td>\n",
       "      <td>0</td>\n",
       "      <td>1.0</td>\n",
       "      <td>0.014879</td>\n",
       "      <td>0.020017</td>\n",
       "      <td>0.034974</td>\n",
       "      <td>0.020475</td>\n",
       "    </tr>\n",
       "    <tr>\n",
       "      <th>4</th>\n",
       "      <td>0.00</td>\n",
       "      <td>1</td>\n",
       "      <td>False</td>\n",
       "      <td>2017-01-03</td>\n",
       "      <td>1</td>\n",
       "      <td>0</td>\n",
       "      <td>1</td>\n",
       "      <td>0.0</td>\n",
       "      <td>-0.000059</td>\n",
       "      <td>-0.012394</td>\n",
       "      <td>-0.000000</td>\n",
       "      <td>-0.000000</td>\n",
       "    </tr>\n",
       "    <tr>\n",
       "      <th>5</th>\n",
       "      <td>0.00</td>\n",
       "      <td>1</td>\n",
       "      <td>False</td>\n",
       "      <td>2017-01-03</td>\n",
       "      <td>1</td>\n",
       "      <td>0</td>\n",
       "      <td>1</td>\n",
       "      <td>0.0</td>\n",
       "      <td>0.006077</td>\n",
       "      <td>0.013253</td>\n",
       "      <td>0.000000</td>\n",
       "      <td>0.000000</td>\n",
       "    </tr>\n",
       "    <tr>\n",
       "      <th>6</th>\n",
       "      <td>0.01</td>\n",
       "      <td>1</td>\n",
       "      <td>True</td>\n",
       "      <td>2017-01-03</td>\n",
       "      <td>1</td>\n",
       "      <td>1</td>\n",
       "      <td>0</td>\n",
       "      <td>1.0</td>\n",
       "      <td>0.000246</td>\n",
       "      <td>0.011160</td>\n",
       "      <td>0.015197</td>\n",
       "      <td>0.011668</td>\n",
       "    </tr>\n",
       "    <tr>\n",
       "      <th>7</th>\n",
       "      <td>0.00</td>\n",
       "      <td>1</td>\n",
       "      <td>False</td>\n",
       "      <td>2017-01-03</td>\n",
       "      <td>1</td>\n",
       "      <td>0</td>\n",
       "      <td>1</td>\n",
       "      <td>0.0</td>\n",
       "      <td>0.003056</td>\n",
       "      <td>-0.003674</td>\n",
       "      <td>-0.000000</td>\n",
       "      <td>-0.000000</td>\n",
       "    </tr>\n",
       "    <tr>\n",
       "      <th>8</th>\n",
       "      <td>0.00</td>\n",
       "      <td>1</td>\n",
       "      <td>False</td>\n",
       "      <td>2017-01-03</td>\n",
       "      <td>1</td>\n",
       "      <td>0</td>\n",
       "      <td>1</td>\n",
       "      <td>0.0</td>\n",
       "      <td>-0.003343</td>\n",
       "      <td>-0.001760</td>\n",
       "      <td>-0.000000</td>\n",
       "      <td>-0.000000</td>\n",
       "    </tr>\n",
       "    <tr>\n",
       "      <th>9</th>\n",
       "      <td>0.00</td>\n",
       "      <td>1</td>\n",
       "      <td>False</td>\n",
       "      <td>2017-01-03</td>\n",
       "      <td>1</td>\n",
       "      <td>0</td>\n",
       "      <td>1</td>\n",
       "      <td>0.0</td>\n",
       "      <td>0.006017</td>\n",
       "      <td>0.014894</td>\n",
       "      <td>0.000000</td>\n",
       "      <td>0.000000</td>\n",
       "    </tr>\n",
       "    <tr>\n",
       "      <th>10</th>\n",
       "      <td>0.00</td>\n",
       "      <td>1</td>\n",
       "      <td>False</td>\n",
       "      <td>2017-01-03</td>\n",
       "      <td>1</td>\n",
       "      <td>0</td>\n",
       "      <td>1</td>\n",
       "      <td>0.0</td>\n",
       "      <td>-0.000998</td>\n",
       "      <td>-0.002430</td>\n",
       "      <td>-0.000000</td>\n",
       "      <td>-0.000000</td>\n",
       "    </tr>\n",
       "    <tr>\n",
       "      <th>11</th>\n",
       "      <td>0.01</td>\n",
       "      <td>1</td>\n",
       "      <td>True</td>\n",
       "      <td>2017-01-03</td>\n",
       "      <td>1</td>\n",
       "      <td>1</td>\n",
       "      <td>0</td>\n",
       "      <td>1.0</td>\n",
       "      <td>0.002671</td>\n",
       "      <td>0.012938</td>\n",
       "      <td>0.003516</td>\n",
       "      <td>0.013559</td>\n",
       "    </tr>\n",
       "    <tr>\n",
       "      <th>12</th>\n",
       "      <td>0.00</td>\n",
       "      <td>1</td>\n",
       "      <td>True</td>\n",
       "      <td>2017-01-03</td>\n",
       "      <td>1</td>\n",
       "      <td>1</td>\n",
       "      <td>0</td>\n",
       "      <td>1.0</td>\n",
       "      <td>0.003374</td>\n",
       "      <td>-0.005348</td>\n",
       "      <td>-0.019240</td>\n",
       "      <td>-0.004613</td>\n",
       "    </tr>\n",
       "    <tr>\n",
       "      <th>13</th>\n",
       "      <td>0.01</td>\n",
       "      <td>1</td>\n",
       "      <td>True</td>\n",
       "      <td>2017-01-03</td>\n",
       "      <td>1</td>\n",
       "      <td>1</td>\n",
       "      <td>0</td>\n",
       "      <td>1.0</td>\n",
       "      <td>0.001998</td>\n",
       "      <td>-0.015788</td>\n",
       "      <td>-0.034081</td>\n",
       "      <td>-0.015121</td>\n",
       "    </tr>\n",
       "    <tr>\n",
       "      <th>14</th>\n",
       "      <td>-0.00</td>\n",
       "      <td>-1</td>\n",
       "      <td>False</td>\n",
       "      <td>2017-01-03</td>\n",
       "      <td>1</td>\n",
       "      <td>0</td>\n",
       "      <td>-1</td>\n",
       "      <td>-0.0</td>\n",
       "      <td>-0.002258</td>\n",
       "      <td>-0.011894</td>\n",
       "      <td>-0.000000</td>\n",
       "      <td>-0.000000</td>\n",
       "    </tr>\n",
       "    <tr>\n",
       "      <th>15</th>\n",
       "      <td>-0.00</td>\n",
       "      <td>-1</td>\n",
       "      <td>False</td>\n",
       "      <td>2017-01-03</td>\n",
       "      <td>1</td>\n",
       "      <td>0</td>\n",
       "      <td>-1</td>\n",
       "      <td>-0.0</td>\n",
       "      <td>-0.013264</td>\n",
       "      <td>-0.023201</td>\n",
       "      <td>-0.000000</td>\n",
       "      <td>-0.000000</td>\n",
       "    </tr>\n",
       "    <tr>\n",
       "      <th>16</th>\n",
       "      <td>0.01</td>\n",
       "      <td>-1</td>\n",
       "      <td>True</td>\n",
       "      <td>2017-01-03</td>\n",
       "      <td>1</td>\n",
       "      <td>-1</td>\n",
       "      <td>0</td>\n",
       "      <td>-1.0</td>\n",
       "      <td>-0.000568</td>\n",
       "      <td>-0.007941</td>\n",
       "      <td>-0.021151</td>\n",
       "      <td>-0.008451</td>\n",
       "    </tr>\n",
       "    <tr>\n",
       "      <th>17</th>\n",
       "      <td>0.01</td>\n",
       "      <td>1</td>\n",
       "      <td>True</td>\n",
       "      <td>2017-01-03</td>\n",
       "      <td>1</td>\n",
       "      <td>1</td>\n",
       "      <td>0</td>\n",
       "      <td>1.0</td>\n",
       "      <td>0.006032</td>\n",
       "      <td>0.025734</td>\n",
       "      <td>0.000318</td>\n",
       "      <td>0.025040</td>\n",
       "    </tr>\n",
       "    <tr>\n",
       "      <th>18</th>\n",
       "      <td>0.00</td>\n",
       "      <td>1</td>\n",
       "      <td>False</td>\n",
       "      <td>2017-01-03</td>\n",
       "      <td>1</td>\n",
       "      <td>0</td>\n",
       "      <td>1</td>\n",
       "      <td>0.0</td>\n",
       "      <td>0.023010</td>\n",
       "      <td>0.035832</td>\n",
       "      <td>0.000000</td>\n",
       "      <td>0.000000</td>\n",
       "    </tr>\n",
       "    <tr>\n",
       "      <th>19</th>\n",
       "      <td>0.01</td>\n",
       "      <td>1</td>\n",
       "      <td>True</td>\n",
       "      <td>2017-01-03</td>\n",
       "      <td>1</td>\n",
       "      <td>1</td>\n",
       "      <td>0</td>\n",
       "      <td>1.0</td>\n",
       "      <td>0.011882</td>\n",
       "      <td>0.022421</td>\n",
       "      <td>0.025181</td>\n",
       "      <td>0.022839</td>\n",
       "    </tr>\n",
       "  </tbody>\n",
       "</table>\n",
       "</div>"
      ],
      "text/plain": [
       "      r1  sign  change        date  sample  sc  sn  r_cim    r_tim1    r_tim2  \\\n",
       "0   0.00     1    True  2017-01-03       1   1   0    1.0  0.003371  0.006905   \n",
       "1   0.01    -1    True  2017-01-03       1  -1   0   -1.0  0.002000 -0.007323   \n",
       "2   0.01     1    True  2017-01-03       1   1   0    1.0 -0.007786 -0.003363   \n",
       "3   0.00     1    True  2017-01-03       1   1   0    1.0  0.014879  0.020017   \n",
       "4   0.00     1   False  2017-01-03       1   0   1    0.0 -0.000059 -0.012394   \n",
       "5   0.00     1   False  2017-01-03       1   0   1    0.0  0.006077  0.013253   \n",
       "6   0.01     1    True  2017-01-03       1   1   0    1.0  0.000246  0.011160   \n",
       "7   0.00     1   False  2017-01-03       1   0   1    0.0  0.003056 -0.003674   \n",
       "8   0.00     1   False  2017-01-03       1   0   1    0.0 -0.003343 -0.001760   \n",
       "9   0.00     1   False  2017-01-03       1   0   1    0.0  0.006017  0.014894   \n",
       "10  0.00     1   False  2017-01-03       1   0   1    0.0 -0.000998 -0.002430   \n",
       "11  0.01     1    True  2017-01-03       1   1   0    1.0  0.002671  0.012938   \n",
       "12  0.00     1    True  2017-01-03       1   1   0    1.0  0.003374 -0.005348   \n",
       "13  0.01     1    True  2017-01-03       1   1   0    1.0  0.001998 -0.015788   \n",
       "14 -0.00    -1   False  2017-01-03       1   0  -1   -0.0 -0.002258 -0.011894   \n",
       "15 -0.00    -1   False  2017-01-03       1   0  -1   -0.0 -0.013264 -0.023201   \n",
       "16  0.01    -1    True  2017-01-03       1  -1   0   -1.0 -0.000568 -0.007941   \n",
       "17  0.01     1    True  2017-01-03       1   1   0    1.0  0.006032  0.025734   \n",
       "18  0.00     1   False  2017-01-03       1   0   1    0.0  0.023010  0.035832   \n",
       "19  0.01     1    True  2017-01-03       1   1   0    1.0  0.011882  0.022421   \n",
       "\n",
       "     r_hdim2  r_hdim2_x2  \n",
       "0   0.004133    0.006880  \n",
       "1   0.002259   -0.006768  \n",
       "2  -0.018039   -0.003889  \n",
       "3   0.034974    0.020475  \n",
       "4  -0.000000   -0.000000  \n",
       "5   0.000000    0.000000  \n",
       "6   0.015197    0.011668  \n",
       "7  -0.000000   -0.000000  \n",
       "8  -0.000000   -0.000000  \n",
       "9   0.000000    0.000000  \n",
       "10 -0.000000   -0.000000  \n",
       "11  0.003516    0.013559  \n",
       "12 -0.019240   -0.004613  \n",
       "13 -0.034081   -0.015121  \n",
       "14 -0.000000   -0.000000  \n",
       "15 -0.000000   -0.000000  \n",
       "16 -0.021151   -0.008451  \n",
       "17  0.000318    0.025040  \n",
       "18  0.000000    0.000000  \n",
       "19  0.025181    0.022839  "
      ]
     },
     "execution_count": 22,
     "metadata": {},
     "output_type": "execute_result"
    }
   ],
   "source": [
    "# the simulated time-series should now be included in the trades dataframe\n",
    "db['tt'].head(20)"
   ]
  },
  {
   "cell_type": "code",
   "execution_count": null,
   "metadata": {},
   "outputs": [],
   "source": []
  },
  {
   "cell_type": "code",
   "execution_count": null,
   "metadata": {},
   "outputs": [],
   "source": []
  },
  {
   "cell_type": "markdown",
   "metadata": {
    "pycharm": {
     "name": "#%% md\n"
    }
   },
   "source": [
    "### Plot fitted model kernels"
   ]
  },
  {
   "cell_type": "code",
   "execution_count": 23,
   "metadata": {
    "pycharm": {
     "name": "#%%\n"
    },
    "scrolled": false
   },
   "outputs": [
    {
     "data": {
      "image/png": "[encoded data removed]",
      "text/plain": [
       "<Figure size 640x480 with 4 Axes>"
      ]
     },
     "metadata": {},
     "output_type": "display_data"
    }
   ],
   "source": [
    "fig, ax = plt.subplots(2, 2, sharex=True, sharey=True)\n",
    "\n",
    "sample = 1 # choose of the keys listed above\n",
    "fn = prop.integrate # show integrated kernels\n",
    "\n",
    "ax[0,0].plot(fn(k_c), label='True Kernel $k_c$')\n",
    "ax[0,0].plot(fn(db['cal'][sample]['kc']), label='HDIM2 fit (full 3pt)')\n",
    "ax[0,0].legend()\n",
    "\n",
    "ax[0,1].plot(fn(k_n), label='True Kernel $k_n$')\n",
    "ax[0,1].plot(fn(db['cal'][sample]['kn']), label='HDIM2 fit (full 3pt)')\n",
    "ax[0,1].legend()\n",
    "\n",
    "\n",
    "ax[1,0].plot(fn(k_c), label='True Kernel $k_c$')\n",
    "ax[1,0].plot(fn(db['cal'][sample]['kc_x2']), label='HDIM2* fit (approx.)')\n",
    "ax[1,0].legend()\n",
    "\n",
    "ax[1,1].plot(fn(k_n), label='True Kernel $k_n$')\n",
    "ax[1,1].plot(fn(db['cal'][sample]['kn_x2']), label='HDIM2* fit (approx.)')\n",
    "ax[1,1].legend()\n",
    "\n",
    "# optimise\n",
    "for a in ax[:,0]:\n",
    "    a.set_ylabel('lag')\n",
    "for a in ax[-1,:]:\n",
    "    a.set_xlabel('lag')\n",
    "for a in ax.flatten():\n",
    "    a.grid(True)\n",
    "\n",
    "plt.tight_layout()"
   ]
  },
  {
   "cell_type": "markdown",
   "metadata": {
    "pycharm": {
     "name": "#%% md\n"
    }
   },
   "source": [
    "### Plot the original \"true\" returns and those predicted from the fitted models"
   ]
  },
  {
   "cell_type": "code",
   "execution_count": 14,
   "metadata": {
    "pycharm": {
     "name": "#%%\n"
    },
    "scrolled": false
   },
   "outputs": [
    {
     "data": {
      "image/png": "[encoded data removed]",
      "text/plain": [
       "<Figure size 800x400 with 1 Axes>"
      ]
     },
     "metadata": {},
     "output_type": "display_data"
    }
   ],
   "source": [
    "plt.figure(2, figsize=(8,4))\n",
    "ax = plt.gca()\n",
    "\n",
    "# choose a range between 0 and steps for the plot.\n",
    "plot_start = 0\n",
    "plot_end   = 1000\n",
    "# plot the following predicted returns from these fitted models\n",
    "# (un)comment lines to (de)select models\n",
    "plot_models = [\n",
    "    #'r_cim',\n",
    "    #'r_tim1',\n",
    "    'r_tim2',\n",
    "    'r_hdim2',    # HDIM2 with full calibration\n",
    "    'r_hdim2_x2' # HDIM2 with two-point approximation\n",
    "]\n",
    "\n",
    "\n",
    "# plot diverse models\n",
    "rename_models = {\n",
    "    i : i.upper().replace('R_','').replace('_X2','* (approx.)')\n",
    "    for i in plot_models\n",
    "}\n",
    "styles = ['--','-','-.']\n",
    "predicted_returns = (\n",
    "    trades.iloc[plot_start:plot_end][plot_models]\n",
    "    .rename(columns=rename_models)\n",
    ")\n",
    "predicted_returns.plot(style=styles,ax=ax)\n",
    "\n",
    "# original returns\n",
    "original_returns = trades.iloc[plot_start:plot_end][['r1']]\n",
    "original_returns.columns = ['Original']\n",
    "original_returns.plot(style='k--', ax=ax, )\n",
    "\n",
    "# indicate date changes - there should be larger errors just at the beginning of a new day\n",
    "plt.vlines(\n",
    "    np.where(np.diff(trades['date'][plot_start:plot_end]))[0], \n",
    "    -2, 2, \n",
    "    linestyles=':', colors='#999999'\n",
    ")\n",
    "\n",
    "# format\n",
    "ax.set_xlabel('Time step')\n",
    "ax.set_ylabel('Return')\n",
    "plt.tight_layout()"
   ]
  },
  {
   "cell_type": "markdown",
   "metadata": {
    "pycharm": {
     "name": "#%% md\n"
    }
   },
   "source": [
    "Zooming into the time series reveals that the HDIM2 is perfectly predicted using the correct calibration, but not as well using the approximate calibration or the TIM2."
   ]
  },
  {
   "cell_type": "code",
   "execution_count": null,
   "metadata": {
    "pycharm": {
     "name": "#%%\n"
    }
   },
   "outputs": [],
   "source": []
  }
 ],
 "metadata": {
  "kernelspec": {
   "display_name": "Python 3 (ipykernel)",
   "language": "python",
   "name": "python3"
  },
  "language_info": {
   "codemirror_mode": {
    "name": "ipython",
    "version": 3
   },
   "file_extension": ".py",
   "mimetype": "text/x-python",
   "name": "python",
   "nbconvert_exporter": "python",
   "pygments_lexer": "ipython3",
   "version": "3.11.5"
  }
 },
 "nbformat": 4,
 "nbformat_minor": 2
}
