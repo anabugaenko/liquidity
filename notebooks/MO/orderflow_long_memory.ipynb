{
 "cells": [
  {
   "cell_type": "code",
   "execution_count": 1,
   "outputs": [],
   "source": [
    "from IPython.display import display\n",
    "from notebooks.util.long_memory_utils import *\n",
    "from liquidity.util.utils import compute_returns, get_agg_features\n",
    "\n",
    "from hurst_exponent.util.utils import augmented_dickey_fuller"
   ],
   "metadata": {
    "collapsed": false,
    "ExecuteTime": {
     "start_time": "2023-10-11T18:46:52.506982Z",
     "end_time": "2023-10-11T18:46:53.502629Z"
    }
   }
  },
  {
   "cell_type": "code",
   "execution_count": 2,
   "outputs": [],
   "source": [
    "# Automatically reload changes in package dependencies\n",
    "%load_ext autoreload\n",
    "%autoreload 2"
   ],
   "metadata": {
    "collapsed": false,
    "ExecuteTime": {
     "start_time": "2023-10-11T18:46:53.485606Z",
     "end_time": "2023-10-11T18:46:53.561387Z"
    }
   }
  },
  {
   "cell_type": "code",
   "execution_count": 3,
   "outputs": [],
   "source": [
    "# Number of events to use\n",
    "EVENTS_RANGE = 500000\n",
    "\n",
    "# Number of lags for the ACF\n",
    "ACF_RANGE = 1001\n",
    "\n",
    "# Lag/window size for Hurst\n",
    "LAG = 100"
   ],
   "metadata": {
    "collapsed": false,
    "ExecuteTime": {
     "start_time": "2023-10-11T18:46:53.508769Z",
     "end_time": "2023-10-11T18:46:53.571648Z"
    }
   }
  },
  {
   "cell_type": "markdown",
   "source": [
    "## Load raw sample data"
   ],
   "metadata": {
    "collapsed": false
   }
  },
  {
   "cell_type": "code",
   "execution_count": 4,
   "outputs": [],
   "source": [
    "# Load raw sample data  from CSV\n",
    "stocks = ['TSLA', 'AMZN', 'NFLX', 'MSFT', 'EBAY', 'APPL']\n",
    "\n",
    "current_dir = os.path.abspath('.')\n",
    "root_dir = os.path.join(current_dir, '..', '..')\n",
    "data_dir = os.path.join(root_dir, 'data', 'market_orders')\n",
    "acf_data_dir = os.path.join(root_dir, 'data', 'generated', 'mo_data', 'long_memory')\n",
    "\n",
    "\n",
    "stock_dfs = {}\n",
    "\n",
    "# Loop through each stock\n",
    "for stock in stocks:\n",
    "\n",
    "    filename = f\"{stock}-2016-R1.csv\"\n",
    "\n",
    "    stock_file_path = os.path.join(data_dir, filename)\n",
    "\n",
    "    # Read the CSV and store in the dictionary\n",
    "    stock_dfs[stock] = pd.read_csv(stock_file_path)\n",
    "\n",
    "# Access the dataframe using stock's ticker as key\n",
    "tsla_raw_df = stock_dfs['TSLA']\n",
    "amzn_raw_df = stock_dfs['AMZN']\n",
    "nflx_raw_df = stock_dfs['NFLX']\n",
    "msft_raw_df = stock_dfs['MSFT']\n",
    "ebay_raw_df = stock_dfs['EBAY']\n",
    "appl_raw_df = stock_dfs['APPL']"
   ],
   "metadata": {
    "collapsed": false,
    "ExecuteTime": {
     "start_time": "2023-10-11T18:46:53.526670Z",
     "end_time": "2023-10-11T18:47:00.755721Z"
    }
   }
  },
  {
   "cell_type": "code",
   "execution_count": 5,
   "outputs": [
    {
     "data": {
      "text/plain": "        Unnamed: 0                event_timestamp  trade_sign side lob_action  \\\n0                0  2016-01-04 10:30:02.487834868          -1  BID     REMOVE   \n1                1  2016-01-04 10:30:02.594369706          -1  BID     REMOVE   \n2                2  2016-01-04 10:30:02.602151380          -1  BID     REMOVE   \n3                3  2016-01-04 10:30:02.627167275          -1  BID     REMOVE   \n4                4  2016-01-04 10:30:02.895123534          -1  BID     REMOVE   \n...            ...                            ...         ...  ...        ...   \n757587      757587  2016-12-30 14:57:34.003070849          -1  BID     REMOVE   \n757588      757588  2016-12-30 14:57:49.675498708           1  ASK     REMOVE   \n757589      757589  2016-12-30 14:57:50.825570371           1  ASK     REMOVE   \n757590      757590  2016-12-30 14:58:02.190130229           1  ASK     REMOVE   \n757591      757591  2016-12-30 14:58:34.867752907           1  ASK     REMOVE   \n\n        order_executed  execution_price  execution_size     ask     bid  \\\n0                 True           221.36             100  221.46  221.36   \n1                 True           221.36             100  221.46  221.36   \n2                 True           221.36             100  221.46  221.36   \n3                 True           221.27              25  221.36  221.27   \n4                 True           221.25             100  221.36  221.25   \n...                ...              ...             ...     ...     ...   \n757587            True           212.66              78  212.71  212.66   \n757588            True           212.70             100  212.70  212.58   \n757589            True           212.73             118  212.73  212.58   \n757590            True           212.72             100  212.72  212.58   \n757591            True           212.73              32  212.73  212.64   \n\n        midprice  ask_volume  bid_volume  price_changing  midprice_change  \\\n0        221.410       100.0       100.0            True            0.000   \n1        221.410       100.0       100.0            True            0.000   \n2        221.410       200.0       100.0            True           -0.095   \n3        221.315       200.0        25.0            True           -0.010   \n4        221.305       100.0       100.0            True           -0.090   \n...          ...         ...         ...             ...              ...   \n757587   212.685       100.0        78.0            True           -0.045   \n757588   212.640       100.0         3.0            True            0.015   \n757589   212.655       118.0         3.0            True           -0.005   \n757590   212.650       100.0         3.0            True            0.035   \n757591   212.685        32.0       200.0            True            0.000   \n\n           R1  norm_trade_volume  \n0      -0.000           0.708122  \n1      -0.000           0.708122  \n2       0.095           0.708122  \n3       0.010           0.177031  \n4       0.090           0.708122  \n...       ...                ...  \n757587  0.045           0.523301  \n757588  0.015           0.764442  \n757589 -0.005           0.902041  \n757590  0.035           0.764442  \n757591  0.000           0.244621  \n\n[757592 rows x 17 columns]",
      "text/html": "<div>\n<style scoped>\n    .dataframe tbody tr th:only-of-type {\n        vertical-align: middle;\n    }\n\n    .dataframe tbody tr th {\n        vertical-align: top;\n    }\n\n    .dataframe thead th {\n        text-align: right;\n    }\n</style>\n<table border=\"1\" class=\"dataframe\">\n  <thead>\n    <tr style=\"text-align: right;\">\n      <th></th>\n      <th>Unnamed: 0</th>\n      <th>event_timestamp</th>\n      <th>trade_sign</th>\n      <th>side</th>\n      <th>lob_action</th>\n      <th>order_executed</th>\n      <th>execution_price</th>\n      <th>execution_size</th>\n      <th>ask</th>\n      <th>bid</th>\n      <th>midprice</th>\n      <th>ask_volume</th>\n      <th>bid_volume</th>\n      <th>price_changing</th>\n      <th>midprice_change</th>\n      <th>R1</th>\n      <th>norm_trade_volume</th>\n    </tr>\n  </thead>\n  <tbody>\n    <tr>\n      <th>0</th>\n      <td>0</td>\n      <td>2016-01-04 10:30:02.487834868</td>\n      <td>-1</td>\n      <td>BID</td>\n      <td>REMOVE</td>\n      <td>True</td>\n      <td>221.36</td>\n      <td>100</td>\n      <td>221.46</td>\n      <td>221.36</td>\n      <td>221.410</td>\n      <td>100.0</td>\n      <td>100.0</td>\n      <td>True</td>\n      <td>0.000</td>\n      <td>-0.000</td>\n      <td>0.708122</td>\n    </tr>\n    <tr>\n      <th>1</th>\n      <td>1</td>\n      <td>2016-01-04 10:30:02.594369706</td>\n      <td>-1</td>\n      <td>BID</td>\n      <td>REMOVE</td>\n      <td>True</td>\n      <td>221.36</td>\n      <td>100</td>\n      <td>221.46</td>\n      <td>221.36</td>\n      <td>221.410</td>\n      <td>100.0</td>\n      <td>100.0</td>\n      <td>True</td>\n      <td>0.000</td>\n      <td>-0.000</td>\n      <td>0.708122</td>\n    </tr>\n    <tr>\n      <th>2</th>\n      <td>2</td>\n      <td>2016-01-04 10:30:02.602151380</td>\n      <td>-1</td>\n      <td>BID</td>\n      <td>REMOVE</td>\n      <td>True</td>\n      <td>221.36</td>\n      <td>100</td>\n      <td>221.46</td>\n      <td>221.36</td>\n      <td>221.410</td>\n      <td>200.0</td>\n      <td>100.0</td>\n      <td>True</td>\n      <td>-0.095</td>\n      <td>0.095</td>\n      <td>0.708122</td>\n    </tr>\n    <tr>\n      <th>3</th>\n      <td>3</td>\n      <td>2016-01-04 10:30:02.627167275</td>\n      <td>-1</td>\n      <td>BID</td>\n      <td>REMOVE</td>\n      <td>True</td>\n      <td>221.27</td>\n      <td>25</td>\n      <td>221.36</td>\n      <td>221.27</td>\n      <td>221.315</td>\n      <td>200.0</td>\n      <td>25.0</td>\n      <td>True</td>\n      <td>-0.010</td>\n      <td>0.010</td>\n      <td>0.177031</td>\n    </tr>\n    <tr>\n      <th>4</th>\n      <td>4</td>\n      <td>2016-01-04 10:30:02.895123534</td>\n      <td>-1</td>\n      <td>BID</td>\n      <td>REMOVE</td>\n      <td>True</td>\n      <td>221.25</td>\n      <td>100</td>\n      <td>221.36</td>\n      <td>221.25</td>\n      <td>221.305</td>\n      <td>100.0</td>\n      <td>100.0</td>\n      <td>True</td>\n      <td>-0.090</td>\n      <td>0.090</td>\n      <td>0.708122</td>\n    </tr>\n    <tr>\n      <th>...</th>\n      <td>...</td>\n      <td>...</td>\n      <td>...</td>\n      <td>...</td>\n      <td>...</td>\n      <td>...</td>\n      <td>...</td>\n      <td>...</td>\n      <td>...</td>\n      <td>...</td>\n      <td>...</td>\n      <td>...</td>\n      <td>...</td>\n      <td>...</td>\n      <td>...</td>\n      <td>...</td>\n      <td>...</td>\n    </tr>\n    <tr>\n      <th>757587</th>\n      <td>757587</td>\n      <td>2016-12-30 14:57:34.003070849</td>\n      <td>-1</td>\n      <td>BID</td>\n      <td>REMOVE</td>\n      <td>True</td>\n      <td>212.66</td>\n      <td>78</td>\n      <td>212.71</td>\n      <td>212.66</td>\n      <td>212.685</td>\n      <td>100.0</td>\n      <td>78.0</td>\n      <td>True</td>\n      <td>-0.045</td>\n      <td>0.045</td>\n      <td>0.523301</td>\n    </tr>\n    <tr>\n      <th>757588</th>\n      <td>757588</td>\n      <td>2016-12-30 14:57:49.675498708</td>\n      <td>1</td>\n      <td>ASK</td>\n      <td>REMOVE</td>\n      <td>True</td>\n      <td>212.70</td>\n      <td>100</td>\n      <td>212.70</td>\n      <td>212.58</td>\n      <td>212.640</td>\n      <td>100.0</td>\n      <td>3.0</td>\n      <td>True</td>\n      <td>0.015</td>\n      <td>0.015</td>\n      <td>0.764442</td>\n    </tr>\n    <tr>\n      <th>757589</th>\n      <td>757589</td>\n      <td>2016-12-30 14:57:50.825570371</td>\n      <td>1</td>\n      <td>ASK</td>\n      <td>REMOVE</td>\n      <td>True</td>\n      <td>212.73</td>\n      <td>118</td>\n      <td>212.73</td>\n      <td>212.58</td>\n      <td>212.655</td>\n      <td>118.0</td>\n      <td>3.0</td>\n      <td>True</td>\n      <td>-0.005</td>\n      <td>-0.005</td>\n      <td>0.902041</td>\n    </tr>\n    <tr>\n      <th>757590</th>\n      <td>757590</td>\n      <td>2016-12-30 14:58:02.190130229</td>\n      <td>1</td>\n      <td>ASK</td>\n      <td>REMOVE</td>\n      <td>True</td>\n      <td>212.72</td>\n      <td>100</td>\n      <td>212.72</td>\n      <td>212.58</td>\n      <td>212.650</td>\n      <td>100.0</td>\n      <td>3.0</td>\n      <td>True</td>\n      <td>0.035</td>\n      <td>0.035</td>\n      <td>0.764442</td>\n    </tr>\n    <tr>\n      <th>757591</th>\n      <td>757591</td>\n      <td>2016-12-30 14:58:34.867752907</td>\n      <td>1</td>\n      <td>ASK</td>\n      <td>REMOVE</td>\n      <td>True</td>\n      <td>212.73</td>\n      <td>32</td>\n      <td>212.73</td>\n      <td>212.64</td>\n      <td>212.685</td>\n      <td>32.0</td>\n      <td>200.0</td>\n      <td>True</td>\n      <td>0.000</td>\n      <td>0.000</td>\n      <td>0.244621</td>\n    </tr>\n  </tbody>\n</table>\n<p>757592 rows × 17 columns</p>\n</div>"
     },
     "metadata": {},
     "output_type": "display_data"
    }
   ],
   "source": [
    "display(tsla_raw_df)"
   ],
   "metadata": {
    "collapsed": false,
    "ExecuteTime": {
     "start_time": "2023-10-11T18:47:00.749481Z",
     "end_time": "2023-10-11T18:47:00.797103Z"
    }
   }
  },
  {
   "cell_type": "code",
   "execution_count": null,
   "outputs": [],
   "source": [],
   "metadata": {
    "collapsed": false,
    "ExecuteTime": {
     "start_time": "2023-10-11T17:04:34.553885Z",
     "end_time": "2023-10-11T17:04:34.555219Z"
    }
   }
  },
  {
   "cell_type": "markdown",
   "source": [
    "# The Long Memory of Orderflow (Trades)\n",
    "\n",
    "To determine if a random process exhibits long memory, we take the following approach:\n",
    "\n",
    "1. **Infer an Autocorrelation Function (ACF):** Start by inferring the ACF from a finite return sample.\n",
    "\n",
    "2. **Fit a Power-law to the ACF:** Use the inferred ACF to fit a power-law.\n",
    "\n",
    "3. **Estimate Hurst Exponent:** Use standard and generalized hurst on cumulative sum of raw series."
   ],
   "metadata": {
    "collapsed": false
   }
  },
  {
   "cell_type": "markdown",
   "source": [
    "## 1. Return magnitudes"
   ],
   "metadata": {
    "collapsed": false
   }
  },
  {
   "cell_type": "code",
   "execution_count": null,
   "outputs": [],
   "source": [
    "# Return magnitude (volatility)\n",
    "tsla_returns = compute_returns(tsla_raw_df)['returns']\n",
    "msft_returns = compute_returns(msft_raw_df)['returns']\n",
    "amzn_returns = compute_returns(amzn_raw_df)['returns']\n",
    "nflx_returns = compute_returns(nflx_raw_df)['returns']\n",
    "ebay_returns = compute_returns(ebay_raw_df)['returns']\n",
    "appl_returns = compute_returns(appl_raw_df)['returns']\n",
    "\n",
    "return_magnitudes = {\n",
    "  'TSLA': abs(tsla_returns),\n",
    "  'MSFT': abs(msft_returns),\n",
    "  'AMZN': abs(amzn_returns),\n",
    "  'NFLX': abs(nflx_returns),\n",
    "  'EBAY': abs(ebay_returns),\n",
    "  'APPL': abs(appl_returns)\n",
    "}\n",
    "# Update the dictionary to only keep the first EVENTS_RANGE items\n",
    "returns_magnitudes = {stock: data.head(EVENTS_RANGE) for stock, data in return_magnitudes.items()}"
   ],
   "metadata": {
    "collapsed": false,
    "ExecuteTime": {
     "start_time": "2023-10-11T17:04:34.556153Z",
     "end_time": "2023-10-11T17:05:02.887488Z"
    }
   }
  },
  {
   "cell_type": "markdown",
   "source": [],
   "metadata": {
    "collapsed": false
   }
  },
  {
   "cell_type": "code",
   "execution_count": null,
   "outputs": [],
   "source": [
    "# ADF test\n",
    "for stock, data in return_magnitudes.items():\n",
    "    augmented_dickey_fuller(data.head(EVENTS_RANGE), stock)"
   ],
   "metadata": {
    "collapsed": false,
    "ExecuteTime": {
     "start_time": "2023-10-11T17:05:02.888436Z",
     "end_time": "2023-10-11T17:06:23.971360Z"
    }
   }
  },
  {
   "cell_type": "markdown",
   "source": [
    "### 1.2. Return magnitude ACF"
   ],
   "metadata": {
    "collapsed": false
   }
  },
  {
   "cell_type": "code",
   "execution_count": null,
   "outputs": [],
   "source": [
    "# Linear ACF\n",
    "volatility_linear_acf_filename = f\"{acf_data_dir}/mo_volatility_linear_acfs.pkl\"\n",
    "volatility_linear_acfs = compute_acfs(filename=volatility_linear_acf_filename, data=return_magnitudes, option='linear')\n",
    "print(volatility_linear_acfs.keys())"
   ],
   "metadata": {
    "collapsed": false,
    "ExecuteTime": {
     "start_time": "2023-10-11T17:06:23.976670Z",
     "end_time": "2023-10-11T17:06:24.056778Z"
    }
   }
  },
  {
   "cell_type": "code",
   "execution_count": null,
   "outputs": [],
   "source": [
    "# Nonlinear ACF\n",
    "volatility_nonlinear_acf_filename = f\"{acf_data_dir}/mo_volatility_nonlinear_acfs.pkl\"\n",
    "volatility_nonlinear_acfs = compute_acfs(filename=volatility_nonlinear_acf_filename, data=return_magnitudes, option='nonlinear')\n",
    "print(volatility_nonlinear_acfs.keys())"
   ],
   "metadata": {
    "collapsed": false,
    "ExecuteTime": {
     "start_time": "2023-10-11T17:06:24.041723Z",
     "end_time": "2023-10-11T17:06:24.159286Z"
    }
   }
  },
  {
   "cell_type": "code",
   "execution_count": null,
   "outputs": [],
   "source": [
    "for stock_name in volatility_linear_acfs.keys():\n",
    "    plot_acf_difference(stock_name, volatility_linear_acfs, volatility_nonlinear_acfs)"
   ],
   "metadata": {
    "collapsed": false,
    "ExecuteTime": {
     "start_time": "2023-10-11T17:06:24.085818Z",
     "end_time": "2023-10-11T17:06:25.556141Z"
    }
   }
  },
  {
   "cell_type": "markdown",
   "source": [
    "### 1.3. Fit power law distribution"
   ],
   "metadata": {
    "collapsed": false
   }
  },
  {
   "cell_type": "code",
   "execution_count": null,
   "outputs": [],
   "source": [
    "# Load the pre-computed ACFs\n",
    "volatility_acf_values = {}\n",
    "\n",
    "for stock, data in volatility_nonlinear_acfs.items():\n",
    "    volatility_acf_values[stock] = construct_xy(data, stock)"
   ],
   "metadata": {
    "collapsed": false,
    "ExecuteTime": {
     "start_time": "2023-10-11T17:06:25.555632Z",
     "end_time": "2023-10-11T17:06:25.613433Z"
    }
   }
  },
  {
   "cell_type": "code",
   "execution_count": null,
   "outputs": [],
   "source": [
    "# Using volatility_nonlinear_acfs\n",
    "volatility_fit_results_list = []\n",
    "volatility_fit_objects = {}  # Dictionary to store fit objects\n",
    "\n",
    "for stock, data in volatility_acf_values.items():\n",
    "    fit_dict, fit_obj = get_acf_params(stock, data)\n",
    "    if fit_dict:\n",
    "        volatility_fit_results_list.append(fit_dict)\n",
    "        volatility_fit_objects[stock] = fit_obj  # Store the fit object\n",
    "\n",
    "volatility_acf_fit_results = pd.DataFrame(volatility_fit_results_list)\n",
    "display(volatility_acf_fit_results.head())"
   ],
   "metadata": {
    "collapsed": false,
    "ExecuteTime": {
     "start_time": "2023-10-11T17:06:25.576986Z",
     "end_time": "2023-10-11T17:11:23.619078Z"
    }
   }
  },
  {
   "cell_type": "code",
   "execution_count": null,
   "outputs": [],
   "source": [
    "avg_alpha = volatility_acf_fit_results['gamma'].mean()\n",
    "print(f\"Average Gamma: {avg_alpha}\")"
   ],
   "metadata": {
    "collapsed": false,
    "ExecuteTime": {
     "start_time": "2023-10-11T17:11:23.614240Z",
     "end_time": "2023-10-11T17:11:23.737457Z"
    }
   }
  },
  {
   "cell_type": "code",
   "execution_count": null,
   "outputs": [],
   "source": [
    "volatility_fit_objects.keys()"
   ],
   "metadata": {
    "collapsed": false,
    "ExecuteTime": {
     "start_time": "2023-10-11T17:11:23.657850Z",
     "end_time": "2023-10-11T17:11:23.741180Z"
    }
   }
  },
  {
   "cell_type": "code",
   "execution_count": null,
   "outputs": [],
   "source": [],
   "metadata": {
    "collapsed": false,
    "ExecuteTime": {
     "start_time": "2023-10-11T17:11:23.676311Z",
     "end_time": "2023-10-11T17:11:23.741242Z"
    }
   }
  },
  {
   "cell_type": "markdown",
   "source": [
    "### 1.3.Volatility Hurst Exponents"
   ],
   "metadata": {
    "collapsed": false
   }
  },
  {
   "cell_type": "code",
   "execution_count": 11,
   "outputs": [
    {
     "data": {
      "text/plain": "<Figure size 640x480 with 1 Axes>",
      "image/png": "[encoded data removed]"
     },
     "metadata": {},
     "output_type": "display_data"
    }
   ],
   "source": [
    "# Compute cumsum of return magnitude (volatility)\n",
    "tsla_cum_returns = compute_returns(tsla_raw_df)['cumsum_returns']\n",
    "amzn_cum_returns = compute_returns(msft_raw_df)['cumsum_returns']\n",
    "nflx_cum_returns = compute_returns(amzn_raw_df)['cumsum_returns']\n",
    "msft_cum_returns = compute_returns(nflx_raw_df)['cumsum_returns']\n",
    "ebay_cum_returns = compute_returns(ebay_raw_df)['cumsum_returns']\n",
    "appl_cum_returns = compute_returns(appl_raw_df)['cumsum_returns']\n",
    "\n",
    "cumsum_return_magnitudes = {\n",
    "  'TSLA': abs(tsla_cum_returns),\n",
    "  'MSFT': abs(amzn_cum_returns),\n",
    "  'AMZN': abs(nflx_cum_returns),\n",
    "  'NFLX': abs(msft_cum_returns),\n",
    "  'EBAY': abs(ebay_cum_returns),\n",
    "  'APPL': abs(appl_cum_returns)\n",
    "}\n",
    "# Update the dictionary to only keep the first EVENTS_RANGE items\n",
    "cumsum_return_magnitudes = {stock: data.head(EVENTS_RANGE) for stock, data in cumsum_return_magnitudes.items()}\n",
    "tsla_cumsum_abs_returns = abs(tsla_cum_returns)\n",
    "x = list(range(1, len(tsla_cumsum_abs_returns)+1))\n",
    "plt.plot(x, tsla_cumsum_abs_returns)\n",
    "plt.grid(False)\n",
    "plt.show()"
   ],
   "metadata": {
    "collapsed": false,
    "ExecuteTime": {
     "start_time": "2023-10-11T18:47:07.050324Z",
     "end_time": "2023-10-11T18:47:35.109195Z"
    }
   }
  },
  {
   "cell_type": "markdown",
   "source": [
    "#### Standard Hurst"
   ],
   "metadata": {
    "collapsed": false
   }
  },
  {
   "cell_type": "code",
   "execution_count": 7,
   "outputs": [
    {
     "data": {
      "text/plain": "  function_name                                             params  \\\n0      powerlaw  {'param_names': ['C', 'alpha'], 'C': 0.0951528...   \n1      powerlaw  {'param_names': ['C', 'alpha'], 'C': 0.0096346...   \n2      powerlaw  {'param_names': ['C', 'alpha'], 'C': 0.1866042...   \n3      powerlaw  {'param_names': ['C', 'alpha'], 'C': 0.0338614...   \n4      powerlaw  {'param_names': ['C', 'alpha'], 'C': 0.0122531...   \n5      powerlaw  {'param_names': ['C', 'alpha'], 'C': 0.0776178...   \n\n   xmin_index  xmin         D           bic      mape  adjusted_rsquared  \\\n0           1   1.0  0.019830  -8164.405554  0.341003           0.999821   \n1           1   1.0  0.019830 -11785.952502  0.308029           0.999888   \n2           1   1.0  0.021246  -7624.882911  0.235671           0.999899   \n3           1   1.0  0.029745  -9214.254425  0.532530           0.999679   \n4           1   1.0  0.019830 -11927.570405  0.195431           0.999943   \n5           1   1.0  0.021246  -8524.979689  0.351121           0.999845   \n\n   standard_hurst stock random_variate  \n0        0.506448  TSLA     volatility  \n1        0.498441  MSFT     volatility  \n2        0.505193  AMZN     volatility  \n3        0.505422  NFLX     volatility  \n4        0.497863  EBAY     volatility  \n5        0.509733  APPL     volatility  ",
      "text/html": "<div>\n<style scoped>\n    .dataframe tbody tr th:only-of-type {\n        vertical-align: middle;\n    }\n\n    .dataframe tbody tr th {\n        vertical-align: top;\n    }\n\n    .dataframe thead th {\n        text-align: right;\n    }\n</style>\n<table border=\"1\" class=\"dataframe\">\n  <thead>\n    <tr style=\"text-align: right;\">\n      <th></th>\n      <th>function_name</th>\n      <th>params</th>\n      <th>xmin_index</th>\n      <th>xmin</th>\n      <th>D</th>\n      <th>bic</th>\n      <th>mape</th>\n      <th>adjusted_rsquared</th>\n      <th>standard_hurst</th>\n      <th>stock</th>\n      <th>random_variate</th>\n    </tr>\n  </thead>\n  <tbody>\n    <tr>\n      <th>0</th>\n      <td>powerlaw</td>\n      <td>{'param_names': ['C', 'alpha'], 'C': 0.0951528...</td>\n      <td>1</td>\n      <td>1.0</td>\n      <td>0.019830</td>\n      <td>-8164.405554</td>\n      <td>0.341003</td>\n      <td>0.999821</td>\n      <td>0.506448</td>\n      <td>TSLA</td>\n      <td>volatility</td>\n    </tr>\n    <tr>\n      <th>1</th>\n      <td>powerlaw</td>\n      <td>{'param_names': ['C', 'alpha'], 'C': 0.0096346...</td>\n      <td>1</td>\n      <td>1.0</td>\n      <td>0.019830</td>\n      <td>-11785.952502</td>\n      <td>0.308029</td>\n      <td>0.999888</td>\n      <td>0.498441</td>\n      <td>MSFT</td>\n      <td>volatility</td>\n    </tr>\n    <tr>\n      <th>2</th>\n      <td>powerlaw</td>\n      <td>{'param_names': ['C', 'alpha'], 'C': 0.1866042...</td>\n      <td>1</td>\n      <td>1.0</td>\n      <td>0.021246</td>\n      <td>-7624.882911</td>\n      <td>0.235671</td>\n      <td>0.999899</td>\n      <td>0.505193</td>\n      <td>AMZN</td>\n      <td>volatility</td>\n    </tr>\n    <tr>\n      <th>3</th>\n      <td>powerlaw</td>\n      <td>{'param_names': ['C', 'alpha'], 'C': 0.0338614...</td>\n      <td>1</td>\n      <td>1.0</td>\n      <td>0.029745</td>\n      <td>-9214.254425</td>\n      <td>0.532530</td>\n      <td>0.999679</td>\n      <td>0.505422</td>\n      <td>NFLX</td>\n      <td>volatility</td>\n    </tr>\n    <tr>\n      <th>4</th>\n      <td>powerlaw</td>\n      <td>{'param_names': ['C', 'alpha'], 'C': 0.0122531...</td>\n      <td>1</td>\n      <td>1.0</td>\n      <td>0.019830</td>\n      <td>-11927.570405</td>\n      <td>0.195431</td>\n      <td>0.999943</td>\n      <td>0.497863</td>\n      <td>EBAY</td>\n      <td>volatility</td>\n    </tr>\n    <tr>\n      <th>5</th>\n      <td>powerlaw</td>\n      <td>{'param_names': ['C', 'alpha'], 'C': 0.0776178...</td>\n      <td>1</td>\n      <td>1.0</td>\n      <td>0.021246</td>\n      <td>-8524.979689</td>\n      <td>0.351121</td>\n      <td>0.999845</td>\n      <td>0.509733</td>\n      <td>APPL</td>\n      <td>volatility</td>\n    </tr>\n  </tbody>\n</table>\n</div>"
     },
     "metadata": {},
     "output_type": "display_data"
    }
   ],
   "source": [
    "# Standard Hurst\n",
    "method = 'standard'\n",
    "volatility_fit_results_list = []\n",
    "volatility_fit_objects = {}\n",
    "\n",
    "for stock, data in cumsum_return_magnitudes.items():\n",
    "    fit_dict, fit = compute_hurst_exponent('volatility', stock, data, method=method)\n",
    "    if fit_dict:\n",
    "        volatility_fit_results_list.append(fit_dict)\n",
    "        volatility_fit_objects[(stock, method, 'volatility')] = fit\n",
    "\n",
    "volatility_std_hurst_fit_results = pd.DataFrame(volatility_fit_results_list)\n",
    "display(volatility_std_hurst_fit_results.head(10))"
   ],
   "metadata": {
    "collapsed": false,
    "ExecuteTime": {
     "start_time": "2023-10-11T18:47:35.138980Z",
     "end_time": "2023-10-11T18:51:39.665422Z"
    }
   }
  },
  {
   "cell_type": "code",
   "execution_count": 8,
   "outputs": [
    {
     "name": "stdout",
     "output_type": "stream",
     "text": [
      "Average Standard Hurst: 0.5038498463617861\n"
     ]
    }
   ],
   "source": [
    "# Average Standard Hurst exponents across stocks\n",
    "avg_hurst_std = volatility_std_hurst_fit_results['standard_hurst'].mean()\n",
    "print(f\"Average Standard Hurst: {avg_hurst_std}\")"
   ],
   "metadata": {
    "collapsed": false,
    "ExecuteTime": {
     "start_time": "2023-10-11T18:51:39.662377Z",
     "end_time": "2023-10-11T18:51:39.731794Z"
    }
   }
  },
  {
   "cell_type": "code",
   "execution_count": 8,
   "outputs": [],
   "source": [],
   "metadata": {
    "collapsed": false,
    "ExecuteTime": {
     "start_time": "2023-10-11T18:51:39.709308Z",
     "end_time": "2023-10-11T18:51:39.731912Z"
    }
   }
  },
  {
   "cell_type": "markdown",
   "source": [
    "#### Generalized Hurst"
   ],
   "metadata": {
    "collapsed": false
   }
  },
  {
   "cell_type": "code",
   "execution_count": 9,
   "outputs": [
    {
     "data": {
      "text/plain": "  function_name                                             params  \\\n0      powerlaw  {'param_names': ['C', 'alpha'], 'C': 0.0376913...   \n1      powerlaw  {'param_names': ['C', 'alpha'], 'C': 0.0043299...   \n2      powerlaw  {'param_names': ['C', 'alpha'], 'C': 0.0686098...   \n3      powerlaw  {'param_names': ['C', 'alpha'], 'C': 0.0167242...   \n4      powerlaw  {'param_names': ['C', 'alpha'], 'C': 0.0036676...   \n\n   xmin_index  xmin         D           bic      mape  adjusted_rsquared  \\\n0          16   3.0  0.011577  -9939.744951  0.261057           0.999967   \n1          37   6.0  0.011940 -14036.054652  0.078898           0.999994   \n2          44   7.0  0.012066  -9122.557044  0.169755           0.999977   \n3           9   2.0  0.011461 -10281.632056  0.653504           0.999831   \n4           9   2.0  0.011461 -12895.232795  0.321400           0.999944   \n\n   generalized_hurst stock random_variate  \n0           0.582842  TSLA     volatility  \n1           0.550557  MSFT     volatility  \n2           0.575491  AMZN     volatility  \n3           0.544594  NFLX     volatility  \n4           0.581743  EBAY     volatility  ",
      "text/html": "<div>\n<style scoped>\n    .dataframe tbody tr th:only-of-type {\n        vertical-align: middle;\n    }\n\n    .dataframe tbody tr th {\n        vertical-align: top;\n    }\n\n    .dataframe thead th {\n        text-align: right;\n    }\n</style>\n<table border=\"1\" class=\"dataframe\">\n  <thead>\n    <tr style=\"text-align: right;\">\n      <th></th>\n      <th>function_name</th>\n      <th>params</th>\n      <th>xmin_index</th>\n      <th>xmin</th>\n      <th>D</th>\n      <th>bic</th>\n      <th>mape</th>\n      <th>adjusted_rsquared</th>\n      <th>generalized_hurst</th>\n      <th>stock</th>\n      <th>random_variate</th>\n    </tr>\n  </thead>\n  <tbody>\n    <tr>\n      <th>0</th>\n      <td>powerlaw</td>\n      <td>{'param_names': ['C', 'alpha'], 'C': 0.0376913...</td>\n      <td>16</td>\n      <td>3.0</td>\n      <td>0.011577</td>\n      <td>-9939.744951</td>\n      <td>0.261057</td>\n      <td>0.999967</td>\n      <td>0.582842</td>\n      <td>TSLA</td>\n      <td>volatility</td>\n    </tr>\n    <tr>\n      <th>1</th>\n      <td>powerlaw</td>\n      <td>{'param_names': ['C', 'alpha'], 'C': 0.0043299...</td>\n      <td>37</td>\n      <td>6.0</td>\n      <td>0.011940</td>\n      <td>-14036.054652</td>\n      <td>0.078898</td>\n      <td>0.999994</td>\n      <td>0.550557</td>\n      <td>MSFT</td>\n      <td>volatility</td>\n    </tr>\n    <tr>\n      <th>2</th>\n      <td>powerlaw</td>\n      <td>{'param_names': ['C', 'alpha'], 'C': 0.0686098...</td>\n      <td>44</td>\n      <td>7.0</td>\n      <td>0.012066</td>\n      <td>-9122.557044</td>\n      <td>0.169755</td>\n      <td>0.999977</td>\n      <td>0.575491</td>\n      <td>AMZN</td>\n      <td>volatility</td>\n    </tr>\n    <tr>\n      <th>3</th>\n      <td>powerlaw</td>\n      <td>{'param_names': ['C', 'alpha'], 'C': 0.0167242...</td>\n      <td>9</td>\n      <td>2.0</td>\n      <td>0.011461</td>\n      <td>-10281.632056</td>\n      <td>0.653504</td>\n      <td>0.999831</td>\n      <td>0.544594</td>\n      <td>NFLX</td>\n      <td>volatility</td>\n    </tr>\n    <tr>\n      <th>4</th>\n      <td>powerlaw</td>\n      <td>{'param_names': ['C', 'alpha'], 'C': 0.0036676...</td>\n      <td>9</td>\n      <td>2.0</td>\n      <td>0.011461</td>\n      <td>-12895.232795</td>\n      <td>0.321400</td>\n      <td>0.999944</td>\n      <td>0.581743</td>\n      <td>EBAY</td>\n      <td>volatility</td>\n    </tr>\n  </tbody>\n</table>\n</div>"
     },
     "metadata": {},
     "output_type": "display_data"
    }
   ],
   "source": [
    "# Generalized Hurst\n",
    "method = 'generalized'\n",
    "volatility_fit_results_list = []\n",
    "volaility_fit_objects = {}\n",
    "\n",
    "for stock, data in cumsum_return_magnitudes.items():\n",
    "    fit_dict, fit = compute_hurst_exponent('volatility', stock, data, method=method)\n",
    "    if fit_dict:\n",
    "        volatility_fit_results_list.append(fit_dict)\n",
    "        volaility_fit_objects[(stock, method, 'volatility')] = fit\n",
    "\n",
    "volatility_gen_hurst_fit_results = pd.DataFrame(volatility_fit_results_list)\n",
    "display(volatility_gen_hurst_fit_results.head())"
   ],
   "metadata": {
    "collapsed": false,
    "ExecuteTime": {
     "start_time": "2023-10-11T17:13:31.368323Z",
     "end_time": "2023-10-11T17:15:18.732470Z"
    }
   }
  },
  {
   "cell_type": "code",
   "execution_count": 10,
   "outputs": [
    {
     "name": "stdout",
     "output_type": "stream",
     "text": [
      "Min Generalized Hurst: 0.5445935247768343\n",
      "Max Generalized Hurst: 0.5828420166525168\n",
      "Average Generalized Hurst: 0.5683663345055099\n",
      "Standard_dev Generalized Hurst: 0.01652394735127174\n"
     ]
    }
   ],
   "source": [
    "# Generalized Hurst statistic across stocks\n",
    "min_hurst_gen = volatility_gen_hurst_fit_results['generalized_hurst'].min()\n",
    "max_hurst_gen = volatility_gen_hurst_fit_results['generalized_hurst'].max()\n",
    "avg_hurst_gen = volatility_gen_hurst_fit_results['generalized_hurst'].mean()\n",
    "standard_dev = volatility_gen_hurst_fit_results['generalized_hurst'].std()\n",
    "\n",
    "print(f\"Min Generalized Hurst: {min_hurst_gen}\")\n",
    "print(f\"Max Generalized Hurst: {max_hurst_gen}\")\n",
    "print(f\"Average Generalized Hurst: {avg_hurst_gen}\")\n",
    "print(f\"Standard_dev Generalized Hurst: {standard_dev}\")"
   ],
   "metadata": {
    "collapsed": false,
    "ExecuteTime": {
     "start_time": "2023-10-11T17:15:18.727753Z",
     "end_time": "2023-10-11T17:15:18.853759Z"
    }
   }
  },
  {
   "cell_type": "code",
   "execution_count": null,
   "outputs": [],
   "source": [],
   "metadata": {
    "collapsed": false,
    "ExecuteTime": {
     "start_time": "2023-10-11T17:15:18.775954Z",
     "end_time": "2023-10-11T17:15:18.856661Z"
    }
   }
  },
  {
   "cell_type": "markdown",
   "source": [
    "## 2. Orderflow"
   ],
   "metadata": {
    "collapsed": false
   }
  },
  {
   "cell_type": "markdown",
   "source": [
    "##  2.1. Signs"
   ],
   "metadata": {
    "collapsed": false
   }
  },
  {
   "cell_type": "code",
   "execution_count": null,
   "outputs": [],
   "source": [
    "# Signed orderflow\n",
    "signed_orderflow = {\n",
    "  'TSLA': tsla_raw_df['trade_sign'],\n",
    "  'MSFT': msft_raw_df['trade_sign'],\n",
    "  'AMZN': amzn_raw_df['trade_sign'],\n",
    "  'NFLX': nflx_raw_df['trade_sign'],\n",
    "  'EBAY': ebay_raw_df['trade_sign'],\n",
    "  'APPL': appl_raw_df['trade_sign']\n",
    "}\n",
    "# Update the dictionary to only keep the first EVENTS_RANGE items\n",
    "signed_orderflow = {stock: data.head(EVENTS_RANGE) for stock, data in signed_orderflow.items()}"
   ],
   "metadata": {
    "collapsed": false,
    "ExecuteTime": {
     "start_time": "2023-10-11T17:15:18.778330Z",
     "end_time": "2023-10-11T17:15:18.857179Z"
    }
   }
  },
  {
   "cell_type": "code",
   "execution_count": null,
   "outputs": [],
   "source": [],
   "metadata": {
    "collapsed": false,
    "ExecuteTime": {
     "start_time": "2023-10-11T17:15:18.797647Z",
     "end_time": "2023-10-11T17:15:18.857216Z"
    }
   }
  },
  {
   "cell_type": "markdown",
   "source": [
    "### Stationarity Test"
   ],
   "metadata": {
    "collapsed": false
   }
  },
  {
   "cell_type": "code",
   "execution_count": null,
   "outputs": [],
   "source": [
    "# ADF test\n",
    "for stock, data in signed_orderflow.items():\n",
    "    augmented_dickey_fuller(data.head(EVENTS_RANGE), stock)"
   ],
   "metadata": {
    "collapsed": false,
    "ExecuteTime": {
     "start_time": "2023-10-11T17:15:18.799771Z",
     "end_time": "2023-10-11T17:17:00.047079Z"
    }
   }
  },
  {
   "cell_type": "markdown",
   "source": [
    "### 2.1. Signs ACF"
   ],
   "metadata": {
    "collapsed": false
   }
  },
  {
   "cell_type": "code",
   "execution_count": null,
   "outputs": [],
   "source": [
    "# Linear ACF\n",
    "signs_linear_acf_filename = f\"{acf_data_dir}/mo_signs_acfs.pkl\"\n",
    "signs_linear_acfs = compute_acfs(filename=signs_linear_acf_filename, data=signed_orderflow, option='linear')\n",
    "print(signs_linear_acfs.keys())"
   ],
   "metadata": {
    "collapsed": false,
    "ExecuteTime": {
     "start_time": "2023-10-11T17:16:59.948287Z",
     "end_time": "2023-10-11T17:17:00.092081Z"
    }
   }
  },
  {
   "cell_type": "code",
   "execution_count": null,
   "outputs": [],
   "source": [
    "# Nonlinear ACF\n",
    "signs_nonlinear_acf_filename = f\"{acf_data_dir}/mo_signs_nonlinear_acfs.pkl\"\n",
    "signs_nonlinear_acfs = compute_acfs(filename=signs_nonlinear_acf_filename, data=signed_orderflow, option='nonlinear')\n",
    "print(signs_nonlinear_acfs.keys())"
   ],
   "metadata": {
    "collapsed": false,
    "ExecuteTime": {
     "start_time": "2023-10-11T17:16:59.948471Z",
     "end_time": "2023-10-11T17:17:00.096658Z"
    }
   }
  },
  {
   "cell_type": "code",
   "execution_count": null,
   "outputs": [],
   "source": [
    "for stock_name in signs_linear_acfs.keys():\n",
    "    plot_acf_difference(stock_name, signs_linear_acfs, signs_nonlinear_acfs)"
   ],
   "metadata": {
    "collapsed": false,
    "ExecuteTime": {
     "start_time": "2023-10-11T17:16:59.948640Z",
     "end_time": "2023-10-11T17:17:01.540707Z"
    }
   }
  },
  {
   "cell_type": "markdown",
   "source": [
    "### 2.2. Fit power law distribution"
   ],
   "metadata": {
    "collapsed": false
   }
  },
  {
   "cell_type": "code",
   "execution_count": null,
   "outputs": [],
   "source": [
    "# Load the pre-computed ACFs\n",
    "signs_acf_values = {}\n",
    "\n",
    "for stock, data in signs_nonlinear_acfs.items():\n",
    "    signs_acf_values[stock] = construct_xy(data, stock)"
   ],
   "metadata": {
    "collapsed": false,
    "ExecuteTime": {
     "start_time": "2023-10-11T17:17:01.435331Z",
     "end_time": "2023-10-11T17:17:01.540879Z"
    }
   }
  },
  {
   "cell_type": "code",
   "execution_count": null,
   "outputs": [],
   "source": [
    "# Using signs_nonlinear_acfs\n",
    "signs_fit_results_list = []\n",
    "signs_fit_objects = {}  # Dictionary to store fit objects\n",
    "\n",
    "for stock, data in signs_acf_values.items():\n",
    "    fit_dict, fit_obj = get_acf_params(stock, data)\n",
    "    if fit_dict:\n",
    "        signs_fit_results_list.append(fit_dict)\n",
    "        signs_fit_objects[stock] = fit_obj  # Store the fit object\n",
    "\n",
    "signs_acf_fit_results = pd.DataFrame(signs_fit_results_list)\n",
    "display(signs_acf_fit_results.head())"
   ],
   "metadata": {
    "collapsed": false,
    "ExecuteTime": {
     "start_time": "2023-10-11T17:17:01.452768Z",
     "end_time": "2023-10-11T17:22:59.162595Z"
    }
   }
  },
  {
   "cell_type": "code",
   "execution_count": null,
   "outputs": [],
   "source": [
    "signs_fit_objects.keys()"
   ],
   "metadata": {
    "collapsed": false,
    "ExecuteTime": {
     "start_time": "2023-10-11T17:22:59.135572Z",
     "end_time": "2023-10-11T17:22:59.314236Z"
    }
   }
  },
  {
   "cell_type": "code",
   "execution_count": null,
   "outputs": [],
   "source": [
    "avg_alpha = signs_acf_fit_results['gamma'].mean()\n",
    "print(f\"Average Gamma: {avg_alpha}\")"
   ],
   "metadata": {
    "collapsed": false,
    "ExecuteTime": {
     "start_time": "2023-10-11T17:22:59.177352Z",
     "end_time": "2023-10-11T17:22:59.385652Z"
    }
   }
  },
  {
   "cell_type": "code",
   "execution_count": null,
   "outputs": [],
   "source": [],
   "metadata": {
    "collapsed": false,
    "ExecuteTime": {
     "start_time": "2023-10-11T17:22:59.194316Z",
     "end_time": "2023-10-11T17:22:59.385773Z"
    }
   }
  },
  {
   "cell_type": "markdown",
   "source": [
    "### 2.3. Signed Orderflow Hurst Exponents"
   ],
   "metadata": {
    "collapsed": false
   }
  },
  {
   "cell_type": "code",
   "execution_count": null,
   "outputs": [],
   "source": [
    "# Compute cumsum of signed orderflow\n",
    "cumsum_signed_orderflow = {\n",
    "  'TSLA': tsla_raw_df['trade_sign'].cumsum(),\n",
    "  'MSFT': msft_raw_df['trade_sign'].cumsum(),\n",
    "  'AMZN': amzn_raw_df['trade_sign'].cumsum(),\n",
    "  'NFLX': nflx_raw_df['trade_sign'].cumsum(),\n",
    "  'EBAY': ebay_raw_df['trade_sign'].cumsum(),\n",
    "  'APPL': appl_raw_df['trade_sign'].cumsum()\n",
    "}\n",
    "# Update the dictionary to only keep the first EVENTS_RANGE items\n",
    "cumsum_signed_orderflow = {stock: data.head(EVENTS_RANGE) for stock, data in cumsum_signed_orderflow.items()}\n",
    "tsla_cumsum_signs = tsla_raw_df['trade_sign'].cumsum()\n",
    "x = list(range(1, len(tsla_cumsum_signs)+1))\n",
    "plt.plot(x, tsla_cumsum_signs)\n",
    "plt.grid(False)"
   ],
   "metadata": {
    "collapsed": false,
    "ExecuteTime": {
     "start_time": "2023-10-11T17:22:59.196039Z",
     "end_time": "2023-10-11T17:22:59.725064Z"
    }
   }
  },
  {
   "cell_type": "markdown",
   "source": [
    "#### Standard Hurst"
   ],
   "metadata": {
    "collapsed": false
   }
  },
  {
   "cell_type": "code",
   "execution_count": null,
   "outputs": [],
   "source": [
    "# Standard Hurst\n",
    "method = 'standard'\n",
    "signs_fit_results_list = []\n",
    "signs_fit_objects = {}\n",
    "\n",
    "for stock, data in cumsum_signed_orderflow.items():\n",
    "    fit_dict, fit = compute_hurst_exponent('signs', stock, data, method=method)\n",
    "    if fit_dict:\n",
    "        signs_fit_results_list.append(fit_dict)\n",
    "        signs_fit_objects[(stock, method, 'signs')] = fit\n",
    "\n",
    "signs_std_hurst_fit_results = pd.DataFrame(signs_fit_results_list)\n",
    "display(signs_std_hurst_fit_results.head(10))"
   ],
   "metadata": {
    "collapsed": false,
    "ExecuteTime": {
     "start_time": "2023-10-11T17:22:59.365124Z",
     "end_time": "2023-10-11T17:24:28.013786Z"
    }
   }
  },
  {
   "cell_type": "code",
   "execution_count": null,
   "outputs": [],
   "source": [
    "# Average Standard Hurst exponents across stocks\n",
    "avg_hurst_std = signs_std_hurst_fit_results['standard_hurst'].mean()\n",
    "print(f\"Average Standard Hurst: {avg_hurst_std}\")"
   ],
   "metadata": {
    "collapsed": false,
    "ExecuteTime": {
     "start_time": "2023-10-11T17:24:28.013497Z",
     "end_time": "2023-10-11T17:24:28.045334Z"
    }
   }
  },
  {
   "cell_type": "code",
   "execution_count": null,
   "outputs": [],
   "source": [],
   "metadata": {
    "collapsed": false,
    "ExecuteTime": {
     "start_time": "2023-10-11T17:24:28.035053Z",
     "end_time": "2023-10-11T17:24:28.178811Z"
    }
   }
  },
  {
   "cell_type": "markdown",
   "source": [
    "#### Generalized Hurst"
   ],
   "metadata": {
    "collapsed": false
   }
  },
  {
   "cell_type": "code",
   "execution_count": null,
   "outputs": [],
   "source": [
    "# Generalized Hurst\n",
    "method = 'generalized'\n",
    "signs_fit_results_list = []\n",
    "signs_fit_objects = {}\n",
    "\n",
    "for stock, data in cumsum_signed_orderflow.items():\n",
    "    fit_dict, fit = compute_hurst_exponent('signs', stock, data, method=method)\n",
    "    if fit_dict:\n",
    "        signs_fit_results_list.append(fit_dict)\n",
    "        signs_fit_objects[(stock, method, 'signs')] = fit\n",
    "\n",
    "signs_gen_hurst_fit_results = pd.DataFrame(signs_fit_results_list)\n",
    "display(signs_gen_hurst_fit_results.head())"
   ],
   "metadata": {
    "collapsed": false,
    "ExecuteTime": {
     "start_time": "2023-10-11T17:24:28.037580Z",
     "end_time": "2023-10-11T17:26:01.728712Z"
    }
   }
  },
  {
   "cell_type": "code",
   "execution_count": null,
   "outputs": [],
   "source": [
    "# Generalized Hurst statistic across stocks\n",
    "min_hurst_gen = signs_gen_hurst_fit_results['generalized_hurst'].min()\n",
    "max_hurst_gen = signs_gen_hurst_fit_results['generalized_hurst'].max()\n",
    "avg_hurst_gen = signs_gen_hurst_fit_results['generalized_hurst'].mean()\n",
    "standard_dev = signs_gen_hurst_fit_results['generalized_hurst'].std()\n",
    "\n",
    "print(f\"Min Generalized Hurst: {min_hurst_gen}\")\n",
    "print(f\"Max Generalized Hurst: {max_hurst_gen}\")\n",
    "print(f\"Average Generalized Hurst: {avg_hurst_gen}\")\n",
    "print(f\"Standard_dev Generalized Hurst: {standard_dev}\")"
   ],
   "metadata": {
    "collapsed": false,
    "ExecuteTime": {
     "start_time": "2023-10-11T17:26:01.728258Z",
     "end_time": "2023-10-11T17:26:02.141758Z"
    }
   }
  },
  {
   "cell_type": "code",
   "execution_count": null,
   "outputs": [],
   "source": [],
   "metadata": {
    "collapsed": false,
    "ExecuteTime": {
     "start_time": "2023-10-11T17:26:01.780797Z",
     "end_time": "2023-10-11T17:26:02.142023Z"
    }
   }
  },
  {
   "cell_type": "markdown",
   "source": [
    "## 3. Size/ Volume"
   ],
   "metadata": {
    "collapsed": false
   }
  },
  {
   "cell_type": "code",
   "execution_count": null,
   "outputs": [],
   "source": [
    "# Order size/ volume\n",
    "size_volume = {'TSLA': tsla_raw_df['execution_size'],\n",
    "               'MSFT': amzn_raw_df['execution_size'],\n",
    "               'AMZN': nflx_raw_df['execution_size'],\n",
    "               'NFLX': msft_raw_df['execution_size'],\n",
    "               'EBAY': ebay_raw_df['execution_size'],\n",
    "               'APPL': appl_raw_df['execution_size'],\n",
    "               }\n",
    "# Update the dictionary to only keep the first EVENTS_RANGE items\n",
    "size_volume = {stock: data.head(EVENTS_RANGE) for stock, data in size_volume.items()}"
   ],
   "metadata": {
    "collapsed": false,
    "ExecuteTime": {
     "start_time": "2023-10-11T17:26:01.781071Z",
     "end_time": "2023-10-11T17:26:02.242486Z"
    }
   }
  },
  {
   "cell_type": "code",
   "execution_count": null,
   "outputs": [],
   "source": [],
   "metadata": {
    "collapsed": false,
    "ExecuteTime": {
     "start_time": "2023-10-11T17:26:01.797457Z",
     "end_time": "2023-10-11T17:26:02.242821Z"
    }
   }
  },
  {
   "cell_type": "markdown",
   "source": [
    "#### Stationarity Test"
   ],
   "metadata": {
    "collapsed": false
   }
  },
  {
   "cell_type": "code",
   "execution_count": null,
   "outputs": [],
   "source": [
    "# ADF test\n",
    "for stock, data in size_volume.items():\n",
    "    augmented_dickey_fuller(data.head(EVENTS_RANGE), stock)"
   ],
   "metadata": {
    "collapsed": false,
    "ExecuteTime": {
     "start_time": "2023-10-11T17:26:01.803517Z",
     "end_time": "2023-10-11T17:27:08.536555Z"
    }
   }
  },
  {
   "cell_type": "markdown",
   "source": [
    "### 3.1. Size/volume ACF"
   ],
   "metadata": {
    "collapsed": false
   }
  },
  {
   "cell_type": "code",
   "execution_count": null,
   "outputs": [],
   "source": [
    "# Linear ACF\n",
    "volume_linear_acf_filename = f\"{acf_data_dir}/volume_linear_acfs.pkl\"\n",
    "volume_linear_acfs = compute_acfs(filename=volume_linear_acf_filename, data=size_volume, option='linear')\n",
    "print(volume_linear_acfs.keys())"
   ],
   "metadata": {
    "collapsed": false,
    "ExecuteTime": {
     "start_time": "2023-10-11T17:27:08.477380Z",
     "end_time": "2023-10-11T17:27:11.778334Z"
    }
   }
  },
  {
   "cell_type": "code",
   "execution_count": null,
   "outputs": [],
   "source": [
    "# Nonlinear ACF\n",
    "volume_nonlinear_acf_filename = f\"{acf_data_dir}/mo_volume_nonlinear_acfs.pkl\"\n",
    "volume_nonlinear_acfs = compute_acfs(filename=volume_nonlinear_acf_filename, data=size_volume, option='nonlinear')\n",
    "print(volume_nonlinear_acfs.keys())"
   ],
   "metadata": {
    "collapsed": false,
    "ExecuteTime": {
     "start_time": "2023-10-11T17:27:11.751693Z",
     "end_time": "2023-10-11T17:27:41.057749Z"
    }
   }
  },
  {
   "cell_type": "code",
   "execution_count": null,
   "outputs": [],
   "source": [
    "for stock_name in volume_linear_acfs.keys():\n",
    "    plot_acf_difference(stock_name, volume_linear_acfs, volume_nonlinear_acfs)"
   ],
   "metadata": {
    "collapsed": false,
    "ExecuteTime": {
     "start_time": "2023-10-11T17:27:40.780381Z",
     "end_time": "2023-10-11T17:27:43.481750Z"
    }
   }
  },
  {
   "cell_type": "code",
   "execution_count": null,
   "outputs": [],
   "source": [],
   "metadata": {
    "collapsed": false,
    "ExecuteTime": {
     "start_time": "2023-10-11T17:27:43.478339Z",
     "end_time": "2023-10-11T17:27:43.481823Z"
    }
   }
  },
  {
   "cell_type": "markdown",
   "source": [
    "### 3.2. Fit power law distribution"
   ],
   "metadata": {
    "collapsed": false
   }
  },
  {
   "cell_type": "code",
   "execution_count": null,
   "outputs": [],
   "source": [
    "# Load the pre-computed ACFs\n",
    "volume_acf_values = {}\n",
    "\n",
    "for stock, data in volume_nonlinear_acfs.items():\n",
    "    volume_acf_values[stock] = construct_xy(data, stock)"
   ],
   "metadata": {
    "collapsed": false,
    "ExecuteTime": {
     "start_time": "2023-10-11T17:27:43.481108Z",
     "end_time": "2023-10-11T17:27:43.536111Z"
    }
   }
  },
  {
   "cell_type": "code",
   "execution_count": null,
   "outputs": [],
   "source": [
    "# Using volume_nonlinear_acfs\n",
    "volume_fit_results_list = []\n",
    "volume_fit_objects = {}  # Dictionary to store fit objects\n",
    "\n",
    "for stock, data in volume_acf_values.items():\n",
    "    fit_dict, fit_obj = get_acf_params(stock, data)\n",
    "    if fit_dict:\n",
    "        volume_fit_results_list.append(fit_dict)\n",
    "        volume_fit_objects[stock] = fit_obj  # Store the fit object\n",
    "\n",
    "volume_fit_results = pd.DataFrame(volume_fit_results_list)\n",
    "display(volume_fit_results.head())"
   ],
   "metadata": {
    "collapsed": false,
    "ExecuteTime": {
     "start_time": "2023-10-11T17:27:43.500759Z",
     "end_time": "2023-10-11T17:33:43.195702Z"
    }
   }
  },
  {
   "cell_type": "code",
   "execution_count": null,
   "outputs": [],
   "source": [
    "volume_fit_objects.keys()"
   ],
   "metadata": {
    "collapsed": false,
    "ExecuteTime": {
     "start_time": "2023-10-11T17:33:43.195451Z",
     "end_time": "2023-10-11T17:33:43.383113Z"
    }
   }
  },
  {
   "cell_type": "code",
   "execution_count": null,
   "outputs": [],
   "source": [
    "avg_alpha = volume_fit_results['gamma'].mean()\n",
    "print(f\"Average Gamma: {avg_alpha}\")"
   ],
   "metadata": {
    "collapsed": false,
    "ExecuteTime": {
     "start_time": "2023-10-11T17:33:43.242475Z",
     "end_time": "2023-10-11T17:33:43.410620Z"
    }
   }
  },
  {
   "cell_type": "code",
   "execution_count": null,
   "outputs": [],
   "source": [
    "tsla_acf_fit = volume_fit_objects['TSLA']\n",
    "tsla_acf_fit.powerlaw.plot_fit()"
   ],
   "metadata": {
    "collapsed": false,
    "ExecuteTime": {
     "start_time": "2023-10-11T17:33:43.259389Z",
     "end_time": "2023-10-11T17:33:43.557250Z"
    }
   }
  },
  {
   "cell_type": "markdown",
   "source": [
    "### 3.3. Size/ Volume Hurst Exponents"
   ],
   "metadata": {
    "collapsed": false
   }
  },
  {
   "cell_type": "code",
   "execution_count": 52,
   "outputs": [
    {
     "data": {
      "text/plain": "<Figure size 640x480 with 1 Axes>",
      "image/png": "[encoded data removed]"
     },
     "metadata": {},
     "output_type": "display_data"
    }
   ],
   "source": [
    "# Compute cumsum of size/volumes\n",
    "cumsum_size_volume = {\n",
    "               'TSLA': tsla_raw_df['norm_trade_volume'].cumsum(),\n",
    "               'MSFT': amzn_raw_df['norm_trade_volume'].cumsum(),\n",
    "               'AMZN': nflx_raw_df['norm_trade_volume'].cumsum(),\n",
    "               'NFLX': msft_raw_df['norm_trade_volume'].cumsum(),\n",
    "               'EBAY': ebay_raw_df['norm_trade_volume'].cumsum(),\n",
    "               'APPL': appl_raw_df['norm_trade_volume'].cumsum()\n",
    "               }\n",
    "# Update the dictionary to only keep the first EVENTS_RANGE items\n",
    "cumsum_size_volume = {stock: data.head(EVENTS_RANGE) for stock, data in cumsum_size_volume.items()}\n",
    "tsla_cumsum_volume = amzn_raw_df['norm_trade_volume'].cumsum()\n",
    "x = list(range(1, len(tsla_cumsum_volume)+1))\n",
    "plt.plot(x, tsla_cumsum_volume)\n",
    "plt.grid(False)\n",
    "plt.show()"
   ],
   "metadata": {
    "collapsed": false,
    "ExecuteTime": {
     "start_time": "2023-10-11T20:39:24.143012Z",
     "end_time": "2023-10-11T20:39:24.360174Z"
    }
   }
  },
  {
   "cell_type": "markdown",
   "source": [
    "#### Standard Hurst"
   ],
   "metadata": {
    "collapsed": false
   }
  },
  {
   "cell_type": "code",
   "execution_count": 44,
   "outputs": [
    {
     "data": {
      "text/plain": "  function_name                                             params  \\\n0      powerlaw  {'param_names': ['C', 'alpha'], 'C': 0.9717211...   \n1      powerlaw  {'param_names': ['C', 'alpha'], 'C': 0.6894102...   \n2      powerlaw  {'param_names': ['C', 'alpha'], 'C': 1.2485252...   \n3      powerlaw  {'param_names': ['C', 'alpha'], 'C': 0.2305226...   \n4      powerlaw  {'param_names': ['C', 'alpha'], 'C': 0.1484784...   \n\n   xmin_index  xmin         D          bic      mape  adjusted_rsquared  \\\n0           1   1.0  0.021246 -3392.127880  1.172769           0.999598   \n1           1   1.0  0.019830 -3876.769063  1.132990           0.999729   \n2           1   1.0  0.019830 -3280.324547  0.811745           0.999569   \n3           1   1.0  0.021246 -4945.705214  1.537926           0.999507   \n4           1   1.0  0.021246 -4979.075439  2.141083           0.999317   \n\n   standard_hurst stock random_variate  \n0        0.630066  TSLA         volume  \n1        0.668499  MSFT         volume  \n2        0.589941  AMZN         volume  \n3        0.676665  NFLX         volume  \n4        0.727245  EBAY         volume  ",
      "text/html": "<div>\n<style scoped>\n    .dataframe tbody tr th:only-of-type {\n        vertical-align: middle;\n    }\n\n    .dataframe tbody tr th {\n        vertical-align: top;\n    }\n\n    .dataframe thead th {\n        text-align: right;\n    }\n</style>\n<table border=\"1\" class=\"dataframe\">\n  <thead>\n    <tr style=\"text-align: right;\">\n      <th></th>\n      <th>function_name</th>\n      <th>params</th>\n      <th>xmin_index</th>\n      <th>xmin</th>\n      <th>D</th>\n      <th>bic</th>\n      <th>mape</th>\n      <th>adjusted_rsquared</th>\n      <th>standard_hurst</th>\n      <th>stock</th>\n      <th>random_variate</th>\n    </tr>\n  </thead>\n  <tbody>\n    <tr>\n      <th>0</th>\n      <td>powerlaw</td>\n      <td>{'param_names': ['C', 'alpha'], 'C': 0.9717211...</td>\n      <td>1</td>\n      <td>1.0</td>\n      <td>0.021246</td>\n      <td>-3392.127880</td>\n      <td>1.172769</td>\n      <td>0.999598</td>\n      <td>0.630066</td>\n      <td>TSLA</td>\n      <td>volume</td>\n    </tr>\n    <tr>\n      <th>1</th>\n      <td>powerlaw</td>\n      <td>{'param_names': ['C', 'alpha'], 'C': 0.6894102...</td>\n      <td>1</td>\n      <td>1.0</td>\n      <td>0.019830</td>\n      <td>-3876.769063</td>\n      <td>1.132990</td>\n      <td>0.999729</td>\n      <td>0.668499</td>\n      <td>MSFT</td>\n      <td>volume</td>\n    </tr>\n    <tr>\n      <th>2</th>\n      <td>powerlaw</td>\n      <td>{'param_names': ['C', 'alpha'], 'C': 1.2485252...</td>\n      <td>1</td>\n      <td>1.0</td>\n      <td>0.019830</td>\n      <td>-3280.324547</td>\n      <td>0.811745</td>\n      <td>0.999569</td>\n      <td>0.589941</td>\n      <td>AMZN</td>\n      <td>volume</td>\n    </tr>\n    <tr>\n      <th>3</th>\n      <td>powerlaw</td>\n      <td>{'param_names': ['C', 'alpha'], 'C': 0.2305226...</td>\n      <td>1</td>\n      <td>1.0</td>\n      <td>0.021246</td>\n      <td>-4945.705214</td>\n      <td>1.537926</td>\n      <td>0.999507</td>\n      <td>0.676665</td>\n      <td>NFLX</td>\n      <td>volume</td>\n    </tr>\n    <tr>\n      <th>4</th>\n      <td>powerlaw</td>\n      <td>{'param_names': ['C', 'alpha'], 'C': 0.1484784...</td>\n      <td>1</td>\n      <td>1.0</td>\n      <td>0.021246</td>\n      <td>-4979.075439</td>\n      <td>2.141083</td>\n      <td>0.999317</td>\n      <td>0.727245</td>\n      <td>EBAY</td>\n      <td>volume</td>\n    </tr>\n  </tbody>\n</table>\n</div>"
     },
     "metadata": {},
     "output_type": "display_data"
    }
   ],
   "source": [
    "# Standard Hurst\n",
    "method = 'standard'\n",
    "volume_fit_results_list = []\n",
    "volume_fit_objects = {}\n",
    "\n",
    "for stock, data in cumsum_size_volume.items():\n",
    "    fit_dict, fit = compute_hurst_exponent('volume', stock, data, method=method)\n",
    "    if fit_dict:\n",
    "        volume_fit_results_list.append(fit_dict)\n",
    "        volume_fit_objects[(stock, method, 'volume')] = fit\n",
    "\n",
    "volume_std_hurst_fit_results = pd.DataFrame(volume_fit_results_list)\n",
    "display(volume_std_hurst_fit_results.head())"
   ],
   "metadata": {
    "collapsed": false,
    "ExecuteTime": {
     "start_time": "2023-10-11T19:47:55.446055Z",
     "end_time": "2023-10-11T19:51:54.944458Z"
    }
   }
  },
  {
   "cell_type": "code",
   "execution_count": 45,
   "outputs": [
    {
     "name": "stdout",
     "output_type": "stream",
     "text": [
      "Average Standard Hurst: 0.6568516861655472\n"
     ]
    }
   ],
   "source": [
    "# Average Standard Hurst exponents across stocks\n",
    "avg_hurst_std = volume_std_hurst_fit_results['standard_hurst'].mean()\n",
    "print(f\"Average Standard Hurst: {avg_hurst_std}\")"
   ],
   "metadata": {
    "collapsed": false,
    "ExecuteTime": {
     "start_time": "2023-10-11T19:51:54.944303Z",
     "end_time": "2023-10-11T19:51:55.042095Z"
    }
   }
  },
  {
   "cell_type": "code",
   "execution_count": 46,
   "outputs": [
    {
     "name": "stdout",
     "output_type": "stream",
     "text": [
      "dict_keys([('TSLA', 'standard', 'volume'), ('MSFT', 'standard', 'volume'), ('AMZN', 'standard', 'volume'), ('NFLX', 'standard', 'volume'), ('EBAY', 'standard', 'volume'), ('APPL', 'standard', 'volume')])\n"
     ]
    }
   ],
   "source": [
    "print(volume_fit_objects.keys())"
   ],
   "metadata": {
    "collapsed": false,
    "ExecuteTime": {
     "start_time": "2023-10-11T19:51:54.989675Z",
     "end_time": "2023-10-11T19:51:55.042214Z"
    }
   }
  },
  {
   "cell_type": "markdown",
   "source": [
    "#### Generalized Hurst"
   ],
   "metadata": {
    "collapsed": false
   }
  },
  {
   "cell_type": "code",
   "execution_count": 47,
   "outputs": [
    {
     "name": "stderr",
     "output_type": "stream",
     "text": [
      "/Users/ana_bugaenko/workspace/hurst_exponent/hurst_exponent/hurst_exponent.py:148: UserWarning: Hurst exponent may not be in a valid range (0,1).\n",
      "  return H, fit_results\n",
      "/Users/ana_bugaenko/workspace/hurst_exponent/hurst_exponent/hurst_exponent.py:148: UserWarning: Hurst exponent may not be in a valid range (0,1).\n",
      "  return H, fit_results\n",
      "/Users/ana_bugaenko/workspace/hurst_exponent/hurst_exponent/hurst_exponent.py:148: UserWarning: Hurst exponent may not be in a valid range (0,1).\n",
      "  return H, fit_results\n",
      "/Users/ana_bugaenko/workspace/hurst_exponent/hurst_exponent/hurst_exponent.py:148: UserWarning: Hurst exponent may not be in a valid range (0,1).\n",
      "  return H, fit_results\n"
     ]
    },
    {
     "data": {
      "text/plain": "  function_name                                             params  \\\n0      powerlaw  {'param_names': ['C', 'alpha'], 'C': 0.5656549...   \n1      powerlaw  {'param_names': ['C', 'alpha'], 'C': 0.5143783...   \n2      powerlaw  {'param_names': ['C', 'alpha'], 'C': 0.5872925...   \n3      powerlaw  {'param_names': ['C', 'alpha'], 'C': 0.1864809...   \n4      powerlaw  {'param_names': ['C', 'alpha'], 'C': 0.1433532...   \n\n   xmin_index  xmin         D           bic      mape  adjusted_rsquared  \\\n0           1   1.0  0.011331 -13780.178876  0.000581                1.0   \n1           1   1.0  0.011331 -13539.728194  0.000651                1.0   \n2           1   1.0  0.011331 -13280.642586  0.000378                1.0   \n3           1   1.0  0.011331 -15656.422215  0.000527                1.0   \n4           1   1.0  0.011331 -15043.052671  0.000456                1.0   \n\n   generalized_hurst stock random_variate  \n0           1.000023  TSLA  signed_volume  \n1           1.000026  MSFT  signed_volume  \n2           1.000004  AMZN  signed_volume  \n3           1.000023  NFLX  signed_volume  \n4           0.999990  EBAY  signed_volume  ",
      "text/html": "<div>\n<style scoped>\n    .dataframe tbody tr th:only-of-type {\n        vertical-align: middle;\n    }\n\n    .dataframe tbody tr th {\n        vertical-align: top;\n    }\n\n    .dataframe thead th {\n        text-align: right;\n    }\n</style>\n<table border=\"1\" class=\"dataframe\">\n  <thead>\n    <tr style=\"text-align: right;\">\n      <th></th>\n      <th>function_name</th>\n      <th>params</th>\n      <th>xmin_index</th>\n      <th>xmin</th>\n      <th>D</th>\n      <th>bic</th>\n      <th>mape</th>\n      <th>adjusted_rsquared</th>\n      <th>generalized_hurst</th>\n      <th>stock</th>\n      <th>random_variate</th>\n    </tr>\n  </thead>\n  <tbody>\n    <tr>\n      <th>0</th>\n      <td>powerlaw</td>\n      <td>{'param_names': ['C', 'alpha'], 'C': 0.5656549...</td>\n      <td>1</td>\n      <td>1.0</td>\n      <td>0.011331</td>\n      <td>-13780.178876</td>\n      <td>0.000581</td>\n      <td>1.0</td>\n      <td>1.000023</td>\n      <td>TSLA</td>\n      <td>signed_volume</td>\n    </tr>\n    <tr>\n      <th>1</th>\n      <td>powerlaw</td>\n      <td>{'param_names': ['C', 'alpha'], 'C': 0.5143783...</td>\n      <td>1</td>\n      <td>1.0</td>\n      <td>0.011331</td>\n      <td>-13539.728194</td>\n      <td>0.000651</td>\n      <td>1.0</td>\n      <td>1.000026</td>\n      <td>MSFT</td>\n      <td>signed_volume</td>\n    </tr>\n    <tr>\n      <th>2</th>\n      <td>powerlaw</td>\n      <td>{'param_names': ['C', 'alpha'], 'C': 0.5872925...</td>\n      <td>1</td>\n      <td>1.0</td>\n      <td>0.011331</td>\n      <td>-13280.642586</td>\n      <td>0.000378</td>\n      <td>1.0</td>\n      <td>1.000004</td>\n      <td>AMZN</td>\n      <td>signed_volume</td>\n    </tr>\n    <tr>\n      <th>3</th>\n      <td>powerlaw</td>\n      <td>{'param_names': ['C', 'alpha'], 'C': 0.1864809...</td>\n      <td>1</td>\n      <td>1.0</td>\n      <td>0.011331</td>\n      <td>-15656.422215</td>\n      <td>0.000527</td>\n      <td>1.0</td>\n      <td>1.000023</td>\n      <td>NFLX</td>\n      <td>signed_volume</td>\n    </tr>\n    <tr>\n      <th>4</th>\n      <td>powerlaw</td>\n      <td>{'param_names': ['C', 'alpha'], 'C': 0.1433532...</td>\n      <td>1</td>\n      <td>1.0</td>\n      <td>0.011331</td>\n      <td>-15043.052671</td>\n      <td>0.000456</td>\n      <td>1.0</td>\n      <td>0.999990</td>\n      <td>EBAY</td>\n      <td>signed_volume</td>\n    </tr>\n  </tbody>\n</table>\n</div>"
     },
     "metadata": {},
     "output_type": "display_data"
    }
   ],
   "source": [
    "# Generalized Hurst\n",
    "method = 'generalized'\n",
    "volume_fit_results_list = []\n",
    "volume_fit_objects = {}\n",
    "\n",
    "for stock, data in cumsum_size_volume.items():\n",
    "    fit_dict, fit = compute_hurst_exponent('volume', stock, data, method=method, fitting_method = \"Least_squares\")\n",
    "    if fit_dict:\n",
    "        volume_fit_results_list.append(fit_dict)\n",
    "        volume_fit_objects[(stock, method, 'volume')] = fit\n",
    "\n",
    "volume_gen_hurst_fit_results = pd.DataFrame(volume_fit_results_list)\n",
    "display(volume_gen_hurst_fit_results.head())"
   ],
   "metadata": {
    "collapsed": false,
    "ExecuteTime": {
     "start_time": "2023-10-11T19:51:55.008286Z",
     "end_time": "2023-10-11T19:52:46.240926Z"
    }
   }
  },
  {
   "cell_type": "code",
   "execution_count": 48,
   "outputs": [
    {
     "name": "stdout",
     "output_type": "stream",
     "text": [
      "Min Generalized Hurst: 0.9999895937524841\n",
      "Max Generalized Hurst: 1.0000256050073233\n",
      "Average Generalized Hurst: 1.0000095280350885\n",
      "Standard_dev Generalized Hurst: 1.674137214119835e-05\n"
     ]
    }
   ],
   "source": [
    "# Generalized Hurst statistic across stocks\n",
    "min_hurst_gen = volume_gen_hurst_fit_results['generalized_hurst'].min()\n",
    "max_hurst_gen = volume_gen_hurst_fit_results['generalized_hurst'].max()\n",
    "avg_hurst_gen = volume_gen_hurst_fit_results['generalized_hurst'].mean()\n",
    "standard_dev = volume_gen_hurst_fit_results['generalized_hurst'].std()\n",
    "\n",
    "print(f\"Min Generalized Hurst: {min_hurst_gen}\")\n",
    "print(f\"Max Generalized Hurst: {max_hurst_gen}\")\n",
    "print(f\"Average Generalized Hurst: {avg_hurst_gen}\")\n",
    "print(f\"Standard_dev Generalized Hurst: {standard_dev}\")"
   ],
   "metadata": {
    "collapsed": false,
    "ExecuteTime": {
     "start_time": "2023-10-11T19:52:46.241615Z",
     "end_time": "2023-10-11T19:52:46.336085Z"
    }
   }
  },
  {
   "cell_type": "code",
   "execution_count": 49,
   "outputs": [
    {
     "name": "stdout",
     "output_type": "stream",
     "text": [
      "dict_keys([('TSLA', 'generalized', 'signed_volume'), ('MSFT', 'generalized', 'signed_volume'), ('AMZN', 'generalized', 'signed_volume'), ('NFLX', 'generalized', 'signed_volume'), ('EBAY', 'generalized', 'signed_volume'), ('APPL', 'generalized', 'signed_volume')])\n"
     ]
    }
   ],
   "source": [
    "print(volume_fit_objects.keys())"
   ],
   "metadata": {
    "collapsed": false,
    "ExecuteTime": {
     "start_time": "2023-10-11T19:52:46.287511Z",
     "end_time": "2023-10-11T19:52:46.336392Z"
    }
   }
  },
  {
   "cell_type": "code",
   "execution_count": 50,
   "outputs": [
    {
     "data": {
      "text/plain": "<Figure size 640x480 with 1 Axes>",
      "image/png": "[encoded data removed]"
     },
     "metadata": {},
     "output_type": "display_data"
    }
   ],
   "source": [
    "# Retrieve generalized fit object for specific 'STOCK'\n",
    "tsla_generalized_fit = volume_fit_objects[('TSLA', 'generalized', 'signed_volume')]\n",
    "tsla_generalized_fit.powerlaw.plot_fit()"
   ],
   "metadata": {
    "collapsed": false,
    "ExecuteTime": {
     "start_time": "2023-10-11T19:52:46.305229Z",
     "end_time": "2023-10-11T19:52:46.484749Z"
    }
   }
  },
  {
   "cell_type": "markdown",
   "source": [
    "## 4. Signed Ordeflow Imbalance"
   ],
   "metadata": {
    "collapsed": false
   }
  },
  {
   "cell_type": "code",
   "execution_count": null,
   "outputs": [],
   "source": [
    "# Aggregate orderflow\n",
    "tsla_aggregate_orderflow = get_agg_features(tsla_raw_df, [LAG], remove_outliers=False)\n",
    "msft_aggregate_orderflow = get_agg_features(msft_raw_df, [LAG], remove_outliers=False)\n",
    "amzn_aggregate_orderflow = get_agg_features(amzn_raw_df, [LAG], remove_outliers=False)\n",
    "nflx_aggregate_orderflow = get_agg_features(nflx_raw_df, [LAG],remove_outliers=False)\n",
    "ebay_aggregate_orderflow = get_agg_features(ebay_raw_df, [LAG], remove_outliers=False)\n",
    "appl_aggregate_orderflow = get_agg_features(appl_raw_df, [LAG],remove_outliers=False)\n",
    "\n",
    "# Order Sign imbalance\n",
    "sign_imbalance = {\n",
    "  'TSLA': tsla_aggregate_orderflow['sign_imbalance'],\n",
    "  'MSFT': msft_aggregate_orderflow['sign_imbalance'],\n",
    "  'AMZN': amzn_aggregate_orderflow['sign_imbalance'],\n",
    "  'NFLX': nflx_aggregate_orderflow['sign_imbalance'],\n",
    "  'EBAY': ebay_aggregate_orderflow['sign_imbalance'],\n",
    "  'APPL': appl_aggregate_orderflow['sign_imbalance']\n",
    "}\n",
    "# Update the dictionary to only keep the first EVENTS_RANGE items\n",
    "sign_imbalance = {stock: data.head(EVENTS_RANGE) for stock, data in sign_imbalance.items()}\n",
    "\n",
    "\n",
    "# Sign Volume Imbalance\n",
    "volume_imbalance = {\n",
    " 'TSLA': tsla_aggregate_orderflow['vol_imbalance'],\n",
    " 'MSFT': msft_aggregate_orderflow['vol_imbalance'],\n",
    " 'AMZN': amzn_aggregate_orderflow['vol_imbalance'],\n",
    " 'NFLX': nflx_aggregate_orderflow['vol_imbalance'],\n",
    " 'EBAY': ebay_aggregate_orderflow['vol_imbalance'],\n",
    " 'APPL': appl_aggregate_orderflow['vol_imbalance']\n",
    "}\n",
    "volume_imbalance = {stock: data.head(EVENTS_RANGE) for stock, data in volume_imbalance.items()}"
   ],
   "metadata": {
    "collapsed": false,
    "ExecuteTime": {
     "start_time": "2023-10-10T16:07:30.989117Z",
     "end_time": "2023-10-10T16:07:30.989205Z"
    }
   }
  },
  {
   "cell_type": "markdown",
   "source": [
    "#### Stationarity Test"
   ],
   "metadata": {
    "collapsed": false
   }
  },
  {
   "cell_type": "code",
   "execution_count": null,
   "outputs": [],
   "source": [
    "# Sign imbalance ADF test\n",
    "for stock, data in sign_imbalance.items():\n",
    "    augmented_dickey_fuller(data.head(EVENTS_RANGE), stock)"
   ],
   "metadata": {
    "collapsed": false
   }
  },
  {
   "cell_type": "code",
   "execution_count": null,
   "outputs": [],
   "source": [
    "# Volume imbalance ADF test\n",
    "for stock, data in volume_imbalance.items():\n",
    "    augmented_dickey_fuller(data.head(EVENTS_RANGE), stock)"
   ],
   "metadata": {
    "collapsed": false
   }
  },
  {
   "cell_type": "code",
   "execution_count": null,
   "outputs": [],
   "source": [],
   "metadata": {
    "collapsed": false
   }
  },
  {
   "cell_type": "markdown",
   "source": [
    "### 4.1. Order sign imbalance long memory"
   ],
   "metadata": {
    "collapsed": false
   }
  },
  {
   "cell_type": "code",
   "execution_count": null,
   "outputs": [],
   "source": [
    "# Linear ACF\n",
    "sign_imbalance_linear_acf_filename = f\"{acf_data_dir}/mo_sign_imbalance_linear_acfs.pkl\"\n",
    "sign_imbalance_linear_acfs = compute_acfs(filename=sign_imbalance_linear_acf_filename, data=sign_imbalance, option='linear')\n",
    "print(sign_imbalance_linear_acfs.keys())"
   ],
   "metadata": {
    "collapsed": false,
    "ExecuteTime": {
     "start_time": "2023-10-10T14:32:48.815813Z",
     "end_time": "2023-10-10T14:32:48.815923Z"
    }
   }
  },
  {
   "cell_type": "code",
   "execution_count": null,
   "outputs": [],
   "source": [
    "# Nonlinear ACF\n",
    "sign_imbalance_nonlinear_acf_filename = f\"{acf_data_dir}/mo_sign_imbalance_nonlinear_acfs.pkl\"\n",
    "sign_imbalance_nonlinear_acfs = compute_acfs(filename=sign_imbalance_nonlinear_acf_filename, data=sign_imbalance, option='nonlinear')\n",
    "print(sign_imbalance_nonlinear_acfs.keys())"
   ],
   "metadata": {
    "collapsed": false,
    "ExecuteTime": {
     "start_time": "2023-10-10T14:33:24.903520Z",
     "end_time": "2023-10-10T14:33:24.903614Z"
    }
   }
  },
  {
   "cell_type": "code",
   "execution_count": null,
   "outputs": [],
   "source": [
    "for stock_name in sign_imbalance_linear_acfs.keys():\n",
    "    plot_acf_difference(stock_name, sign_imbalance_linear_acfs, sign_imbalance_nonlinear_acfs)"
   ],
   "metadata": {
    "collapsed": false,
    "ExecuteTime": {
     "start_time": "2023-10-10T14:34:13.499712Z",
     "end_time": "2023-10-10T14:34:13.499754Z"
    }
   }
  },
  {
   "cell_type": "code",
   "execution_count": null,
   "outputs": [],
   "source": [],
   "metadata": {
    "collapsed": false
   }
  },
  {
   "cell_type": "markdown",
   "source": [
    "#### 4.1.1. Fit power law distribution"
   ],
   "metadata": {
    "collapsed": false
   }
  },
  {
   "cell_type": "code",
   "execution_count": null,
   "outputs": [],
   "source": [
    "# Load the pre-computed ACFs\n",
    "sign_imbalance_acf_values = {}\n",
    "\n",
    "for stock, data in sign_imbalance_nonlinear_acfs.items():\n",
    "    sign_imbalance_acf_values[stock] = construct_xy(data, stock)"
   ],
   "metadata": {
    "collapsed": false,
    "ExecuteTime": {
     "start_time": "2023-10-10T14:39:24.823389Z",
     "end_time": "2023-10-10T14:39:24.823482Z"
    }
   }
  },
  {
   "cell_type": "code",
   "execution_count": null,
   "outputs": [],
   "source": [
    "# Using signs_imbalance_nonlinear_acfs\n",
    "sign_imbalance_fit_results_list = []\n",
    "sign_imbalance_fit_objects = {}  # Dictionary to store fit objects\n",
    "\n",
    "for stock, data in sign_imbalance_acf_values.items():\n",
    "    fit_dict, fit_obj = get_acf_params(stock, data, xmin_index=10)\n",
    "    if fit_dict:\n",
    "        sign_imbalance_fit_results_list.append(fit_dict)\n",
    "        sign_imbalance_fit_objects[stock] = fit_obj  # Store the fit object\n",
    "\n",
    "sign_imbalance_fit_results = pd.DataFrame(sign_imbalance_fit_results_list)\n",
    "display(sign_imbalance_fit_results.head())"
   ],
   "metadata": {
    "collapsed": false,
    "ExecuteTime": {
     "start_time": "2023-10-10T15:01:14.915706Z",
     "end_time": "2023-10-10T15:01:14.915752Z"
    }
   }
  },
  {
   "cell_type": "code",
   "execution_count": null,
   "outputs": [],
   "source": [
    "print(sign_imbalance_fit_objects.keys())"
   ],
   "metadata": {
    "collapsed": false,
    "ExecuteTime": {
     "start_time": "2023-10-10T15:01:22.598664Z",
     "end_time": "2023-10-10T15:01:22.598708Z"
    }
   }
  },
  {
   "cell_type": "code",
   "execution_count": null,
   "outputs": [],
   "source": [
    "avg_alpha = sign_imbalance_fit_results['gamma'].mean()\n",
    "print(f\"Average Gamma: {avg_alpha}\")"
   ],
   "metadata": {
    "collapsed": false,
    "ExecuteTime": {
     "start_time": "2023-10-10T15:01:23.795799Z",
     "end_time": "2023-10-10T15:01:23.795841Z"
    }
   }
  },
  {
   "cell_type": "code",
   "execution_count": null,
   "outputs": [],
   "source": [
    "tsla_acf_fit = sign_imbalance_fit_objects['TSLA']\n",
    "tsla_acf_fit.powerlaw.plot_fit()"
   ],
   "metadata": {
    "collapsed": false,
    "ExecuteTime": {
     "start_time": "2023-10-10T15:01:44.256668Z",
     "end_time": "2023-10-10T15:01:44.256743Z"
    }
   }
  },
  {
   "cell_type": "markdown",
   "source": [
    "#### 4.1.2. Sign Imbalance Hurst Exponents"
   ],
   "metadata": {
    "collapsed": false
   }
  },
  {
   "cell_type": "code",
   "execution_count": null,
   "outputs": [],
   "source": [
    "# Compute cumsum of order sign imbalance\n",
    "cumsum_sign_imbalance = {\n",
    "  'TSLA': tsla_aggregate_orderflow['sign_imbalance'].cumsum(),\n",
    "  'MSFT': msft_aggregate_orderflow['sign_imbalance'].cumsum(),\n",
    "  'AMZN': amzn_aggregate_orderflow['sign_imbalance'].cumsum(),\n",
    "  'NFLX': nflx_aggregate_orderflow['sign_imbalance'].cumsum(),\n",
    "  'EBAY': ebay_aggregate_orderflow['sign_imbalance'].cumsum(),\n",
    "  'APPL': appl_aggregate_orderflow['sign_imbalance']\n",
    "}\n",
    "# Update the dictionary to only keep the first EVENTS_RANGE items\n",
    "cumsum_sign_imbalance = {stock: data.head(EVENTS_RANGE) for stock, data in cumsum_sign_imbalance.items()}\n",
    "tsla_cumsum_sign_imbalance = tsla_aggregate_orderflow['sign_imbalance'].cumsum()\n",
    "x = list(range(1, len(tsla_cumsum_sign_imbalance)+1))\n",
    "plt.plot(x, tsla_cumsum_sign_imbalance)\n",
    "plt.grid(False)\n",
    "plt.show()"
   ],
   "metadata": {
    "collapsed": false,
    "ExecuteTime": {
     "start_time": "2023-10-10T15:42:47.227871Z",
     "end_time": "2023-10-10T15:42:47.227922Z"
    }
   }
  },
  {
   "cell_type": "markdown",
   "source": [
    "##### Standard Hurst"
   ],
   "metadata": {
    "collapsed": false
   }
  },
  {
   "cell_type": "code",
   "execution_count": null,
   "outputs": [],
   "source": [
    "# Standard Hurst\n",
    "method = 'standard'\n",
    "sign_imbalance_fit_results_list = []\n",
    "sign_imbalance_fit_objects = {}\n",
    "\n",
    "for stock, data in cumsum_sign_imbalance.items():\n",
    "    fit_dict, fit = compute_hurst_exponent('sign_imbalance', stock, data, method=method)\n",
    "    if fit_dict:\n",
    "        sign_imbalance_fit_results_list.append(fit_dict)\n",
    "        sign_imbalance_fit_objects[(stock, method, 'signs_imbalance')] = fit\n",
    "\n",
    "sign_imbalance_std_hurst_fit_results = pd.DataFrame(sign_imbalance_fit_results_list)\n",
    "display(sign_imbalance_std_hurst_fit_results.head())"
   ],
   "metadata": {
    "collapsed": false,
    "ExecuteTime": {
     "start_time": "2023-10-10T15:44:59.049499Z",
     "end_time": "2023-10-10T15:44:59.049568Z"
    }
   }
  },
  {
   "cell_type": "code",
   "execution_count": null,
   "outputs": [],
   "source": [
    "# Average Standard Hurst exponents across stocks\n",
    "avg_hurst_std = sign_imbalance_std_hurst_fit_results['standard_hurst'].mean()\n",
    "print(f\"Average Standard Hurst: {avg_hurst_std}\")"
   ],
   "metadata": {
    "collapsed": false,
    "ExecuteTime": {
     "start_time": "2023-10-10T15:44:59.126068Z",
     "end_time": "2023-10-10T15:44:59.126113Z"
    }
   }
  },
  {
   "cell_type": "code",
   "execution_count": null,
   "outputs": [],
   "source": [],
   "metadata": {
    "collapsed": false
   }
  },
  {
   "cell_type": "markdown",
   "source": [
    "##### Generalized Hurst"
   ],
   "metadata": {
    "collapsed": false
   }
  },
  {
   "cell_type": "code",
   "execution_count": null,
   "outputs": [],
   "source": [
    "# Generalized Hurst\n",
    "method = 'generalized'\n",
    "sign_imbalance_fit_results_list = []\n",
    "sign_imbalance_fit_objects = {}\n",
    "\n",
    "for stock, data in cumsum_sign_imbalance.items():\n",
    "    fit_dict, fit = compute_hurst_exponent('signed_imbalance', stock, data, method=method, fitting_method = \"Least_squares\")\n",
    "    if fit_dict:\n",
    "        sign_imbalance_fit_results_list.append(fit_dict)\n",
    "        sign_imbalance_fit_objects[(stock, method, 'signed_imbalance')] = fit\n",
    "\n",
    "sign_imbalance_gen_hurst_fit_results = pd.DataFrame(sign_imbalance_fit_results_list)\n",
    "display(sign_imbalance_gen_hurst_fit_results.head())"
   ],
   "metadata": {
    "collapsed": false,
    "ExecuteTime": {
     "start_time": "2023-10-10T15:43:51.955438Z",
     "end_time": "2023-10-10T15:43:51.955546Z"
    }
   }
  },
  {
   "cell_type": "code",
   "execution_count": null,
   "outputs": [],
   "source": [
    "# Generalized Hurst statistic across stocks\n",
    "min_hurst_gen = sign_imbalance_gen_hurst_fit_results['generalized_hurst'].min()\n",
    "max_hurst_gen = sign_imbalance_gen_hurst_fit_results['generalized_hurst'].max()\n",
    "avg_hurst_gen = sign_imbalance_gen_hurst_fit_results['generalized_hurst'].mean()\n",
    "standard_dev = sign_imbalance_gen_hurst_fit_results['generalized_hurst'].std()\n",
    "\n",
    "print(f\"Min Generalized Hurst: {min_hurst_gen}\")\n",
    "print(f\"Max Generalized Hurst: {max_hurst_gen}\")\n",
    "print(f\"Average Generalized Hurst: {avg_hurst_gen}\")\n",
    "print(f\"Standard_dev Generalized Hurst: {standard_dev}\")"
   ],
   "metadata": {
    "collapsed": false,
    "ExecuteTime": {
     "start_time": "2023-10-10T15:43:51.974005Z",
     "end_time": "2023-10-10T15:43:51.974071Z"
    }
   }
  },
  {
   "cell_type": "code",
   "execution_count": null,
   "outputs": [],
   "source": [
    "print(sign_imbalance_fit_objects.keys())"
   ],
   "metadata": {
    "collapsed": false,
    "ExecuteTime": {
     "start_time": "2023-10-10T15:43:52.066615Z",
     "end_time": "2023-10-10T15:43:52.066661Z"
    }
   }
  },
  {
   "cell_type": "code",
   "execution_count": null,
   "outputs": [],
   "source": [
    "# Retrieve standard Hurst fit object for specific 'STOCK'\n",
    "tsla_generalized_fit = sign_imbalance_fit_objects[('TSLA', 'generalized', 'signed_volume')]\n",
    "tsla_generalized_fit.powerlaw.plot_fit()"
   ],
   "metadata": {
    "collapsed": false,
    "ExecuteTime": {
     "start_time": "2023-10-10T15:44:09.148074Z",
     "end_time": "2023-10-10T15:44:09.148121Z"
    }
   }
  },
  {
   "cell_type": "code",
   "execution_count": null,
   "outputs": [],
   "source": [],
   "metadata": {
    "collapsed": false
   }
  },
  {
   "cell_type": "markdown",
   "source": [
    "### 4.2. Signed Volume imbalance long memory"
   ],
   "metadata": {
    "collapsed": false
   }
  },
  {
   "cell_type": "code",
   "execution_count": null,
   "outputs": [],
   "source": [
    "# Linear ACF\n",
    "volume_imbalance_linear_acf_filename = f\"{acf_data_dir}/mo_volume_imbalance_linear_acfs.pkl\"\n",
    "volume_imbalance_linear_acfs = compute_acfs(filename=volume_imbalance_linear_acf_filename, data=volume_imbalance, option='linear')\n",
    "print(volume_imbalance_linear_acfs.keys())"
   ],
   "metadata": {
    "collapsed": false,
    "ExecuteTime": {
     "start_time": "2023-10-10T16:09:27.966908Z",
     "end_time": "2023-10-10T16:09:27.966953Z"
    }
   }
  },
  {
   "cell_type": "code",
   "execution_count": null,
   "outputs": [],
   "source": [
    "# Nonlinear ACF\n",
    "volume_imbalance_nonlinear_acf_filename = f\"{acf_data_dir}/mo_volume_imbalance_nonlinear_acfs.pkl\"\n",
    "volume_imbalance_nonlinear_acfs = compute_acfs(filename=volume_imbalance_nonlinear_acf_filename, data=volume_imbalance, option='nonlinear')\n",
    "print(volume_imbalance_nonlinear_acfs.keys())"
   ],
   "metadata": {
    "collapsed": false,
    "ExecuteTime": {
     "start_time": "2023-10-10T16:09:28.965123Z",
     "end_time": "2023-10-10T16:09:28.965236Z"
    }
   }
  },
  {
   "cell_type": "code",
   "execution_count": null,
   "outputs": [],
   "source": [
    "for stock_name in volume_imbalance_linear_acfs.keys():\n",
    "    plot_acf_difference(stock_name, volume_imbalance_linear_acfs, volume_imbalance_nonlinear_acfs)"
   ],
   "metadata": {
    "collapsed": false,
    "ExecuteTime": {
     "start_time": "2023-10-10T16:09:31.926107Z",
     "end_time": "2023-10-10T16:09:31.926148Z"
    }
   }
  },
  {
   "cell_type": "code",
   "execution_count": null,
   "outputs": [],
   "source": [],
   "metadata": {
    "collapsed": false
   }
  },
  {
   "cell_type": "markdown",
   "source": [
    "#### 4.2.1. Fit power law distribution"
   ],
   "metadata": {
    "collapsed": false
   }
  },
  {
   "cell_type": "code",
   "execution_count": null,
   "outputs": [],
   "source": [
    "# Load the pre-computed ACFs\n",
    "volume_imbalance_acf_values = {}\n",
    "\n",
    "for stock, data in volume_imbalance_nonlinear_acfs.items():\n",
    "    volume_imbalance_acf_values[stock] = construct_xy(data, stock)"
   ],
   "metadata": {
    "collapsed": false,
    "ExecuteTime": {
     "start_time": "2023-10-10T16:09:36.638302Z",
     "end_time": "2023-10-10T16:09:36.638376Z"
    }
   }
  },
  {
   "cell_type": "code",
   "execution_count": null,
   "outputs": [],
   "source": [
    "# Using signs_imbalance_nonlinear_acfs\n",
    "volume_imbalance_fit_results_list = []\n",
    "volume_imbalance_fit_objects = {}  # Dictionary to store fit objects\n",
    "\n",
    "for stock, data in volume_imbalance_acf_values.items():\n",
    "    fit_dict, fit_obj = get_acf_params(stock, data, xmin_index=10)\n",
    "    if fit_dict:\n",
    "        volume_imbalance_fit_results_list.append(fit_dict)\n",
    "        volume_imbalance_fit_objects[stock] = fit_obj  # Store the fit object\n",
    "\n",
    "volume_imbalance_fit_results = pd.DataFrame(volume_imbalance_fit_results_list)\n",
    "display(volume_imbalance_fit_results.head())"
   ],
   "metadata": {
    "collapsed": false,
    "ExecuteTime": {
     "start_time": "2023-10-10T16:09:38.977401Z",
     "end_time": "2023-10-10T16:09:38.977443Z"
    }
   }
  },
  {
   "cell_type": "code",
   "execution_count": null,
   "outputs": [],
   "source": [
    "print(volume_imbalance_fit_objects.keys())"
   ],
   "metadata": {
    "collapsed": false,
    "ExecuteTime": {
     "start_time": "2023-10-10T16:09:43.667755Z",
     "end_time": "2023-10-10T16:09:43.667801Z"
    }
   }
  },
  {
   "cell_type": "code",
   "execution_count": null,
   "outputs": [],
   "source": [
    "avg_alpha = volume_imbalance_fit_results['gamma'].mean()\n",
    "print(f\"Average Gamma: {avg_alpha}\")"
   ],
   "metadata": {
    "collapsed": false,
    "ExecuteTime": {
     "start_time": "2023-10-10T16:09:45.875751Z",
     "end_time": "2023-10-10T16:09:45.875795Z"
    }
   }
  },
  {
   "cell_type": "code",
   "execution_count": null,
   "outputs": [],
   "source": [
    "tsla_acf_fit = volume_imbalance_fit_objects['TSLA']\n",
    "tsla_acf_fit.powerlaw.plot_fit()"
   ],
   "metadata": {
    "collapsed": false,
    "ExecuteTime": {
     "start_time": "2023-10-10T16:10:37.376191Z",
     "end_time": "2023-10-10T16:10:37.376237Z"
    }
   }
  },
  {
   "cell_type": "markdown",
   "source": [
    "#### 4.2.2. Volume Imbalance Hurst Exponents"
   ],
   "metadata": {
    "collapsed": false
   }
  },
  {
   "cell_type": "code",
   "execution_count": null,
   "outputs": [],
   "source": [
    "# Compute cumsum of order sign imbalance\n",
    "cumsum_volume_imbalance = {\n",
    " 'TSLA': tsla_aggregate_orderflow['vol_imbalance'].cumsum(),\n",
    " 'MSFT': msft_aggregate_orderflow['vol_imbalance'].cumsum(),\n",
    " 'AMZN': amzn_aggregate_orderflow['vol_imbalance'].cumsum(),\n",
    " 'NFLX': nflx_aggregate_orderflow['vol_imbalance'].cumsum(),\n",
    " 'EBAY': ebay_aggregate_orderflow['vol_imbalance'].cumsum(),\n",
    " 'APPL': appl_aggregate_orderflow['vol_imbalance']\n",
    "}\n",
    "# Update the dictionary to only keep the first EVENTS_RANGE items\n",
    "cumsum_volume_imbalance = {stock: data.head(EVENTS_RANGE) for stock, data in cumsum_volume_imbalance.items()}\n",
    "tsla_cumsum_volume_imbalance = tsla_aggregate_orderflow['vol_imbalance'].cumsum()\n",
    "x = list(range(1, len(tsla_cumsum_volume_imbalance)+1))\n",
    "plt.plot(x, tsla_cumsum_volume_imbalance)\n",
    "plt.grid(False)\n",
    "plt.show()"
   ],
   "metadata": {
    "collapsed": false,
    "ExecuteTime": {
     "start_time": "2023-10-10T16:13:18.084821Z",
     "end_time": "2023-10-10T16:13:18.084863Z"
    }
   }
  },
  {
   "cell_type": "markdown",
   "source": [
    "##### Standard Hurst"
   ],
   "metadata": {
    "collapsed": false
   }
  },
  {
   "cell_type": "code",
   "execution_count": null,
   "outputs": [],
   "source": [
    "# Standard Hurst\n",
    "method = 'standard'\n",
    "volume_imbalance_fit_results_list = []\n",
    "voliume_imbalance_fit_objects = {}\n",
    "\n",
    "for stock, data in cumsum_volume_imbalance.items():\n",
    "    fit_dict, fit = compute_hurst_exponent('volume_imbalance', stock, data, method=method)\n",
    "    if fit_dict:\n",
    "        volume_imbalance_fit_results_list.append(fit_dict)\n",
    "        voliume_imbalance_fit_objects[(stock, method, 'volume_imbalance')] = fit\n",
    "\n",
    "volume_imbalance_std_hurst_fit_results = pd.DataFrame(volume_imbalance_fit_results_list)\n",
    "display(volume_imbalance_std_hurst_fit_results.head())"
   ],
   "metadata": {
    "collapsed": false,
    "ExecuteTime": {
     "start_time": "2023-10-10T16:19:46.677492Z",
     "end_time": "2023-10-10T16:19:46.677563Z"
    }
   }
  },
  {
   "cell_type": "code",
   "execution_count": null,
   "outputs": [],
   "source": [
    "# Average Standard Hurst exponents across stocks\n",
    "avg_hurst_std = volume_imbalance_std_hurst_fit_results['standard_hurst'].mean()\n",
    "print(f\"Average Standard Hurst: {avg_hurst_std}\")"
   ],
   "metadata": {
    "collapsed": false,
    "ExecuteTime": {
     "start_time": "2023-10-10T16:19:58.754582Z",
     "end_time": "2023-10-10T16:19:58.754631Z"
    }
   }
  },
  {
   "cell_type": "code",
   "execution_count": null,
   "outputs": [],
   "source": [],
   "metadata": {
    "collapsed": false
   }
  },
  {
   "cell_type": "markdown",
   "source": [
    "##### Generalized Hurst"
   ],
   "metadata": {
    "collapsed": false
   }
  },
  {
   "cell_type": "code",
   "execution_count": null,
   "outputs": [],
   "source": [
    "# Generalized Hurst\n",
    "method = 'generalized'\n",
    "volume_imbalance_fit_results_list = []\n",
    "volume_imbalance_fit_objects = {}\n",
    "\n",
    "for stock, data in cumsum_volume_imbalance.items():\n",
    "    fit_dict, fit = compute_hurst_exponent('volume_imbalance', stock, data, method=method)\n",
    "    if fit_dict:\n",
    "        volume_imbalance_fit_results_list.append(fit_dict)\n",
    "        volume_imbalance_fit_objects[(stock, method, 'volume_imbalance')] = fit\n",
    "\n",
    "volume_imbalance_gen_hurst_fit_results = pd.DataFrame(volume_imbalance_fit_results_list)\n",
    "display(volume_imbalance_gen_hurst_fit_results.head())"
   ],
   "metadata": {
    "collapsed": false,
    "ExecuteTime": {
     "start_time": "2023-10-10T16:24:41.611946Z",
     "end_time": "2023-10-10T16:24:41.612013Z"
    }
   }
  },
  {
   "cell_type": "code",
   "execution_count": null,
   "outputs": [],
   "source": [
    "# Generalized Hurst statistic across stocks\n",
    "min_hurst_gen = volume_imbalance_gen_hurst_fit_results['generalized_hurst'].min()\n",
    "max_hurst_gen = volume_imbalance_gen_hurst_fit_results['generalized_hurst'].max()\n",
    "avg_hurst_gen = volume_imbalance_gen_hurst_fit_results['generalized_hurst'].mean()\n",
    "standard_dev = volume_imbalance_gen_hurst_fit_results['generalized_hurst'].std()\n",
    "\n",
    "print(f\"Min Generalized Hurst: {min_hurst_gen}\")\n",
    "print(f\"Max Generalized Hurst: {max_hurst_gen}\")\n",
    "print(f\"Average Generalized Hurst: {avg_hurst_gen}\")\n",
    "print(f\"Standard_dev Generalized Hurst: {standard_dev}\")"
   ],
   "metadata": {
    "collapsed": false,
    "ExecuteTime": {
     "start_time": "2023-10-10T16:24:41.773971Z",
     "end_time": "2023-10-10T16:24:41.774045Z"
    }
   }
  },
  {
   "cell_type": "code",
   "execution_count": null,
   "outputs": [],
   "source": [
    "print(volume_imbalance_fit_objects.keys())"
   ],
   "metadata": {
    "collapsed": false,
    "ExecuteTime": {
     "start_time": "2023-10-10T16:24:41.774221Z",
     "end_time": "2023-10-10T16:24:41.774235Z"
    }
   }
  },
  {
   "cell_type": "code",
   "execution_count": null,
   "outputs": [],
   "source": [
    "# Retrieve standard Hurst fit object for specific 'STOCK'\n",
    "tsla_generalized_fit = volume_imbalance_fit_objects[('TSLA', 'generalized', 'volume_imbalance')]\n",
    "tsla_generalized_fit.powerlaw.plot_fit()"
   ],
   "metadata": {
    "collapsed": false,
    "ExecuteTime": {
     "start_time": "2023-10-10T16:25:11.428922Z",
     "end_time": "2023-10-10T16:25:11.428980Z"
    }
   }
  },
  {
   "cell_type": "code",
   "execution_count": null,
   "outputs": [],
   "source": [],
   "metadata": {
    "collapsed": false
   }
  }
 ],
 "metadata": {
  "kernelspec": {
   "display_name": "Python 3",
   "language": "python",
   "name": "python3"
  },
  "language_info": {
   "codemirror_mode": {
    "name": "ipython",
    "version": 2
   },
   "file_extension": ".py",
   "mimetype": "text/x-python",
   "name": "python",
   "nbconvert_exporter": "python",
   "pygments_lexer": "ipython2",
   "version": "2.7.6"
  }
 },
 "nbformat": 4,
 "nbformat_minor": 0
}
