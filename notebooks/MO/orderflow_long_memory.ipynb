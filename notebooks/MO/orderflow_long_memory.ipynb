{
 "cells": [
  {
   "cell_type": "code",
   "execution_count": null,
   "outputs": [],
   "source": [
    "from IPython.display import display\n",
    "from notebooks.util.long_memory_utils import *\n",
    "from liquidity.util.utils import compute_returns, get_agg_features\n",
    "\n",
    "from hurst_exponent.util.utils import augmented_dickey_fuller"
   ],
   "metadata": {
    "collapsed": false,
    "ExecuteTime": {
     "start_time": "2023-10-11T18:46:52.506982Z",
     "end_time": "2023-10-11T18:46:53.502629Z"
    }
   }
  },
  {
   "cell_type": "code",
   "execution_count": null,
   "outputs": [],
   "source": [
    "# Automatically reload changes in package dependencies\n",
    "%load_ext autoreload\n",
    "%autoreload 2"
   ],
   "metadata": {
    "collapsed": false,
    "ExecuteTime": {
     "start_time": "2023-10-11T18:46:53.485606Z",
     "end_time": "2023-10-11T18:46:53.561387Z"
    }
   }
  },
  {
   "cell_type": "code",
   "execution_count": null,
   "outputs": [],
   "source": [
    "# Number of events to use\n",
    "EVENTS_RANGE = 500000\n",
    "\n",
    "# Number of lags for the ACF\n",
    "ACF_RANGE = 1001\n",
    "\n",
    "# Lag/window size for Hurst\n",
    "LAG = 100"
   ],
   "metadata": {
    "collapsed": false,
    "ExecuteTime": {
     "start_time": "2023-10-11T18:46:53.508769Z",
     "end_time": "2023-10-11T18:46:53.571648Z"
    }
   }
  },
  {
   "cell_type": "markdown",
   "source": [
    "## Load raw sample data"
   ],
   "metadata": {
    "collapsed": false
   }
  },
  {
   "cell_type": "code",
   "execution_count": null,
   "outputs": [],
   "source": [
    "# Load raw sample data  from CSV\n",
    "stocks = ['TSLA', 'AMZN', 'NFLX', 'MSFT', 'EBAY', 'APPL']\n",
    "\n",
    "current_dir = os.path.abspath('.')\n",
    "root_dir = os.path.join(current_dir, '..', '..')\n",
    "data_dir = os.path.join(root_dir, 'data', 'market_orders')\n",
    "acf_data_dir = os.path.join(root_dir, 'data', 'generated', 'mo_data', 'long_memory')\n",
    "\n",
    "\n",
    "stock_dfs = {}\n",
    "\n",
    "# Loop through each stock\n",
    "for stock in stocks:\n",
    "\n",
    "    filename = f\"{stock}-2016-R1.csv\"\n",
    "\n",
    "    stock_file_path = os.path.join(data_dir, filename)\n",
    "\n",
    "    # Read the CSV and store in the dictionary\n",
    "    stock_dfs[stock] = pd.read_csv(stock_file_path)\n",
    "\n",
    "# Access the dataframe using stock's ticker as key\n",
    "tsla_raw_df = stock_dfs['TSLA']\n",
    "amzn_raw_df = stock_dfs['AMZN']\n",
    "nflx_raw_df = stock_dfs['NFLX']\n",
    "msft_raw_df = stock_dfs['MSFT']\n",
    "ebay_raw_df = stock_dfs['EBAY']\n",
    "appl_raw_df = stock_dfs['APPL']"
   ],
   "metadata": {
    "collapsed": false,
    "ExecuteTime": {
     "start_time": "2023-10-11T18:46:53.526670Z",
     "end_time": "2023-10-11T18:47:00.755721Z"
    }
   }
  },
  {
   "cell_type": "code",
   "execution_count": null,
   "outputs": [],
   "source": [
    "display(tsla_raw_df)"
   ],
   "metadata": {
    "collapsed": false,
    "ExecuteTime": {
     "start_time": "2023-10-11T18:47:00.749481Z",
     "end_time": "2023-10-11T18:47:00.797103Z"
    }
   }
  },
  {
   "cell_type": "code",
   "execution_count": null,
   "outputs": [],
   "source": [],
   "metadata": {
    "collapsed": false,
    "ExecuteTime": {
     "start_time": "2023-10-11T17:04:34.553885Z",
     "end_time": "2023-10-11T17:04:34.555219Z"
    }
   }
  },
  {
   "cell_type": "markdown",
   "source": [
    "# The Long Memory of Orderflow (Trades)\n",
    "\n",
    "To determine if a random process exhibits long memory, we take the following approach:\n",
    "\n",
    "1. **Infer an Autocorrelation Function (ACF):** Start by inferring the ACF from a finite return sample.\n",
    "\n",
    "2. **Fit a Power-law to the ACF:** Use the inferred ACF to fit a power-law.\n",
    "\n",
    "3. **Estimate Hurst Exponent:** Use standard and generalized hurst on cumulative sum of raw series."
   ],
   "metadata": {
    "collapsed": false
   }
  },
  {
   "cell_type": "code",
   "execution_count": null,
   "outputs": [],
   "source": [],
   "metadata": {
    "collapsed": false,
    "ExecuteTime": {
     "start_time": "2023-10-11T17:11:23.676311Z",
     "end_time": "2023-10-11T17:11:23.741242Z"
    }
   }
  },
  {
   "cell_type": "markdown",
   "source": [
    "## 2. Orderflow"
   ],
   "metadata": {
    "collapsed": false
   }
  },
  {
   "cell_type": "markdown",
   "source": [
    "##  2.1. Signs"
   ],
   "metadata": {
    "collapsed": false
   }
  },
  {
   "cell_type": "code",
   "execution_count": null,
   "outputs": [],
   "source": [
    "# Signed orderflow\n",
    "signed_orderflow = {\n",
    "  'TSLA': tsla_raw_df['trade_sign'],\n",
    "  'MSFT': msft_raw_df['trade_sign'],\n",
    "  'AMZN': amzn_raw_df['trade_sign'],\n",
    "  'NFLX': nflx_raw_df['trade_sign'],\n",
    "  'EBAY': ebay_raw_df['trade_sign'],\n",
    "  'APPL': appl_raw_df['trade_sign']\n",
    "}\n",
    "# Update the dictionary to only keep the first EVENTS_RANGE items\n",
    "signed_orderflow = {stock: data.head(EVENTS_RANGE) for stock, data in signed_orderflow.items()}"
   ],
   "metadata": {
    "collapsed": false,
    "ExecuteTime": {
     "start_time": "2023-10-11T17:15:18.778330Z",
     "end_time": "2023-10-11T17:15:18.857179Z"
    }
   }
  },
  {
   "cell_type": "code",
   "execution_count": null,
   "outputs": [],
   "source": [],
   "metadata": {
    "collapsed": false,
    "ExecuteTime": {
     "start_time": "2023-10-11T17:15:18.797647Z",
     "end_time": "2023-10-11T17:15:18.857216Z"
    }
   }
  },
  {
   "cell_type": "markdown",
   "source": [
    "### Stationarity Test"
   ],
   "metadata": {
    "collapsed": false
   }
  },
  {
   "cell_type": "code",
   "execution_count": null,
   "outputs": [],
   "source": [
    "# ADF test\n",
    "for stock, data in signed_orderflow.items():\n",
    "    augmented_dickey_fuller(data.head(EVENTS_RANGE), stock)"
   ],
   "metadata": {
    "collapsed": false,
    "ExecuteTime": {
     "start_time": "2023-10-11T17:15:18.799771Z",
     "end_time": "2023-10-11T17:17:00.047079Z"
    }
   }
  },
  {
   "cell_type": "markdown",
   "source": [
    "### 2.1. Signs ACF"
   ],
   "metadata": {
    "collapsed": false
   }
  },
  {
   "cell_type": "code",
   "execution_count": null,
   "outputs": [],
   "source": [
    "# Linear ACF\n",
    "signs_linear_acf_filename = f\"{acf_data_dir}/mo_signs_acfs.pkl\"\n",
    "signs_linear_acfs = compute_acfs(filename=signs_linear_acf_filename, data=signed_orderflow, option='linear')\n",
    "print(signs_linear_acfs.keys())"
   ],
   "metadata": {
    "collapsed": false,
    "ExecuteTime": {
     "start_time": "2023-10-11T17:16:59.948287Z",
     "end_time": "2023-10-11T17:17:00.092081Z"
    }
   }
  },
  {
   "cell_type": "code",
   "execution_count": null,
   "outputs": [],
   "source": [
    "# Nonlinear ACF\n",
    "signs_nonlinear_acf_filename = f\"{acf_data_dir}/mo_signs_nonlinear_acfs.pkl\"\n",
    "signs_nonlinear_acfs = compute_acfs(filename=signs_nonlinear_acf_filename, data=signed_orderflow, option='nonlinear')\n",
    "print(signs_nonlinear_acfs.keys())"
   ],
   "metadata": {
    "collapsed": false,
    "ExecuteTime": {
     "start_time": "2023-10-11T17:16:59.948471Z",
     "end_time": "2023-10-11T17:17:00.096658Z"
    }
   }
  },
  {
   "cell_type": "code",
   "execution_count": null,
   "outputs": [],
   "source": [
    "for stock_name in signs_linear_acfs.keys():\n",
    "    plot_acf_difference(stock_name, signs_linear_acfs, signs_nonlinear_acfs)"
   ],
   "metadata": {
    "collapsed": false,
    "ExecuteTime": {
     "start_time": "2023-10-11T17:16:59.948640Z",
     "end_time": "2023-10-11T17:17:01.540707Z"
    }
   }
  },
  {
   "cell_type": "markdown",
   "source": [
    "### 2.2. Fit power law to ACF"
   ],
   "metadata": {
    "collapsed": false
   }
  },
  {
   "cell_type": "code",
   "execution_count": null,
   "outputs": [],
   "source": [
    "# Load the pre-computed ACFs\n",
    "signs_acf_values = {}\n",
    "\n",
    "for stock, data in signs_nonlinear_acfs.items():\n",
    "    signs_acf_values[stock] = construct_xy(data, stock)"
   ],
   "metadata": {
    "collapsed": false,
    "ExecuteTime": {
     "start_time": "2023-10-11T17:17:01.435331Z",
     "end_time": "2023-10-11T17:17:01.540879Z"
    }
   }
  },
  {
   "cell_type": "code",
   "execution_count": null,
   "outputs": [],
   "source": [
    "# Using signs_nonlinear_acfs\n",
    "signs_fit_results_list = []\n",
    "signs_fit_objects = {}  # Dictionary to store fit objects\n",
    "\n",
    "for stock, data in signs_acf_values.items():\n",
    "    fit_dict, fit_obj = get_acf_params(stock, data)\n",
    "    if fit_dict:\n",
    "        signs_fit_results_list.append(fit_dict)\n",
    "        signs_fit_objects[stock] = fit_obj  # Store the fit object\n",
    "\n",
    "signs_acf_fit_results = pd.DataFrame(signs_fit_results_list)\n",
    "display(signs_acf_fit_results.head())"
   ],
   "metadata": {
    "collapsed": false,
    "ExecuteTime": {
     "start_time": "2023-10-11T17:17:01.452768Z",
     "end_time": "2023-10-11T17:22:59.162595Z"
    }
   }
  },
  {
   "cell_type": "code",
   "execution_count": null,
   "outputs": [],
   "source": [
    "signs_fit_objects.keys()"
   ],
   "metadata": {
    "collapsed": false,
    "ExecuteTime": {
     "start_time": "2023-10-11T17:22:59.135572Z",
     "end_time": "2023-10-11T17:22:59.314236Z"
    }
   }
  },
  {
   "cell_type": "code",
   "execution_count": null,
   "outputs": [],
   "source": [
    "avg_alpha = signs_acf_fit_results['gamma'].mean()\n",
    "print(f\"Average Gamma: {avg_alpha}\")"
   ],
   "metadata": {
    "collapsed": false,
    "ExecuteTime": {
     "start_time": "2023-10-11T17:22:59.177352Z",
     "end_time": "2023-10-11T17:22:59.385652Z"
    }
   }
  },
  {
   "cell_type": "code",
   "execution_count": null,
   "outputs": [],
   "source": [],
   "metadata": {
    "collapsed": false,
    "ExecuteTime": {
     "start_time": "2023-10-11T17:22:59.194316Z",
     "end_time": "2023-10-11T17:22:59.385773Z"
    }
   }
  },
  {
   "cell_type": "markdown",
   "source": [
    "### 2.3. Signed Orderflow Hurst Exponents"
   ],
   "metadata": {
    "collapsed": false
   }
  },
  {
   "cell_type": "code",
   "execution_count": null,
   "outputs": [],
   "source": [
    "# Compute cumsum of signed orderflow\n",
    "cumsum_signed_orderflow = {\n",
    "  'TSLA': tsla_raw_df['trade_sign'].cumsum(),\n",
    "  'MSFT': msft_raw_df['trade_sign'].cumsum(),\n",
    "  'AMZN': amzn_raw_df['trade_sign'].cumsum(),\n",
    "  'NFLX': nflx_raw_df['trade_sign'].cumsum(),\n",
    "  'EBAY': ebay_raw_df['trade_sign'].cumsum(),\n",
    "  'APPL': appl_raw_df['trade_sign'].cumsum()\n",
    "}\n",
    "# Update the dictionary to only keep the first EVENTS_RANGE items\n",
    "cumsum_signed_orderflow = {stock: data.head(EVENTS_RANGE) for stock, data in cumsum_signed_orderflow.items()}\n",
    "tsla_cumsum_signs = tsla_raw_df['trade_sign'].cumsum()\n",
    "x = list(range(1, len(tsla_cumsum_signs)+1))\n",
    "plt.plot(x, tsla_cumsum_signs)\n",
    "plt.grid(False)"
   ],
   "metadata": {
    "collapsed": false,
    "ExecuteTime": {
     "start_time": "2023-10-11T17:22:59.196039Z",
     "end_time": "2023-10-11T17:22:59.725064Z"
    }
   }
  },
  {
   "cell_type": "markdown",
   "source": [
    "#### Standard Hurst"
   ],
   "metadata": {
    "collapsed": false
   }
  },
  {
   "cell_type": "code",
   "execution_count": null,
   "outputs": [],
   "source": [
    "# Standard Hurst\n",
    "method = 'standard'\n",
    "signs_fit_results_list = []\n",
    "signs_fit_objects = {}\n",
    "\n",
    "for stock, data in cumsum_signed_orderflow.items():\n",
    "    fit_dict, fit = compute_hurst_exponent('signs', stock, data, method=method)\n",
    "    if fit_dict:\n",
    "        signs_fit_results_list.append(fit_dict)\n",
    "        signs_fit_objects[(stock, method, 'signs')] = fit\n",
    "\n",
    "signs_std_hurst_fit_results = pd.DataFrame(signs_fit_results_list)\n",
    "display(signs_std_hurst_fit_results.head(10))"
   ],
   "metadata": {
    "collapsed": false,
    "ExecuteTime": {
     "start_time": "2023-10-11T17:22:59.365124Z",
     "end_time": "2023-10-11T17:24:28.013786Z"
    }
   }
  },
  {
   "cell_type": "code",
   "execution_count": null,
   "outputs": [],
   "source": [
    "# Average Standard Hurst exponents across stocks\n",
    "avg_hurst_std = signs_std_hurst_fit_results['standard_hurst'].mean()\n",
    "print(f\"Average Standard Hurst: {avg_hurst_std}\")"
   ],
   "metadata": {
    "collapsed": false,
    "ExecuteTime": {
     "start_time": "2023-10-11T17:24:28.013497Z",
     "end_time": "2023-10-11T17:24:28.045334Z"
    }
   }
  },
  {
   "cell_type": "code",
   "execution_count": null,
   "outputs": [],
   "source": [],
   "metadata": {
    "collapsed": false,
    "ExecuteTime": {
     "start_time": "2023-10-11T17:24:28.035053Z",
     "end_time": "2023-10-11T17:24:28.178811Z"
    }
   }
  },
  {
   "cell_type": "markdown",
   "source": [
    "#### Generalized Hurst"
   ],
   "metadata": {
    "collapsed": false
   }
  },
  {
   "cell_type": "code",
   "execution_count": null,
   "outputs": [],
   "source": [
    "# Generalized Hurst\n",
    "method = 'generalized'\n",
    "signs_fit_results_list = []\n",
    "signs_fit_objects = {}\n",
    "\n",
    "for stock, data in cumsum_signed_orderflow.items():\n",
    "    fit_dict, fit = compute_hurst_exponent('signs', stock, data, method=method)\n",
    "    if fit_dict:\n",
    "        signs_fit_results_list.append(fit_dict)\n",
    "        signs_fit_objects[(stock, method, 'signs')] = fit\n",
    "\n",
    "signs_gen_hurst_fit_results = pd.DataFrame(signs_fit_results_list)\n",
    "display(signs_gen_hurst_fit_results.head())"
   ],
   "metadata": {
    "collapsed": false,
    "ExecuteTime": {
     "start_time": "2023-10-11T17:24:28.037580Z",
     "end_time": "2023-10-11T17:26:01.728712Z"
    }
   }
  },
  {
   "cell_type": "code",
   "execution_count": null,
   "outputs": [],
   "source": [
    "# Generalized Hurst statistic across stocks\n",
    "min_hurst_gen = signs_gen_hurst_fit_results['generalized_hurst'].min()\n",
    "max_hurst_gen = signs_gen_hurst_fit_results['generalized_hurst'].max()\n",
    "avg_hurst_gen = signs_gen_hurst_fit_results['generalized_hurst'].mean()\n",
    "standard_dev = signs_gen_hurst_fit_results['generalized_hurst'].std()\n",
    "\n",
    "print(f\"Min Generalized Hurst: {min_hurst_gen}\")\n",
    "print(f\"Max Generalized Hurst: {max_hurst_gen}\")\n",
    "print(f\"Average Generalized Hurst: {avg_hurst_gen}\")\n",
    "print(f\"Standard_dev Generalized Hurst: {standard_dev}\")"
   ],
   "metadata": {
    "collapsed": false,
    "ExecuteTime": {
     "start_time": "2023-10-11T17:26:01.728258Z",
     "end_time": "2023-10-11T17:26:02.141758Z"
    }
   }
  },
  {
   "cell_type": "code",
   "execution_count": null,
   "outputs": [],
   "source": [],
   "metadata": {
    "collapsed": false,
    "ExecuteTime": {
     "start_time": "2023-10-11T17:26:01.780797Z",
     "end_time": "2023-10-11T17:26:02.142023Z"
    }
   }
  },
  {
   "cell_type": "markdown",
   "source": [
    "## 3. Size/ Volume"
   ],
   "metadata": {
    "collapsed": false
   }
  },
  {
   "cell_type": "code",
   "execution_count": null,
   "outputs": [],
   "source": [
    "# Order size/ volume\n",
    "size_volume = {'TSLA': tsla_raw_df['norm_trade_volume'],\n",
    "               'MSFT': amzn_raw_df['norm_trade_volume'],\n",
    "               'AMZN': nflx_raw_df['norm_trade_volume'],\n",
    "               'NFLX': msft_raw_df['norm_trade_volume'],\n",
    "               'EBAY': ebay_raw_df['norm_trade_volume'],\n",
    "               'APPL': appl_raw_df['norm_trade_volume'],\n",
    "               }\n",
    "# Update the dictionary to only keep the first EVENTS_RANGE items\n",
    "size_volume = {stock: data.head(EVENTS_RANGE) for stock, data in size_volume.items()}"
   ],
   "metadata": {
    "collapsed": false,
    "ExecuteTime": {
     "start_time": "2023-10-12T10:20:25.883145Z",
     "end_time": "2023-10-12T10:20:25.965389Z"
    }
   }
  },
  {
   "cell_type": "code",
   "execution_count": null,
   "outputs": [],
   "source": [],
   "metadata": {
    "collapsed": false,
    "ExecuteTime": {
     "start_time": "2023-10-12T10:20:26.728190Z",
     "end_time": "2023-10-12T10:20:26.803464Z"
    }
   }
  },
  {
   "cell_type": "markdown",
   "source": [
    "#### Stationarity Test"
   ],
   "metadata": {
    "collapsed": false
   }
  },
  {
   "cell_type": "code",
   "execution_count": null,
   "outputs": [],
   "source": [
    "# ADF test\n",
    "for stock, data in size_volume.items():\n",
    "    augmented_dickey_fuller(data.head(EVENTS_RANGE), stock)"
   ],
   "metadata": {
    "collapsed": false,
    "ExecuteTime": {
     "start_time": "2023-10-11T17:26:01.803517Z",
     "end_time": "2023-10-11T17:27:08.536555Z"
    }
   }
  },
  {
   "cell_type": "markdown",
   "source": [
    "### 3.1. Size/volume ACF"
   ],
   "metadata": {
    "collapsed": false
   }
  },
  {
   "cell_type": "code",
   "execution_count": null,
   "outputs": [],
   "source": [
    "# Linear ACF\n",
    "volume_linear_acf_filename = f\"{acf_data_dir}/mo_volume_linear_acfs.pkl\"\n",
    "volume_linear_acfs = compute_acfs(filename=volume_linear_acf_filename, data=size_volume, option='linear')\n",
    "print(volume_linear_acfs.keys())"
   ],
   "metadata": {
    "collapsed": false,
    "ExecuteTime": {
     "start_time": "2023-10-12T10:20:35.280307Z",
     "end_time": "2023-10-12T10:20:47.332579Z"
    }
   }
  },
  {
   "cell_type": "code",
   "execution_count": null,
   "outputs": [],
   "source": [
    "# Nonlinear ACF\n",
    "volume_nonlinear_acf_filename = f\"{acf_data_dir}/mo_volume_nonlinear_acfs.pkl\"\n",
    "volume_nonlinear_acfs = compute_acfs(filename=volume_nonlinear_acf_filename, data=size_volume, option='nonlinear')\n",
    "print(volume_nonlinear_acfs.keys())"
   ],
   "metadata": {
    "collapsed": false,
    "ExecuteTime": {
     "start_time": "2023-10-12T10:20:47.327600Z",
     "end_time": "2023-10-12T10:25:04.153207Z"
    }
   }
  },
  {
   "cell_type": "code",
   "execution_count": null,
   "outputs": [],
   "source": [
    "for stock_name in volume_linear_acfs.keys():\n",
    "    plot_acf_difference(stock_name, volume_linear_acfs, volume_nonlinear_acfs)"
   ],
   "metadata": {
    "collapsed": false,
    "ExecuteTime": {
     "start_time": "2023-10-12T10:25:04.145089Z",
     "end_time": "2023-10-12T10:25:05.675975Z"
    }
   }
  },
  {
   "cell_type": "code",
   "execution_count": null,
   "outputs": [],
   "source": [],
   "metadata": {
    "collapsed": false,
    "ExecuteTime": {
     "start_time": "2023-10-11T17:27:43.478339Z",
     "end_time": "2023-10-11T17:27:43.481823Z"
    }
   }
  },
  {
   "cell_type": "markdown",
   "source": [
    "### 3.2. Fit power law to ACF"
   ],
   "metadata": {
    "collapsed": false
   }
  },
  {
   "cell_type": "code",
   "execution_count": null,
   "outputs": [],
   "source": [
    "# Load the pre-computed ACFs\n",
    "volume_acf_values = {}\n",
    "\n",
    "for stock, data in volume_nonlinear_acfs.items():\n",
    "    volume_acf_values[stock] = construct_xy(data, stock)"
   ],
   "metadata": {
    "collapsed": false,
    "ExecuteTime": {
     "start_time": "2023-10-12T10:26:29.843853Z",
     "end_time": "2023-10-12T10:26:29.923948Z"
    }
   }
  },
  {
   "cell_type": "code",
   "execution_count": null,
   "outputs": [],
   "source": [
    "# Using volume_nonlinear_acfs\n",
    "volume_fit_results_list = []\n",
    "volume_fit_objects = {}  # Dictionary to store fit objects\n",
    "\n",
    "for stock, data in volume_acf_values.items():\n",
    "    fit_dict, fit_obj = get_acf_params(stock, data)\n",
    "    if fit_dict:\n",
    "        volume_fit_results_list.append(fit_dict)\n",
    "        volume_fit_objects[stock] = fit_obj  # Store the fit object\n",
    "\n",
    "volume_fit_results = pd.DataFrame(volume_fit_results_list)\n",
    "display(volume_fit_results.head())"
   ],
   "metadata": {
    "collapsed": false,
    "ExecuteTime": {
     "start_time": "2023-10-12T10:26:31.535354Z",
     "end_time": "2023-10-12T10:31:37.971722Z"
    }
   }
  },
  {
   "cell_type": "code",
   "execution_count": null,
   "outputs": [],
   "source": [
    "volume_fit_objects.keys()"
   ],
   "metadata": {
    "collapsed": false,
    "ExecuteTime": {
     "start_time": "2023-10-12T10:31:37.971969Z",
     "end_time": "2023-10-12T10:31:38.067266Z"
    }
   }
  },
  {
   "cell_type": "code",
   "execution_count": null,
   "outputs": [],
   "source": [
    "avg_alpha = volume_fit_results['gamma'].mean()\n",
    "print(f\"Average Gamma: {avg_alpha}\")"
   ],
   "metadata": {
    "collapsed": false,
    "ExecuteTime": {
     "start_time": "2023-10-12T10:31:38.018577Z",
     "end_time": "2023-10-12T10:31:38.067623Z"
    }
   }
  },
  {
   "cell_type": "code",
   "execution_count": null,
   "outputs": [],
   "source": [
    "tsla_acf_fit = volume_fit_objects['TSLA']\n",
    "tsla_acf_fit.powerlaw.plot_fit()"
   ],
   "metadata": {
    "collapsed": false,
    "ExecuteTime": {
     "start_time": "2023-10-12T10:31:38.037229Z",
     "end_time": "2023-10-12T10:31:38.256966Z"
    }
   }
  },
  {
   "cell_type": "markdown",
   "source": [
    "### 3.3. Size/ Volume Hurst Exponents"
   ],
   "metadata": {
    "collapsed": false
   }
  },
  {
   "cell_type": "code",
   "execution_count": null,
   "outputs": [],
   "source": [
    "# Compute cumsum of size/volumes\n",
    "cumsum_size_volume = {\n",
    "               'TSLA': tsla_raw_df['norm_trade_volume'].cumsum(),\n",
    "               'MSFT': amzn_raw_df['norm_trade_volume'].cumsum(),\n",
    "               'AMZN': nflx_raw_df['norm_trade_volume'].cumsum(),\n",
    "               'NFLX': msft_raw_df['norm_trade_volume'].cumsum(),\n",
    "               'EBAY': ebay_raw_df['norm_trade_volume'].cumsum(),\n",
    "               'APPL': appl_raw_df['norm_trade_volume'].cumsum()\n",
    "               }\n",
    "# Update the dictionary to only keep the first EVENTS_RANGE items\n",
    "cumsum_size_volume = {stock: data.head(EVENTS_RANGE) for stock, data in cumsum_size_volume.items()}\n",
    "tsla_cumsum_volume = amzn_raw_df['norm_trade_volume'].cumsum()\n",
    "x = list(range(1, len(tsla_cumsum_volume)+1))\n",
    "plt.plot(x, tsla_cumsum_volume)\n",
    "plt.grid(False)\n",
    "plt.show()"
   ],
   "metadata": {
    "collapsed": false,
    "ExecuteTime": {
     "start_time": "2023-10-12T10:31:38.171038Z",
     "end_time": "2023-10-12T10:31:38.374843Z"
    }
   }
  },
  {
   "cell_type": "markdown",
   "source": [
    "#### Standard Hurst"
   ],
   "metadata": {
    "collapsed": false
   }
  },
  {
   "cell_type": "code",
   "execution_count": null,
   "outputs": [],
   "source": [
    "# Standard Hurst\n",
    "method = 'standard'\n",
    "volume_fit_results_list = []\n",
    "volume_fit_objects = {}\n",
    "\n",
    "for stock, data in cumsum_size_volume.items():\n",
    "    fit_dict, fit = compute_hurst_exponent('volume', stock, data, method=method)\n",
    "    if fit_dict:\n",
    "        volume_fit_results_list.append(fit_dict)\n",
    "        volume_fit_objects[(stock, method, 'volume')] = fit\n",
    "\n",
    "volume_std_hurst_fit_results = pd.DataFrame(volume_fit_results_list)\n",
    "display(volume_std_hurst_fit_results.head())"
   ],
   "metadata": {
    "collapsed": false,
    "ExecuteTime": {
     "start_time": "2023-10-12T10:31:38.368281Z",
     "end_time": "2023-10-12T10:35:41.981812Z"
    }
   }
  },
  {
   "cell_type": "code",
   "execution_count": null,
   "outputs": [],
   "source": [
    "# Average Standard Hurst exponents across stocks\n",
    "avg_hurst_std = volume_std_hurst_fit_results['standard_hurst'].mean()\n",
    "print(f\"Average Standard Hurst: {avg_hurst_std}\")"
   ],
   "metadata": {
    "collapsed": false,
    "ExecuteTime": {
     "start_time": "2023-10-12T10:35:41.974469Z",
     "end_time": "2023-10-12T10:35:42.120631Z"
    }
   }
  },
  {
   "cell_type": "code",
   "execution_count": null,
   "outputs": [],
   "source": [
    "display(volume_fit_objects.keys())"
   ],
   "metadata": {
    "collapsed": false,
    "ExecuteTime": {
     "start_time": "2023-10-12T10:35:42.020872Z",
     "end_time": "2023-10-12T10:35:42.124942Z"
    }
   }
  },
  {
   "cell_type": "markdown",
   "source": [
    "#### Generalized Hurst"
   ],
   "metadata": {
    "collapsed": false
   }
  },
  {
   "cell_type": "code",
   "execution_count": null,
   "outputs": [],
   "source": [
    "# Generalized Hurst\n",
    "method = 'generalized'\n",
    "volume_fit_results_list = []\n",
    "volume_fit_objects = {}\n",
    "\n",
    "for stock, data in cumsum_size_volume.items():\n",
    "    fit_dict, fit = compute_hurst_exponent('volume', stock, data, method=method)\n",
    "    if fit_dict:\n",
    "        volume_fit_results_list.append(fit_dict)\n",
    "        volume_fit_objects[(stock, method, 'volume')] = fit\n",
    "\n",
    "volume_gen_hurst_fit_results = pd.DataFrame(volume_fit_results_list)\n",
    "display(volume_gen_hurst_fit_results.head())"
   ],
   "metadata": {
    "collapsed": false,
    "ExecuteTime": {
     "start_time": "2023-10-12T10:35:42.039768Z",
     "end_time": "2023-10-12T10:36:32.558400Z"
    }
   }
  },
  {
   "cell_type": "code",
   "execution_count": null,
   "outputs": [],
   "source": [
    "# Generalized Hurst statistic across stocks\n",
    "min_hurst_gen = volume_gen_hurst_fit_results['generalized_hurst'].min()\n",
    "max_hurst_gen = volume_gen_hurst_fit_results['generalized_hurst'].max()\n",
    "avg_hurst_gen = volume_gen_hurst_fit_results['generalized_hurst'].mean()\n",
    "standard_dev = volume_gen_hurst_fit_results['generalized_hurst'].std()\n",
    "\n",
    "print(f\"Min Generalized Hurst: {min_hurst_gen}\")\n",
    "print(f\"Max Generalized Hurst: {max_hurst_gen}\")\n",
    "print(f\"Average Generalized Hurst: {avg_hurst_gen}\")\n",
    "print(f\"Standard_dev Generalized Hurst: {standard_dev}\")"
   ],
   "metadata": {
    "collapsed": false,
    "ExecuteTime": {
     "start_time": "2023-10-12T10:36:32.553195Z",
     "end_time": "2023-10-12T10:36:32.686522Z"
    }
   }
  },
  {
   "cell_type": "code",
   "execution_count": null,
   "outputs": [],
   "source": [
    "print(volume_fit_objects.keys())"
   ],
   "metadata": {
    "collapsed": false,
    "ExecuteTime": {
     "start_time": "2023-10-12T10:36:32.601899Z",
     "end_time": "2023-10-12T10:36:32.686930Z"
    }
   }
  },
  {
   "cell_type": "code",
   "execution_count": null,
   "outputs": [],
   "source": [
    "# Retrieve generalized fit object for specific 'STOCK'\n",
    "tsla_generalized_fit = volume_fit_objects[('TSLA', 'generalized', 'volume')]\n",
    "tsla_generalized_fit.powerlaw.plot_fit()"
   ],
   "metadata": {
    "collapsed": false,
    "ExecuteTime": {
     "start_time": "2023-10-12T10:42:20.434589Z",
     "end_time": "2023-10-12T10:42:20.597623Z"
    }
   }
  },
  {
   "cell_type": "markdown",
   "source": [
    "## 4. Signed Ordeflow Imbalance"
   ],
   "metadata": {
    "collapsed": false
   }
  },
  {
   "cell_type": "code",
   "execution_count": null,
   "outputs": [],
   "source": [
    "# Aggregate orderflow\n",
    "tsla_aggregate_orderflow = get_agg_features(tsla_raw_df, [LAG], remove_outliers=False)\n",
    "msft_aggregate_orderflow = get_agg_features(msft_raw_df, [LAG], remove_outliers=False)\n",
    "amzn_aggregate_orderflow = get_agg_features(amzn_raw_df, [LAG], remove_outliers=False)\n",
    "nflx_aggregate_orderflow = get_agg_features(nflx_raw_df, [LAG],remove_outliers=False)\n",
    "ebay_aggregate_orderflow = get_agg_features(ebay_raw_df, [LAG], remove_outliers=False)\n",
    "appl_aggregate_orderflow = get_agg_features(appl_raw_df, [LAG],remove_outliers=False)\n",
    "\n",
    "# Order Sign imbalance\n",
    "sign_imbalance = {\n",
    "  'TSLA': tsla_aggregate_orderflow['sign_imbalance'],\n",
    "  'MSFT': msft_aggregate_orderflow['sign_imbalance'],\n",
    "  'AMZN': amzn_aggregate_orderflow['sign_imbalance'],\n",
    "  'NFLX': nflx_aggregate_orderflow['sign_imbalance'],\n",
    "  'EBAY': ebay_aggregate_orderflow['sign_imbalance'],\n",
    "  'APPL': appl_aggregate_orderflow['sign_imbalance']\n",
    "}\n",
    "# Update the dictionary to only keep the first EVENTS_RANGE items\n",
    "sign_imbalance = {stock: data.head(EVENTS_RANGE) for stock, data in sign_imbalance.items()}\n",
    "\n",
    "\n",
    "# Sign Volume Imbalance\n",
    "volume_imbalance = {\n",
    " 'TSLA': tsla_aggregate_orderflow['vol_imbalance'],\n",
    " 'MSFT': msft_aggregate_orderflow['vol_imbalance'],\n",
    " 'AMZN': amzn_aggregate_orderflow['vol_imbalance'],\n",
    " 'NFLX': nflx_aggregate_orderflow['vol_imbalance'],\n",
    " 'EBAY': ebay_aggregate_orderflow['vol_imbalance'],\n",
    " 'APPL': appl_aggregate_orderflow['vol_imbalance']\n",
    "}\n",
    "volume_imbalance = {stock: data.head(EVENTS_RANGE) for stock, data in volume_imbalance.items()}"
   ],
   "metadata": {
    "collapsed": false,
    "ExecuteTime": {
     "start_time": "2023-10-10T16:07:30.989117Z",
     "end_time": "2023-10-10T16:07:30.989205Z"
    }
   }
  },
  {
   "cell_type": "markdown",
   "source": [
    "#### Stationarity Test"
   ],
   "metadata": {
    "collapsed": false
   }
  },
  {
   "cell_type": "code",
   "execution_count": null,
   "outputs": [],
   "source": [
    "# Sign imbalance ADF test\n",
    "for stock, data in sign_imbalance.items():\n",
    "    augmented_dickey_fuller(data.head(EVENTS_RANGE), stock)"
   ],
   "metadata": {
    "collapsed": false
   }
  },
  {
   "cell_type": "code",
   "execution_count": null,
   "outputs": [],
   "source": [
    "# Volume imbalance ADF test\n",
    "for stock, data in volume_imbalance.items():\n",
    "    augmented_dickey_fuller(data.head(EVENTS_RANGE), stock)"
   ],
   "metadata": {
    "collapsed": false
   }
  },
  {
   "cell_type": "code",
   "execution_count": null,
   "outputs": [],
   "source": [],
   "metadata": {
    "collapsed": false
   }
  },
  {
   "cell_type": "markdown",
   "source": [
    "### 4.1. Order sign imbalance long memory"
   ],
   "metadata": {
    "collapsed": false
   }
  },
  {
   "cell_type": "code",
   "execution_count": null,
   "outputs": [],
   "source": [
    "# Linear ACF\n",
    "sign_imbalance_linear_acf_filename = f\"{acf_data_dir}/mo_sign_imbalance_linear_acfs.pkl\"\n",
    "sign_imbalance_linear_acfs = compute_acfs(filename=sign_imbalance_linear_acf_filename, data=sign_imbalance, option='linear')\n",
    "print(sign_imbalance_linear_acfs.keys())"
   ],
   "metadata": {
    "collapsed": false,
    "ExecuteTime": {
     "start_time": "2023-10-10T14:32:48.815813Z",
     "end_time": "2023-10-10T14:32:48.815923Z"
    }
   }
  },
  {
   "cell_type": "code",
   "execution_count": null,
   "outputs": [],
   "source": [
    "# Nonlinear ACF\n",
    "sign_imbalance_nonlinear_acf_filename = f\"{acf_data_dir}/mo_sign_imbalance_nonlinear_acfs.pkl\"\n",
    "sign_imbalance_nonlinear_acfs = compute_acfs(filename=sign_imbalance_nonlinear_acf_filename, data=sign_imbalance, option='nonlinear')\n",
    "print(sign_imbalance_nonlinear_acfs.keys())"
   ],
   "metadata": {
    "collapsed": false,
    "ExecuteTime": {
     "start_time": "2023-10-10T14:33:24.903520Z",
     "end_time": "2023-10-10T14:33:24.903614Z"
    }
   }
  },
  {
   "cell_type": "code",
   "execution_count": null,
   "outputs": [],
   "source": [
    "for stock_name in sign_imbalance_linear_acfs.keys():\n",
    "    plot_acf_difference(stock_name, sign_imbalance_linear_acfs, sign_imbalance_nonlinear_acfs)"
   ],
   "metadata": {
    "collapsed": false,
    "ExecuteTime": {
     "start_time": "2023-10-10T14:34:13.499712Z",
     "end_time": "2023-10-10T14:34:13.499754Z"
    }
   }
  },
  {
   "cell_type": "code",
   "execution_count": null,
   "outputs": [],
   "source": [],
   "metadata": {
    "collapsed": false
   }
  },
  {
   "cell_type": "markdown",
   "source": [
    "#### 4.1.1. Fit power law to ACF"
   ],
   "metadata": {
    "collapsed": false
   }
  },
  {
   "cell_type": "code",
   "execution_count": null,
   "outputs": [],
   "source": [
    "# Load the pre-computed ACFs\n",
    "sign_imbalance_acf_values = {}\n",
    "\n",
    "for stock, data in sign_imbalance_nonlinear_acfs.items():\n",
    "    sign_imbalance_acf_values[stock] = construct_xy(data, stock)"
   ],
   "metadata": {
    "collapsed": false,
    "ExecuteTime": {
     "start_time": "2023-10-10T14:39:24.823389Z",
     "end_time": "2023-10-10T14:39:24.823482Z"
    }
   }
  },
  {
   "cell_type": "code",
   "execution_count": null,
   "outputs": [],
   "source": [
    "# Using signs_imbalance_nonlinear_acfs\n",
    "sign_imbalance_fit_results_list = []\n",
    "sign_imbalance_fit_objects = {}  # Dictionary to store fit objects\n",
    "\n",
    "for stock, data in sign_imbalance_acf_values.items():\n",
    "    fit_dict, fit_obj = get_acf_params(stock, data, xmin_index=10)\n",
    "    if fit_dict:\n",
    "        sign_imbalance_fit_results_list.append(fit_dict)\n",
    "        sign_imbalance_fit_objects[stock] = fit_obj  # Store the fit object\n",
    "\n",
    "sign_imbalance_fit_results = pd.DataFrame(sign_imbalance_fit_results_list)\n",
    "display(sign_imbalance_fit_results.head())"
   ],
   "metadata": {
    "collapsed": false,
    "ExecuteTime": {
     "start_time": "2023-10-10T15:01:14.915706Z",
     "end_time": "2023-10-10T15:01:14.915752Z"
    }
   }
  },
  {
   "cell_type": "code",
   "execution_count": null,
   "outputs": [],
   "source": [
    "print(sign_imbalance_fit_objects.keys())"
   ],
   "metadata": {
    "collapsed": false,
    "ExecuteTime": {
     "start_time": "2023-10-10T15:01:22.598664Z",
     "end_time": "2023-10-10T15:01:22.598708Z"
    }
   }
  },
  {
   "cell_type": "code",
   "execution_count": null,
   "outputs": [],
   "source": [
    "avg_alpha = sign_imbalance_fit_results['gamma'].mean()\n",
    "print(f\"Average Gamma: {avg_alpha}\")"
   ],
   "metadata": {
    "collapsed": false,
    "ExecuteTime": {
     "start_time": "2023-10-10T15:01:23.795799Z",
     "end_time": "2023-10-10T15:01:23.795841Z"
    }
   }
  },
  {
   "cell_type": "code",
   "execution_count": null,
   "outputs": [],
   "source": [
    "tsla_acf_fit = sign_imbalance_fit_objects['TSLA']\n",
    "tsla_acf_fit.powerlaw.plot_fit()"
   ],
   "metadata": {
    "collapsed": false,
    "ExecuteTime": {
     "start_time": "2023-10-10T15:01:44.256668Z",
     "end_time": "2023-10-10T15:01:44.256743Z"
    }
   }
  },
  {
   "cell_type": "markdown",
   "source": [
    "#### 4.1.2. Sign Imbalance Hurst Exponents"
   ],
   "metadata": {
    "collapsed": false
   }
  },
  {
   "cell_type": "code",
   "execution_count": null,
   "outputs": [],
   "source": [
    "# Compute cumsum of order sign imbalance\n",
    "cumsum_sign_imbalance = {\n",
    "  'TSLA': tsla_aggregate_orderflow['sign_imbalance'].cumsum(),\n",
    "  'MSFT': msft_aggregate_orderflow['sign_imbalance'].cumsum(),\n",
    "  'AMZN': amzn_aggregate_orderflow['sign_imbalance'].cumsum(),\n",
    "  'NFLX': nflx_aggregate_orderflow['sign_imbalance'].cumsum(),\n",
    "  'EBAY': ebay_aggregate_orderflow['sign_imbalance'].cumsum(),\n",
    "  'APPL': appl_aggregate_orderflow['sign_imbalance']\n",
    "}\n",
    "# Update the dictionary to only keep the first EVENTS_RANGE items\n",
    "cumsum_sign_imbalance = {stock: data.head(EVENTS_RANGE) for stock, data in cumsum_sign_imbalance.items()}\n",
    "tsla_cumsum_sign_imbalance = tsla_aggregate_orderflow['sign_imbalance'].cumsum()\n",
    "x = list(range(1, len(tsla_cumsum_sign_imbalance)+1))\n",
    "plt.plot(x, tsla_cumsum_sign_imbalance)\n",
    "plt.grid(False)\n",
    "plt.show()"
   ],
   "metadata": {
    "collapsed": false,
    "ExecuteTime": {
     "start_time": "2023-10-10T15:42:47.227871Z",
     "end_time": "2023-10-10T15:42:47.227922Z"
    }
   }
  },
  {
   "cell_type": "markdown",
   "source": [
    "##### Standard Hurst"
   ],
   "metadata": {
    "collapsed": false
   }
  },
  {
   "cell_type": "code",
   "execution_count": null,
   "outputs": [],
   "source": [
    "# Standard Hurst\n",
    "method = 'standard'\n",
    "sign_imbalance_fit_results_list = []\n",
    "sign_imbalance_fit_objects = {}\n",
    "\n",
    "for stock, data in cumsum_sign_imbalance.items():\n",
    "    fit_dict, fit = compute_hurst_exponent('sign_imbalance', stock, data, method=method)\n",
    "    if fit_dict:\n",
    "        sign_imbalance_fit_results_list.append(fit_dict)\n",
    "        sign_imbalance_fit_objects[(stock, method, 'signs_imbalance')] = fit\n",
    "\n",
    "sign_imbalance_std_hurst_fit_results = pd.DataFrame(sign_imbalance_fit_results_list)\n",
    "display(sign_imbalance_std_hurst_fit_results.head())"
   ],
   "metadata": {
    "collapsed": false,
    "ExecuteTime": {
     "start_time": "2023-10-10T15:44:59.049499Z",
     "end_time": "2023-10-10T15:44:59.049568Z"
    }
   }
  },
  {
   "cell_type": "code",
   "execution_count": null,
   "outputs": [],
   "source": [
    "# Average Standard Hurst exponents across stocks\n",
    "avg_hurst_std = sign_imbalance_std_hurst_fit_results['standard_hurst'].mean()\n",
    "print(f\"Average Standard Hurst: {avg_hurst_std}\")"
   ],
   "metadata": {
    "collapsed": false,
    "ExecuteTime": {
     "start_time": "2023-10-10T15:44:59.126068Z",
     "end_time": "2023-10-10T15:44:59.126113Z"
    }
   }
  },
  {
   "cell_type": "code",
   "execution_count": null,
   "outputs": [],
   "source": [],
   "metadata": {
    "collapsed": false
   }
  },
  {
   "cell_type": "markdown",
   "source": [
    "##### Generalized Hurst"
   ],
   "metadata": {
    "collapsed": false
   }
  },
  {
   "cell_type": "code",
   "execution_count": null,
   "outputs": [],
   "source": [
    "# Generalized Hurst\n",
    "method = 'generalized'\n",
    "sign_imbalance_fit_results_list = []\n",
    "sign_imbalance_fit_objects = {}\n",
    "\n",
    "for stock, data in cumsum_sign_imbalance.items():\n",
    "    fit_dict, fit = compute_hurst_exponent('signed_imbalance', stock, data, method=method)\n",
    "    if fit_dict:\n",
    "        sign_imbalance_fit_results_list.append(fit_dict)\n",
    "        sign_imbalance_fit_objects[(stock, method, 'signed_imbalance')] = fit\n",
    "\n",
    "sign_imbalance_gen_hurst_fit_results = pd.DataFrame(sign_imbalance_fit_results_list)\n",
    "display(sign_imbalance_gen_hurst_fit_results.head())"
   ],
   "metadata": {
    "collapsed": false,
    "ExecuteTime": {
     "start_time": "2023-10-10T15:43:51.955438Z",
     "end_time": "2023-10-10T15:43:51.955546Z"
    }
   }
  },
  {
   "cell_type": "code",
   "execution_count": null,
   "outputs": [],
   "source": [
    "# Generalized Hurst statistic across stocks\n",
    "min_hurst_gen = sign_imbalance_gen_hurst_fit_results['generalized_hurst'].min()\n",
    "max_hurst_gen = sign_imbalance_gen_hurst_fit_results['generalized_hurst'].max()\n",
    "avg_hurst_gen = sign_imbalance_gen_hurst_fit_results['generalized_hurst'].mean()\n",
    "standard_dev = sign_imbalance_gen_hurst_fit_results['generalized_hurst'].std()\n",
    "\n",
    "print(f\"Min Generalized Hurst: {min_hurst_gen}\")\n",
    "print(f\"Max Generalized Hurst: {max_hurst_gen}\")\n",
    "print(f\"Average Generalized Hurst: {avg_hurst_gen}\")\n",
    "print(f\"Standard_dev Generalized Hurst: {standard_dev}\")"
   ],
   "metadata": {
    "collapsed": false,
    "ExecuteTime": {
     "start_time": "2023-10-10T15:43:51.974005Z",
     "end_time": "2023-10-10T15:43:51.974071Z"
    }
   }
  },
  {
   "cell_type": "code",
   "execution_count": null,
   "outputs": [],
   "source": [
    "print(sign_imbalance_fit_objects.keys())"
   ],
   "metadata": {
    "collapsed": false,
    "ExecuteTime": {
     "start_time": "2023-10-10T15:43:52.066615Z",
     "end_time": "2023-10-10T15:43:52.066661Z"
    }
   }
  },
  {
   "cell_type": "code",
   "execution_count": null,
   "outputs": [],
   "source": [
    "# Retrieve standard Hurst fit object for specific 'STOCK'\n",
    "tsla_generalized_fit = sign_imbalance_fit_objects[('TSLA', 'generalized', 'signed_volume')]\n",
    "tsla_generalized_fit.powerlaw.plot_fit()"
   ],
   "metadata": {
    "collapsed": false,
    "ExecuteTime": {
     "start_time": "2023-10-10T15:44:09.148074Z",
     "end_time": "2023-10-10T15:44:09.148121Z"
    }
   }
  },
  {
   "cell_type": "code",
   "execution_count": null,
   "outputs": [],
   "source": [],
   "metadata": {
    "collapsed": false
   }
  },
  {
   "cell_type": "markdown",
   "source": [
    "### 4.2. Signed Volume imbalance long memory"
   ],
   "metadata": {
    "collapsed": false
   }
  },
  {
   "cell_type": "code",
   "execution_count": null,
   "outputs": [],
   "source": [
    "# Linear ACF\n",
    "volume_imbalance_linear_acf_filename = f\"{acf_data_dir}/mo_volume_imbalance_linear_acfs.pkl\"\n",
    "volume_imbalance_linear_acfs = compute_acfs(filename=volume_imbalance_linear_acf_filename, data=volume_imbalance, option='linear')\n",
    "print(volume_imbalance_linear_acfs.keys())"
   ],
   "metadata": {
    "collapsed": false,
    "ExecuteTime": {
     "start_time": "2023-10-10T16:09:27.966908Z",
     "end_time": "2023-10-10T16:09:27.966953Z"
    }
   }
  },
  {
   "cell_type": "code",
   "execution_count": null,
   "outputs": [],
   "source": [
    "# Nonlinear ACF\n",
    "volume_imbalance_nonlinear_acf_filename = f\"{acf_data_dir}/mo_volume_imbalance_nonlinear_acfs.pkl\"\n",
    "volume_imbalance_nonlinear_acfs = compute_acfs(filename=volume_imbalance_nonlinear_acf_filename, data=volume_imbalance, option='nonlinear')\n",
    "print(volume_imbalance_nonlinear_acfs.keys())"
   ],
   "metadata": {
    "collapsed": false,
    "ExecuteTime": {
     "start_time": "2023-10-10T16:09:28.965123Z",
     "end_time": "2023-10-10T16:09:28.965236Z"
    }
   }
  },
  {
   "cell_type": "code",
   "execution_count": null,
   "outputs": [],
   "source": [
    "for stock_name in volume_imbalance_linear_acfs.keys():\n",
    "    plot_acf_difference(stock_name, volume_imbalance_linear_acfs, volume_imbalance_nonlinear_acfs)"
   ],
   "metadata": {
    "collapsed": false,
    "ExecuteTime": {
     "start_time": "2023-10-10T16:09:31.926107Z",
     "end_time": "2023-10-10T16:09:31.926148Z"
    }
   }
  },
  {
   "cell_type": "code",
   "execution_count": null,
   "outputs": [],
   "source": [],
   "metadata": {
    "collapsed": false
   }
  },
  {
   "cell_type": "markdown",
   "source": [
    "#### 4.2.1. Fit power law to ACF"
   ],
   "metadata": {
    "collapsed": false
   }
  },
  {
   "cell_type": "code",
   "execution_count": null,
   "outputs": [],
   "source": [
    "# Load the pre-computed ACFs\n",
    "volume_imbalance_acf_values = {}\n",
    "\n",
    "for stock, data in volume_imbalance_nonlinear_acfs.items():\n",
    "    volume_imbalance_acf_values[stock] = construct_xy(data, stock)"
   ],
   "metadata": {
    "collapsed": false,
    "ExecuteTime": {
     "start_time": "2023-10-10T16:09:36.638302Z",
     "end_time": "2023-10-10T16:09:36.638376Z"
    }
   }
  },
  {
   "cell_type": "code",
   "execution_count": null,
   "outputs": [],
   "source": [
    "# Using signs_imbalance_nonlinear_acfs\n",
    "volume_imbalance_fit_results_list = []\n",
    "volume_imbalance_fit_objects = {}  # Dictionary to store fit objects\n",
    "\n",
    "for stock, data in volume_imbalance_acf_values.items():\n",
    "    fit_dict, fit_obj = get_acf_params(stock, data, xmin_index=10)\n",
    "    if fit_dict:\n",
    "        volume_imbalance_fit_results_list.append(fit_dict)\n",
    "        volume_imbalance_fit_objects[stock] = fit_obj  # Store the fit object\n",
    "\n",
    "volume_imbalance_fit_results = pd.DataFrame(volume_imbalance_fit_results_list)\n",
    "display(volume_imbalance_fit_results.head())"
   ],
   "metadata": {
    "collapsed": false,
    "ExecuteTime": {
     "start_time": "2023-10-10T16:09:38.977401Z",
     "end_time": "2023-10-10T16:09:38.977443Z"
    }
   }
  },
  {
   "cell_type": "code",
   "execution_count": null,
   "outputs": [],
   "source": [
    "print(volume_imbalance_fit_objects.keys())"
   ],
   "metadata": {
    "collapsed": false,
    "ExecuteTime": {
     "start_time": "2023-10-10T16:09:43.667755Z",
     "end_time": "2023-10-10T16:09:43.667801Z"
    }
   }
  },
  {
   "cell_type": "code",
   "execution_count": null,
   "outputs": [],
   "source": [
    "avg_alpha = volume_imbalance_fit_results['gamma'].mean()\n",
    "print(f\"Average Gamma: {avg_alpha}\")"
   ],
   "metadata": {
    "collapsed": false,
    "ExecuteTime": {
     "start_time": "2023-10-10T16:09:45.875751Z",
     "end_time": "2023-10-10T16:09:45.875795Z"
    }
   }
  },
  {
   "cell_type": "code",
   "execution_count": null,
   "outputs": [],
   "source": [
    "tsla_acf_fit = volume_imbalance_fit_objects['TSLA']\n",
    "tsla_acf_fit.powerlaw.plot_fit()"
   ],
   "metadata": {
    "collapsed": false,
    "ExecuteTime": {
     "start_time": "2023-10-10T16:10:37.376191Z",
     "end_time": "2023-10-10T16:10:37.376237Z"
    }
   }
  },
  {
   "cell_type": "markdown",
   "source": [
    "#### 4.2.2. Volume Imbalance Hurst Exponents"
   ],
   "metadata": {
    "collapsed": false
   }
  },
  {
   "cell_type": "code",
   "execution_count": null,
   "outputs": [],
   "source": [
    "# Compute cumsum of order sign imbalance\n",
    "cumsum_volume_imbalance = {\n",
    " 'TSLA': tsla_aggregate_orderflow['vol_imbalance'].cumsum(),\n",
    " 'MSFT': msft_aggregate_orderflow['vol_imbalance'].cumsum(),\n",
    " 'AMZN': amzn_aggregate_orderflow['vol_imbalance'].cumsum(),\n",
    " 'NFLX': nflx_aggregate_orderflow['vol_imbalance'].cumsum(),\n",
    " 'EBAY': ebay_aggregate_orderflow['vol_imbalance'].cumsum(),\n",
    " 'APPL': appl_aggregate_orderflow['vol_imbalance']\n",
    "}\n",
    "# Update the dictionary to only keep the first EVENTS_RANGE items\n",
    "cumsum_volume_imbalance = {stock: data.head(EVENTS_RANGE) for stock, data in cumsum_volume_imbalance.items()}\n",
    "tsla_cumsum_volume_imbalance = tsla_aggregate_orderflow['vol_imbalance'].cumsum()\n",
    "x = list(range(1, len(tsla_cumsum_volume_imbalance)+1))\n",
    "plt.plot(x, tsla_cumsum_volume_imbalance)\n",
    "plt.grid(False)\n",
    "plt.show()"
   ],
   "metadata": {
    "collapsed": false,
    "ExecuteTime": {
     "start_time": "2023-10-10T16:13:18.084821Z",
     "end_time": "2023-10-10T16:13:18.084863Z"
    }
   }
  },
  {
   "cell_type": "markdown",
   "source": [
    "##### Standard Hurst"
   ],
   "metadata": {
    "collapsed": false
   }
  },
  {
   "cell_type": "code",
   "execution_count": null,
   "outputs": [],
   "source": [
    "# Standard Hurst\n",
    "method = 'standard'\n",
    "volume_imbalance_fit_results_list = []\n",
    "voliume_imbalance_fit_objects = {}\n",
    "\n",
    "for stock, data in cumsum_volume_imbalance.items():\n",
    "    fit_dict, fit = compute_hurst_exponent('volume_imbalance', stock, data, method=method)\n",
    "    if fit_dict:\n",
    "        volume_imbalance_fit_results_list.append(fit_dict)\n",
    "        voliume_imbalance_fit_objects[(stock, method, 'volume_imbalance')] = fit\n",
    "\n",
    "volume_imbalance_std_hurst_fit_results = pd.DataFrame(volume_imbalance_fit_results_list)\n",
    "display(volume_imbalance_std_hurst_fit_results.head())"
   ],
   "metadata": {
    "collapsed": false,
    "ExecuteTime": {
     "start_time": "2023-10-10T16:19:46.677492Z",
     "end_time": "2023-10-10T16:19:46.677563Z"
    }
   }
  },
  {
   "cell_type": "code",
   "execution_count": null,
   "outputs": [],
   "source": [
    "# Average Standard Hurst exponents across stocks\n",
    "avg_hurst_std = volume_imbalance_std_hurst_fit_results['standard_hurst'].mean()\n",
    "print(f\"Average Standard Hurst: {avg_hurst_std}\")"
   ],
   "metadata": {
    "collapsed": false,
    "ExecuteTime": {
     "start_time": "2023-10-10T16:19:58.754582Z",
     "end_time": "2023-10-10T16:19:58.754631Z"
    }
   }
  },
  {
   "cell_type": "code",
   "execution_count": null,
   "outputs": [],
   "source": [],
   "metadata": {
    "collapsed": false
   }
  },
  {
   "cell_type": "markdown",
   "source": [
    "##### Generalized Hurst"
   ],
   "metadata": {
    "collapsed": false
   }
  },
  {
   "cell_type": "code",
   "execution_count": null,
   "outputs": [],
   "source": [
    "# Generalized Hurst\n",
    "method = 'generalized'\n",
    "volume_imbalance_fit_results_list = []\n",
    "volume_imbalance_fit_objects = {}\n",
    "\n",
    "for stock, data in cumsum_volume_imbalance.items():\n",
    "    fit_dict, fit = compute_hurst_exponent('volume_imbalance', stock, data, method=method)\n",
    "    if fit_dict:\n",
    "        volume_imbalance_fit_results_list.append(fit_dict)\n",
    "        volume_imbalance_fit_objects[(stock, method, 'volume_imbalance')] = fit\n",
    "\n",
    "volume_imbalance_gen_hurst_fit_results = pd.DataFrame(volume_imbalance_fit_results_list)\n",
    "display(volume_imbalance_gen_hurst_fit_results.head())"
   ],
   "metadata": {
    "collapsed": false,
    "ExecuteTime": {
     "start_time": "2023-10-10T16:24:41.611946Z",
     "end_time": "2023-10-10T16:24:41.612013Z"
    }
   }
  },
  {
   "cell_type": "code",
   "execution_count": null,
   "outputs": [],
   "source": [
    "# Generalized Hurst statistic across stocks\n",
    "min_hurst_gen = volume_imbalance_gen_hurst_fit_results['generalized_hurst'].min()\n",
    "max_hurst_gen = volume_imbalance_gen_hurst_fit_results['generalized_hurst'].max()\n",
    "avg_hurst_gen = volume_imbalance_gen_hurst_fit_results['generalized_hurst'].mean()\n",
    "standard_dev = volume_imbalance_gen_hurst_fit_results['generalized_hurst'].std()\n",
    "\n",
    "print(f\"Min Generalized Hurst: {min_hurst_gen}\")\n",
    "print(f\"Max Generalized Hurst: {max_hurst_gen}\")\n",
    "print(f\"Average Generalized Hurst: {avg_hurst_gen}\")\n",
    "print(f\"Standard_dev Generalized Hurst: {standard_dev}\")"
   ],
   "metadata": {
    "collapsed": false,
    "ExecuteTime": {
     "start_time": "2023-10-10T16:24:41.773971Z",
     "end_time": "2023-10-10T16:24:41.774045Z"
    }
   }
  },
  {
   "cell_type": "code",
   "execution_count": null,
   "outputs": [],
   "source": [
    "display(volume_imbalance_fit_objects.keys())"
   ],
   "metadata": {
    "collapsed": false,
    "ExecuteTime": {
     "start_time": "2023-10-10T16:24:41.774221Z",
     "end_time": "2023-10-10T16:24:41.774235Z"
    }
   }
  },
  {
   "cell_type": "code",
   "execution_count": null,
   "outputs": [],
   "source": [
    "# Retrieve standard Hurst fit object for specific 'STOCK'\n",
    "tsla_generalized_fit = volume_imbalance_fit_objects[('TSLA', 'generalized', 'volume_imbalance')]\n",
    "tsla_generalized_fit.powerlaw.plot_fit()"
   ],
   "metadata": {
    "collapsed": false,
    "ExecuteTime": {
     "start_time": "2023-10-10T16:25:11.428922Z",
     "end_time": "2023-10-10T16:25:11.428980Z"
    }
   }
  },
  {
   "cell_type": "code",
   "execution_count": null,
   "outputs": [],
   "source": [],
   "metadata": {
    "collapsed": false
   }
  }
 ],
 "metadata": {
  "kernelspec": {
   "display_name": "Python 3",
   "language": "python",
   "name": "python3"
  },
  "language_info": {
   "codemirror_mode": {
    "name": "ipython",
    "version": 2
   },
   "file_extension": ".py",
   "mimetype": "text/x-python",
   "name": "python",
   "nbconvert_exporter": "python",
   "pygments_lexer": "ipython2",
   "version": "2.7.6"
  }
 },
 "nbformat": 4,
 "nbformat_minor": 0
}
