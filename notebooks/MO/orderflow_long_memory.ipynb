{
 "cells": [
  {
   "cell_type": "code",
   "execution_count": 10,
   "metadata": {
    "collapsed": true,
    "ExecuteTime": {
     "start_time": "2023-10-05T10:54:14.965543Z",
     "end_time": "2023-10-05T10:54:14.987866Z"
    }
   },
   "outputs": [],
   "source": [
    "import os\n",
    "import pickle\n",
    "import pandas as pd\n",
    "import matplotlib.pyplot as plt\n",
    "\n",
    "from liquidity.util.utils import compute_returns, get_agg_features\n",
    "\n",
    "from powerlaw_function.powerlaw_function import Fit\n",
    "\n",
    "from hurst_exponent.acf import nonlinear_acf\n",
    "from hurst_exponent.hurst_exponent import standard_hurst, generalized_hurst\n",
    "from hurst_exponent.util.utils import interpret_hurst, augmented_dickey_fuller"
   ]
  },
  {
   "cell_type": "code",
   "execution_count": 11,
   "outputs": [
    {
     "name": "stdout",
     "output_type": "stream",
     "text": [
      "The autoreload extension is already loaded. To reload it, use:\n",
      "  %reload_ext autoreload\n"
     ]
    }
   ],
   "source": [
    "# Automatically reload changes in package dependencies\n",
    "%load_ext autoreload\n",
    "%autoreload 2"
   ],
   "metadata": {
    "collapsed": false,
    "ExecuteTime": {
     "start_time": "2023-10-05T10:54:15.211438Z",
     "end_time": "2023-10-05T10:54:15.234815Z"
    }
   }
  },
  {
   "cell_type": "code",
   "execution_count": 22,
   "outputs": [],
   "source": [
    "# Number of lags for the ACF\n",
    "ACF_RANGE = 1001\n",
    "\n",
    "# Window/bin size for computing imbalances\n",
    "T = 100\n",
    "\n",
    "# Number of events to use\n",
    "EVENTS_RANGE = 100000"
   ],
   "metadata": {
    "collapsed": false,
    "ExecuteTime": {
     "start_time": "2023-10-05T11:01:00.601109Z",
     "end_time": "2023-10-05T11:01:00.919444Z"
    }
   }
  },
  {
   "cell_type": "markdown",
   "source": [
    "## Load raw sample data"
   ],
   "metadata": {
    "collapsed": false
   }
  },
  {
   "cell_type": "code",
   "execution_count": 23,
   "outputs": [],
   "source": [
    "# Load raw sample data  from CSV\n",
    "stocks = ['TSLA', 'AMZN', 'NFLX', 'MSFT', 'EBAY', 'APPL']\n",
    "\n",
    "current_dir = os.path.abspath('.')\n",
    "root_dir = os.path.join(current_dir, '..', '..')\n",
    "data_dir = os.path.join(root_dir, 'data', 'market_orders')\n",
    "\n",
    "\n",
    "stock_dfs = {}\n",
    "\n",
    "# Loop through each stock\n",
    "for stock in stocks:\n",
    "\n",
    "    filename = f\"{stock}-2016-R1.csv\"\n",
    "\n",
    "    stock_file_path = os.path.join(data_dir, filename)\n",
    "\n",
    "    # Read the CSV and store in the dictionary\n",
    "    stock_dfs[stock] = pd.read_csv(stock_file_path)\n",
    "\n",
    "# Access the dataframe using stock's ticker as key\n",
    "tsla_raw_df = stock_dfs['TSLA']\n",
    "amzn_raw_df = stock_dfs['AMZN']\n",
    "nflx_raw_df = stock_dfs['NFLX']\n",
    "msft_raw_df = stock_dfs['MSFT']\n",
    "ebay_raw_df = stock_dfs['EBAY']\n",
    "appl_raw_df = stock_dfs['APPL']"
   ],
   "metadata": {
    "collapsed": false,
    "ExecuteTime": {
     "start_time": "2023-10-05T11:01:00.646404Z",
     "end_time": "2023-10-05T11:01:07.996308Z"
    }
   }
  },
  {
   "cell_type": "markdown",
   "source": [
    "## 1. Return magnitudes"
   ],
   "metadata": {
    "collapsed": false
   }
  },
  {
   "cell_type": "code",
   "execution_count": 24,
   "outputs": [
    {
     "data": {
      "text/plain": "<Figure size 640x480 with 1 Axes>",
      "image/png": "[encoded data removed]"
     },
     "metadata": {},
     "output_type": "display_data"
    }
   ],
   "source": [
    "# Return magnitude (volatility)\n",
    "tsla_returns = compute_returns(tsla_raw_df)['cumsum_returns']\n",
    "msft_returns = compute_returns(msft_raw_df)['cumsum_returns']\n",
    "amzn_returns = compute_returns(amzn_raw_df)['cumsum_returns']\n",
    "nflx_returns = compute_returns(nflx_raw_df)['cumsum_returns']\n",
    "ebay_returns = compute_returns(ebay_raw_df)['cumsum_returns']\n",
    "appl_returns = compute_returns(appl_raw_df)['cumsum_returns']\n",
    "\n",
    "returns_magnitudes = {\n",
    "  'TSLA': abs(tsla_returns),\n",
    "  'MSFT': abs(msft_returns),\n",
    "  'AMZN': abs(amzn_returns),\n",
    "  'NFLX': abs(nflx_returns),\n",
    "  'EBAY': abs(ebay_returns),\n",
    "  'APPL': abs(appl_returns)\n",
    "}\n",
    "# Update the dictionary to only keep the first EVENTS_RANGE items\n",
    "returns_magnitudes = {stock: data.head(EVENTS_RANGE) for stock, data in returns_magnitudes.items()}\n",
    "tsla_return_magnitudes = tsla_raw_df['trade_sign'].cumsum()\n",
    "x = list(range(1, len(tsla_return_magnitudes)+1))\n",
    "plt.plot(x, tsla_return_magnitudes)\n",
    "plt.grid(False)\n",
    "plt.show()"
   ],
   "metadata": {
    "collapsed": false,
    "ExecuteTime": {
     "start_time": "2023-10-05T11:01:07.997336Z",
     "end_time": "2023-10-05T11:01:37.971385Z"
    }
   }
  },
  {
   "cell_type": "code",
   "execution_count": 24,
   "outputs": [],
   "source": [],
   "metadata": {
    "collapsed": false,
    "ExecuteTime": {
     "start_time": "2023-10-05T11:01:37.971695Z",
     "end_time": "2023-10-05T11:01:37.972594Z"
    }
   }
  },
  {
   "cell_type": "markdown",
   "source": [
    "### Stationarity Test"
   ],
   "metadata": {
    "collapsed": false
   }
  },
  {
   "cell_type": "code",
   "execution_count": 25,
   "outputs": [
    {
     "name": "stdout",
     "output_type": "stream",
     "text": [
      "TSLA\n",
      "ADF: -0.75\n",
      "p-value: 0.83,\n",
      "N: 99995, \n",
      "critical values: {'1%': -3.4304153979486607, '5%': -2.861568904868705, '10%': -2.5667853850501667}\n",
      "We cannot reject the null hypothesis at a significance level of 0.05.\n",
      "The time series appears to be non-stationary.\n",
      "\n",
      "\n",
      "MSFT\n",
      "ADF: -2.69\n",
      "p-value: 0.08,\n",
      "N: 99998, \n",
      "critical values: {'1%': -3.4304153959866324, '5%': -2.861568904001529, '10%': -2.5667853845885973}\n",
      "We cannot reject the null hypothesis at a significance level of 0.05.\n",
      "The time series appears to be non-stationary.\n",
      "\n",
      "\n",
      "AMZN\n",
      "ADF: -2.02\n",
      "p-value: 0.28,\n",
      "N: 99998, \n",
      "critical values: {'1%': -3.4304153959866324, '5%': -2.861568904001529, '10%': -2.5667853845885973}\n",
      "We cannot reject the null hypothesis at a significance level of 0.05.\n",
      "The time series appears to be non-stationary.\n",
      "\n",
      "\n",
      "NFLX\n",
      "ADF: -1.78\n",
      "p-value: 0.39,\n",
      "N: 99996, \n",
      "critical values: {'1%': -3.430415397294638, '5%': -2.86156890457964, '10%': -2.566785384896307}\n",
      "We cannot reject the null hypothesis at a significance level of 0.05.\n",
      "The time series appears to be non-stationary.\n",
      "\n",
      "\n",
      "EBAY\n",
      "ADF: -1.32\n",
      "p-value: 0.62,\n",
      "N: 99998, \n",
      "critical values: {'1%': -3.4304153959866324, '5%': -2.861568904001529, '10%': -2.5667853845885973}\n",
      "We cannot reject the null hypothesis at a significance level of 0.05.\n",
      "The time series appears to be non-stationary.\n",
      "\n",
      "\n",
      "APPL\n",
      "ADF: -0.12\n",
      "p-value: 0.95,\n",
      "N: 99995, \n",
      "critical values: {'1%': -3.4304153979486607, '5%': -2.861568904868705, '10%': -2.5667853850501667}\n",
      "We cannot reject the null hypothesis at a significance level of 0.05.\n",
      "The time series appears to be non-stationary.\n",
      "\n",
      "\n"
     ]
    }
   ],
   "source": [
    "# ADF test\n",
    "for stock, data in returns_magnitudes.items():\n",
    "    data.head(EVENTS_RANGE)\n",
    "    augmented_dickey_fuller(data, stock)"
   ],
   "metadata": {
    "collapsed": false,
    "ExecuteTime": {
     "start_time": "2023-10-05T11:01:37.974323Z",
     "end_time": "2023-10-05T11:02:57.241635Z"
    }
   }
  },
  {
   "cell_type": "markdown",
   "source": [
    "## 2. Orderflow"
   ],
   "metadata": {
    "collapsed": false
   }
  },
  {
   "cell_type": "markdown",
   "source": [
    "###  2.1. Signs"
   ],
   "metadata": {
    "collapsed": false
   }
  },
  {
   "cell_type": "code",
   "execution_count": 26,
   "outputs": [
    {
     "data": {
      "text/plain": "<Figure size 640x480 with 1 Axes>",
      "image/png": "[encoded data removed]"
     },
     "metadata": {},
     "output_type": "display_data"
    }
   ],
   "source": [
    "# Signed orderflow\n",
    "signed_orderflow = {\n",
    "  'TSLA': tsla_raw_df['trade_sign'].cumsum(),\n",
    "  'MSFT': msft_raw_df['trade_sign'].cumsum(),\n",
    "  'AMZN': amzn_raw_df['trade_sign'].cumsum(),\n",
    "  'NFLX': nflx_raw_df['trade_sign'].cumsum(),\n",
    "  'EBAY': ebay_raw_df['trade_sign'].cumsum(),\n",
    "  'APPL': appl_raw_df['trade_sign'].cumsum()\n",
    "}\n",
    "# Update the dictionary to only keep the first EVENTS_RANGE items\n",
    "signed_orderflow = {stock: data.head(EVENTS_RANGE) for stock, data in signed_orderflow.items()}\n",
    "tsla_signed_orderflow = tsla_raw_df['trade_sign'].cumsum()\n",
    "x = list(range(1, len(tsla_signed_orderflow)+1))\n",
    "plt.plot(x, tsla_signed_orderflow)\n",
    "plt.grid(False)\n",
    "plt.show()"
   ],
   "metadata": {
    "collapsed": false,
    "ExecuteTime": {
     "start_time": "2023-10-05T11:02:57.288442Z",
     "end_time": "2023-10-05T11:02:57.485419Z"
    }
   }
  },
  {
   "cell_type": "code",
   "execution_count": 26,
   "outputs": [],
   "source": [],
   "metadata": {
    "collapsed": false,
    "ExecuteTime": {
     "start_time": "2023-10-05T11:02:57.478435Z",
     "end_time": "2023-10-05T11:02:57.491548Z"
    }
   }
  },
  {
   "cell_type": "markdown",
   "source": [
    "#### Stationarity Test"
   ],
   "metadata": {
    "collapsed": false
   }
  },
  {
   "cell_type": "code",
   "execution_count": 27,
   "outputs": [
    {
     "name": "stdout",
     "output_type": "stream",
     "text": [
      "TSLA\n",
      "ADF: -1.68\n",
      "p-value: 0.44,\n",
      "N: 99938, \n",
      "critical values: {'1%': -3.4304154352495755, '5%': -2.861568921354943, '10%': -2.566785393825246}\n",
      "We cannot reject the null hypothesis at a significance level of 0.05.\n",
      "The time series appears to be non-stationary.\n",
      "\n",
      "\n",
      "MSFT\n",
      "ADF: -1.23\n",
      "p-value: 0.66,\n",
      "N: 99963, \n",
      "critical values: {'1%': -3.4304154188842877, '5%': -2.861568914121822, '10%': -2.566785389975295}\n",
      "We cannot reject the null hypothesis at a significance level of 0.05.\n",
      "The time series appears to be non-stationary.\n",
      "\n",
      "\n",
      "AMZN\n",
      "ADF: -1.62\n",
      "p-value: 0.48,\n",
      "N: 99933, \n",
      "critical values: {'1%': -3.4304154385236156, '5%': -2.8615689228020016, '10%': -2.5667853945954673}\n",
      "We cannot reject the null hypothesis at a significance level of 0.05.\n",
      "The time series appears to be non-stationary.\n",
      "\n",
      "\n",
      "NFLX\n",
      "ADF: -0.73\n",
      "p-value: 0.84,\n",
      "N: 99958, \n",
      "critical values: {'1%': -3.4304154221566905, '5%': -2.861568915568157, '10%': -2.566785390745131}\n",
      "We cannot reject the null hypothesis at a significance level of 0.05.\n",
      "The time series appears to be non-stationary.\n",
      "\n",
      "\n",
      "EBAY\n",
      "ADF: 1.99\n",
      "p-value: 1.00,\n",
      "N: 99942, \n",
      "critical values: {'1%': -3.4304154326305794, '5%': -2.8615689201974006, '10%': -2.5667853932091242}\n",
      "We cannot reject the null hypothesis at a significance level of 0.05.\n",
      "The time series appears to be non-stationary.\n",
      "\n",
      "\n",
      "APPL\n",
      "ADF: -0.67\n",
      "p-value: 0.86,\n",
      "N: 99932, \n",
      "critical values: {'1%': -3.430415439178463, '5%': -2.8615689230914305, '10%': -2.566785394749521}\n",
      "We cannot reject the null hypothesis at a significance level of 0.05.\n",
      "The time series appears to be non-stationary.\n",
      "\n",
      "\n"
     ]
    }
   ],
   "source": [
    "# ADF test\n",
    "for stock, data in signed_orderflow.items():\n",
    "    augmented_dickey_fuller(data, stock)"
   ],
   "metadata": {
    "collapsed": false,
    "ExecuteTime": {
     "start_time": "2023-10-05T11:02:57.492278Z",
     "end_time": "2023-10-05T11:04:20.194802Z"
    }
   }
  },
  {
   "cell_type": "markdown",
   "source": [
    "### 1.3. Signed Volume"
   ],
   "metadata": {
    "collapsed": false
   }
  },
  {
   "cell_type": "code",
   "execution_count": 28,
   "outputs": [],
   "source": [
    "# Signed Volume\n",
    "signed_volume = {\n",
    "  'TSLA': tsla_raw_df['norm_trade_volume'].cumsum() * tsla_raw_df['trade_sign'].cumsum()\n",
    "  # 'MSFT': msft_raw_df['norm_trade_volume'].cumsum() * msft_raw_df['trade_sign'].cumsum(),\n",
    "  # 'AMZN': amzn_raw_df['norm_trade_volume'].cumsum() * amzn_raw_df['trade_sign'].cumsum(),\n",
    "  # 'NFLX': nflx_raw_df['norm_trade_volume'].cumsum() * nflx_raw_df['trade_sign'].cumsum(),\n",
    "  # 'EBAY': ebay_raw_df['norm_trade_volume'].cumsum() * ebay_raw_df['trade_sign'].cumsum(),\n",
    "  # 'APPL': appl_raw_df['norm_trade_volume'].cumsum() * appl_raw_df['trade_sign'].cumsum()\n",
    "}\n",
    "# Update the dictionary to only keep the first EVENTS_RANGE items\n",
    "signed_volume = {stock: data.head(EVENTS_RANGE) for stock, data in signed_volume.items()}\n",
    "tsla_signed_volume = tsla_raw_df['norm_trade_volume'].cumsum() * tsla_raw_df['trade_sign'].cumsum()\n",
    "x = list(range(1, len(tsla_signed_volume)+1))\n",
    "plt.plot(x, tsla_signed_volume)\n",
    "plt.grid(False)\n",
    "plt.show()"
   ],
   "metadata": {
    "collapsed": false,
    "ExecuteTime": {
     "start_time": "2023-10-05T11:04:20.180766Z",
     "end_time": "2023-10-05T11:04:20.241882Z"
    }
   }
  },
  {
   "cell_type": "code",
   "execution_count": 29,
   "outputs": [
    {
     "data": {
      "text/plain": "<Figure size 640x480 with 1 Axes>",
      "image/png": "[encoded data removed]"
     },
     "metadata": {},
     "output_type": "display_data"
    }
   ],
   "source": [],
   "metadata": {
    "collapsed": false,
    "ExecuteTime": {
     "start_time": "2023-10-05T11:04:20.251262Z",
     "end_time": "2023-10-05T11:04:20.404988Z"
    }
   }
  },
  {
   "cell_type": "markdown",
   "source": [
    "#### Stationarity Test"
   ],
   "metadata": {
    "collapsed": false
   }
  },
  {
   "cell_type": "code",
   "execution_count": 30,
   "outputs": [
    {
     "name": "stdout",
     "output_type": "stream",
     "text": [
      "TSLA\n",
      "ADF: -0.63\n",
      "p-value: 0.86,\n",
      "N: 99935, \n",
      "critical values: {'1%': -3.43041543721396, '5%': -2.8615689222231606, '10%': -2.5667853942873693}\n",
      "We cannot reject the null hypothesis at a significance level of 0.05.\n",
      "The time series appears to be non-stationary.\n",
      "\n",
      "\n"
     ]
    }
   ],
   "source": [
    "# ADF test\n",
    "for stock, data in signed_volume.items():\n",
    "    augmented_dickey_fuller(data, stock)"
   ],
   "metadata": {
    "collapsed": false,
    "ExecuteTime": {
     "start_time": "2023-10-05T11:04:20.417775Z",
     "end_time": "2023-10-05T11:04:35.569210Z"
    }
   }
  },
  {
   "cell_type": "code",
   "execution_count": 30,
   "outputs": [],
   "source": [],
   "metadata": {
    "collapsed": false,
    "ExecuteTime": {
     "start_time": "2023-10-05T11:04:35.292977Z",
     "end_time": "2023-10-05T11:04:35.569295Z"
    }
   }
  },
  {
   "cell_type": "markdown",
   "source": [
    "### 1.3. Signed Ordeflow Imbalance"
   ],
   "metadata": {
    "collapsed": false
   }
  },
  {
   "cell_type": "code",
   "execution_count": 31,
   "outputs": [],
   "source": [
    "# Aggregate orderflow\n",
    "tsla_imbalance = get_agg_features(tsla_raw_df, [T])\n",
    "# msft_imbalance = get_agg_features(tsla_raw_df, [T])\n",
    "# amzn_imbalance= get_agg_features(tsla_raw_df, [T])\n",
    "# nflx_imbalance = get_agg_features(tsla_raw_df, [T])\n",
    "# ebay_imbalance = get_agg_features(tsla_raw_df, [T])\n",
    "# appl_imbalance = get_agg_features(tsla_raw_df, [T])\n",
    "\n",
    "# Order Sign imbalance\n",
    "sign_imbalance = {\n",
    "  'TSLA': tsla_imbalance['sign_imbalance'].cumsum(),\n",
    "  # 'MSFT': msft_imbalance['sign_imbalance'].cumsum(),\n",
    "  # 'AMZN': amzn_imbalance['sign_imbalance'].cumsum(),\n",
    "  # 'NFLX': nflx_imbalance['sign_imbalance'].cumsum(),\n",
    "  # 'EBAY': ebay_imbalance['sign_imbalance'].cumsum(),\n",
    "  # 'APPL': appl_imbalance['sign_imbalance'].cumsum()\n",
    "}\n",
    "\n",
    "# Sign Volume Imbalance\n",
    "volume_imbalance = {\n",
    "  'TSLA': tsla_imbalance['vol_imbalance'].cumsum(),\n",
    "  # 'MSFT': msft_imbalance['vol_imbalance'].cumsum(),\n",
    "  # 'AMZN': amzn_imbalance['vol_imbalance'].cumsum(),\n",
    "  # 'NFLX': nflx_imbalance['vol_imbalance'].cumsum(),\n",
    "  # 'EBAY': ebay_imbalance['vol_imbalance'].cumsum(),\n",
    "  # 'APPL': appl_imbalance['vol_imbalance'].cumsum()\n",
    "}\n",
    "# Update the dictionary to only keep the first EVENTS_RANGE items\n",
    "sign_imbalance = {stock: data.head(EVENTS_RANGE) for stock, data in sign_imbalance.items()}\n",
    "volume_imbalance = {stock: data.head(EVENTS_RANGE) for stock, data in volume_imbalance.items()}"
   ],
   "metadata": {
    "collapsed": false,
    "ExecuteTime": {
     "start_time": "2023-10-05T11:04:35.363469Z",
     "end_time": "2023-10-05T11:04:38.754858Z"
    }
   }
  },
  {
   "cell_type": "code",
   "execution_count": 32,
   "outputs": [
    {
     "data": {
      "text/plain": "<Figure size 640x480 with 1 Axes>",
      "image/png": "[encoded data removed]"
     },
     "metadata": {},
     "output_type": "display_data"
    }
   ],
   "source": [
    "tsla_sign_imbalance = tsla_imbalance['sign_imbalance'].cumsum()\n",
    "x = list(range(1, len(tsla_sign_imbalance)+1))\n",
    "plt.plot(x, tsla_sign_imbalance)\n",
    "plt.grid(False)\n",
    "plt.show()"
   ],
   "metadata": {
    "collapsed": false,
    "ExecuteTime": {
     "start_time": "2023-10-05T11:04:38.753883Z",
     "end_time": "2023-10-05T11:04:38.830591Z"
    }
   }
  },
  {
   "cell_type": "code",
   "execution_count": 33,
   "outputs": [
    {
     "data": {
      "text/plain": "<Figure size 640x480 with 1 Axes>",
      "image/png": "[encoded data removed]"
     },
     "metadata": {},
     "output_type": "display_data"
    }
   ],
   "source": [
    "tsla_volume_imbalance = tsla_imbalance['vol_imbalance'].cumsum()\n",
    "x = list(range(1, len(tsla_volume_imbalance)+1))\n",
    "plt.plot(x, tsla_volume_imbalance)\n",
    "plt.grid(False)\n",
    "plt.show()"
   ],
   "metadata": {
    "collapsed": false,
    "ExecuteTime": {
     "start_time": "2023-10-05T11:04:38.831285Z",
     "end_time": "2023-10-05T11:04:38.897818Z"
    }
   }
  },
  {
   "cell_type": "markdown",
   "source": [
    "#### Stationarity Test"
   ],
   "metadata": {
    "collapsed": false
   }
  },
  {
   "cell_type": "code",
   "execution_count": 34,
   "outputs": [
    {
     "name": "stdout",
     "output_type": "stream",
     "text": [
      "TSLA\n",
      "ADF: -1.56\n",
      "p-value: 0.50,\n",
      "N: 7551, \n",
      "critical values: {'1%': -3.43121631233081, '5%': -2.8619228448447456, '10%': -2.566973783870177}\n",
      "We cannot reject the null hypothesis at a significance level of 0.05.\n",
      "The time series appears to be non-stationary.\n",
      "\n",
      "\n"
     ]
    }
   ],
   "source": [
    "# ADF test\n",
    "for stock, data in sign_imbalance.items():\n",
    "    augmented_dickey_fuller(data, stock)"
   ],
   "metadata": {
    "collapsed": false,
    "ExecuteTime": {
     "start_time": "2023-10-05T11:04:38.897964Z",
     "end_time": "2023-10-05T11:04:40.749452Z"
    }
   }
  },
  {
   "cell_type": "code",
   "execution_count": 35,
   "outputs": [
    {
     "name": "stdout",
     "output_type": "stream",
     "text": [
      "TSLA\n",
      "ADF: 1.63\n",
      "p-value: 1.00,\n",
      "N: 7555, \n",
      "critical values: {'1%': -3.4312158535051616, '5%': -2.861922642107883, '10%': -2.566973675950596}\n",
      "We cannot reject the null hypothesis at a significance level of 0.05.\n",
      "The time series appears to be non-stationary.\n",
      "\n",
      "\n"
     ]
    }
   ],
   "source": [
    "# ADF test\n",
    "for stock, data in volume_imbalance.items():\n",
    "    augmented_dickey_fuller(data, stock)"
   ],
   "metadata": {
    "collapsed": false,
    "ExecuteTime": {
     "start_time": "2023-10-05T11:04:40.752428Z",
     "end_time": "2023-10-05T11:04:42.135188Z"
    }
   }
  },
  {
   "cell_type": "code",
   "execution_count": 35,
   "outputs": [],
   "source": [],
   "metadata": {
    "collapsed": false,
    "ExecuteTime": {
     "start_time": "2023-10-05T11:04:42.132426Z",
     "end_time": "2023-10-05T11:04:42.142800Z"
    }
   }
  },
  {
   "cell_type": "markdown",
   "source": [
    "## 3. Autocorrelation Functions\n"
   ],
   "metadata": {
    "collapsed": false
   }
  },
  {
   "cell_type": "code",
   "execution_count": 36,
   "outputs": [
    {
     "name": "stdout",
     "output_type": "stream",
     "text": [
      "dict_keys(['returns_magnitudes', 'signed_orderflow', 'signed_volume', 'sign_imbalance', 'volume_imbalance'])\n"
     ]
    }
   ],
   "source": [
    "# Compute ACF from raw series (e.g., not the cumsum or cumprod, but bare return_magnitudes)\n",
    "acf_data_dir = os.path.join(root_dir, 'data', 'generated', 'mo_data')\n",
    "orderflow_acfs_filename = f\"{acf_data_dir}/mo_orderflow_acfs.pkl\"\n",
    "\n",
    "if not os.path.exists(orderflow_acfs_filename):\n",
    "\n",
    "    # Compute ACF from raw series (e.g., not the cumsum or cumprod, but raw return_magnitudes)\n",
    "    from pathos.multiprocessing import ProcessingPool\n",
    "    def compute_nonlinear_acf_for_dict(data_dict, acf_range, method='spearman'):\n",
    "        result = {}\n",
    "        for stock, series in data_dict.items():\n",
    "            result[stock] = nonlinear_acf(series, acf_range, method=method)\n",
    "        return result\n",
    "\n",
    "    def compute_for_dict_name(dict_name_data_dict, acf_range, method='spearman'):\n",
    "        dict_name, data_dict = dict_name_data_dict\n",
    "        return dict_name, compute_nonlinear_acf_for_dict(data_dict, acf_range, method=method)\n",
    "\n",
    "    all_dicts_names = [\"returns_magnitudes\", \"signed_orderflow\", \"signed_volume\", \"sign_imbalance\", \"volume_imbalance\"]\n",
    "    all_dicts = [returns_magnitudes, signed_orderflow, signed_volume, sign_imbalance, volume_imbalance]\n",
    "\n",
    "    pool = ProcessingPool(processes=4)  # adjust the number of processes as needed\n",
    "    all_results = dict(pool.map(compute_for_dict_name, zip(all_dicts_names, all_dicts), [ACF_RANGE]*len(all_dicts_names), ['spearman']*len(all_dicts_names)))\n",
    "    pool.close()\n",
    "    pool.join()\n",
    "\n",
    "    # Save all ACF results for lazy loading\n",
    "    pickle.dump(all_results, open(orderflow_acfs_filename, \"wb\"))\n",
    "\n",
    "# Load data\n",
    "all_acfs_loaded = pickle.load(open(orderflow_acfs_filename, \"rb\"))\n",
    "print(all_acfs_loaded.keys())"
   ],
   "metadata": {
    "collapsed": false,
    "ExecuteTime": {
     "start_time": "2023-10-05T11:04:42.148386Z",
     "end_time": "2023-10-05T11:04:42.179978Z"
    }
   }
  },
  {
   "cell_type": "code",
   "execution_count": 37,
   "outputs": [],
   "source": [
    "tsa_acf_return_magnitudes = all_acfs_loaded['returns_magnitudes']['TSLA']"
   ],
   "metadata": {
    "collapsed": false,
    "ExecuteTime": {
     "start_time": "2023-10-05T11:04:42.182065Z",
     "end_time": "2023-10-05T11:04:42.224832Z"
    }
   }
  },
  {
   "cell_type": "code",
   "execution_count": 38,
   "outputs": [],
   "source": [
    "def plot_acf(stock_name, random_variate, nonlinear_acf):\n",
    "    plt.figure(figsize=(10, 4))\n",
    "\n",
    "    # Original scale\n",
    "    plt.subplot(1, 2, 1)\n",
    "    plt.plot(range(ACF_RANGE), nonlinear_acf, label='Nonlinear', color='blue')\n",
    "    plt.grid(False)\n",
    "    plt.legend(frameon=False)\n",
    "\n",
    "    # log scale\n",
    "    plt.subplot(1, 2, 2)\n",
    "    plt.plot(range(ACF_RANGE), nonlinear_acf, label='Nonlinear', color='green')\n",
    "    plt.grid(False)\n",
    "    plt.loglog()\n",
    "    plt.legend(frameon=False)\n",
    "    plt.suptitle(f'Nonlinear ACF across lags for {stock_name} {random_variate}')\n",
    "\n",
    "    plt.show()"
   ],
   "metadata": {
    "collapsed": false,
    "ExecuteTime": {
     "start_time": "2023-10-05T11:04:42.209211Z",
     "end_time": "2023-10-05T11:04:42.237591Z"
    }
   }
  },
  {
   "cell_type": "code",
   "execution_count": null,
   "outputs": [],
   "source": [
    "# Plot ACF for each random variable and each stock\n",
    "for random_variate, stocks_data in all_acfs_loaded.items():\n",
    "    for stockname in stocks_data.keys():\n",
    "        plot_acf(stockname, random_variate, stocks_data[stockname])"
   ],
   "metadata": {
    "collapsed": false,
    "ExecuteTime": {
     "start_time": "2023-10-05T11:04:42.239311Z",
     "end_time": "2023-10-05T11:04:48.246596Z"
    }
   }
  },
  {
   "cell_type": "code",
   "execution_count": 39,
   "outputs": [],
   "source": [],
   "metadata": {
    "collapsed": false,
    "ExecuteTime": {
     "start_time": "2023-10-05T11:04:48.246878Z",
     "end_time": "2023-10-05T11:04:48.247999Z"
    }
   }
  },
  {
   "cell_type": "markdown",
   "source": [
    "## 4. The Long Memory of Orderflow"
   ],
   "metadata": {
    "collapsed": false
   }
  },
  {
   "cell_type": "markdown",
   "source": [
    "### 4.1. Estimate ACF scaling parameter\n",
    "Infer an autocorrelation function from a finite return sample, and then we can fit a power-law to the inferred ACF to infer whether the process has long memory."
   ],
   "metadata": {
    "collapsed": false
   }
  },
  {
   "cell_type": "code",
   "execution_count": 40,
   "outputs": [],
   "source": [
    "# Load the pre-computed ACFs\n",
    "# 1. Construct values for x- and y-axis of our ACF\n",
    "def construct_xy(sample: pd.Series) -> pd.DataFrame:\n",
    "    y_values = list(sample)\n",
    "    x_values = list(range(1, len(y_values) + 1))\n",
    "\n",
    "    xy_df = pd.DataFrame({\n",
    "        'x_values': x_values,\n",
    "        'y_values': y_values\n",
    "    })\n",
    "\n",
    "    return xy_df\n",
    "\n",
    "\n",
    "def fit_powerlaw_for_stock(stock_data_tuple):\n",
    "    dict_name, stock, data = stock_data_tuple\n",
    "    acf_values = construct_xy(data)\n",
    "\n",
    "    fit = Fit(acf_values)  # Constructed DataFrame passed here\n",
    "    fit_dict = fit.powerlaw.to_dictionary()\n",
    "\n",
    "    if fit_dict.get(\"function_name\") == \"powerlaw\":\n",
    "        alpha = fit.powerlaw.params.alpha  # Extract 'alpha'\n",
    "        fit_dict.update({\n",
    "            'alpha': alpha,\n",
    "            'stock': stock,\n",
    "            'dict_name': dict_name\n",
    "        })\n",
    "        return fit_dict, fit  # Return both dictionary and fit object\n",
    "    return None, None"
   ],
   "metadata": {
    "collapsed": false,
    "ExecuteTime": {
     "start_time": "2023-10-05T11:04:48.250870Z",
     "end_time": "2023-10-05T11:04:48.273320Z"
    }
   }
  },
  {
   "cell_type": "code",
   "execution_count": 41,
   "outputs": [
    {
     "data": {
      "text/plain": "  function_name                                             params  \\\n0      powerlaw  {'param_names': ['C', 'alpha'], 'C': 0.9931158...   \n1      powerlaw  {'param_names': ['C', 'alpha'], 'C': 0.0948828...   \n2      powerlaw  {'param_names': ['C', 'alpha'], 'C': 0.1436890...   \n3      powerlaw  {'param_names': ['C', 'alpha'], 'C': 0.0601534...   \n4      powerlaw  {'param_names': ['C', 'alpha'], 'C': 0.2102773...   \n5      powerlaw  {'param_names': ['C', 'alpha'], 'C': 0.1014585...   \n\n   xmin_index   xmin         D           bic       mape  adjusted_rsquared  \\\n0         387  388.0  0.130293  -7948.797713   9.343122           0.729433   \n1           7    8.0  0.108652 -12909.788902   9.496436           0.913372   \n2           7    8.0  0.116700 -11510.500750   6.624995           0.882493   \n3          22   23.0  0.070480 -13265.038631   6.025689           0.887178   \n4           5    6.0  0.171687 -11645.905825  19.962886           0.901505   \n5           9   10.0  0.115927 -12306.141192   7.981700           0.889659   \n\n      alpha stock         dict_name  \n0 -0.659105  TSLA  signed_orderflow  \n1 -0.376235  MSFT  signed_orderflow  \n2 -0.316003  AMZN  signed_orderflow  \n3 -0.236579  NFLX  signed_orderflow  \n4 -0.501688  EBAY  signed_orderflow  \n5 -0.304548  APPL  signed_orderflow  ",
      "text/html": "<div>\n<style scoped>\n    .dataframe tbody tr th:only-of-type {\n        vertical-align: middle;\n    }\n\n    .dataframe tbody tr th {\n        vertical-align: top;\n    }\n\n    .dataframe thead th {\n        text-align: right;\n    }\n</style>\n<table border=\"1\" class=\"dataframe\">\n  <thead>\n    <tr style=\"text-align: right;\">\n      <th></th>\n      <th>function_name</th>\n      <th>params</th>\n      <th>xmin_index</th>\n      <th>xmin</th>\n      <th>D</th>\n      <th>bic</th>\n      <th>mape</th>\n      <th>adjusted_rsquared</th>\n      <th>alpha</th>\n      <th>stock</th>\n      <th>dict_name</th>\n    </tr>\n  </thead>\n  <tbody>\n    <tr>\n      <th>0</th>\n      <td>powerlaw</td>\n      <td>{'param_names': ['C', 'alpha'], 'C': 0.9931158...</td>\n      <td>387</td>\n      <td>388.0</td>\n      <td>0.130293</td>\n      <td>-7948.797713</td>\n      <td>9.343122</td>\n      <td>0.729433</td>\n      <td>-0.659105</td>\n      <td>TSLA</td>\n      <td>signed_orderflow</td>\n    </tr>\n    <tr>\n      <th>1</th>\n      <td>powerlaw</td>\n      <td>{'param_names': ['C', 'alpha'], 'C': 0.0948828...</td>\n      <td>7</td>\n      <td>8.0</td>\n      <td>0.108652</td>\n      <td>-12909.788902</td>\n      <td>9.496436</td>\n      <td>0.913372</td>\n      <td>-0.376235</td>\n      <td>MSFT</td>\n      <td>signed_orderflow</td>\n    </tr>\n    <tr>\n      <th>2</th>\n      <td>powerlaw</td>\n      <td>{'param_names': ['C', 'alpha'], 'C': 0.1436890...</td>\n      <td>7</td>\n      <td>8.0</td>\n      <td>0.116700</td>\n      <td>-11510.500750</td>\n      <td>6.624995</td>\n      <td>0.882493</td>\n      <td>-0.316003</td>\n      <td>AMZN</td>\n      <td>signed_orderflow</td>\n    </tr>\n    <tr>\n      <th>3</th>\n      <td>powerlaw</td>\n      <td>{'param_names': ['C', 'alpha'], 'C': 0.0601534...</td>\n      <td>22</td>\n      <td>23.0</td>\n      <td>0.070480</td>\n      <td>-13265.038631</td>\n      <td>6.025689</td>\n      <td>0.887178</td>\n      <td>-0.236579</td>\n      <td>NFLX</td>\n      <td>signed_orderflow</td>\n    </tr>\n    <tr>\n      <th>4</th>\n      <td>powerlaw</td>\n      <td>{'param_names': ['C', 'alpha'], 'C': 0.2102773...</td>\n      <td>5</td>\n      <td>6.0</td>\n      <td>0.171687</td>\n      <td>-11645.905825</td>\n      <td>19.962886</td>\n      <td>0.901505</td>\n      <td>-0.501688</td>\n      <td>EBAY</td>\n      <td>signed_orderflow</td>\n    </tr>\n    <tr>\n      <th>5</th>\n      <td>powerlaw</td>\n      <td>{'param_names': ['C', 'alpha'], 'C': 0.1014585...</td>\n      <td>9</td>\n      <td>10.0</td>\n      <td>0.115927</td>\n      <td>-12306.141192</td>\n      <td>7.981700</td>\n      <td>0.889659</td>\n      <td>-0.304548</td>\n      <td>APPL</td>\n      <td>signed_orderflow</td>\n    </tr>\n  </tbody>\n</table>\n</div>"
     },
     "execution_count": 41,
     "metadata": {},
     "output_type": "execute_result"
    }
   ],
   "source": [
    "# Choose a specific variable, for example 'returns_magnitudes'\n",
    "fit_results_list = []\n",
    "fit_objects = {}  # Dictionary to store fit objects\n",
    "\n",
    "# Choose a specific variable, for example 'returns_magnitudes'\n",
    "dict_name = 'signed_orderflow'\n",
    "\n",
    "for stock, data in all_acfs_loaded[dict_name].items():\n",
    "    fit_dict, fit_obj = fit_powerlaw_for_stock((dict_name, stock, data))\n",
    "    if fit_dict:\n",
    "        fit_results_list.append(fit_dict)\n",
    "        fit_objects[(stock, dict_name)] = fit_obj  # Store the fit object\n",
    "\n",
    "acf_fit_results = pd.DataFrame(fit_results_list)\n",
    "acf_fit_results"
   ],
   "metadata": {
    "collapsed": false,
    "ExecuteTime": {
     "start_time": "2023-10-05T11:04:48.268764Z",
     "end_time": "2023-10-05T11:13:19.116316Z"
    }
   }
  },
  {
   "cell_type": "code",
   "execution_count": 42,
   "outputs": [
    {
     "data": {
      "text/plain": "dict_keys([('TSLA', 'signed_orderflow'), ('MSFT', 'signed_orderflow'), ('AMZN', 'signed_orderflow'), ('NFLX', 'signed_orderflow'), ('EBAY', 'signed_orderflow'), ('APPL', 'signed_orderflow')])"
     },
     "execution_count": 42,
     "metadata": {},
     "output_type": "execute_result"
    }
   ],
   "source": [
    "fit_objects.keys()"
   ],
   "metadata": {
    "collapsed": false,
    "ExecuteTime": {
     "start_time": "2023-10-05T11:13:19.115461Z",
     "end_time": "2023-10-05T11:13:19.228932Z"
    }
   }
  },
  {
   "cell_type": "code",
   "execution_count": 43,
   "outputs": [],
   "source": [
    "# Retrieve the fit object for 'STOCK' using the 'random_variable' dictionary:\n",
    "# tsla_acf_fit = fit_objects[('APPL', 'returns_magnitudes')]\n",
    "# tsla_acf_fit.powerlaw.plot_fit()"
   ],
   "metadata": {
    "collapsed": false,
    "ExecuteTime": {
     "start_time": "2023-10-05T11:13:19.181981Z",
     "end_time": "2023-10-05T11:13:19.229110Z"
    }
   }
  },
  {
   "cell_type": "code",
   "execution_count": 44,
   "outputs": [
    {
     "name": "stdout",
     "output_type": "stream",
     "text": [
      "Average Alpha: -0.3990262266391975\n"
     ]
    }
   ],
   "source": [
    "# Average value for alpha of 'random_variable' accross 'STOCKS'\n",
    "avg_alpha = acf_fit_results['alpha'].mean()\n",
    "print(f\"Average Alpha: {avg_alpha}\")"
   ],
   "metadata": {
    "collapsed": false,
    "ExecuteTime": {
     "start_time": "2023-10-05T11:13:19.218970Z",
     "end_time": "2023-10-05T11:13:19.299420Z"
    }
   }
  },
  {
   "cell_type": "code",
   "execution_count": null,
   "outputs": [],
   "source": [],
   "metadata": {
    "collapsed": false
   }
  },
  {
   "cell_type": "markdown",
   "source": [
    "### 4.2. Estimate Hurst exponent\n",
    "\n",
    "The Hurst Exponent, denoted by $H$, is a statistical measure of a time series which can be used to determine the long memory nature of the series. Its value can range between 0 and 1:"
   ],
   "metadata": {
    "collapsed": false,
    "ExecuteTime": {
     "start_time": "2023-10-01T12:11:02.975053Z",
     "end_time": "2023-10-01T12:11:12.527000Z"
    }
   },
   "outputs": [
    {
     "name": "stdout",
     "output_type": "stream",
     "text": [
      "\n",
      "For powerlaw fitted using MLE:\n",
      "\n",
      "Pre-fitting parameters;\n",
      "xmin: 2.0\n",
      "\n",
      "Fitting parameters;\n",
      "param_names = ['C', 'alpha']\n",
      "C = 0.004896708201515535\n",
      "alpha = 0.6344809217031534\n",
      "\n",
      "Goodness of fit to data;\n",
      "D = 0.09183673469387756\n",
      "bic = -949.8108379500586\n",
      "mape = 9.392559002982424\n",
      "Adjusted R-squared = 0.8995072340161586\n",
      "\n",
      "\n",
      "\n",
      "For powerlaw fitted using MLE:\n",
      "\n",
      "Pre-fitting parameters;\n",
      "xmin: 2.0\n",
      "\n",
      "Fitting parameters;\n",
      "param_names = ['C', 'alpha']\n",
      "C = 0.0020690073156606117\n",
      "alpha = 0.5426970413254992\n",
      "\n",
      "Goodness of fit to data;\n",
      "D = 0.02040816326530612\n",
      "bic = -1718.8016459095988\n",
      "mape = 1.0589247746805535\n",
      "Adjusted R-squared = 0.9993787130550914\n",
      "\n",
      "\n",
      "Standard Hurst Exponent: 0.6344809217031534 (Super-diffusive: series demonstrates persistent long-range dependence)\n",
      "Generalized Hurst Exponent: 0.5426970413254992 (Super-diffusive: series demonstrates persistent long-range dependence)\n"
     ]
    }
   ],
   "execution_count": 13
  },
  {
   "cell_type": "code",
   "execution_count": 45,
   "outputs": [],
   "source": [
    "def compute_hurst_for_stock(stock_data_tuple, method='standard'):\n",
    "    dict_name, stock, data = stock_data_tuple\n",
    "\n",
    "    if method == 'standard':\n",
    "        hurst_val, fit = standard_hurst(data)\n",
    "    elif method == 'generalized':\n",
    "        hurst_val, fit = generalized_hurst(data, min_lag=12)\n",
    "    else:\n",
    "        raise ValueError(\"Invalid method provided. Choose either 'standard' or 'generalized'.\")\n",
    "\n",
    "    fit_dict = fit.powerlaw.to_dictionary()\n",
    "\n",
    "    # Update the dictionary with Hurst values and stock name\n",
    "    if fit_dict.get(\"function_name\") == \"powerlaw\":\n",
    "        fit_dict.update({\n",
    "            f'{method}_hurst': hurst_val,\n",
    "            'stock': stock,\n",
    "            'dict_name': dict_name\n",
    "        })\n",
    "        return fit_dict, fit\n",
    "    return None, None"
   ],
   "metadata": {
    "collapsed": false,
    "ExecuteTime": {
     "start_time": "2023-10-05T11:13:19.260221Z",
     "end_time": "2023-10-05T11:13:19.299856Z"
    }
   }
  },
  {
   "cell_type": "code",
   "execution_count": 46,
   "outputs": [
    {
     "data": {
      "text/plain": "  function_name                                             params  \\\n0      powerlaw  {'param_names': ['C', 'alpha'], 'C': 1.3896497...   \n1      powerlaw  {'param_names': ['C', 'alpha'], 'C': 1.3149070...   \n2      powerlaw  {'param_names': ['C', 'alpha'], 'C': 1.3574943...   \n3      powerlaw  {'param_names': ['C', 'alpha'], 'C': 1.2580985...   \n4      powerlaw  {'param_names': ['C', 'alpha'], 'C': 1.1734121...   \n5      powerlaw  {'param_names': ['C', 'alpha'], 'C': 1.4642262...   \n\n   xmin_index  xmin         D          bic      mape  adjusted_rsquared  \\\n0           8   3.0  0.022727 -1062.620331  0.965688           0.999353   \n1           8   3.0  0.032468 -1310.658731  0.742499           0.999349   \n2           8   3.0  0.022727 -1109.508476  0.863201           0.999662   \n3           1   1.0  0.022222 -1315.972826  1.020392           0.999694   \n4           1   1.0  0.022222 -1199.432471  1.147596           0.999421   \n5          11   4.0  0.022951 -1128.139064  0.845695           0.999451   \n\n   standard_hurst stock         dict_name  \n0        0.651344  TSLA  signed_orderflow  \n1        0.584641  MSFT  signed_orderflow  \n2        0.703758  AMZN  signed_orderflow  \n3        0.664452  NFLX  signed_orderflow  \n4        0.652387  EBAY  signed_orderflow  \n5        0.636417  APPL  signed_orderflow  ",
      "text/html": "<div>\n<style scoped>\n    .dataframe tbody tr th:only-of-type {\n        vertical-align: middle;\n    }\n\n    .dataframe tbody tr th {\n        vertical-align: top;\n    }\n\n    .dataframe thead th {\n        text-align: right;\n    }\n</style>\n<table border=\"1\" class=\"dataframe\">\n  <thead>\n    <tr style=\"text-align: right;\">\n      <th></th>\n      <th>function_name</th>\n      <th>params</th>\n      <th>xmin_index</th>\n      <th>xmin</th>\n      <th>D</th>\n      <th>bic</th>\n      <th>mape</th>\n      <th>adjusted_rsquared</th>\n      <th>standard_hurst</th>\n      <th>stock</th>\n      <th>dict_name</th>\n    </tr>\n  </thead>\n  <tbody>\n    <tr>\n      <th>0</th>\n      <td>powerlaw</td>\n      <td>{'param_names': ['C', 'alpha'], 'C': 1.3896497...</td>\n      <td>8</td>\n      <td>3.0</td>\n      <td>0.022727</td>\n      <td>-1062.620331</td>\n      <td>0.965688</td>\n      <td>0.999353</td>\n      <td>0.651344</td>\n      <td>TSLA</td>\n      <td>signed_orderflow</td>\n    </tr>\n    <tr>\n      <th>1</th>\n      <td>powerlaw</td>\n      <td>{'param_names': ['C', 'alpha'], 'C': 1.3149070...</td>\n      <td>8</td>\n      <td>3.0</td>\n      <td>0.032468</td>\n      <td>-1310.658731</td>\n      <td>0.742499</td>\n      <td>0.999349</td>\n      <td>0.584641</td>\n      <td>MSFT</td>\n      <td>signed_orderflow</td>\n    </tr>\n    <tr>\n      <th>2</th>\n      <td>powerlaw</td>\n      <td>{'param_names': ['C', 'alpha'], 'C': 1.3574943...</td>\n      <td>8</td>\n      <td>3.0</td>\n      <td>0.022727</td>\n      <td>-1109.508476</td>\n      <td>0.863201</td>\n      <td>0.999662</td>\n      <td>0.703758</td>\n      <td>AMZN</td>\n      <td>signed_orderflow</td>\n    </tr>\n    <tr>\n      <th>3</th>\n      <td>powerlaw</td>\n      <td>{'param_names': ['C', 'alpha'], 'C': 1.2580985...</td>\n      <td>1</td>\n      <td>1.0</td>\n      <td>0.022222</td>\n      <td>-1315.972826</td>\n      <td>1.020392</td>\n      <td>0.999694</td>\n      <td>0.664452</td>\n      <td>NFLX</td>\n      <td>signed_orderflow</td>\n    </tr>\n    <tr>\n      <th>4</th>\n      <td>powerlaw</td>\n      <td>{'param_names': ['C', 'alpha'], 'C': 1.1734121...</td>\n      <td>1</td>\n      <td>1.0</td>\n      <td>0.022222</td>\n      <td>-1199.432471</td>\n      <td>1.147596</td>\n      <td>0.999421</td>\n      <td>0.652387</td>\n      <td>EBAY</td>\n      <td>signed_orderflow</td>\n    </tr>\n    <tr>\n      <th>5</th>\n      <td>powerlaw</td>\n      <td>{'param_names': ['C', 'alpha'], 'C': 1.4642262...</td>\n      <td>11</td>\n      <td>4.0</td>\n      <td>0.022951</td>\n      <td>-1128.139064</td>\n      <td>0.845695</td>\n      <td>0.999451</td>\n      <td>0.636417</td>\n      <td>APPL</td>\n      <td>signed_orderflow</td>\n    </tr>\n  </tbody>\n</table>\n</div>"
     },
     "execution_count": 46,
     "metadata": {},
     "output_type": "execute_result"
    }
   ],
   "source": [
    "# Standard Hurst\n",
    "\n",
    "methods = ['standard']\n",
    "data_dictionaries = {\n",
    "    # 'returns_magnitudes': returns_magnitudes,\n",
    "    'signed_orderflow': signed_orderflow,\n",
    "    # 'signed_volume': signed_volume,\n",
    "    # 'sign_imbalance': sign_imbalance,\n",
    "    # 'volume_imbalance': volume_imbalance\n",
    "}\n",
    "\n",
    "fit_results_list = []\n",
    "fit_objects = {}\n",
    "\n",
    "for dict_name, data_dict in data_dictionaries.items():\n",
    "    for method in methods:\n",
    "        for stock, data in data_dict.items():\n",
    "            fit_dict, fit = compute_hurst_for_stock((dict_name, stock, data), method=method)\n",
    "            if fit_dict:\n",
    "                fit_results_list.append(fit_dict)\n",
    "                fit_objects[(stock, method, dict_name)] = fit\n",
    "\n",
    "std_hurst_fit_results = pd.DataFrame(fit_results_list)\n",
    "std_hurst_fit_results"
   ],
   "metadata": {
    "collapsed": false,
    "ExecuteTime": {
     "start_time": "2023-10-05T11:13:19.291939Z",
     "end_time": "2023-10-05T11:15:28.326813Z"
    }
   }
  },
  {
   "cell_type": "code",
   "execution_count": 47,
   "outputs": [
    {
     "name": "stdout",
     "output_type": "stream",
     "text": [
      "dict_keys([('TSLA', 'standard', 'signed_orderflow'), ('MSFT', 'standard', 'signed_orderflow'), ('AMZN', 'standard', 'signed_orderflow'), ('NFLX', 'standard', 'signed_orderflow'), ('EBAY', 'standard', 'signed_orderflow'), ('APPL', 'standard', 'signed_orderflow')])\n"
     ]
    }
   ],
   "source": [
    "print(fit_objects.keys())"
   ],
   "metadata": {
    "collapsed": false,
    "ExecuteTime": {
     "start_time": "2023-10-05T11:15:28.327778Z",
     "end_time": "2023-10-05T11:15:28.482642Z"
    }
   }
  },
  {
   "cell_type": "code",
   "execution_count": 54,
   "outputs": [
    {
     "name": "stdout",
     "output_type": "stream",
     "text": [
      "Average Standard Hurst: 0.6488332737158965\n"
     ]
    }
   ],
   "source": [
    "# Average Standard Hurst exponents across stocks\n",
    "avg_hurst_std = std_hurst_fit_results['standard_hurst'].mean()\n",
    "print(f\"Average Standard Hurst: {avg_hurst_std}\")"
   ],
   "metadata": {
    "collapsed": false,
    "ExecuteTime": {
     "start_time": "2023-10-05T11:18:33.740163Z",
     "end_time": "2023-10-05T11:18:33.763021Z"
    }
   }
  },
  {
   "cell_type": "code",
   "execution_count": 48,
   "outputs": [],
   "source": [
    "# Retrieve the fit object for 'STOCK' using the 'standard deviation of sums' method and 'random_variable' dictionary:\n",
    "# tsla_std_hurst = fit_objects[('TSLA', 'standard', 'returns_magnitudes')]\n",
    "# tsla_std_hurst.powerlaw.plot_fit()"
   ],
   "metadata": {
    "collapsed": false,
    "ExecuteTime": {
     "start_time": "2023-10-05T11:15:28.395837Z",
     "end_time": "2023-10-05T11:15:28.482815Z"
    }
   }
  },
  {
   "cell_type": "code",
   "execution_count": 49,
   "outputs": [
    {
     "data": {
      "text/plain": "  function_name                                             params  \\\n0      powerlaw  {'param_names': ['C', 'alpha'], 'C': 1.1777535...   \n1      powerlaw  {'param_names': ['C', 'alpha'], 'C': 1.0720459...   \n2      powerlaw  {'param_names': ['C', 'alpha'], 'C': 1.2342921...   \n3      powerlaw  {'param_names': ['C', 'alpha'], 'C': 1.0753799...   \n4      powerlaw  {'param_names': ['C', 'alpha'], 'C': 0.7925486...   \n5      powerlaw  {'param_names': ['C', 'alpha'], 'C': 1.2679919...   \n\n   xmin_index  xmin         D          bic      mape  adjusted_rsquared  \\\n0           1  12.0  0.025397 -1299.116219  0.867117           0.999304   \n1          16  16.0  0.013333 -2143.320450  0.227453           0.999909   \n2           1  12.0  0.012698 -1393.294546  0.641581           0.999681   \n3           1  12.0  0.012698 -2001.887503  0.296164           0.999921   \n4         130  48.0  0.021505 -1483.875857  0.091737           0.999937   \n5           1  12.0  0.022222 -1547.853721  0.585388           0.999655   \n\n   generalized_hurst stock         dict_name  \n0           0.641369  TSLA  signed_orderflow  \n1           0.581131  MSFT  signed_orderflow  \n2           0.677272  AMZN  signed_orderflow  \n3           0.652245  NFLX  signed_orderflow  \n4           0.696571  EBAY  signed_orderflow  \n5           0.619485  APPL  signed_orderflow  ",
      "text/html": "<div>\n<style scoped>\n    .dataframe tbody tr th:only-of-type {\n        vertical-align: middle;\n    }\n\n    .dataframe tbody tr th {\n        vertical-align: top;\n    }\n\n    .dataframe thead th {\n        text-align: right;\n    }\n</style>\n<table border=\"1\" class=\"dataframe\">\n  <thead>\n    <tr style=\"text-align: right;\">\n      <th></th>\n      <th>function_name</th>\n      <th>params</th>\n      <th>xmin_index</th>\n      <th>xmin</th>\n      <th>D</th>\n      <th>bic</th>\n      <th>mape</th>\n      <th>adjusted_rsquared</th>\n      <th>generalized_hurst</th>\n      <th>stock</th>\n      <th>dict_name</th>\n    </tr>\n  </thead>\n  <tbody>\n    <tr>\n      <th>0</th>\n      <td>powerlaw</td>\n      <td>{'param_names': ['C', 'alpha'], 'C': 1.1777535...</td>\n      <td>1</td>\n      <td>12.0</td>\n      <td>0.025397</td>\n      <td>-1299.116219</td>\n      <td>0.867117</td>\n      <td>0.999304</td>\n      <td>0.641369</td>\n      <td>TSLA</td>\n      <td>signed_orderflow</td>\n    </tr>\n    <tr>\n      <th>1</th>\n      <td>powerlaw</td>\n      <td>{'param_names': ['C', 'alpha'], 'C': 1.0720459...</td>\n      <td>16</td>\n      <td>16.0</td>\n      <td>0.013333</td>\n      <td>-2143.320450</td>\n      <td>0.227453</td>\n      <td>0.999909</td>\n      <td>0.581131</td>\n      <td>MSFT</td>\n      <td>signed_orderflow</td>\n    </tr>\n    <tr>\n      <th>2</th>\n      <td>powerlaw</td>\n      <td>{'param_names': ['C', 'alpha'], 'C': 1.2342921...</td>\n      <td>1</td>\n      <td>12.0</td>\n      <td>0.012698</td>\n      <td>-1393.294546</td>\n      <td>0.641581</td>\n      <td>0.999681</td>\n      <td>0.677272</td>\n      <td>AMZN</td>\n      <td>signed_orderflow</td>\n    </tr>\n    <tr>\n      <th>3</th>\n      <td>powerlaw</td>\n      <td>{'param_names': ['C', 'alpha'], 'C': 1.0753799...</td>\n      <td>1</td>\n      <td>12.0</td>\n      <td>0.012698</td>\n      <td>-2001.887503</td>\n      <td>0.296164</td>\n      <td>0.999921</td>\n      <td>0.652245</td>\n      <td>NFLX</td>\n      <td>signed_orderflow</td>\n    </tr>\n    <tr>\n      <th>4</th>\n      <td>powerlaw</td>\n      <td>{'param_names': ['C', 'alpha'], 'C': 0.7925486...</td>\n      <td>130</td>\n      <td>48.0</td>\n      <td>0.021505</td>\n      <td>-1483.875857</td>\n      <td>0.091737</td>\n      <td>0.999937</td>\n      <td>0.696571</td>\n      <td>EBAY</td>\n      <td>signed_orderflow</td>\n    </tr>\n    <tr>\n      <th>5</th>\n      <td>powerlaw</td>\n      <td>{'param_names': ['C', 'alpha'], 'C': 1.2679919...</td>\n      <td>1</td>\n      <td>12.0</td>\n      <td>0.022222</td>\n      <td>-1547.853721</td>\n      <td>0.585388</td>\n      <td>0.999655</td>\n      <td>0.619485</td>\n      <td>APPL</td>\n      <td>signed_orderflow</td>\n    </tr>\n  </tbody>\n</table>\n</div>"
     },
     "execution_count": 49,
     "metadata": {},
     "output_type": "execute_result"
    }
   ],
   "source": [
    "# Generalized Hurst\n",
    "\n",
    "methods = ['generalized']\n",
    "data_dictionaries = {\n",
    "    # 'returns_magnitudes': returns_magnitudes,\n",
    "    'signed_orderflow': signed_orderflow,\n",
    "    # 'signed_volume': signed_volume,\n",
    "    # 'sign_imbalance': sign_imbalance,\n",
    "    # 'volume_imbalance': volume_imbalance\n",
    "}\n",
    "\n",
    "fit_results_list = []\n",
    "fit_objects = {}\n",
    "\n",
    "for dict_name, data_dict in data_dictionaries.items():\n",
    "    for method in methods:\n",
    "        for stock, data in data_dict.items():\n",
    "            fit_dict, fit = compute_hurst_for_stock((dict_name, stock, data), method=method)\n",
    "            if fit_dict:\n",
    "                fit_results_list.append(fit_dict)\n",
    "                fit_objects[(stock, method, dict_name)] = fit\n",
    "\n",
    "gen_hurst_fit_results = pd.DataFrame(fit_results_list)\n",
    "gen_hurst_fit_results"
   ],
   "metadata": {
    "collapsed": false,
    "ExecuteTime": {
     "start_time": "2023-10-05T11:15:28.428825Z",
     "end_time": "2023-10-05T11:17:36.916909Z"
    }
   }
  },
  {
   "cell_type": "code",
   "execution_count": 50,
   "outputs": [
    {
     "name": "stdout",
     "output_type": "stream",
     "text": [
      "dict_keys([('TSLA', 'generalized', 'signed_orderflow'), ('MSFT', 'generalized', 'signed_orderflow'), ('AMZN', 'generalized', 'signed_orderflow'), ('NFLX', 'generalized', 'signed_orderflow'), ('EBAY', 'generalized', 'signed_orderflow'), ('APPL', 'generalized', 'signed_orderflow')])\n"
     ]
    }
   ],
   "source": [
    "print(fit_objects.keys())"
   ],
   "metadata": {
    "collapsed": false,
    "ExecuteTime": {
     "start_time": "2023-10-05T11:17:36.916798Z",
     "end_time": "2023-10-05T11:17:36.936500Z"
    }
   }
  },
  {
   "cell_type": "code",
   "execution_count": 51,
   "outputs": [],
   "source": [
    "# Retrieve the fit object for 'STOCK' using the 'generalized' method and 'random_variable' dictionary:\n",
    "# tsla_gen_hurst = fit_objects[('TSLA', 'generalized', 'returns_magnitudes')]\n",
    "# tsla_gen_hurst.powerlaw.plot_fit()"
   ],
   "metadata": {
    "collapsed": false,
    "ExecuteTime": {
     "start_time": "2023-10-05T11:17:36.935910Z",
     "end_time": "2023-10-05T11:17:36.963846Z"
    }
   }
  },
  {
   "cell_type": "code",
   "execution_count": 53,
   "outputs": [
    {
     "name": "stdout",
     "output_type": "stream",
     "text": [
      "Min Generalized Hurst: 0.5811312628305754\n",
      "Max Generalized Hurst: 0.6965713396048264\n",
      "Average Generalized Hurst: 0.6446788442949767\n",
      "Standard_dev Generalized Hurst: 0.04122228420325368\n"
     ]
    }
   ],
   "source": [
    "# Generalized Hurst statistic across stocks\n",
    "min_hurst_gen = gen_hurst_fit_results['generalized_hurst'].min()\n",
    "max_hurst_gen = gen_hurst_fit_results['generalized_hurst'].max()\n",
    "avg_hurst_gen = gen_hurst_fit_results['generalized_hurst'].mean()\n",
    "standard_dev = gen_hurst_fit_results['generalized_hurst'].std()\n",
    "\n",
    "\n",
    "print(f\"Min Generalized Hurst: {min_hurst_gen}\")\n",
    "print(f\"Max Generalized Hurst: {max_hurst_gen}\")\n",
    "print(f\"Average Generalized Hurst: {avg_hurst_gen}\")\n",
    "print(f\"Standard_dev Generalized Hurst: {standard_dev}\")"
   ],
   "metadata": {
    "collapsed": false,
    "ExecuteTime": {
     "start_time": "2023-10-05T11:18:05.384487Z",
     "end_time": "2023-10-05T11:18:05.446022Z"
    }
   }
  },
  {
   "cell_type": "code",
   "execution_count": null,
   "outputs": [],
   "source": [],
   "metadata": {
    "collapsed": false
   }
  }
 ],
 "metadata": {
  "kernelspec": {
   "display_name": "Python 3",
   "language": "python",
   "name": "python3"
  },
  "language_info": {
   "codemirror_mode": {
    "name": "ipython",
    "version": 2
   },
   "file_extension": ".py",
   "mimetype": "text/x-python",
   "name": "python",
   "nbconvert_exporter": "python",
   "pygments_lexer": "ipython2",
   "version": "2.7.6"
  }
 },
 "nbformat": 4,
 "nbformat_minor": 0
}
