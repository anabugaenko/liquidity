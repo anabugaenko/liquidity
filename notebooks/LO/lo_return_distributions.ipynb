{
 "cells": [
  {
   "cell_type": "code",
   "execution_count": 1,
   "metadata": {
    "collapsed": true,
    "ExecuteTime": {
     "start_time": "2023-10-13T13:08:08.440929Z",
     "end_time": "2023-10-13T13:08:10.555257Z"
    }
   },
   "outputs": [],
   "source": [
    "from notebooks.util.distribution_utils import *\n",
    "\n",
    "from liquidity.util.utils import compute_returns\n",
    "from hurst_exponent.util.utils import augmented_dickey_fuller"
   ]
  },
  {
   "cell_type": "code",
   "execution_count": 2,
   "outputs": [],
   "source": [
    "# Automatically reload changes in package dependencies\n",
    "%load_ext autoreload\n",
    "%autoreload 2"
   ],
   "metadata": {
    "collapsed": false,
    "ExecuteTime": {
     "start_time": "2023-10-13T13:08:09.442465Z",
     "end_time": "2023-10-13T13:08:10.578816Z"
    }
   }
  },
  {
   "cell_type": "code",
   "execution_count": 3,
   "outputs": [],
   "source": [
    "# Number of events to use\n",
    "EVENTS_RANGE = 500000"
   ],
   "metadata": {
    "collapsed": false,
    "ExecuteTime": {
     "start_time": "2023-10-13T13:08:09.461277Z",
     "end_time": "2023-10-13T13:08:10.591853Z"
    }
   }
  },
  {
   "cell_type": "markdown",
   "source": [
    "## Load limit orders raw sample data"
   ],
   "metadata": {
    "collapsed": false
   }
  },
  {
   "cell_type": "code",
   "execution_count": 4,
   "outputs": [
    {
     "ename": "FileNotFoundError",
     "evalue": "[Errno 2] No such file or directory: '/Users/ana_bugaenko/workspace/another_workspace/liquidity/notebooks/LO/../../data/limit_orders/TSLA-2016-R1.csv'",
     "output_type": "error",
     "traceback": [
      "\u001B[0;31m---------------------------------------------------------------------------\u001B[0m",
      "\u001B[0;31mFileNotFoundError\u001B[0m                         Traceback (most recent call last)",
      "Cell \u001B[0;32mIn[4], line 18\u001B[0m\n\u001B[1;32m     15\u001B[0m     stock_file_path \u001B[38;5;241m=\u001B[39m os\u001B[38;5;241m.\u001B[39mpath\u001B[38;5;241m.\u001B[39mjoin(data_dir, filename)\n\u001B[1;32m     17\u001B[0m     \u001B[38;5;66;03m# Read the CSV and store in the dictionary\u001B[39;00m\n\u001B[0;32m---> 18\u001B[0m     stock_dfs[stock] \u001B[38;5;241m=\u001B[39m \u001B[43mpd\u001B[49m\u001B[38;5;241;43m.\u001B[39;49m\u001B[43mread_csv\u001B[49m\u001B[43m(\u001B[49m\u001B[43mstock_file_path\u001B[49m\u001B[43m)\u001B[49m\n\u001B[1;32m     20\u001B[0m \u001B[38;5;66;03m# Access the dataframe using stock's ticker as key\u001B[39;00m\n\u001B[1;32m     21\u001B[0m tsla_raw_df \u001B[38;5;241m=\u001B[39m stock_dfs[\u001B[38;5;124m'\u001B[39m\u001B[38;5;124mTSLA\u001B[39m\u001B[38;5;124m'\u001B[39m]\n",
      "File \u001B[0;32m~/.conda/envs/py311/lib/python3.11/site-packages/pandas/io/parsers/readers.py:948\u001B[0m, in \u001B[0;36mread_csv\u001B[0;34m(filepath_or_buffer, sep, delimiter, header, names, index_col, usecols, dtype, engine, converters, true_values, false_values, skipinitialspace, skiprows, skipfooter, nrows, na_values, keep_default_na, na_filter, verbose, skip_blank_lines, parse_dates, infer_datetime_format, keep_date_col, date_parser, date_format, dayfirst, cache_dates, iterator, chunksize, compression, thousands, decimal, lineterminator, quotechar, quoting, doublequote, escapechar, comment, encoding, encoding_errors, dialect, on_bad_lines, delim_whitespace, low_memory, memory_map, float_precision, storage_options, dtype_backend)\u001B[0m\n\u001B[1;32m    935\u001B[0m kwds_defaults \u001B[38;5;241m=\u001B[39m _refine_defaults_read(\n\u001B[1;32m    936\u001B[0m     dialect,\n\u001B[1;32m    937\u001B[0m     delimiter,\n\u001B[0;32m   (...)\u001B[0m\n\u001B[1;32m    944\u001B[0m     dtype_backend\u001B[38;5;241m=\u001B[39mdtype_backend,\n\u001B[1;32m    945\u001B[0m )\n\u001B[1;32m    946\u001B[0m kwds\u001B[38;5;241m.\u001B[39mupdate(kwds_defaults)\n\u001B[0;32m--> 948\u001B[0m \u001B[38;5;28;01mreturn\u001B[39;00m \u001B[43m_read\u001B[49m\u001B[43m(\u001B[49m\u001B[43mfilepath_or_buffer\u001B[49m\u001B[43m,\u001B[49m\u001B[43m \u001B[49m\u001B[43mkwds\u001B[49m\u001B[43m)\u001B[49m\n",
      "File \u001B[0;32m~/.conda/envs/py311/lib/python3.11/site-packages/pandas/io/parsers/readers.py:611\u001B[0m, in \u001B[0;36m_read\u001B[0;34m(filepath_or_buffer, kwds)\u001B[0m\n\u001B[1;32m    608\u001B[0m _validate_names(kwds\u001B[38;5;241m.\u001B[39mget(\u001B[38;5;124m\"\u001B[39m\u001B[38;5;124mnames\u001B[39m\u001B[38;5;124m\"\u001B[39m, \u001B[38;5;28;01mNone\u001B[39;00m))\n\u001B[1;32m    610\u001B[0m \u001B[38;5;66;03m# Create the parser.\u001B[39;00m\n\u001B[0;32m--> 611\u001B[0m parser \u001B[38;5;241m=\u001B[39m \u001B[43mTextFileReader\u001B[49m\u001B[43m(\u001B[49m\u001B[43mfilepath_or_buffer\u001B[49m\u001B[43m,\u001B[49m\u001B[43m \u001B[49m\u001B[38;5;241;43m*\u001B[39;49m\u001B[38;5;241;43m*\u001B[39;49m\u001B[43mkwds\u001B[49m\u001B[43m)\u001B[49m\n\u001B[1;32m    613\u001B[0m \u001B[38;5;28;01mif\u001B[39;00m chunksize \u001B[38;5;129;01mor\u001B[39;00m iterator:\n\u001B[1;32m    614\u001B[0m     \u001B[38;5;28;01mreturn\u001B[39;00m parser\n",
      "File \u001B[0;32m~/.conda/envs/py311/lib/python3.11/site-packages/pandas/io/parsers/readers.py:1448\u001B[0m, in \u001B[0;36mTextFileReader.__init__\u001B[0;34m(self, f, engine, **kwds)\u001B[0m\n\u001B[1;32m   1445\u001B[0m     \u001B[38;5;28mself\u001B[39m\u001B[38;5;241m.\u001B[39moptions[\u001B[38;5;124m\"\u001B[39m\u001B[38;5;124mhas_index_names\u001B[39m\u001B[38;5;124m\"\u001B[39m] \u001B[38;5;241m=\u001B[39m kwds[\u001B[38;5;124m\"\u001B[39m\u001B[38;5;124mhas_index_names\u001B[39m\u001B[38;5;124m\"\u001B[39m]\n\u001B[1;32m   1447\u001B[0m \u001B[38;5;28mself\u001B[39m\u001B[38;5;241m.\u001B[39mhandles: IOHandles \u001B[38;5;241m|\u001B[39m \u001B[38;5;28;01mNone\u001B[39;00m \u001B[38;5;241m=\u001B[39m \u001B[38;5;28;01mNone\u001B[39;00m\n\u001B[0;32m-> 1448\u001B[0m \u001B[38;5;28mself\u001B[39m\u001B[38;5;241m.\u001B[39m_engine \u001B[38;5;241m=\u001B[39m \u001B[38;5;28;43mself\u001B[39;49m\u001B[38;5;241;43m.\u001B[39;49m\u001B[43m_make_engine\u001B[49m\u001B[43m(\u001B[49m\u001B[43mf\u001B[49m\u001B[43m,\u001B[49m\u001B[43m \u001B[49m\u001B[38;5;28;43mself\u001B[39;49m\u001B[38;5;241;43m.\u001B[39;49m\u001B[43mengine\u001B[49m\u001B[43m)\u001B[49m\n",
      "File \u001B[0;32m~/.conda/envs/py311/lib/python3.11/site-packages/pandas/io/parsers/readers.py:1705\u001B[0m, in \u001B[0;36mTextFileReader._make_engine\u001B[0;34m(self, f, engine)\u001B[0m\n\u001B[1;32m   1703\u001B[0m     \u001B[38;5;28;01mif\u001B[39;00m \u001B[38;5;124m\"\u001B[39m\u001B[38;5;124mb\u001B[39m\u001B[38;5;124m\"\u001B[39m \u001B[38;5;129;01mnot\u001B[39;00m \u001B[38;5;129;01min\u001B[39;00m mode:\n\u001B[1;32m   1704\u001B[0m         mode \u001B[38;5;241m+\u001B[39m\u001B[38;5;241m=\u001B[39m \u001B[38;5;124m\"\u001B[39m\u001B[38;5;124mb\u001B[39m\u001B[38;5;124m\"\u001B[39m\n\u001B[0;32m-> 1705\u001B[0m \u001B[38;5;28mself\u001B[39m\u001B[38;5;241m.\u001B[39mhandles \u001B[38;5;241m=\u001B[39m \u001B[43mget_handle\u001B[49m\u001B[43m(\u001B[49m\n\u001B[1;32m   1706\u001B[0m \u001B[43m    \u001B[49m\u001B[43mf\u001B[49m\u001B[43m,\u001B[49m\n\u001B[1;32m   1707\u001B[0m \u001B[43m    \u001B[49m\u001B[43mmode\u001B[49m\u001B[43m,\u001B[49m\n\u001B[1;32m   1708\u001B[0m \u001B[43m    \u001B[49m\u001B[43mencoding\u001B[49m\u001B[38;5;241;43m=\u001B[39;49m\u001B[38;5;28;43mself\u001B[39;49m\u001B[38;5;241;43m.\u001B[39;49m\u001B[43moptions\u001B[49m\u001B[38;5;241;43m.\u001B[39;49m\u001B[43mget\u001B[49m\u001B[43m(\u001B[49m\u001B[38;5;124;43m\"\u001B[39;49m\u001B[38;5;124;43mencoding\u001B[39;49m\u001B[38;5;124;43m\"\u001B[39;49m\u001B[43m,\u001B[49m\u001B[43m \u001B[49m\u001B[38;5;28;43;01mNone\u001B[39;49;00m\u001B[43m)\u001B[49m\u001B[43m,\u001B[49m\n\u001B[1;32m   1709\u001B[0m \u001B[43m    \u001B[49m\u001B[43mcompression\u001B[49m\u001B[38;5;241;43m=\u001B[39;49m\u001B[38;5;28;43mself\u001B[39;49m\u001B[38;5;241;43m.\u001B[39;49m\u001B[43moptions\u001B[49m\u001B[38;5;241;43m.\u001B[39;49m\u001B[43mget\u001B[49m\u001B[43m(\u001B[49m\u001B[38;5;124;43m\"\u001B[39;49m\u001B[38;5;124;43mcompression\u001B[39;49m\u001B[38;5;124;43m\"\u001B[39;49m\u001B[43m,\u001B[49m\u001B[43m \u001B[49m\u001B[38;5;28;43;01mNone\u001B[39;49;00m\u001B[43m)\u001B[49m\u001B[43m,\u001B[49m\n\u001B[1;32m   1710\u001B[0m \u001B[43m    \u001B[49m\u001B[43mmemory_map\u001B[49m\u001B[38;5;241;43m=\u001B[39;49m\u001B[38;5;28;43mself\u001B[39;49m\u001B[38;5;241;43m.\u001B[39;49m\u001B[43moptions\u001B[49m\u001B[38;5;241;43m.\u001B[39;49m\u001B[43mget\u001B[49m\u001B[43m(\u001B[49m\u001B[38;5;124;43m\"\u001B[39;49m\u001B[38;5;124;43mmemory_map\u001B[39;49m\u001B[38;5;124;43m\"\u001B[39;49m\u001B[43m,\u001B[49m\u001B[43m \u001B[49m\u001B[38;5;28;43;01mFalse\u001B[39;49;00m\u001B[43m)\u001B[49m\u001B[43m,\u001B[49m\n\u001B[1;32m   1711\u001B[0m \u001B[43m    \u001B[49m\u001B[43mis_text\u001B[49m\u001B[38;5;241;43m=\u001B[39;49m\u001B[43mis_text\u001B[49m\u001B[43m,\u001B[49m\n\u001B[1;32m   1712\u001B[0m \u001B[43m    \u001B[49m\u001B[43merrors\u001B[49m\u001B[38;5;241;43m=\u001B[39;49m\u001B[38;5;28;43mself\u001B[39;49m\u001B[38;5;241;43m.\u001B[39;49m\u001B[43moptions\u001B[49m\u001B[38;5;241;43m.\u001B[39;49m\u001B[43mget\u001B[49m\u001B[43m(\u001B[49m\u001B[38;5;124;43m\"\u001B[39;49m\u001B[38;5;124;43mencoding_errors\u001B[39;49m\u001B[38;5;124;43m\"\u001B[39;49m\u001B[43m,\u001B[49m\u001B[43m \u001B[49m\u001B[38;5;124;43m\"\u001B[39;49m\u001B[38;5;124;43mstrict\u001B[39;49m\u001B[38;5;124;43m\"\u001B[39;49m\u001B[43m)\u001B[49m\u001B[43m,\u001B[49m\n\u001B[1;32m   1713\u001B[0m \u001B[43m    \u001B[49m\u001B[43mstorage_options\u001B[49m\u001B[38;5;241;43m=\u001B[39;49m\u001B[38;5;28;43mself\u001B[39;49m\u001B[38;5;241;43m.\u001B[39;49m\u001B[43moptions\u001B[49m\u001B[38;5;241;43m.\u001B[39;49m\u001B[43mget\u001B[49m\u001B[43m(\u001B[49m\u001B[38;5;124;43m\"\u001B[39;49m\u001B[38;5;124;43mstorage_options\u001B[39;49m\u001B[38;5;124;43m\"\u001B[39;49m\u001B[43m,\u001B[49m\u001B[43m \u001B[49m\u001B[38;5;28;43;01mNone\u001B[39;49;00m\u001B[43m)\u001B[49m\u001B[43m,\u001B[49m\n\u001B[1;32m   1714\u001B[0m \u001B[43m\u001B[49m\u001B[43m)\u001B[49m\n\u001B[1;32m   1715\u001B[0m \u001B[38;5;28;01massert\u001B[39;00m \u001B[38;5;28mself\u001B[39m\u001B[38;5;241m.\u001B[39mhandles \u001B[38;5;129;01mis\u001B[39;00m \u001B[38;5;129;01mnot\u001B[39;00m \u001B[38;5;28;01mNone\u001B[39;00m\n\u001B[1;32m   1716\u001B[0m f \u001B[38;5;241m=\u001B[39m \u001B[38;5;28mself\u001B[39m\u001B[38;5;241m.\u001B[39mhandles\u001B[38;5;241m.\u001B[39mhandle\n",
      "File \u001B[0;32m~/.conda/envs/py311/lib/python3.11/site-packages/pandas/io/common.py:863\u001B[0m, in \u001B[0;36mget_handle\u001B[0;34m(path_or_buf, mode, encoding, compression, memory_map, is_text, errors, storage_options)\u001B[0m\n\u001B[1;32m    858\u001B[0m \u001B[38;5;28;01melif\u001B[39;00m \u001B[38;5;28misinstance\u001B[39m(handle, \u001B[38;5;28mstr\u001B[39m):\n\u001B[1;32m    859\u001B[0m     \u001B[38;5;66;03m# Check whether the filename is to be opened in binary mode.\u001B[39;00m\n\u001B[1;32m    860\u001B[0m     \u001B[38;5;66;03m# Binary mode does not support 'encoding' and 'newline'.\u001B[39;00m\n\u001B[1;32m    861\u001B[0m     \u001B[38;5;28;01mif\u001B[39;00m ioargs\u001B[38;5;241m.\u001B[39mencoding \u001B[38;5;129;01mand\u001B[39;00m \u001B[38;5;124m\"\u001B[39m\u001B[38;5;124mb\u001B[39m\u001B[38;5;124m\"\u001B[39m \u001B[38;5;129;01mnot\u001B[39;00m \u001B[38;5;129;01min\u001B[39;00m ioargs\u001B[38;5;241m.\u001B[39mmode:\n\u001B[1;32m    862\u001B[0m         \u001B[38;5;66;03m# Encoding\u001B[39;00m\n\u001B[0;32m--> 863\u001B[0m         handle \u001B[38;5;241m=\u001B[39m \u001B[38;5;28;43mopen\u001B[39;49m\u001B[43m(\u001B[49m\n\u001B[1;32m    864\u001B[0m \u001B[43m            \u001B[49m\u001B[43mhandle\u001B[49m\u001B[43m,\u001B[49m\n\u001B[1;32m    865\u001B[0m \u001B[43m            \u001B[49m\u001B[43mioargs\u001B[49m\u001B[38;5;241;43m.\u001B[39;49m\u001B[43mmode\u001B[49m\u001B[43m,\u001B[49m\n\u001B[1;32m    866\u001B[0m \u001B[43m            \u001B[49m\u001B[43mencoding\u001B[49m\u001B[38;5;241;43m=\u001B[39;49m\u001B[43mioargs\u001B[49m\u001B[38;5;241;43m.\u001B[39;49m\u001B[43mencoding\u001B[49m\u001B[43m,\u001B[49m\n\u001B[1;32m    867\u001B[0m \u001B[43m            \u001B[49m\u001B[43merrors\u001B[49m\u001B[38;5;241;43m=\u001B[39;49m\u001B[43merrors\u001B[49m\u001B[43m,\u001B[49m\n\u001B[1;32m    868\u001B[0m \u001B[43m            \u001B[49m\u001B[43mnewline\u001B[49m\u001B[38;5;241;43m=\u001B[39;49m\u001B[38;5;124;43m\"\u001B[39;49m\u001B[38;5;124;43m\"\u001B[39;49m\u001B[43m,\u001B[49m\n\u001B[1;32m    869\u001B[0m \u001B[43m        \u001B[49m\u001B[43m)\u001B[49m\n\u001B[1;32m    870\u001B[0m     \u001B[38;5;28;01melse\u001B[39;00m:\n\u001B[1;32m    871\u001B[0m         \u001B[38;5;66;03m# Binary mode\u001B[39;00m\n\u001B[1;32m    872\u001B[0m         handle \u001B[38;5;241m=\u001B[39m \u001B[38;5;28mopen\u001B[39m(handle, ioargs\u001B[38;5;241m.\u001B[39mmode)\n",
      "\u001B[0;31mFileNotFoundError\u001B[0m: [Errno 2] No such file or directory: '/Users/ana_bugaenko/workspace/another_workspace/liquidity/notebooks/LO/../../data/limit_orders/TSLA-2016-R1.csv'"
     ]
    }
   ],
   "source": [
    "# Load orderbook raw sample data\n",
    "stocks = ['TSLA', 'AMZN', 'NFLX', 'MSFT', 'EBAY', 'APPL']\n",
    "\n",
    "current_dir = os.path.abspath('.')\n",
    "root_dir = os.path.join(current_dir, '..', '..')\n",
    "data_dir = os.path.join(root_dir, 'data', 'limit_orders')\n",
    "\n",
    "stock_dfs = {}\n",
    "\n",
    "# Loop through each stock\n",
    "for stock in stocks:\n",
    "\n",
    "    filename = f\"{stock}-2016-R1.csv\"\n",
    "\n",
    "    stock_file_path = os.path.join(data_dir, filename)\n",
    "\n",
    "    # Read the CSV and store in the dictionary\n",
    "    stock_dfs[stock] = pd.read_csv(stock_file_path)\n",
    "\n",
    "# Access the dataframe using stock's ticker as key\n",
    "tsla_raw_df = stock_dfs['TSLA']\n",
    "amzn_raw_df = stock_dfs['AMZN']\n",
    "nflx_raw_df = stock_dfs['NFLX']\n",
    "msft_raw_df = stock_dfs['MSFT']\n",
    "ebay_raw_df = stock_dfs['EBAY']\n",
    "appl_raw_df = stock_dfs['APPL']"
   ],
   "metadata": {
    "collapsed": false,
    "ExecuteTime": {
     "start_time": "2023-10-12T14:46:34.744909Z",
     "end_time": "2023-10-12T14:46:42.162571Z"
    }
   }
  },
  {
   "cell_type": "markdown",
   "source": [
    "## 1. Returns"
   ],
   "metadata": {
    "collapsed": false
   }
  },
  {
   "cell_type": "code",
   "execution_count": null,
   "outputs": [],
   "source": [
    "# Compute returns\n",
    "tsla_returns = compute_returns(tsla_raw_df)['returns']\n",
    "msft_returns = compute_returns(msft_raw_df)['returns']\n",
    "amzn_returns = compute_returns(amzn_raw_df)['returns']\n",
    "nflx_returns = compute_returns(nflx_raw_df)['returns']\n",
    "ebay_returns = compute_returns(ebay_raw_df)['returns']\n",
    "appl_returns = compute_returns(appl_raw_df)['returns']\n",
    "\n",
    "returns = {\n",
    "  'TSLA': tsla_returns,\n",
    "  'MSFT': msft_returns,\n",
    "  'AMZN': amzn_returns,\n",
    "  'NFLX': nflx_returns,\n",
    "  'EBAY': ebay_returns,\n",
    "  'APPL': appl_returns\n",
    "}\n",
    "# Update the dictionary to only keep the first EVENTS_RANGE items\n",
    "# returns = {stock: data.head(1000000) for stock, data in returns.items()}"
   ],
   "metadata": {
    "collapsed": false,
    "ExecuteTime": {
     "start_time": "2023-10-12T17:19:27.221583Z",
     "end_time": "2023-10-12T17:19:55.540202Z"
    }
   }
  },
  {
   "cell_type": "code",
   "execution_count": null,
   "outputs": [],
   "source": [],
   "metadata": {
    "collapsed": false,
    "ExecuteTime": {
     "start_time": "2023-10-12T14:47:09.731197Z",
     "end_time": "2023-10-12T14:47:09.740139Z"
    }
   }
  },
  {
   "cell_type": "markdown",
   "source": [
    "### 1.1. Stationarity Test\n",
    "\n",
    "To test whether our time series are stationary, we perform an augmented Dickey-Fuller test on each series, which uses the following null and alternative hypotheses:\n",
    "\n",
    "- **H0:** The time series is non-stationary.\n",
    "  - In other words, it has some time-dependent structure and does not have constant variance over time.\n",
    "  - There is at least one unit root.\n",
    "\n",
    "- **H1:** The time series is stationary.\n",
    "\n",
    "- **Note:** If the p-value from the test is less than some significance level (e.g. $\\alpha$ = .05), then we can reject the null hypothesis and conclude that the time series is stationary."
   ],
   "metadata": {
    "collapsed": false
   }
  },
  {
   "cell_type": "code",
   "execution_count": null,
   "outputs": [],
   "source": [
    "# ADF test\n",
    "for stock, data in returns.items():\n",
    "    augmented_dickey_fuller(data.head(EVENTS_RANGE), stock)"
   ],
   "metadata": {
    "collapsed": false,
    "ExecuteTime": {
     "start_time": "2023-10-12T14:47:09.733360Z",
     "end_time": "2023-10-12T15:03:23.286617Z"
    }
   }
  },
  {
   "cell_type": "markdown",
   "source": [
    "### 1.2. Plot returns density functions"
   ],
   "metadata": {
    "collapsed": false
   }
  },
  {
   "cell_type": "code",
   "execution_count": null,
   "outputs": [],
   "source": [
    "# Plot for each stock\n",
    "for stock_name, data in returns.items():\n",
    "    plot_distributions(stock_name, data)"
   ],
   "metadata": {
    "collapsed": false,
    "ExecuteTime": {
     "start_time": "2023-10-12T17:19:55.540685Z",
     "end_time": "2023-10-12T17:19:58.440767Z"
    }
   }
  },
  {
   "cell_type": "markdown",
   "source": [
    "### 1.3. Fit returns power law distribution"
   ],
   "metadata": {
    "collapsed": false
   }
  },
  {
   "cell_type": "code",
   "execution_count": null,
   "outputs": [],
   "source": [
    "# 1. Fit Powerlaw and retrieve fitted object/ results\n",
    "returns_distributions_data = os.path.join(root_dir, 'data', 'generated', 'lo_data', 'distributions', 'lo_returns_distributions.pkl')\n",
    "\n",
    "if not os.path.exists(returns_distributions_data):\n",
    "    returns_fit_objects = fit_powerlaw(data_dict=returns, filename=returns_distributions_data)\n",
    "else:\n",
    "    returns_fit_objects = load_fit_objects(returns_distributions_data)\n",
    "\n",
    "returns_fit_objects"
   ],
   "metadata": {
    "collapsed": false,
    "ExecuteTime": {
     "start_time": "2023-10-12T17:19:58.438518Z",
     "end_time": "2023-10-12T17:19:59.405627Z"
    }
   }
  },
  {
   "cell_type": "code",
   "execution_count": null,
   "outputs": [],
   "source": [
    "# Plot fitted objects\n",
    "plot_fit_objects(returns_fit_objects)"
   ],
   "metadata": {
    "collapsed": false,
    "ExecuteTime": {
     "start_time": "2023-10-12T17:19:59.403835Z",
     "end_time": "2023-10-12T17:20:02.264527Z"
    }
   }
  },
  {
   "cell_type": "markdown",
   "source": [
    "#### 1.3.1. Retrieve returns power law fitting results"
   ],
   "metadata": {
    "collapsed": false
   }
  },
  {
   "cell_type": "code",
   "execution_count": null,
   "outputs": [],
   "source": [
    "# Get fitting parameters for specific distribution across all stocks\n",
    "returns_power_results = get_fitting_params(returns_fit_objects, 'power_law')\n",
    "print(returns_power_results)"
   ],
   "metadata": {
    "collapsed": false,
    "ExecuteTime": {
     "start_time": "2023-10-12T17:20:02.264385Z",
     "end_time": "2023-10-12T17:20:02.322372Z"
    }
   }
  },
  {
   "cell_type": "code",
   "execution_count": null,
   "outputs": [],
   "source": [
    "# Average Alpha exponents across stocks\n",
    "min_alpha = returns_power_results['alpha'].min()\n",
    "max_alpha = returns_power_results['alpha'].max()\n",
    "avg_alpha = returns_power_results['alpha'].mean()\n",
    "std_dev_alpha = returns_power_results['alpha'].std()\n",
    "\n",
    "print(f\"Min Alpha: {min_alpha}\")\n",
    "print(f\"Max Alpha: {max_alpha}\")\n",
    "print(f\"Average Alpha: {avg_alpha}\")\n",
    "print(f\"std_dev_alpha: {std_dev_alpha}\")"
   ],
   "metadata": {
    "collapsed": false,
    "ExecuteTime": {
     "start_time": "2023-10-12T17:20:02.294960Z",
     "end_time": "2023-10-12T17:20:02.322461Z"
    }
   }
  },
  {
   "cell_type": "markdown",
   "source": [
    "#### 1.3.2. Compare Alternative Distributions"
   ],
   "metadata": {
    "collapsed": false
   }
  },
  {
   "cell_type": "code",
   "execution_count": null,
   "outputs": [],
   "source": [
    "# Compare against alternative heavy-tailed distributions\n",
    "from IPython.display import display\n",
    "returns_powerlaw_exponential = distribution_compare(returns_fit_objects, 'exponential')\n",
    "display(returns_powerlaw_exponential)"
   ],
   "metadata": {
    "collapsed": false,
    "ExecuteTime": {
     "start_time": "2023-10-12T17:20:02.310811Z",
     "end_time": "2023-10-12T17:20:02.391848Z"
    }
   }
  },
  {
   "cell_type": "code",
   "execution_count": null,
   "outputs": [],
   "source": [],
   "metadata": {
    "collapsed": false,
    "ExecuteTime": {
     "start_time": "2023-10-12T15:03:30.012872Z",
     "end_time": "2023-10-12T15:03:30.016344Z"
    }
   }
  },
  {
   "cell_type": "markdown",
   "source": [
    "## 2. Percentage returns"
   ],
   "metadata": {
    "collapsed": false
   }
  },
  {
   "cell_type": "code",
   "execution_count": null,
   "outputs": [],
   "source": [
    "# Compute percentage returns\n",
    "tsla_percentage_returns = compute_returns(tsla_raw_df)['pct_returns']\n",
    "msft_percentage_returns = compute_returns(msft_raw_df)['pct_returns']\n",
    "amzn_percentage_returns = compute_returns(amzn_raw_df)['pct_returns']\n",
    "nflx_percentage_returns = compute_returns(nflx_raw_df)['pct_returns']\n",
    "ebay_percentage_returns = compute_returns(ebay_raw_df)['pct_returns']\n",
    "appl_percentage_returns = compute_returns(appl_raw_df)['pct_returns']\n",
    "\n",
    "percentage_returns = {\n",
    "  'TSLA': tsla_percentage_returns,\n",
    "  'MSFT': msft_percentage_returns,\n",
    "  'AMZN': amzn_percentage_returns,\n",
    "  'NFLX': nflx_percentage_returns,\n",
    "  'EBAY': ebay_percentage_returns,\n",
    "  'APPL': appl_percentage_returns\n",
    "}\n",
    "# Update the dictionary to only keep the first EVENTS_RANGE items\n",
    "percentage_returns = {stock: data.head(EVENTS_RANGE) for stock, data in percentage_returns.items()}"
   ],
   "metadata": {
    "collapsed": false,
    "ExecuteTime": {
     "start_time": "2023-10-12T15:03:30.015271Z",
     "end_time": "2023-10-12T15:03:58.394025Z"
    }
   }
  },
  {
   "cell_type": "markdown",
   "source": [
    "### 2.1. Stationarity Test"
   ],
   "metadata": {
    "collapsed": false
   }
  },
  {
   "cell_type": "code",
   "execution_count": null,
   "outputs": [],
   "source": [
    "# ADF test\n",
    "for stock, data in percentage_returns.items():\n",
    "    augmented_dickey_fuller(data.head(EVENTS_RANGE), stock)"
   ],
   "metadata": {
    "collapsed": false,
    "ExecuteTime": {
     "start_time": "2023-10-12T15:03:58.394496Z",
     "end_time": "2023-10-12T15:19:46.452459Z"
    }
   }
  },
  {
   "cell_type": "markdown",
   "source": [
    "### 2.2. Percentage return density functions"
   ],
   "metadata": {
    "collapsed": false
   }
  },
  {
   "cell_type": "code",
   "execution_count": null,
   "outputs": [],
   "source": [
    "# Plot distribution of returns_magnitudes for each stock\n",
    "for stock_name, data in percentage_returns.items():\n",
    "    plot_distributions(stock_name, data)"
   ],
   "metadata": {
    "collapsed": false,
    "ExecuteTime": {
     "start_time": "2023-10-12T15:19:46.434273Z",
     "end_time": "2023-10-12T15:19:49.109647Z"
    }
   }
  },
  {
   "cell_type": "markdown",
   "source": [
    "### 2.3. Fit power law distribution to percentage returns"
   ],
   "metadata": {
    "collapsed": false
   }
  },
  {
   "cell_type": "code",
   "execution_count": null,
   "outputs": [],
   "source": [
    "# 1. Fit Powerlaw and retrieve fitted object/ results\n",
    "percentage_returns_distributions_data = os.path.join(root_dir, 'data', 'generated', 'lo_data', 'distributions', 'lo_percentage_returns_distributions.pkl')\n",
    "\n",
    "if not os.path.exists(percentage_returns_distributions_data):\n",
    "    percentage_returns_fit_objects = fit_powerlaw(data_dict=percentage_returns, filename=percentage_returns_distributions_data)\n",
    "else:\n",
    "    percentage_returns_fit_objects = load_fit_objects(percentage_returns_distributions_data)\n",
    "\n",
    "percentage_returns_fit_objects"
   ],
   "metadata": {
    "collapsed": false,
    "ExecuteTime": {
     "start_time": "2023-10-12T15:19:49.104303Z",
     "end_time": "2023-10-12T15:19:49.169860Z"
    }
   }
  },
  {
   "cell_type": "code",
   "execution_count": null,
   "outputs": [],
   "source": [
    "# Plot fitted objects\n",
    "plot_fit_objects(percentage_returns_fit_objects)"
   ],
   "metadata": {
    "collapsed": false,
    "ExecuteTime": {
     "start_time": "2023-10-12T15:19:49.140841Z",
     "end_time": "2023-10-12T15:19:52.502533Z"
    }
   }
  },
  {
   "cell_type": "markdown",
   "source": [
    "#### 2.3.1. Retrieve Power law fitting results"
   ],
   "metadata": {
    "collapsed": false
   }
  },
  {
   "cell_type": "code",
   "execution_count": null,
   "outputs": [],
   "source": [
    "# Get fitting parameters for specific distribution across all stocks\n",
    "percentage_returns_power_results = get_fitting_params(percentage_returns_fit_objects, 'power_law')\n",
    "print(percentage_returns_power_results)"
   ],
   "metadata": {
    "collapsed": false,
    "ExecuteTime": {
     "start_time": "2023-10-12T15:19:52.502331Z",
     "end_time": "2023-10-12T15:19:52.524555Z"
    }
   }
  },
  {
   "cell_type": "code",
   "execution_count": null,
   "outputs": [],
   "source": [
    "# Average Alpha exponents across stocks\n",
    "min_alpha = percentage_returns_power_results['alpha'].min()\n",
    "max_alpha = percentage_returns_power_results['alpha'].max()\n",
    "avg_alpha = percentage_returns_power_results['alpha'].mean()\n",
    "std_dev_alpha = percentage_returns_power_results['alpha'].std()\n",
    "\n",
    "print(f\"Min Alpha: {min_alpha}\")\n",
    "print(f\"Max Alpha: {max_alpha}\")\n",
    "print(f\"Average Alpha: {avg_alpha}\")\n",
    "print(f\"std_dev_alpha: {std_dev_alpha}\")"
   ],
   "metadata": {
    "collapsed": false,
    "ExecuteTime": {
     "start_time": "2023-10-12T15:19:52.519379Z",
     "end_time": "2023-10-12T15:19:52.622649Z"
    }
   }
  },
  {
   "cell_type": "markdown",
   "source": [
    "#### 2.3.2. Compare Alternative Distributions"
   ],
   "metadata": {
    "collapsed": false
   }
  },
  {
   "cell_type": "code",
   "execution_count": null,
   "outputs": [],
   "source": [
    "# Compare against alternative heavy-tailed distributions\n",
    "from IPython.display import display\n",
    "percentage_returns_powerlaw_exponential = distribution_compare(percentage_returns_fit_objects, 'exponential')\n",
    "display(percentage_returns_powerlaw_exponential)"
   ],
   "metadata": {
    "collapsed": false,
    "ExecuteTime": {
     "start_time": "2023-10-12T15:19:52.547426Z",
     "end_time": "2023-10-12T15:19:52.690838Z"
    }
   }
  },
  {
   "cell_type": "code",
   "execution_count": null,
   "outputs": [],
   "source": [],
   "metadata": {
    "collapsed": false,
    "ExecuteTime": {
     "start_time": "2023-10-12T15:19:52.681551Z",
     "end_time": "2023-10-12T15:19:52.690911Z"
    }
   }
  },
  {
   "cell_type": "markdown",
   "source": [
    "## 3. Log Returns"
   ],
   "metadata": {
    "collapsed": false
   }
  },
  {
   "cell_type": "code",
   "execution_count": null,
   "outputs": [],
   "source": [
    "# Compute log returns\n",
    "tsla_log_returns = compute_returns(tsla_raw_df, )['log_returns']\n",
    "msft_log_returns = compute_returns(msft_raw_df, )['log_returns']\n",
    "amzn_log_returns = compute_returns(amzn_raw_df,)['log_returns']\n",
    "nflx_log_returns = compute_returns(nflx_raw_df, )['log_returns']\n",
    "ebay_log_returns = compute_returns(ebay_raw_df,)['log_returns']\n",
    "appl_log_returns = compute_returns(appl_raw_df,)['log_returns']\n",
    "\n",
    "log_returns = {\n",
    "  'TSLA': tsla_log_returns,\n",
    "  'MSFT': msft_log_returns,\n",
    "  'AMZN': amzn_log_returns,\n",
    "  'NFLX': nflx_log_returns,\n",
    "  'EBAY': ebay_log_returns,\n",
    "  'APPL': appl_log_returns\n",
    "}\n",
    "# Update the dictionary to only keep the first EVENTS_RANGE items\n",
    "log_returns = {stock: data.head(EVENTS_RANGE) for stock, data in log_returns.items()}"
   ],
   "metadata": {
    "collapsed": false,
    "ExecuteTime": {
     "start_time": "2023-10-12T15:19:52.684350Z",
     "end_time": "2023-10-12T15:20:20.762065Z"
    }
   }
  },
  {
   "cell_type": "markdown",
   "source": [
    "### 3.1. Stationarity Test"
   ],
   "metadata": {
    "collapsed": false
   }
  },
  {
   "cell_type": "code",
   "execution_count": null,
   "outputs": [],
   "source": [
    "# ADF test\n",
    "for stock, data in log_returns.items():\n",
    "    augmented_dickey_fuller(data.head(EVENTS_RANGE), stock)"
   ],
   "metadata": {
    "collapsed": false,
    "ExecuteTime": {
     "start_time": "2023-10-12T15:20:20.762138Z",
     "end_time": "2023-10-12T15:36:36.922229Z"
    }
   }
  },
  {
   "cell_type": "markdown",
   "source": [],
   "metadata": {
    "collapsed": false
   }
  },
  {
   "cell_type": "markdown",
   "source": [
    "### 3.2. Log return density functions"
   ],
   "metadata": {
    "collapsed": false
   }
  },
  {
   "cell_type": "code",
   "execution_count": null,
   "outputs": [],
   "source": [
    "# Plot distribution of returns_magnitudes for each stock\n",
    "for stock_name, data in log_returns.items():\n",
    "    plot_distributions(stock_name, data)"
   ],
   "metadata": {
    "collapsed": false,
    "ExecuteTime": {
     "start_time": "2023-10-12T15:36:36.906886Z",
     "end_time": "2023-10-12T15:36:40.040742Z"
    }
   }
  },
  {
   "cell_type": "markdown",
   "source": [
    "### 3.3. Fit power law distribution to log returns"
   ],
   "metadata": {
    "collapsed": false
   }
  },
  {
   "cell_type": "code",
   "execution_count": null,
   "outputs": [],
   "source": [
    "# 1. Fit Powerlaw and retrieve fitted object/ results\n",
    "log_returns_distributions_data = os.path.join(root_dir, 'data', 'generated', 'lo_data', 'distributions', 'lo_log_returns_distributions.pkl')\n",
    "\n",
    "if not os.path.exists(log_returns_distributions_data):\n",
    "    log_returns_fit_objects = fit_powerlaw(data_dict=log_returns, filename=log_returns_distributions_data)\n",
    "else:\n",
    "    log_returns_fit_objects = load_fit_objects(log_returns_distributions_data)\n",
    "\n",
    "log_returns_fit_objects"
   ],
   "metadata": {
    "collapsed": false,
    "ExecuteTime": {
     "start_time": "2023-10-12T15:36:40.033482Z",
     "end_time": "2023-10-12T16:01:03.392826Z"
    }
   }
  },
  {
   "cell_type": "code",
   "execution_count": null,
   "outputs": [],
   "source": [
    "# Plot fitted objects\n",
    "plot_fit_objects(log_returns_fit_objects)"
   ],
   "metadata": {
    "collapsed": false,
    "ExecuteTime": {
     "start_time": "2023-10-12T16:01:02.976811Z",
     "end_time": "2023-10-12T16:01:05.977920Z"
    }
   }
  },
  {
   "cell_type": "markdown",
   "source": [
    "#### 3.3.1. Retrieve Power law fitting results"
   ],
   "metadata": {
    "collapsed": false
   }
  },
  {
   "cell_type": "code",
   "execution_count": null,
   "outputs": [],
   "source": [
    "# Get fitting parameters for specific distribution across all stocks\n",
    "log_returns_power_results = get_fitting_params(log_returns_fit_objects, 'power_law')\n",
    "print(log_returns_power_results)"
   ],
   "metadata": {
    "collapsed": false,
    "ExecuteTime": {
     "start_time": "2023-10-12T16:01:05.977216Z",
     "end_time": "2023-10-12T16:01:06.027254Z"
    }
   }
  },
  {
   "cell_type": "code",
   "execution_count": null,
   "outputs": [],
   "source": [
    "# Average Alpha exponents across stocks\n",
    "min_alpha = log_returns_power_results['alpha'].min()\n",
    "max_alpha = log_returns_power_results['alpha'].max()\n",
    "avg_alpha = log_returns_power_results['alpha'].mean()\n",
    "std_dev_alpha = log_returns_power_results['alpha'].std()\n",
    "\n",
    "print(f\"Min Alpha: {min_alpha}\")\n",
    "print(f\"Max Alpha: {max_alpha}\")\n",
    "print(f\"Average Alpha: {avg_alpha}\")\n",
    "print(f\"std_dev_alpha: {std_dev_alpha}\")"
   ],
   "metadata": {
    "collapsed": false,
    "ExecuteTime": {
     "start_time": "2023-10-12T16:01:05.988594Z",
     "end_time": "2023-10-12T16:01:06.503157Z"
    }
   }
  },
  {
   "cell_type": "markdown",
   "source": [
    "#### 3.3.2. Compare Alternative Distributions"
   ],
   "metadata": {
    "collapsed": false
   }
  },
  {
   "cell_type": "code",
   "execution_count": null,
   "outputs": [],
   "source": [
    "# Compare against alternative heavy-tailed distributions\n",
    "from IPython.display import display\n",
    "log_returns_powerlaw_exponential = distribution_compare(log_returns_fit_objects, 'exponential')\n",
    "display(log_returns_powerlaw_exponential)"
   ],
   "metadata": {
    "collapsed": false,
    "ExecuteTime": {
     "start_time": "2023-10-12T16:01:06.004007Z",
     "end_time": "2023-10-12T16:01:06.504172Z"
    }
   }
  },
  {
   "cell_type": "code",
   "execution_count": null,
   "outputs": [],
   "source": [],
   "metadata": {
    "collapsed": false,
    "ExecuteTime": {
     "start_time": "2023-10-12T16:01:06.091838Z",
     "end_time": "2023-10-12T16:01:06.504244Z"
    }
   }
  },
  {
   "cell_type": "markdown",
   "source": [
    "## 4. Return magnitudes (volatility)"
   ],
   "metadata": {
    "collapsed": false
   }
  },
  {
   "cell_type": "code",
   "execution_count": null,
   "outputs": [],
   "source": [
    "# Return magnitude (volatility)\n",
    "tsla_volatility = compute_returns(tsla_raw_df)['volatility']\n",
    "msft_volatility = compute_returns(msft_raw_df)['volatility']\n",
    "amzn_volatility = compute_returns(amzn_raw_df)['volatility']\n",
    "nflx_volatility = compute_returns(nflx_raw_df)['volatility']\n",
    "ebay_volatility = compute_returns(ebay_raw_df)['volatility']\n",
    "appl_volatility = compute_returns(appl_raw_df)['volatility']\n",
    "\n",
    "return_magnitudes = {\n",
    "  'TSLA': tsla_volatility,\n",
    "  'MSFT': msft_volatility,\n",
    "  'AMZN': amzn_volatility,\n",
    "  'NFLX': nflx_volatility,\n",
    "  'EBAY': ebay_volatility,\n",
    "  'APPL': appl_volatility\n",
    "}\n",
    "# Update the dictionary to only keep the first EVENTS_RANGE items\n",
    "return_magnitudes = {stock: data.head(1000000) for stock, data in return_magnitudes.items()}"
   ],
   "metadata": {
    "collapsed": false,
    "ExecuteTime": {
     "start_time": "2023-10-12T17:10:29.482559Z",
     "end_time": "2023-10-12T17:10:57.708673Z"
    }
   }
  },
  {
   "cell_type": "markdown",
   "source": [
    "### 4.1. Stationarity Test"
   ],
   "metadata": {
    "collapsed": false
   }
  },
  {
   "cell_type": "code",
   "execution_count": null,
   "outputs": [],
   "source": [
    "# ADF test\n",
    "for stock, data in return_magnitudes.items():\n",
    "    augmented_dickey_fuller(data.head(EVENTS_RANGE), stock)"
   ],
   "metadata": {
    "collapsed": false,
    "ExecuteTime": {
     "start_time": "2023-10-11T17:01:37.602990Z",
     "end_time": "2023-10-11T17:03:40.592233Z"
    }
   }
  },
  {
   "cell_type": "markdown",
   "source": [
    "### 4.2. Volatility density functions"
   ],
   "metadata": {
    "collapsed": false
   }
  },
  {
   "cell_type": "code",
   "execution_count": null,
   "outputs": [],
   "source": [
    "# Plot distribution of returns_magnitudes for each stock\n",
    "for stock_name, data in return_magnitudes.items():\n",
    "    plot_distributions(stock_name, data)"
   ],
   "metadata": {
    "collapsed": false,
    "ExecuteTime": {
     "start_time": "2023-10-12T17:10:57.709393Z",
     "end_time": "2023-10-12T17:11:00.950533Z"
    }
   }
  },
  {
   "cell_type": "markdown",
   "source": [
    "### 4.3. Fit power law distribution to log returns"
   ],
   "metadata": {
    "collapsed": false
   }
  },
  {
   "cell_type": "code",
   "execution_count": null,
   "outputs": [],
   "source": [
    "# 1. Fit Powerlaw and retrieve fitted object/ results\n",
    "volatility_data = os.path.join(root_dir, 'data', 'generated', 'lo_data', 'distributions', 'lo_volatility_distributions.pkl')\n",
    "\n",
    "if not os.path.exists(volatility_data):\n",
    "    volatility_fit_objects = fit_powerlaw(data_dict=return_magnitudes, filename=volatility_data)\n",
    "else:\n",
    "    volatility_fit_objects = load_fit_objects(volatility_data)\n",
    "\n",
    "volatility_fit_objects"
   ],
   "metadata": {
    "collapsed": false,
    "ExecuteTime": {
     "start_time": "2023-10-12T17:11:00.937751Z",
     "end_time": "2023-10-12T17:11:02.570131Z"
    }
   }
  },
  {
   "cell_type": "code",
   "execution_count": null,
   "outputs": [],
   "source": [
    "# Plot fitted objects\n",
    "plot_fit_objects(volatility_fit_objects)"
   ],
   "metadata": {
    "collapsed": false,
    "ExecuteTime": {
     "start_time": "2023-10-12T17:11:02.567896Z",
     "end_time": "2023-10-12T17:11:05.993556Z"
    }
   }
  },
  {
   "cell_type": "markdown",
   "source": [
    "#### 4.3.1. Retrieve Power law fitting results"
   ],
   "metadata": {
    "collapsed": false
   }
  },
  {
   "cell_type": "code",
   "execution_count": null,
   "outputs": [],
   "source": [
    "# Get fitting parameters for specific distribution across all stocks\n",
    "volatility_fit_results = get_fitting_params(volatility_fit_objects, 'power_law')\n",
    "print(volatility_fit_results)"
   ],
   "metadata": {
    "collapsed": false,
    "ExecuteTime": {
     "start_time": "2023-10-12T17:11:05.993471Z",
     "end_time": "2023-10-12T17:11:06.012656Z"
    }
   }
  },
  {
   "cell_type": "code",
   "execution_count": null,
   "outputs": [],
   "source": [
    "# Average Alpha exponents across stocks\n",
    "min_alpha = volatility_fit_results['alpha'].min()\n",
    "max_alpha = volatility_fit_results['alpha'].max()\n",
    "avg_alpha = volatility_fit_results['alpha'].mean()\n",
    "std_dev_alpha = volatility_fit_results['alpha'].std()\n",
    "\n",
    "print(f\"Min Alpha: {min_alpha}\")\n",
    "print(f\"Max Alpha: {max_alpha}\")\n",
    "print(f\"Average Alpha: {avg_alpha}\")\n",
    "print(f\"std_dev_alpha: {std_dev_alpha}\")"
   ],
   "metadata": {
    "collapsed": false,
    "ExecuteTime": {
     "start_time": "2023-10-12T17:11:06.010052Z",
     "end_time": "2023-10-12T17:11:06.095164Z"
    }
   }
  },
  {
   "cell_type": "markdown",
   "source": [
    "#### 3.3.2. Compare Alternative Distributions"
   ],
   "metadata": {
    "collapsed": false
   }
  },
  {
   "cell_type": "code",
   "execution_count": null,
   "outputs": [],
   "source": [
    "# Compare against alternative heavy-tailed distributions\n",
    "from IPython.display import display\n",
    "volatility_powerlaw_exponential = distribution_compare(volatility_fit_objects, 'exponential')\n",
    "display(volatility_powerlaw_exponential)"
   ],
   "metadata": {
    "collapsed": false,
    "ExecuteTime": {
     "start_time": "2023-10-12T17:11:06.027156Z",
     "end_time": "2023-10-12T17:11:06.146494Z"
    }
   }
  },
  {
   "cell_type": "code",
   "execution_count": null,
   "outputs": [],
   "source": [],
   "metadata": {
    "collapsed": false,
    "ExecuteTime": {
     "start_time": "2023-10-12T17:11:06.141434Z",
     "end_time": "2023-10-12T17:11:06.146582Z"
    }
   }
  }
 ],
 "metadata": {
  "kernelspec": {
   "display_name": "Python 3",
   "language": "python",
   "name": "python3"
  },
  "language_info": {
   "codemirror_mode": {
    "name": "ipython",
    "version": 2
   },
   "file_extension": ".py",
   "mimetype": "text/x-python",
   "name": "python",
   "nbconvert_exporter": "python",
   "pygments_lexer": "ipython2",
   "version": "2.7.6"
  }
 },
 "nbformat": 4,
 "nbformat_minor": 0
}
